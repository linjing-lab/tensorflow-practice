{
 "cells": [
  {
   "cell_type": "markdown",
   "id": "743f7ddb-62d8-4cfa-ac16-48cdd795d0d2",
   "metadata": {},
   "source": [
    "# 模型训练"
   ]
  },
  {
   "cell_type": "code",
   "execution_count": null,
   "id": "7c12a21a-766a-4517-a01a-d20944243228",
   "metadata": {},
   "outputs": [],
   "source": [
    "import tensorflow as tf\n",
    "import numpy as np\n",
    "import matplotlib.pyplot as plt"
   ]
  },
  {
   "cell_type": "code",
   "execution_count": null,
   "id": "3fea79f8-a079-4f90-8271-b5e8a56fe886",
   "metadata": {},
   "outputs": [],
   "source": [
    "# set gpu for training\n",
    "gpu = tf.config.experimental.list_physical_devices('GPU')\n",
    "tf.config.experimental.set_memory_growth(gpu[0], True)"
   ]
  },
  {
   "cell_type": "markdown",
   "id": "00970a15-e8b1-4915-b9ae-1929b7d9f430",
   "metadata": {},
   "source": [
    "## 1. 加载数据集"
   ]
  },
  {
   "cell_type": "code",
   "execution_count": null,
   "id": "ff7ba90d-6b0b-4383-b9ff-f6b85fae52af",
   "metadata": {},
   "outputs": [],
   "source": [
    "X, y = np.load('./Data/X.npy'), np.load('./Data/y.npy')"
   ]
  },
  {
   "cell_type": "markdown",
   "id": "34e86d64-ede8-4395-9c06-2e3e7b59c8e7",
   "metadata": {},
   "source": [
    "## 2. 拆分数据集\n",
    "*数据增强"
   ]
  },
  {
   "cell_type": "code",
   "execution_count": null,
   "id": "23fa08a4-3141-4a04-9881-5cb519c5c204",
   "metadata": {},
   "outputs": [],
   "source": [
    "X, y = np.expand_dims(X, -1), np.array(y)\n",
    "print(X.shape, y.shape)"
   ]
  },
  {
   "cell_type": "code",
   "execution_count": null,
   "id": "d7aaf790-1d47-43e9-b68e-2408be7a6736",
   "metadata": {},
   "outputs": [],
   "source": [
    "X_train, X_test, y_train, y_test = X[:5000,:,:,:], X[5000:,:,:,:], y[:5000], y[5000:]\n",
    "print(X_train.shape, X_test.shape, y_train.shape, y_test.shape)"
   ]
  },
  {
   "cell_type": "markdown",
   "id": "f2813e82-fd68-4ad5-aa28-21edea66ec58",
   "metadata": {},
   "source": [
    "## 3. 设计模型"
   ]
  },
  {
   "cell_type": "code",
   "execution_count": null,
   "id": "552e6b44-2c67-4604-8da3-7ac9af9aad13",
   "metadata": {},
   "outputs": [],
   "source": [
    "model = tf.keras.Sequential(name='LeNet5')\n",
    "model.add(tf.keras.layers.Conv2D(filters=6, kernel_size=(5, 5), strides=(2, 2), input_shape=(512, 512, 1), activation='relu'))\n",
    "model.add(tf.keras.layers.MaxPool2D()) # 最大池化层\n",
    "model.add(tf.keras.layers.Conv2D(filters=16, kernel_size=(5, 5), strides=(2, 2), activation='relu')) # 卷积层\n",
    "model.add(tf.keras.layers.MaxPool2D()) # 最大池化层\n",
    "model.add(tf.keras.layers.Flatten()) # 展平层\n",
    "model.add(tf.keras.layers.Dense(units=120, activation='relu')) # units: 全连接层的神经元数量\n",
    "model.add(tf.keras.layers.Dense(units=84, activation='relu'))\n",
    "model.add(tf.keras.layers.Dense(units=32, activation='relu'))\n",
    "model.add(tf.keras.layers.Dense(units=1, activation='sigmoid'))\n",
    "model.summary()"
   ]
  },
  {
   "cell_type": "markdown",
   "id": "209abe72-ad21-4963-b09a-546ba17abfcb",
   "metadata": {},
   "source": [
    "## 4. 编译模型"
   ]
  },
  {
   "cell_type": "code",
   "execution_count": null,
   "id": "c7e75db0-63fe-44cc-8b29-13271a77cb2d",
   "metadata": {},
   "outputs": [],
   "source": [
    "#对模型进行编译\n",
    "model.compile(\n",
    "    optimizer='adam', \n",
    "    loss=tf.keras.losses.binary_crossentropy, \n",
    "    metrics=tf.keras.metrics.binary_accuracy\n",
    ")"
   ]
  },
  {
   "cell_type": "markdown",
   "id": "09570260-b36f-4ff0-b26f-219120a291d9",
   "metadata": {},
   "source": [
    "## 5. 回调函数"
   ]
  },
  {
   "cell_type": "code",
   "execution_count": null,
   "id": "0cbbcd5f-bf7d-4c14-a12d-089cb1eefbbe",
   "metadata": {},
   "outputs": [],
   "source": [
    "# 回调函数\n",
    "model_check_point = tf.keras.callbacks.ModelCheckpoint(\n",
    "    filepath='./Models/best_model_5000_32_128.h5', \n",
    "    monitor='val_binary_accuracy', \n",
    "    verbose=1, \n",
    "    save_best_only=True, # 仅保存最优模型\n",
    "    save_weights_only=False, # 是否仅保存权重\n",
    "    mode='auto' # 设置检测参数的最优方向\n",
    ")\n",
    "\n",
    "early_stopping = tf.keras.callbacks.EarlyStopping(\n",
    "    monitor='val_binary_accuracy',\n",
    "    min_delta=0, # 触发终止的阈值: 最小增量\n",
    "    patience=10, # 等待训练停止的 无改善时期 的数量\n",
    "    verbose=1,\n",
    "    mode='auto'\n",
    ")\n",
    "\n",
    "# 设置权重衰减\n",
    "def scheduler(epoch):\n",
    "    if epoch % 5 == 0 and epoch != 0:\n",
    "        lr = tf.keras.backend.get_value(model.optimizer.lr)\n",
    "        tf.keras.backend.set_value(model.optimizer.lr, lr*0.9)\n",
    "        print('lr changed to {}'.format(lr*0.9))\n",
    "    return tf.keras.backend.get_value(model.optimizer.lr)\n",
    "learning_rate_scheduler = tf.keras.callbacks.LearningRateScheduler(scheduler, verbose=1)\n",
    "\n",
    "# 保存训练日志\n",
    "csv_logger = tf.keras.callbacks.CSVLogger('./Logs/training_5000_32_128.log', separator=',', append=False)\n",
    "callbacks = [model_check_point, early_stopping, learning_rate_scheduler, csv_logger]"
   ]
  },
  {
   "cell_type": "markdown",
   "id": "bdefba81-9ca1-42c1-acf3-71628196ed09",
   "metadata": {},
   "source": [
    "## 6. 模型的训练"
   ]
  },
  {
   "cell_type": "code",
   "execution_count": null,
   "id": "204f25e5-c9a5-4733-ae4e-01e06343dec7",
   "metadata": {},
   "outputs": [],
   "source": [
    "#训练模型\n",
    "history = model.fit(\n",
    "    X_train, \n",
    "    y_train, \n",
    "    epochs=32, # 批次量\n",
    "    batch_size=128, # 批量大小\n",
    "    validation_split=0.2, # 验证集比例\n",
    "    callbacks=callbacks # 回调函数\n",
    ")"
   ]
  },
  {
   "cell_type": "markdown",
   "id": "21226da2-e708-4c50-909d-39a219f043c7",
   "metadata": {},
   "source": [
    "## 7. 模型的评估"
   ]
  },
  {
   "cell_type": "code",
   "execution_count": null,
   "id": "23e6c5cd-6d60-48ee-b7a6-da35b68469cd",
   "metadata": {},
   "outputs": [],
   "source": [
    "#进行模型的评估\n",
    "model.evaluate(X_test, y_test)"
   ]
  },
  {
   "cell_type": "markdown",
   "id": "f208cd75-4357-41fd-8c08-d8e4320b775c",
   "metadata": {},
   "source": [
    "## 8. 模型的预测可视化"
   ]
  },
  {
   "cell_type": "code",
   "execution_count": null,
   "id": "ba9c4a7f",
   "metadata": {},
   "outputs": [],
   "source": [
    "best_model = tf.keras.models.load_model('./Models/best_model_5000_20_128.h5')"
   ]
  },
  {
   "cell_type": "code",
   "execution_count": null,
   "id": "5e25270d",
   "metadata": {},
   "outputs": [],
   "source": [
    "y_pred = best_model.predict(X_test[2:10,:,:,:])\n",
    "y_pred = [1 if i > 0.5 else 0 for i in y_pred]\n",
    "y_pred, y_test[2:10]"
   ]
  },
  {
   "cell_type": "code",
   "execution_count": null,
   "id": "fc1bdf22",
   "metadata": {},
   "outputs": [],
   "source": [
    "label_dict = {0: 'Not Sick', 1: 'Sick'}"
   ]
  },
  {
   "cell_type": "code",
   "execution_count": null,
   "id": "84deb58a",
   "metadata": {},
   "outputs": [],
   "source": [
    "plt.figure(figsize=(20, 20))\n",
    "for i in range(len(y_pred)):\n",
    "    ax = plt.subplot(4,4,i+1)\n",
    "    ax.axis('off')\n",
    "    ax.set_title(f'y_true={y_test[2+i]}\\ny_pred={y_pred[i]}')\n",
    "    ax.imshow(X_test[2+i,:,:,:].squeeze())\n",
    "plt.show()"
   ]
  },
  {
   "cell_type": "code",
   "execution_count": null,
   "id": "55f9bc4a",
   "metadata": {},
   "outputs": [],
   "source": [
    "plt.plot(range(len(history.history['loss'])), history.history['loss'])\n",
    "plt.plot(range(len(history.history['val_loss'])), history.history['val_loss'])\n",
    "plt.legend(['loss', 'val_loss'])\n",
    "plt.show()"
   ]
  },
  {
   "cell_type": "code",
   "execution_count": null,
   "id": "06300adf",
   "metadata": {},
   "outputs": [],
   "source": [
    "plt.plot(range(len(history.history['binary_accuracy'])), history.history['binary_accuracy'])\n",
    "plt.plot(range(len(history.history['val_binary_accuracy'])), history.history['val_binary_accuracy'])\n",
    "plt.legend(['binary_accuracy', 'val_binary_accuracy'])\n",
    "plt.show()"
   ]
  }
 ],
 "metadata": {
  "kernelspec": {
   "display_name": "tensorflow",
   "language": "python",
   "name": "tensorflow-gpu"
  },
  "language_info": {
   "codemirror_mode": {
    "name": "ipython",
    "version": 3
   },
   "file_extension": ".py",
   "mimetype": "text/x-python",
   "name": "python",
   "nbconvert_exporter": "python",
   "pygments_lexer": "ipython3",
   "version": "3.7.13"
  },
  "widgets": {
   "application/vnd.jupyter.widget-state+json": {
    "state": {},
    "version_major": 2,
    "version_minor": 0
   }
  }
 },
 "nbformat": 4,
 "nbformat_minor": 5
}
