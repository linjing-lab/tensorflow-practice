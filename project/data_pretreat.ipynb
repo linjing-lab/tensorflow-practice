{
 "cells": [
  {
   "cell_type": "markdown",
   "id": "9eec6830-466c-4fc0-ba47-5ea595ae3c10",
   "metadata": {},
   "source": [
    "# 数据处理"
   ]
  },
  {
   "cell_type": "code",
   "execution_count": 1,
   "id": "e549359f-6583-44fa-aa83-e6b801022e82",
   "metadata": {},
   "outputs": [],
   "source": [
    "# !pip install SimpleITK"
   ]
  },
  {
   "cell_type": "code",
   "execution_count": 2,
   "id": "c66cd7ed-bfb5-401b-8878-00f254248ccd",
   "metadata": {},
   "outputs": [],
   "source": [
    "import SimpleITK as sitk\n",
    "import matplotlib.pyplot as plt\n",
    "import numpy as np\n",
    "import os\n",
    "import matplotlib.image as mpimg\n",
    "import tqdm"
   ]
  },
  {
   "cell_type": "markdown",
   "id": "764ad0a9-6b2a-4f6d-b27c-809dcefa9484",
   "metadata": {},
   "source": [
    "## 1. 预览第一张图像"
   ]
  },
  {
   "cell_type": "code",
   "execution_count": 3,
   "id": "383e45f6-87e6-46af-b553-0dbb1e6556f6",
   "metadata": {},
   "outputs": [
    {
     "name": "stdout",
     "output_type": "stream",
     "text": [
      "0.0\n"
     ]
    }
   ],
   "source": [
    "mask_example = mpimg.imread('./Mask/1001/arterial phase/10001_mask.png')\n",
    "print(mask_example.sum())"
   ]
  },
  {
   "cell_type": "markdown",
   "id": "432b0c14-897b-461a-934b-150800541f97",
   "metadata": {},
   "source": [
    "## 2. 收集正确标签"
   ]
  },
  {
   "cell_type": "code",
   "execution_count": 4,
   "id": "32167853-88ad-492f-9975-4e8f19a5307b",
   "metadata": {},
   "outputs": [],
   "source": [
    "names = os.listdir('./Mask/')\n",
    "labels = {'arterial phase': [], 'venous phase': []}\n",
    "features = {'arterial phase': [], 'venous phase': []}"
   ]
  },
  {
   "cell_type": "code",
   "execution_count": 5,
   "id": "5e46a140-525d-4472-80e9-e8651ef24414",
   "metadata": {},
   "outputs": [
    {
     "name": "stderr",
     "output_type": "stream",
     "text": [
      "100%|████████████████████████████████████████████████████████████████████████████████| 107/107 [00:05<00:00, 19.96it/s]\n",
      "100%|████████████████████████████████████████████████████████████████████████████████| 107/107 [00:05<00:00, 18.58it/s]\n"
     ]
    }
   ],
   "source": [
    "for i in labels.keys():\n",
    "    for j in tqdm.tqdm(range(len(names))):\n",
    "        path = './Mask/' + names[j] + \"/\" + i + \"/\"\n",
    "        pictures = os.listdir(path)\n",
    "        for k in range(1, len(pictures), 2):\n",
    "            img_array = mpimg.imread(path + pictures[k])\n",
    "            if img_array.sum() == 0:\n",
    "                labels[i].append(0)\n",
    "            else:\n",
    "                labels[i].append(1)"
   ]
  },
  {
   "cell_type": "markdown",
   "id": "6b4c8857-53d7-4d41-991d-18e6787a214c",
   "metadata": {},
   "source": [
    "## 3. 加载数据集"
   ]
  },
  {
   "cell_type": "code",
   "execution_count": 6,
   "id": "fda5d238-dbc6-4efc-9f53-50674ad79668",
   "metadata": {},
   "outputs": [
    {
     "name": "stderr",
     "output_type": "stream",
     "text": [
      "100%|████████████████████████████████████████████████████████████████████████████████| 107/107 [00:31<00:00,  3.39it/s]\n",
      "100%|████████████████████████████████████████████████████████████████████████████████| 107/107 [00:30<00:00,  3.55it/s]\n"
     ]
    }
   ],
   "source": [
    "for i in features.keys():\n",
    "    for j in tqdm.tqdm(range(len(names))):\n",
    "        path = './Mask/' + names[j] + \"/\" + i + \"/\"\n",
    "        pictures = os.listdir(path)\n",
    "        for k in range(0, len(pictures), 2):\n",
    "            img_test = sitk.ReadImage(path + pictures[k])\n",
    "            features[i].append(sitk.GetArrayFromImage(img_test))"
   ]
  },
  {
   "cell_type": "code",
   "execution_count": 7,
   "id": "6157469f-028e-446e-ad99-fcbd326ddfbd",
   "metadata": {},
   "outputs": [],
   "source": [
    "arterial_phase = np.concatenate(features['arterial phase'], axis=0)\n",
    "venous_phase = np.concatenate(features['venous phase'], axis=0)"
   ]
  },
  {
   "cell_type": "code",
   "execution_count": 8,
   "id": "d521ccdd-c14a-490d-ab15-6a7cef6f00ee",
   "metadata": {},
   "outputs": [],
   "source": [
    "img_array = np.concatenate([arterial_phase, venous_phase], axis=0)"
   ]
  },
  {
   "cell_type": "code",
   "execution_count": 9,
   "id": "ac1533ca-875d-46b7-8fa9-69759faafc6d",
   "metadata": {},
   "outputs": [],
   "source": [
    "y_labels = labels['arterial phase'] + labels['venous phase']"
   ]
  },
  {
   "cell_type": "code",
   "execution_count": 10,
   "id": "c9a4234c-09d6-4c10-bac4-f6ef0b8fd438",
   "metadata": {},
   "outputs": [],
   "source": [
    "np.save('./Data/X.npy', img_array)"
   ]
  },
  {
   "cell_type": "code",
   "execution_count": 11,
   "id": "a78c1858-a812-448c-a34c-b3e0e3f814f2",
   "metadata": {},
   "outputs": [],
   "source": [
    "np.save('./Data/y.npy', y_labels)"
   ]
  }
 ],
 "metadata": {
  "kernelspec": {
   "display_name": "base",
   "language": "python",
   "name": "python3"
  },
  "language_info": {
   "codemirror_mode": {
    "name": "ipython",
    "version": 3
   },
   "file_extension": ".py",
   "mimetype": "text/x-python",
   "name": "python",
   "nbconvert_exporter": "python",
   "pygments_lexer": "ipython3",
   "version": "3.8.12"
  },
  "vscode": {
   "interpreter": {
    "hash": "b3fb0b2793048cd1b118fe4b37e5225759884576c73afcb2d12395c6e812d181"
   }
  },
  "widgets": {
   "application/vnd.jupyter.widget-state+json": {
    "state": {},
    "version_major": 2,
    "version_minor": 0
   }
  }
 },
 "nbformat": 4,
 "nbformat_minor": 5
}
