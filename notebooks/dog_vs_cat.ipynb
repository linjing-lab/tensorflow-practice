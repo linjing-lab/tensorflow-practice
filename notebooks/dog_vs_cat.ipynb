{
 "cells": [
  {
   "cell_type": "markdown",
   "id": "9adc40dc-ca03-4371-bc2e-7c7adbfcb971",
   "metadata": {},
   "source": [
    "# 猫狗大战"
   ]
  },
  {
   "cell_type": "code",
   "execution_count": 1,
   "id": "79bf22b7-0d92-47e9-a2dc-61edd8ff2454",
   "metadata": {},
   "outputs": [],
   "source": [
    "import tensorflow as tf"
   ]
  },
  {
   "cell_type": "code",
   "execution_count": 2,
   "id": "752cc524-724c-440a-8323-101dcc18cf76",
   "metadata": {},
   "outputs": [],
   "source": [
    "# set gpu for training\n",
    "gpu = tf.config.experimental.list_physical_devices('GPU')\n",
    "tf.config.experimental.set_memory_growth(gpu[0], True)"
   ]
  },
  {
   "cell_type": "markdown",
   "id": "63ef084d-cf67-4819-a6fa-18f8f879e2cc",
   "metadata": {},
   "source": [
    "## 1. 定义相关路径和参数"
   ]
  },
  {
   "cell_type": "code",
   "execution_count": 3,
   "id": "5448d9a5-1a53-4202-90cc-caf8839b8b0b",
   "metadata": {},
   "outputs": [],
   "source": [
    "data = '../data/dogVScat/'\n",
    "train_path = 'train/'\n",
    "val_path = 'val/'\n",
    "test_path = 'test/'"
   ]
  },
  {
   "cell_type": "code",
   "execution_count": 4,
   "id": "7edeec0a-aca9-4708-b22a-ec5744bf9825",
   "metadata": {},
   "outputs": [],
   "source": [
    "size, train_batch_size, val_batch_size = (150, 150), 32, 8"
   ]
  },
  {
   "cell_type": "markdown",
   "id": "1235da19-f142-4b16-9f30-3d2842b57b3c",
   "metadata": {},
   "source": [
    "## 2. 定义图像生成器"
   ]
  },
  {
   "cell_type": "code",
   "execution_count": 5,
   "id": "7d5198ba-6334-4ce8-901f-0a1adf69ea05",
   "metadata": {},
   "outputs": [],
   "source": [
    "img_generator = tf.keras.preprocessing.image.ImageDataGenerator(rescale=1/255) # 对原始像素做像素值归一化"
   ]
  },
  {
   "cell_type": "markdown",
   "id": "29fb76fb-9c44-4616-8dcd-3a2e78af0cff",
   "metadata": {},
   "source": [
    "## 3. 使用图像生成器导入数据"
   ]
  },
  {
   "cell_type": "markdown",
   "id": "49869aae-505a-47ca-baf3-c302add60274",
   "metadata": {},
   "source": [
    "### 3.1 定义训练集生成器"
   ]
  },
  {
   "cell_type": "code",
   "execution_count": 6,
   "id": "73a562fb-a713-4ceb-a366-09d7e1d0572d",
   "metadata": {},
   "outputs": [
    {
     "name": "stdout",
     "output_type": "stream",
     "text": [
      "Found 20000 images belonging to 2 classes.\n"
     ]
    }
   ],
   "source": [
    "train_generator = img_generator.flow_from_directory(\n",
    "    directory=data+train_path, # 图片路径\n",
    "    target_size=size, # 训练大小\n",
    "    class_mode='binary', # 二分类任务\n",
    "    batch_size=train_batch_size # 生成器一次生成多少个图片\n",
    ")"
   ]
  },
  {
   "cell_type": "markdown",
   "id": "5aa772e0-8ae2-42d3-9849-70b281f69e68",
   "metadata": {},
   "source": [
    "### 3.2 定义验证集生成器"
   ]
  },
  {
   "cell_type": "code",
   "execution_count": 7,
   "id": "7a7e9b2f-0cd7-40a9-a828-00bdcb4949d9",
   "metadata": {},
   "outputs": [
    {
     "name": "stdout",
     "output_type": "stream",
     "text": [
      "Found 2500 images belonging to 2 classes.\n"
     ]
    }
   ],
   "source": [
    "val_generator = img_generator.flow_from_directory(\n",
    "    directory=data+val_path, # 图片路径\n",
    "    target_size=size, # 生成的尺寸\n",
    "    class_mode='binary', # 二分类\n",
    "    batch_size=val_batch_size\n",
    ")"
   ]
  },
  {
   "cell_type": "markdown",
   "id": "cfe82b31-2ec8-4b99-b3cf-37cce391bf27",
   "metadata": {},
   "source": [
    "### 3.3 生成一个展示生成器的结果"
   ]
  },
  {
   "cell_type": "code",
   "execution_count": 8,
   "id": "a400b70e-5bfc-46fc-bfc4-4c81044d0e23",
   "metadata": {},
   "outputs": [
    {
     "data": {
      "text/plain": [
       "(32, 150, 150, 3)"
      ]
     },
     "execution_count": 8,
     "metadata": {},
     "output_type": "execute_result"
    }
   ],
   "source": [
    "res = next(train_generator)\n",
    "res[0].shape"
   ]
  },
  {
   "cell_type": "code",
   "execution_count": 9,
   "id": "b57b70dc-d489-4e2a-b4b8-7adac03290d7",
   "metadata": {},
   "outputs": [
    {
     "data": {
      "text/plain": [
       "(array([0., 1., 1., 0., 1., 1., 1., 1., 0., 0., 1., 0., 1., 0., 1., 0., 1.,\n",
       "        0., 1., 1., 1., 1., 0., 0., 0., 1., 1., 0., 0., 1., 0., 1.],\n",
       "       dtype=float32),\n",
       " (32,))"
      ]
     },
     "execution_count": 9,
     "metadata": {},
     "output_type": "execute_result"
    }
   ],
   "source": [
    "res[1], res[1].shape # 取出标签数据"
   ]
  },
  {
   "cell_type": "markdown",
   "id": "66718526-acea-4603-aeb8-1c63d97dcadd",
   "metadata": {},
   "source": [
    "## 4. 模型搭建"
   ]
  },
  {
   "cell_type": "code",
   "execution_count": 10,
   "id": "87efdff3-3c4e-4ca3-9a2f-6bc1f23d3406",
   "metadata": {},
   "outputs": [],
   "source": [
    "model = tf.keras.Sequential(name='LeNet5')"
   ]
  },
  {
   "cell_type": "code",
   "execution_count": 11,
   "id": "caec059b-7c89-4311-9e1e-ce1992b15c2d",
   "metadata": {},
   "outputs": [],
   "source": [
    "model.add(tf.keras.layers.Conv2D(filters=6, kernel_size=(5, 5), strides=(1, 1), input_shape=(150, 150, 3), activation='relu'))\n",
    "model.add(tf.keras.layers.MaxPool2D()) # 最大池化层\n",
    "model.add(tf.keras.layers.Conv2D(filters=16, kernel_size=(5, 5), strides=(1, 1), activation='relu'))\n",
    "model.add(tf.keras.layers.MaxPool2D())\n",
    "model.add(tf.keras.layers.Flatten())"
   ]
  },
  {
   "cell_type": "code",
   "execution_count": 12,
   "id": "4c8f27a6-cf95-4f74-a0b9-276634c909cb",
   "metadata": {},
   "outputs": [],
   "source": [
    "model.add(tf.keras.layers.Dense(units=120, activation='relu'))\n",
    "model.add(tf.keras.layers.Dense(units=84, activation='relu'))\n",
    "model.add(tf.keras.layers.Dense(units=1, activation='sigmoid'))"
   ]
  },
  {
   "cell_type": "markdown",
   "id": "debb48e5-483a-4ab4-8ba3-d416a725cca5",
   "metadata": {},
   "source": [
    "## 5. 模型的编译"
   ]
  },
  {
   "cell_type": "code",
   "execution_count": 13,
   "id": "d8a80358-bb83-456f-abe0-0cfae127dd3b",
   "metadata": {},
   "outputs": [],
   "source": [
    "model.compile(optimizer='adam', loss=tf.keras.losses.binary_crossentropy, metrics=tf.keras.metrics.binary_accuracy)"
   ]
  },
  {
   "cell_type": "markdown",
   "id": "f18b93dd-627d-4fe0-a58a-efc44be8cb70",
   "metadata": {},
   "source": [
    "## 6. 模型的训练"
   ]
  },
  {
   "cell_type": "code",
   "execution_count": 14,
   "id": "cc265e63-cdac-474c-83b3-3163995522ec",
   "metadata": {},
   "outputs": [
    {
     "name": "stdout",
     "output_type": "stream",
     "text": [
      "Epoch 1/10\n",
      "100/100 [==============================] - 28s 284ms/step - loss: 0.7056 - binary_accuracy: 0.5359 - val_loss: 0.6718 - val_binary_accuracy: 0.6406\n",
      "Epoch 2/10\n",
      "100/100 [==============================] - 24s 237ms/step - loss: 0.6599 - binary_accuracy: 0.6044 - val_loss: 0.5322 - val_binary_accuracy: 0.7188\n",
      "Epoch 3/10\n",
      "100/100 [==============================] - 21s 212ms/step - loss: 0.6043 - binary_accuracy: 0.6747 - val_loss: 0.6592 - val_binary_accuracy: 0.5156\n",
      "Epoch 4/10\n",
      "100/100 [==============================] - 18s 177ms/step - loss: 0.5609 - binary_accuracy: 0.7184 - val_loss: 0.5378 - val_binary_accuracy: 0.7188\n",
      "Epoch 5/10\n",
      "100/100 [==============================] - 16s 163ms/step - loss: 0.5264 - binary_accuracy: 0.7400 - val_loss: 0.6177 - val_binary_accuracy: 0.7344\n",
      "Epoch 6/10\n",
      "100/100 [==============================] - 14s 143ms/step - loss: 0.5080 - binary_accuracy: 0.7553 - val_loss: 0.3889 - val_binary_accuracy: 0.7969\n",
      "Epoch 7/10\n",
      "100/100 [==============================] - 15s 146ms/step - loss: 0.4792 - binary_accuracy: 0.7734 - val_loss: 0.4530 - val_binary_accuracy: 0.7812\n",
      "Epoch 8/10\n",
      "100/100 [==============================] - 12s 124ms/step - loss: 0.4831 - binary_accuracy: 0.7703 - val_loss: 0.5286 - val_binary_accuracy: 0.7969\n",
      "Epoch 9/10\n",
      "100/100 [==============================] - 12s 116ms/step - loss: 0.4592 - binary_accuracy: 0.7775 - val_loss: 0.4406 - val_binary_accuracy: 0.7969\n",
      "Epoch 10/10\n",
      "100/100 [==============================] - 10s 105ms/step - loss: 0.4399 - binary_accuracy: 0.7984 - val_loss: 0.4841 - val_binary_accuracy: 0.8281\n"
     ]
    }
   ],
   "source": [
    "history = model.fit(train_generator, steps_per_epoch=100, epochs=10, verbose=1, validation_data=val_generator, validation_steps=8)"
   ]
  },
  {
   "cell_type": "markdown",
   "id": "4567e7d5-5ec4-466e-a066-7b59399b70d1",
   "metadata": {},
   "source": [
    "## 7. 回调函数"
   ]
  },
  {
   "cell_type": "code",
   "execution_count": 15,
   "id": "6518d8fa-7bc1-4ad6-b36e-ec31f24b5c95",
   "metadata": {},
   "outputs": [],
   "source": [
    "model_check_point = tf.keras.callbacks.ModelCheckpoint(\n",
    "    filepath='../models/best_model.h5', \n",
    "    monitor='val_binary_accuracy', \n",
    "    verbose=1, \n",
    "    save_best_only=True, # 仅保存最优模型\n",
    "    save_weights_only=False, # 是否仅保存权重\n",
    "    mode='auto' # 设置检测参数的最优方向\n",
    ")"
   ]
  },
  {
   "cell_type": "code",
   "execution_count": 16,
   "id": "06897e6c-82da-43a2-8324-5deaa112867b",
   "metadata": {},
   "outputs": [],
   "source": [
    "early_stopping = tf.keras.callbacks.EarlyStopping(\n",
    "    monitor='val_binary_accuracy',\n",
    "    min_delta=0, # 设置最小增量\n",
    "    patience=10, # 为改善的时间数\n",
    "    verbose=1,\n",
    "    mode='auto'\n",
    ")"
   ]
  },
  {
   "cell_type": "code",
   "execution_count": 17,
   "id": "2eb50960-258c-429c-85b7-d267fb97eb51",
   "metadata": {},
   "outputs": [],
   "source": [
    "# 设置权重衰减\n",
    "def scheduler(epoch):\n",
    "    if epoch % 5 == 0 and epoch != 0:\n",
    "        lr = tf.keras.backend.get_value(model.optimizer.lr)\n",
    "        tf.keras.backend.set_value(model.optimizer.lr, lr*0.9)\n",
    "        print('lr changed to {}'.format(lr*0.9))\n",
    "    return tf.keras.backend.get_value(model.optimizer.lr)\n",
    "learning_rate_scheduler = tf.keras.callbacks.LearningRateScheduler(scheduler, verbose=1)"
   ]
  },
  {
   "cell_type": "code",
   "execution_count": 18,
   "id": "d3566d8f-f124-44f8-8b4a-e8cda8b1fb72",
   "metadata": {},
   "outputs": [],
   "source": [
    "# 保存训练日志\n",
    "csv_logger = tf.keras.callbacks.CSVLogger('../logs/training.log', separator=',', append=False)\n",
    "callbacks = [model_check_point, early_stopping, learning_rate_scheduler, csv_logger]"
   ]
  },
  {
   "cell_type": "code",
   "execution_count": 19,
   "id": "c012d7db-07fb-40da-86b3-b372cd8ea51a",
   "metadata": {},
   "outputs": [],
   "source": [
    "model = tf.keras.Sequential(name='LeNet5')\n",
    "model.add(tf.keras.layers.Conv2D(filters=6, kernel_size=(5, 5), strides=(1, 1), input_shape=(150, 150, 3), activation='relu'))\n",
    "model.add(tf.keras.layers.MaxPool2D()) # 最大池化层\n",
    "model.add(tf.keras.layers.Conv2D(filters=16, kernel_size=(5, 5), strides=(1, 1), activation='relu'))\n",
    "model.add(tf.keras.layers.MaxPool2D())\n",
    "model.add(tf.keras.layers.Flatten())\n",
    "model.add(tf.keras.layers.Dense(units=120, activation='relu'))\n",
    "model.add(tf.keras.layers.Dense(units=84, activation='relu'))\n",
    "model.add(tf.keras.layers.Dense(units=1, activation='sigmoid'))"
   ]
  },
  {
   "cell_type": "code",
   "execution_count": 20,
   "id": "c168e516-bd9a-40cf-9193-370a173d4324",
   "metadata": {},
   "outputs": [],
   "source": [
    "model.compile(optimizer='adam', loss=tf.keras.losses.binary_crossentropy, metrics=tf.keras.metrics.binary_accuracy)"
   ]
  },
  {
   "cell_type": "code",
   "execution_count": 21,
   "id": "439f6a61-3b5e-4a4a-bc0d-5ed4cd92a75a",
   "metadata": {},
   "outputs": [
    {
     "name": "stdout",
     "output_type": "stream",
     "text": [
      "\n",
      "Epoch 00001: LearningRateScheduler reducing learning rate to 0.001.\n",
      "Epoch 1/10\n",
      "100/100 [==============================] - ETA: 0s - loss: 0.6834 - binary_accuracy: 0.5741\n",
      "Epoch 00001: val_binary_accuracy improved from -inf to 0.54688, saving model to ../models\\best_model.h5\n",
      "100/100 [==============================] - 10s 98ms/step - loss: 0.6834 - binary_accuracy: 0.5741 - val_loss: 0.6678 - val_binary_accuracy: 0.5469\n",
      "\n",
      "Epoch 00002: LearningRateScheduler reducing learning rate to 0.001.\n",
      "Epoch 2/10\n",
      "100/100 [==============================] - ETA: 0s - loss: 0.6082 - binary_accuracy: 0.6659\n",
      "Epoch 00002: val_binary_accuracy improved from 0.54688 to 0.75000, saving model to ../models\\best_model.h5\n",
      "100/100 [==============================] - 9s 88ms/step - loss: 0.6082 - binary_accuracy: 0.6659 - val_loss: 0.5808 - val_binary_accuracy: 0.7500\n",
      "\n",
      "Epoch 00003: LearningRateScheduler reducing learning rate to 0.001.\n",
      "Epoch 3/10\n",
      "100/100 [==============================] - ETA: 0s - loss: 0.5866 - binary_accuracy: 0.6891\n",
      "Epoch 00003: val_binary_accuracy did not improve from 0.75000\n",
      "100/100 [==============================] - 8s 81ms/step - loss: 0.5866 - binary_accuracy: 0.6891 - val_loss: 0.6377 - val_binary_accuracy: 0.6875\n",
      "\n",
      "Epoch 00004: LearningRateScheduler reducing learning rate to 0.001.\n",
      "Epoch 4/10\n",
      "100/100 [==============================] - ETA: 0s - loss: 0.5898 - binary_accuracy: 0.6869\n",
      "Epoch 00004: val_binary_accuracy did not improve from 0.75000\n",
      "100/100 [==============================] - 8s 76ms/step - loss: 0.5898 - binary_accuracy: 0.6869 - val_loss: 0.5970 - val_binary_accuracy: 0.6094\n",
      "\n",
      "Epoch 00005: LearningRateScheduler reducing learning rate to 0.001.\n",
      "Epoch 5/10\n",
      "100/100 [==============================] - ETA: 0s - loss: 0.5425 - binary_accuracy: 0.7300\n",
      "Epoch 00005: val_binary_accuracy improved from 0.75000 to 0.76562, saving model to ../models\\best_model.h5\n",
      "100/100 [==============================] - 8s 77ms/step - loss: 0.5425 - binary_accuracy: 0.7300 - val_loss: 0.4852 - val_binary_accuracy: 0.7656\n",
      "lr changed to 0.0009000000427477062\n",
      "\n",
      "Epoch 00006: LearningRateScheduler reducing learning rate to 0.00090000004.\n",
      "Epoch 6/10\n",
      "100/100 [==============================] - ETA: 0s - loss: 0.5336 - binary_accuracy: 0.7375\n",
      "Epoch 00006: val_binary_accuracy did not improve from 0.76562\n",
      "100/100 [==============================] - 8s 79ms/step - loss: 0.5336 - binary_accuracy: 0.7375 - val_loss: 0.5533 - val_binary_accuracy: 0.6875\n",
      "\n",
      "Epoch 00007: LearningRateScheduler reducing learning rate to 0.00090000004.\n",
      "Epoch 7/10\n",
      "100/100 [==============================] - ETA: 0s - loss: 0.5041 - binary_accuracy: 0.7513\n",
      "Epoch 00007: val_binary_accuracy did not improve from 0.76562\n",
      "100/100 [==============================] - 7s 74ms/step - loss: 0.5041 - binary_accuracy: 0.7513 - val_loss: 0.5421 - val_binary_accuracy: 0.7344\n",
      "\n",
      "Epoch 00008: LearningRateScheduler reducing learning rate to 0.00090000004.\n",
      "Epoch 8/10\n",
      "100/100 [==============================] - ETA: 0s - loss: 0.4794 - binary_accuracy: 0.7809\n",
      "Epoch 00008: val_binary_accuracy improved from 0.76562 to 0.85938, saving model to ../models\\best_model.h5\n",
      "100/100 [==============================] - 7s 69ms/step - loss: 0.4794 - binary_accuracy: 0.7809 - val_loss: 0.4435 - val_binary_accuracy: 0.8594\n",
      "\n",
      "Epoch 00009: LearningRateScheduler reducing learning rate to 0.00090000004.\n",
      "Epoch 9/10\n",
      "100/100 [==============================] - ETA: 0s - loss: 0.4832 - binary_accuracy: 0.7647\n",
      "Epoch 00009: val_binary_accuracy did not improve from 0.85938\n",
      "100/100 [==============================] - 8s 75ms/step - loss: 0.4832 - binary_accuracy: 0.7647 - val_loss: 0.6082 - val_binary_accuracy: 0.7188\n",
      "\n",
      "Epoch 00010: LearningRateScheduler reducing learning rate to 0.00090000004.\n",
      "Epoch 10/10\n",
      "100/100 [==============================] - ETA: 0s - loss: 0.4692 - binary_accuracy: 0.7772\n",
      "Epoch 00010: val_binary_accuracy did not improve from 0.85938\n",
      "100/100 [==============================] - 7s 72ms/step - loss: 0.4692 - binary_accuracy: 0.7772 - val_loss: 0.4729 - val_binary_accuracy: 0.8281\n"
     ]
    }
   ],
   "source": [
    "history = model.fit(train_generator, steps_per_epoch=100, epochs=10, verbose=1, validation_data=val_generator, validation_steps=8, callbacks=callbacks)"
   ]
  }
 ],
 "metadata": {
  "kernelspec": {
   "display_name": "tensorflow-gpu",
   "language": "python",
   "name": "python3"
  },
  "language_info": {
   "codemirror_mode": {
    "name": "ipython",
    "version": 3
   },
   "file_extension": ".py",
   "mimetype": "text/x-python",
   "name": "python",
   "nbconvert_exporter": "python",
   "pygments_lexer": "ipython3",
   "version": "3.7.13"
  },
  "vscode": {
   "interpreter": {
    "hash": "b3fb0b2793048cd1b118fe4b37e5225759884576c73afcb2d12395c6e812d181"
   }
  },
  "widgets": {
   "application/vnd.jupyter.widget-state+json": {
    "state": {},
    "version_major": 2,
    "version_minor": 0
   }
  }
 },
 "nbformat": 4,
 "nbformat_minor": 5
}
