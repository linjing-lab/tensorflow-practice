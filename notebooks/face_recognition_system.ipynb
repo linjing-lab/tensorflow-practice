{
 "cells": [
  {
   "cell_type": "markdown",
   "id": "c1a241dd-0e1d-4de0-9d5f-c437d2235c56",
   "metadata": {
    "ExecuteTime": {
     "end_time": "2022-09-27T06:33:07.182633Z",
     "start_time": "2022-09-27T06:33:03.826586Z"
    }
   },
   "source": [
    "# 人脸识别系统"
   ]
  },
  {
   "cell_type": "code",
   "execution_count": 1,
   "id": "30a878e1-be0d-4fa2-a0b8-0da7f57feb7c",
   "metadata": {
    "ExecuteTime": {
     "end_time": "2022-09-27T06:33:07.182633Z",
     "start_time": "2022-09-27T06:33:03.826586Z"
    }
   },
   "outputs": [],
   "source": [
    "import tensorflow as tf\n",
    "gpu = tf.config.experimental.list_physical_devices('GPU')\n",
    "tf.config.experimental.set_memory_growth(gpu[0], True)"
   ]
  },
  {
   "cell_type": "code",
   "execution_count": 2,
   "id": "526fc589",
   "metadata": {
    "ExecuteTime": {
     "end_time": "2022-09-27T06:33:07.559695Z",
     "start_time": "2022-09-27T06:33:07.201550Z"
    }
   },
   "outputs": [],
   "source": [
    "import os\n",
    "import time\n",
    "import numpy as np\n",
    "import matplotlib.pyplot as plt\n",
    "import cv2\n",
    "import tqdm  # 进度条工具"
   ]
  },
  {
   "cell_type": "markdown",
   "id": "fcad41da",
   "metadata": {},
   "source": [
    "## 人脸数据采集"
   ]
  },
  {
   "cell_type": "code",
   "execution_count": 3,
   "id": "ec63568b",
   "metadata": {
    "ExecuteTime": {
     "end_time": "2022-09-27T03:31:47.434816Z",
     "start_time": "2022-09-27T03:31:47.421816Z"
    }
   },
   "outputs": [],
   "source": [
    "num = 200  # 设置拍摄的照片数量\n",
    "img_dir = '../data/faces'  # 设置照片的存储位置\n",
    "name = 'linjing'\n",
    "time_delay = 0\n",
    "wait_key = 200  # 展示拍摄图片时取消注释"
   ]
  },
  {
   "cell_type": "code",
   "execution_count": 4,
   "id": "1e1e3b57",
   "metadata": {
    "ExecuteTime": {
     "end_time": "2022-09-27T02:40:43.305382Z",
     "start_time": "2022-09-27T02:40:37.711885Z"
    }
   },
   "outputs": [
    {
     "name": "stderr",
     "output_type": "stream",
     "text": [
      "100%|████████████████████████████████████████████████████████████████████████████████| 200/200 [01:11<00:00,  2.78it/s]\n"
     ]
    }
   ],
   "source": [
    "name_path = os.path.join(img_dir, name)\n",
    "if not os.path.exists(name_path):  # 创建文件夹\n",
    "    os.makedirs(name_path)\n",
    "camera = cv2.VideoCapture(0)    # 调用摄像头\n",
    "for i in tqdm.tqdm(range(num)):\n",
    "    success, img = camera.read()  # 从摄像头读取照片\n",
    "#     time.sleep(time_delay)\n",
    "    if success:\n",
    "        img_name = str(i) + '.jpg'    \n",
    "        cv2.imshow(img_name, img)  # 展示拍摄图片\n",
    "        cv2.waitKey(wait_key)\n",
    "        cv2.destroyAllWindows()\n",
    "        cv2.imwrite(os.path.join(name_path, img_name), img)\n",
    "camera.release()  # 当一切都完成后，关闭摄像头并释放所占资源"
   ]
  },
  {
   "cell_type": "markdown",
   "id": "7ec719d9",
   "metadata": {},
   "source": [
    "## 将人脸信息从图片中筛选出来"
   ]
  },
  {
   "cell_type": "code",
   "execution_count": 5,
   "id": "d27d5134",
   "metadata": {
    "ExecuteTime": {
     "end_time": "2022-09-27T06:44:03.080991Z",
     "start_time": "2022-09-27T06:44:03.026727Z"
    }
   },
   "outputs": [
    {
     "data": {
      "text/plain": [
       "True"
      ]
     },
     "execution_count": 5,
     "metadata": {},
     "output_type": "execute_result"
    }
   ],
   "source": [
    "faceCascade = cv2.CascadeClassifier('../models/haarcascade_frontalface_default.xml')\n",
    "faceCascade.load(r'../models/haarcascade_frontalface_default.xml')"
   ]
  },
  {
   "cell_type": "code",
   "execution_count": 6,
   "id": "37919fd9",
   "metadata": {
    "ExecuteTime": {
     "end_time": "2022-09-27T06:44:03.096949Z",
     "start_time": "2022-09-27T06:44:03.082888Z"
    }
   },
   "outputs": [],
   "source": [
    "gray_img = cv2.imread('../data/faces/linjing/10.jpg', 0)"
   ]
  },
  {
   "cell_type": "code",
   "execution_count": 7,
   "id": "497bf840",
   "metadata": {
    "ExecuteTime": {
     "end_time": "2022-09-27T02:42:05.208585Z",
     "start_time": "2022-09-27T02:42:05.183302Z"
    }
   },
   "outputs": [],
   "source": [
    "# 调用函数detectMultiScale\n",
    "faces = faceCascade.detectMultiScale(gray_img)"
   ]
  },
  {
   "cell_type": "code",
   "execution_count": null,
   "id": "544d321a",
   "metadata": {
    "ExecuteTime": {
     "end_time": "2022-09-27T02:42:05.723346Z",
     "start_time": "2022-09-27T02:42:05.620267Z"
    }
   },
   "outputs": [],
   "source": [
    "for (x, y, w, h) in faces:\n",
    "    cv2.rectangle(gray_img, (x, y), (x + h, y + w), (0, 0, 255), 2)\n",
    "plt.imshow(gray_img, cmap='gray')\n",
    "plt.axis('off')\n",
    "plt.show()"
   ]
  },
  {
   "cell_type": "code",
   "execution_count": null,
   "id": "c51110f5",
   "metadata": {
    "ExecuteTime": {
     "end_time": "2022-09-27T02:42:06.563017Z",
     "start_time": "2022-09-27T02:42:06.485018Z"
    }
   },
   "outputs": [],
   "source": [
    "for (x, y, w, h) in faces:\n",
    "    face = gray_img[y:y+h, x:x+w]\n",
    "plt.imshow(face, cmap='gray')\n",
    "plt.axis('off')\n",
    "plt.show()"
   ]
  },
  {
   "cell_type": "markdown",
   "id": "a6d580ab",
   "metadata": {},
   "source": [
    "## 数据的预处理"
   ]
  },
  {
   "cell_type": "code",
   "execution_count": 10,
   "id": "652f617b",
   "metadata": {
    "ExecuteTime": {
     "end_time": "2022-09-27T02:29:33.193719Z",
     "start_time": "2022-09-27T02:29:33.133594Z"
    }
   },
   "outputs": [
    {
     "data": {
      "text/plain": [
       "True"
      ]
     },
     "execution_count": 10,
     "metadata": {},
     "output_type": "execute_result"
    }
   ],
   "source": [
    "faceCascade = cv2.CascadeClassifier('../models/haarcascade_frontalface_default.xml')\n",
    "faceCascade.load(r'../models/haarcascade_frontalface_default.xml')"
   ]
  },
  {
   "cell_type": "code",
   "execution_count": 11,
   "id": "e8589107",
   "metadata": {
    "ExecuteTime": {
     "end_time": "2022-09-27T03:00:31.013116Z",
     "start_time": "2022-09-27T03:00:29.224258Z"
    }
   },
   "outputs": [],
   "source": [
    "peoples = os.listdir('../data/faces/')\n",
    "for people in peoples:\n",
    "    img_names = os.listdir('../data/faces/' + people)\n",
    "    for img_name in img_names:\n",
    "        img_path = '../data/faces/' + people + '/' + img_name\n",
    "        img = cv2.imread(img_path, 0)\n",
    "        # 检测人脸\n",
    "        faces = faceCascade.detectMultiScale(img)\n",
    "        # 获取人脸部分\n",
    "        for (x, y, w, h) in faces:\n",
    "            face = img[y:y + h, x:x + w]\n",
    "        face = cv2.resize(face, (64, 64))\n",
    "        if not os.path.exists('../data/detect/' + people):\n",
    "            os.mkdir('../data/detect/' + people)\n",
    "        cv2.imwrite('../data/detect/' + people + '/' + img_name, face)"
   ]
  },
  {
   "cell_type": "markdown",
   "id": "2bd1acb8",
   "metadata": {},
   "source": [
    "## 读取处理好的数据"
   ]
  },
  {
   "cell_type": "code",
   "execution_count": 12,
   "id": "1430c60c",
   "metadata": {
    "ExecuteTime": {
     "end_time": "2022-09-27T06:33:17.931424Z",
     "start_time": "2022-09-27T06:33:17.455042Z"
    }
   },
   "outputs": [],
   "source": [
    "path = '../data/detect/'\n",
    "names = os.listdir(path)\n",
    "names_dic = {i:j for i, j in enumerate(names)}\n",
    "imgs, labels = [], []\n",
    "for i in range(len(names)):\n",
    "    img_names = os.listdir(path + names[i])\n",
    "    for j in range(len(img_names)):\n",
    "        labels.append(i)\n",
    "        img = cv2.imread(path + names[i] + '/' + img_names[j], 0)\n",
    "        imgs.append(img)"
   ]
  },
  {
   "cell_type": "code",
   "execution_count": 13,
   "id": "ad3883bf",
   "metadata": {
    "ExecuteTime": {
     "end_time": "2022-09-27T06:33:19.044216Z",
     "start_time": "2022-09-27T06:33:19.020177Z"
    }
   },
   "outputs": [
    {
     "data": {
      "text/plain": [
       "{0: 'linjing'}"
      ]
     },
     "execution_count": 13,
     "metadata": {},
     "output_type": "execute_result"
    }
   ],
   "source": [
    "names_dic"
   ]
  },
  {
   "cell_type": "code",
   "execution_count": 14,
   "id": "f81272a3",
   "metadata": {
    "ExecuteTime": {
     "end_time": "2022-09-27T06:33:25.846627Z",
     "start_time": "2022-09-27T06:33:25.830628Z"
    }
   },
   "outputs": [],
   "source": [
    "labels = np.array(labels)\n",
    "imgs = np.array(imgs)"
   ]
  },
  {
   "cell_type": "code",
   "execution_count": 15,
   "id": "1e281131",
   "metadata": {
    "ExecuteTime": {
     "end_time": "2022-09-27T06:33:26.382436Z",
     "start_time": "2022-09-27T06:33:26.371435Z"
    }
   },
   "outputs": [
    {
     "data": {
      "text/plain": [
       "(200, 64, 64, 1)"
      ]
     },
     "execution_count": 15,
     "metadata": {},
     "output_type": "execute_result"
    }
   ],
   "source": [
    "imgs = np.expand_dims(imgs, -1)\n",
    "imgs.shape"
   ]
  },
  {
   "cell_type": "code",
   "execution_count": 16,
   "id": "ed014578",
   "metadata": {
    "ExecuteTime": {
     "end_time": "2022-09-27T06:33:28.108750Z",
     "start_time": "2022-09-27T06:33:28.088460Z"
    }
   },
   "outputs": [
    {
     "data": {
      "text/plain": [
       "(200,)"
      ]
     },
     "execution_count": 16,
     "metadata": {},
     "output_type": "execute_result"
    }
   ],
   "source": [
    "labels.shape"
   ]
  },
  {
   "cell_type": "markdown",
   "id": "a19b063a",
   "metadata": {},
   "source": [
    "## 切分训练集和测试集"
   ]
  },
  {
   "cell_type": "code",
   "execution_count": 17,
   "id": "2517aee1-9dd5-4978-9d42-2395ec502ae7",
   "metadata": {
    "ExecuteTime": {
     "end_time": "2022-09-27T06:33:29.925831Z",
     "start_time": "2022-09-27T06:33:29.608564Z"
    }
   },
   "outputs": [],
   "source": [
    "from sklearn.model_selection import train_test_split\n",
    "X_train, X_test, y_train, y_test = train_test_split(imgs, labels, test_size=0.2)"
   ]
  },
  {
   "cell_type": "markdown",
   "id": "6ac48d81",
   "metadata": {},
   "source": [
    "## 模型的搭建"
   ]
  },
  {
   "cell_type": "code",
   "execution_count": 18,
   "id": "688fcd4f-2d03-4dd6-a7fc-7002f8933cd6",
   "metadata": {
    "ExecuteTime": {
     "end_time": "2022-09-27T06:33:41.598157Z",
     "start_time": "2022-09-27T06:33:41.110153Z"
    }
   },
   "outputs": [],
   "source": [
    "model = tf.keras.Sequential(name='LeNet5')"
   ]
  },
  {
   "cell_type": "markdown",
   "id": "0c8b03d4-048f-4617-99af-c1ec9f9561c8",
   "metadata": {
    "ExecuteTime": {
     "end_time": "2022-09-27T06:33:41.598157Z",
     "start_time": "2022-09-27T06:33:41.110153Z"
    }
   },
   "source": [
    "- filters: 卷积核的个数\n",
    "- kernel_size: 卷积核的大小\n",
    "- striders: 卷积核移动的步长\n",
    "- input_shape: 输入到模型中的数据的尺寸，这个只在网络的第一层中指定\n",
    "- activation: 非线性激活函数"
   ]
  },
  {
   "cell_type": "code",
   "execution_count": 19,
   "id": "76737c4b-9206-4643-afc1-d34bf250701b",
   "metadata": {
    "ExecuteTime": {
     "end_time": "2022-09-27T06:33:41.598157Z",
     "start_time": "2022-09-27T06:33:41.110153Z"
    }
   },
   "outputs": [],
   "source": [
    "model.add(tf.keras.layers.Conv2D(filters=6, kernel_size=(5, 5), strides=(1, 1), input_shape=(64, 64, 1), activation='relu'))\n",
    "model.add(tf.keras.layers.MaxPool2D()) # 最大池化层\n",
    "model.add(tf.keras.layers.Conv2D(filters=16, kernel_size=(5, 5), strides=(1, 1), activation='relu')) # 卷积层\n",
    "model.add(tf.keras.layers.MaxPool2D()) # 最大池化层\n",
    "model.add(tf.keras.layers.Flatten()) # 展平层"
   ]
  },
  {
   "cell_type": "code",
   "execution_count": 20,
   "id": "36731cd7-233d-4f48-a650-2e49e49772a6",
   "metadata": {
    "ExecuteTime": {
     "end_time": "2022-09-27T06:33:41.598157Z",
     "start_time": "2022-09-27T06:33:41.110153Z"
    }
   },
   "outputs": [],
   "source": [
    "model.add(tf.keras.layers.Dense(units=120, activation='relu')) # units: 全连接层的神经元数量\n",
    "model.add(tf.keras.layers.Dense(units=84, activation='relu'))\n",
    "model.add(tf.keras.layers.Dense(units=len(names_dic), activation='softmax'))"
   ]
  },
  {
   "cell_type": "code",
   "execution_count": 21,
   "id": "a272e4d8",
   "metadata": {
    "ExecuteTime": {
     "end_time": "2022-09-27T06:33:42.984997Z",
     "start_time": "2022-09-27T06:33:42.958010Z"
    }
   },
   "outputs": [
    {
     "name": "stdout",
     "output_type": "stream",
     "text": [
      "Model: \"LeNet5\"\n",
      "_________________________________________________________________\n",
      "Layer (type)                 Output Shape              Param #   \n",
      "=================================================================\n",
      "conv2d (Conv2D)              (None, 60, 60, 6)         156       \n",
      "_________________________________________________________________\n",
      "max_pooling2d (MaxPooling2D) (None, 30, 30, 6)         0         \n",
      "_________________________________________________________________\n",
      "conv2d_1 (Conv2D)            (None, 26, 26, 16)        2416      \n",
      "_________________________________________________________________\n",
      "max_pooling2d_1 (MaxPooling2 (None, 13, 13, 16)        0         \n",
      "_________________________________________________________________\n",
      "flatten (Flatten)            (None, 2704)              0         \n",
      "_________________________________________________________________\n",
      "dense (Dense)                (None, 120)               324600    \n",
      "_________________________________________________________________\n",
      "dense_1 (Dense)              (None, 84)                10164     \n",
      "_________________________________________________________________\n",
      "dense_2 (Dense)              (None, 1)                 85        \n",
      "=================================================================\n",
      "Total params: 337,421\n",
      "Trainable params: 337,421\n",
      "Non-trainable params: 0\n",
      "_________________________________________________________________\n"
     ]
    }
   ],
   "source": [
    "model.summary()"
   ]
  },
  {
   "cell_type": "markdown",
   "id": "7e004cbf",
   "metadata": {},
   "source": [
    "## 模型的编译和训练"
   ]
  },
  {
   "cell_type": "code",
   "execution_count": 22,
   "id": "b5b7da57",
   "metadata": {
    "ExecuteTime": {
     "end_time": "2022-09-27T06:33:59.688310Z",
     "start_time": "2022-09-27T06:33:59.627994Z"
    }
   },
   "outputs": [],
   "source": [
    "model.compile(optimizer='adam', loss=tf.keras.losses.sparse_categorical_crossentropy, metrics=tf.keras.metrics.sparse_categorical_accuracy)"
   ]
  },
  {
   "cell_type": "code",
   "execution_count": 23,
   "id": "f6ad7691",
   "metadata": {
    "ExecuteTime": {
     "end_time": "2022-09-27T06:34:12.570944Z",
     "start_time": "2022-09-27T06:34:05.917653Z"
    }
   },
   "outputs": [
    {
     "name": "stdout",
     "output_type": "stream",
     "text": [
      "Epoch 1/10\n",
      "8/8 [==============================] - 0s 26ms/step - loss: 0.0000e+00 - sparse_categorical_accuracy: 1.0000 - val_loss: 0.0000e+00 - val_sparse_categorical_accuracy: 1.0000\n",
      "Epoch 2/10\n",
      "8/8 [==============================] - 0s 7ms/step - loss: 0.0000e+00 - sparse_categorical_accuracy: 1.0000 - val_loss: 0.0000e+00 - val_sparse_categorical_accuracy: 1.0000\n",
      "Epoch 3/10\n",
      "8/8 [==============================] - 0s 7ms/step - loss: 0.0000e+00 - sparse_categorical_accuracy: 1.0000 - val_loss: 0.0000e+00 - val_sparse_categorical_accuracy: 1.0000\n",
      "Epoch 4/10\n",
      "8/8 [==============================] - 0s 7ms/step - loss: 0.0000e+00 - sparse_categorical_accuracy: 1.0000 - val_loss: 0.0000e+00 - val_sparse_categorical_accuracy: 1.0000\n",
      "Epoch 5/10\n",
      "8/8 [==============================] - 0s 7ms/step - loss: 0.0000e+00 - sparse_categorical_accuracy: 1.0000 - val_loss: 0.0000e+00 - val_sparse_categorical_accuracy: 1.0000\n",
      "Epoch 6/10\n",
      "8/8 [==============================] - 0s 7ms/step - loss: 0.0000e+00 - sparse_categorical_accuracy: 1.0000 - val_loss: 0.0000e+00 - val_sparse_categorical_accuracy: 1.0000\n",
      "Epoch 7/10\n",
      "8/8 [==============================] - 0s 7ms/step - loss: 0.0000e+00 - sparse_categorical_accuracy: 1.0000 - val_loss: 0.0000e+00 - val_sparse_categorical_accuracy: 1.0000\n",
      "Epoch 8/10\n",
      "8/8 [==============================] - 0s 7ms/step - loss: 0.0000e+00 - sparse_categorical_accuracy: 1.0000 - val_loss: 0.0000e+00 - val_sparse_categorical_accuracy: 1.0000\n",
      "Epoch 9/10\n",
      "8/8 [==============================] - 0s 7ms/step - loss: 0.0000e+00 - sparse_categorical_accuracy: 1.0000 - val_loss: 0.0000e+00 - val_sparse_categorical_accuracy: 1.0000\n",
      "Epoch 10/10\n",
      "8/8 [==============================] - 0s 8ms/step - loss: 0.0000e+00 - sparse_categorical_accuracy: 1.0000 - val_loss: 0.0000e+00 - val_sparse_categorical_accuracy: 1.0000\n"
     ]
    },
    {
     "data": {
      "text/plain": [
       "<tensorflow.python.keras.callbacks.History at 0x227a47612e0>"
      ]
     },
     "execution_count": 23,
     "metadata": {},
     "output_type": "execute_result"
    }
   ],
   "source": [
    "model.fit(X_train, y_train, epochs=10, batch_size=16, validation_split=0.2)"
   ]
  },
  {
   "cell_type": "markdown",
   "id": "ff07aa60",
   "metadata": {},
   "source": [
    "## 模型验证"
   ]
  },
  {
   "cell_type": "code",
   "execution_count": 24,
   "id": "84882540",
   "metadata": {
    "ExecuteTime": {
     "end_time": "2022-09-27T06:38:26.515820Z",
     "start_time": "2022-09-27T06:38:26.283751Z"
    }
   },
   "outputs": [
    {
     "name": "stdout",
     "output_type": "stream",
     "text": [
      "2/2 [==============================] - 0s 32ms/step - loss: 0.0000e+00 - sparse_categorical_accuracy: 1.0000\n"
     ]
    },
    {
     "data": {
      "text/plain": [
       "[0.0, 1.0]"
      ]
     },
     "execution_count": 24,
     "metadata": {},
     "output_type": "execute_result"
    }
   ],
   "source": [
    "model.evaluate(X_test, y_test)"
   ]
  },
  {
   "cell_type": "markdown",
   "id": "0554de3e",
   "metadata": {},
   "source": [
    "## 模型的测试"
   ]
  },
  {
   "cell_type": "code",
   "execution_count": 25,
   "id": "7ca1687f",
   "metadata": {
    "ExecuteTime": {
     "end_time": "2022-09-27T06:40:57.635120Z",
     "start_time": "2022-09-27T06:40:56.728750Z"
    }
   },
   "outputs": [],
   "source": [
    "# 调用摄像头拍摄照片\n",
    "camera = cv2.VideoCapture(0)    # 调用摄像头\n",
    "success, img = camera.read()  # 从摄像头读取照片\n",
    "camera.release()  # 当一切都完成后，关闭摄像头并释放所占资源"
   ]
  },
  {
   "cell_type": "code",
   "execution_count": null,
   "id": "a445b82c",
   "metadata": {
    "ExecuteTime": {
     "end_time": "2022-09-27T06:40:58.125455Z",
     "start_time": "2022-09-27T06:40:57.918385Z"
    }
   },
   "outputs": [],
   "source": [
    "plt.imshow(img[:,:,::-1])\n",
    "plt.show()"
   ]
  },
  {
   "cell_type": "code",
   "execution_count": 27,
   "id": "9962fa44",
   "metadata": {
    "ExecuteTime": {
     "end_time": "2022-09-27T06:44:48.356146Z",
     "start_time": "2022-09-27T06:44:48.352138Z"
    }
   },
   "outputs": [],
   "source": [
    "# 将图像转化为灰度图\n",
    "gray_img = cv2.cvtColor(img, cv2.COLOR_BGR2GRAY)"
   ]
  },
  {
   "cell_type": "code",
   "execution_count": null,
   "id": "0f6db806",
   "metadata": {
    "ExecuteTime": {
     "end_time": "2022-09-27T06:44:49.045644Z",
     "start_time": "2022-09-27T06:44:48.900777Z"
    }
   },
   "outputs": [],
   "source": [
    "plt.imshow(gray_img, cmap='gray')\n",
    "plt.show()"
   ]
  },
  {
   "cell_type": "code",
   "execution_count": 29,
   "id": "708de9fe",
   "metadata": {
    "ExecuteTime": {
     "end_time": "2022-09-27T06:44:50.125032Z",
     "start_time": "2022-09-27T06:44:50.099923Z"
    }
   },
   "outputs": [],
   "source": [
    "# 调用函数detectMultiScale\n",
    "faces = faceCascade.detectMultiScale(gray_img)"
   ]
  },
  {
   "cell_type": "code",
   "execution_count": null,
   "id": "b7fa1b6e",
   "metadata": {
    "ExecuteTime": {
     "end_time": "2022-09-27T06:45:15.760411Z",
     "start_time": "2022-09-27T06:45:15.712293Z"
    }
   },
   "outputs": [],
   "source": [
    "for (x, y, w, h) in faces:\n",
    "    face = gray_img[y:y + h, x:x + w]\n",
    "face = cv2.resize(face, (64, 64))\n",
    "plt.imshow(face, cmap='gray')\n",
    "plt.axis('off')\n",
    "plt.show()"
   ]
  },
  {
   "cell_type": "code",
   "execution_count": 31,
   "id": "2969c301",
   "metadata": {
    "ExecuteTime": {
     "end_time": "2022-09-27T06:46:10.494015Z",
     "start_time": "2022-09-27T06:46:10.479941Z"
    }
   },
   "outputs": [
    {
     "data": {
      "text/plain": [
       "(1, 64, 64, 1)"
      ]
     },
     "execution_count": 31,
     "metadata": {},
     "output_type": "execute_result"
    }
   ],
   "source": [
    "face = np.expand_dims(face, 0)\n",
    "face = np.expand_dims(face, -1)\n",
    "face.shape"
   ]
  },
  {
   "cell_type": "code",
   "execution_count": 32,
   "id": "c04af127",
   "metadata": {
    "ExecuteTime": {
     "end_time": "2022-09-27T06:47:11.262570Z",
     "start_time": "2022-09-27T06:47:11.205558Z"
    }
   },
   "outputs": [],
   "source": [
    "index_pred = model.predict(face).argmax(axis=1)"
   ]
  },
  {
   "cell_type": "code",
   "execution_count": 33,
   "id": "f5a479ad",
   "metadata": {
    "ExecuteTime": {
     "end_time": "2022-09-27T06:47:58.405053Z",
     "start_time": "2022-09-27T06:47:58.400082Z"
    }
   },
   "outputs": [
    {
     "data": {
      "text/plain": [
       "'linjing'"
      ]
     },
     "execution_count": 33,
     "metadata": {},
     "output_type": "execute_result"
    }
   ],
   "source": [
    "# 利用姓名字典还原真实姓名\n",
    "names_dic[index_pred[0]]"
   ]
  },
  {
   "cell_type": "code",
   "execution_count": null,
   "id": "71f8d527-3872-4b8c-ad22-43f07ee794f7",
   "metadata": {},
   "outputs": [],
   "source": []
  }
 ],
 "metadata": {
  "kernelspec": {
   "display_name": "base",
   "language": "python",
   "name": "python3"
  },
  "language_info": {
   "codemirror_mode": {
    "name": "ipython",
    "version": 3
   },
   "file_extension": ".py",
   "mimetype": "text/x-python",
   "name": "python",
   "nbconvert_exporter": "python",
   "pygments_lexer": "ipython3",
   "version": "3.8.12"
  },
  "toc": {
   "base_numbering": 1,
   "nav_menu": {},
   "number_sections": true,
   "sideBar": true,
   "skip_h1_title": false,
   "title_cell": "Table of Contents",
   "title_sidebar": "Contents",
   "toc_cell": false,
   "toc_position": {
    "height": "calc(100% - 180px)",
    "left": "10px",
    "top": "150px",
    "width": "284.444px"
   },
   "toc_section_display": true,
   "toc_window_display": false
  },
  "varInspector": {
   "cols": {
    "lenName": 16,
    "lenType": 16,
    "lenVar": 40
   },
   "kernels_config": {
    "python": {
     "delete_cmd_postfix": "",
     "delete_cmd_prefix": "del ",
     "library": "var_list.py",
     "varRefreshCmd": "print(var_dic_list())"
    },
    "r": {
     "delete_cmd_postfix": ") ",
     "delete_cmd_prefix": "rm(",
     "library": "var_list.r",
     "varRefreshCmd": "cat(var_dic_list()) "
    }
   },
   "types_to_exclude": [
    "module",
    "function",
    "builtin_function_or_method",
    "instance",
    "_Feature"
   ],
   "window_display": false
  },
  "widgets": {
   "application/vnd.jupyter.widget-state+json": {
    "state": {},
    "version_major": 2,
    "version_minor": 0
   }
  }
 },
 "nbformat": 4,
 "nbformat_minor": 5
}
