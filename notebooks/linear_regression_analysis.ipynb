{
 "cells": [
  {
   "cell_type": "markdown",
   "id": "1e7e72a6-5881-42ad-9507-fa05a8f79172",
   "metadata": {},
   "source": [
    "# 机器学习经典回归算法"
   ]
  },
  {
   "cell_type": "code",
   "execution_count": 1,
   "id": "8277461e-8c3a-46ba-a45b-ed3722ac725c",
   "metadata": {},
   "outputs": [],
   "source": [
    "import numpy as np"
   ]
  },
  {
   "cell_type": "markdown",
   "id": "35d5bd88-3b86-4944-adc8-9852320c940f",
   "metadata": {},
   "source": [
    "## 1. 一元线性回归"
   ]
  },
  {
   "cell_type": "markdown",
   "id": "fd0c798f-d078-436d-8d58-08d2c34ade12",
   "metadata": {},
   "source": [
    "### 1.1 读取数据"
   ]
  },
  {
   "cell_type": "code",
   "execution_count": 2,
   "id": "0aa7b2d9-434b-4d5d-ba79-8e8c0d9aa67e",
   "metadata": {},
   "outputs": [],
   "source": [
    "data = np.loadtxt('../data/line_fit_data.csv', skiprows=1, delimiter=',') # skiprows: 表示丢弃的行数，delimiter: 分隔符"
   ]
  },
  {
   "cell_type": "code",
   "execution_count": 3,
   "id": "9b8b4c1c-b623-48d8-acb1-5931c45aa2ed",
   "metadata": {},
   "outputs": [],
   "source": [
    "X = data[:,0] # 特征数据集\n",
    "y = data[:,1] # 标签数据集"
   ]
  },
  {
   "cell_type": "markdown",
   "id": "30936448-fa34-4da9-bbe3-58a03fdb1c76",
   "metadata": {},
   "source": [
    "### 1.2 参数的初始化"
   ]
  },
  {
   "cell_type": "code",
   "execution_count": 4,
   "id": "e7afa5e0-3f01-4780-83e1-72b6c326fe2c",
   "metadata": {},
   "outputs": [
    {
     "data": {
      "text/plain": [
       "(0.417022004702574, 0.7203244934421581)"
      ]
     },
     "execution_count": 4,
     "metadata": {},
     "output_type": "execute_result"
    }
   ],
   "source": [
    "np.random.seed(1)\n",
    "w = np.random.random()\n",
    "b = np.random.random()\n",
    "w, b"
   ]
  },
  {
   "cell_type": "markdown",
   "id": "a9d6bd36-7d62-43a0-8766-362c068e9feb",
   "metadata": {},
   "source": [
    "### 1.3 模型的训练"
   ]
  },
  {
   "cell_type": "markdown",
   "id": "22eb7f14-65de-4796-936e-ad2b86d4f33f",
   "metadata": {},
   "source": [
    "#### 定义相关函数"
   ]
  },
  {
   "cell_type": "code",
   "execution_count": 5,
   "id": "d1528bc4-d05e-47bb-b816-db0d09f57ac5",
   "metadata": {},
   "outputs": [],
   "source": [
    "def line_model(x, w: float, b: float):\n",
    "    return w*x + b"
   ]
  },
  {
   "cell_type": "code",
   "execution_count": 6,
   "id": "4d1eb67e-85a6-4159-ae6c-953bb3947307",
   "metadata": {},
   "outputs": [],
   "source": [
    "def loss(y_true, y_pred):\n",
    "    return 1/2 * (y_true - y_pred)**2"
   ]
  },
  {
   "cell_type": "markdown",
   "id": "de508518-fcf1-4cb1-afc9-2482f294fc97",
   "metadata": {},
   "source": [
    "#### 获取数据"
   ]
  },
  {
   "cell_type": "code",
   "execution_count": 7,
   "id": "b72b319f-f66f-4288-95c3-6924a83079bc",
   "metadata": {},
   "outputs": [
    {
     "name": "stdout",
     "output_type": "stream",
     "text": [
      "0.8521031222662713 6.1302578056656785\n"
     ]
    }
   ],
   "source": [
    "print(X[0], y[0])"
   ]
  },
  {
   "cell_type": "markdown",
   "id": "90cdc1c5-9973-44a1-8633-a745eeb45eb3",
   "metadata": {},
   "source": [
    "#### 前向计算（forward）"
   ]
  },
  {
   "cell_type": "code",
   "execution_count": 8,
   "id": "227d760c-ef1f-4bf6-9143-9965b87a25c4",
   "metadata": {},
   "outputs": [
    {
     "data": {
      "text/plain": [
       "1.075670245702961"
      ]
     },
     "execution_count": 8,
     "metadata": {},
     "output_type": "execute_result"
    }
   ],
   "source": [
    "y_hat = line_model(X[0], w, b)\n",
    "y_hat"
   ]
  },
  {
   "cell_type": "code",
   "execution_count": 9,
   "id": "a822aed7-07b5-4ea2-b257-0ff4119c4b89",
   "metadata": {},
   "outputs": [
    {
     "data": {
      "text/plain": [
       "12.77442770066493"
      ]
     },
     "execution_count": 9,
     "metadata": {},
     "output_type": "execute_result"
    }
   ],
   "source": [
    "error = loss(y[0], y_hat)\n",
    "error"
   ]
  },
  {
   "cell_type": "markdown",
   "id": "270041e6-a850-4ebb-90d8-36d2d9ee1be8",
   "metadata": {},
   "source": [
    "#### 反向传播更新参数"
   ]
  },
  {
   "cell_type": "code",
   "execution_count": 10,
   "id": "f3ddd0f2-90aa-4c22-a8cf-803d163f5808",
   "metadata": {},
   "outputs": [],
   "source": [
    "partial_w = (y_hat - y[0]) * X[0]\n",
    "partial_b = y_hat - y[0] # 计算偏导"
   ]
  },
  {
   "cell_type": "code",
   "execution_count": 11,
   "id": "6a5fbdf6-5c78-4502-a079-f1605fa6ac11",
   "metadata": {},
   "outputs": [],
   "source": [
    "yita = 0.5 # 学习率"
   ]
  },
  {
   "cell_type": "code",
   "execution_count": 12,
   "id": "4ded582c-d78d-4c06-8bdf-a8e30c9cede1",
   "metadata": {},
   "outputs": [],
   "source": [
    "w -= partial_w * yita\n",
    "b -= partial_b * yita"
   ]
  },
  {
   "cell_type": "markdown",
   "id": "ed718835-9b31-41ab-b41f-45e91e60780a",
   "metadata": {},
   "source": [
    "#### 循环训练"
   ]
  },
  {
   "cell_type": "code",
   "execution_count": 13,
   "id": "38e2ae64-bc40-43a3-b8ac-a58ac86d9af0",
   "metadata": {},
   "outputs": [],
   "source": [
    "epochs = 10 # 最大迭代次数"
   ]
  },
  {
   "cell_type": "code",
   "execution_count": 14,
   "id": "03723be0-8a6c-4ac9-a3d6-e799fd6ebbdd",
   "metadata": {},
   "outputs": [
    {
     "name": "stdout",
     "output_type": "stream",
     "text": [
      "epoch: 1, loss: 0.004580263268113035\n",
      "epoch: 2, loss: 5.988607873431943e-06\n",
      "epoch: 3, loss: 1.3086605148585115e-08\n",
      "epoch: 4, loss: 2.8597503448364126e-11\n",
      "epoch: 5, loss: 6.249269339048424e-14\n",
      "epoch: 6, loss: 1.3656215620293503e-16\n",
      "epoch: 7, loss: 2.984223926099678e-19\n",
      "epoch: 8, loss: 6.521226621642955e-22\n",
      "epoch: 9, loss: 1.4250301105641934e-24\n",
      "epoch: 10, loss: 3.1131803978868317e-27\n"
     ]
    }
   ],
   "source": [
    "for epoch in range(epochs):\n",
    "    error = []\n",
    "    for line in range(len(X)):\n",
    "        # 前向传播\n",
    "        y_hat = line_model(X[line], w, b)\n",
    "        l = loss(y[line], y_hat)\n",
    "        error.append(l)\n",
    "        # 反向传播\n",
    "        partial_w = (y_hat - y[line]) * X[line]\n",
    "        partial_b = (y_hat - y[line])\n",
    "        w = w - partial_w * yita\n",
    "        b = b - partial_b * yita\n",
    "    print(f\"epoch: {epoch+1}, loss: {np.mean(error)}\")"
   ]
  },
  {
   "cell_type": "code",
   "execution_count": 15,
   "id": "e83434f6-d404-4d49-8635-9b917d00b419",
   "metadata": {},
   "outputs": [
    {
     "data": {
      "text/plain": [
       "(2.5000000000000298, 3.9999999999999933)"
      ]
     },
     "execution_count": 15,
     "metadata": {},
     "output_type": "execute_result"
    }
   ],
   "source": [
    "w, b"
   ]
  },
  {
   "cell_type": "markdown",
   "id": "4ea6b914-fdcf-4edc-9858-5b189f428a32",
   "metadata": {},
   "source": [
    "### 1.4 绘制图形"
   ]
  },
  {
   "cell_type": "code",
   "execution_count": 16,
   "id": "d82ead03-03af-4995-a770-aca5b135ba17",
   "metadata": {},
   "outputs": [
    {
     "data": {
      "image/png": "[encoded data removed]",
      "text/plain": [
       "<Figure size 432x288 with 1 Axes>"
      ]
     },
     "metadata": {
      "needs_background": "light"
     },
     "output_type": "display_data"
    }
   ],
   "source": [
    "import matplotlib.pyplot as plt\n",
    "plt.scatter(X, y)\n",
    "plt.plot(X, line_model(X, w, b), c='r')\n",
    "plt.show()"
   ]
  },
  {
   "cell_type": "markdown",
   "id": "9abb98b5-4a9f-491a-b175-287251272dc2",
   "metadata": {},
   "source": [
    "## 2. 小批量随机梯度下降法"
   ]
  },
  {
   "cell_type": "code",
   "execution_count": 17,
   "id": "06f41548-9340-4a47-8012-bb85094eb44f",
   "metadata": {},
   "outputs": [],
   "source": [
    "'''\n",
    "The General Classifier Based on Mini-Batch Stochastic Gradient Descent for Supervised Learning.\n",
    "'''\n",
    "\n",
    "import numpy as np\n",
    "import random\n",
    "\n",
    "'''\n",
    "Data Restraint: numpy.ndarray.\n",
    "Test Data Scale: 2683*6603.\n",
    "Test Time Evaluation: Great! \n",
    "Design Style: Scikit-Learn, PyTorch.\n",
    "Train Mode: Min-Batch.\n",
    "'''\n",
    "\n",
    "class Classifier:\n",
    "    def __init__(self, epochs: int=200, batch_size: int=16, lr: float=0.1):\n",
    "        '''\n",
    "        :param epochs: max iteration, default: int=200.\n",
    "        :param batch_size: batch size, default: int=16.\n",
    "        :param lr: learning rate, default: float=0.1.\n",
    "\n",
    "        '''\n",
    "        self.epochs = epochs\n",
    "        self.lr = lr\n",
    "        self.batch_size = batch_size\n",
    "    \n",
    "    def __data_matrix(self, X):\n",
    "        '''\n",
    "        :param X: data converted to augmented, numpy.ndarray.\n",
    "\n",
    "        '''\n",
    "        ones = np.ones(X.shape[0])\n",
    "        return np.insert(X, 0, ones, axis=1)\n",
    "    \n",
    "    def __softmax(self, part):\n",
    "        '''\n",
    "        :param part: part of features, numpy.ndarray.\n",
    "\n",
    "        '''\n",
    "        part -= np.max(part, axis=1).reshape(-1, 1)\n",
    "        return np.exp(part) / np.sum(np.exp(part))\n",
    "\n",
    "    def __data_iter(self, X, y):\n",
    "        '''\n",
    "        :param X: features, numpy.ndarray.\n",
    "        :param y: labels, numpy.ndarray.\n",
    "\n",
    "        '''\n",
    "        num_examples = len(X)\n",
    "        indices = list(range(num_examples))\n",
    "        random.shuffle(indices)\n",
    "        for index in range(0, num_examples, self.batch_size):\n",
    "            batch_indices = np.array(indices[index: min(index + self.batch_size, num_examples)])\n",
    "            yield X[batch_indices], y[batch_indices]\n",
    "    \n",
    "    def fit(self, X, y, console: int=100, decay: int=20) -> None:\n",
    "        '''\n",
    "        :param X: train data, numpy.ndarray.\n",
    "        :param y: correct labels, numpy.ndarray.\n",
    "        :parm console: console output interval, default: int=100.\n",
    "        :parm decay: learning rate deacy change interval, default: int=20.\n",
    "\n",
    "        '''\n",
    "        assert len(X.shape) == 2, 'please ensure data like: (2, 2) shape'\n",
    "        assert len(y.shape) == 1, 'please ensure data like: (2,) shape'\n",
    "        augmented, unique = self.__data_matrix(X), np.unique(y)\n",
    "        self.num_classes = len(unique)\n",
    "        indices = dict(zip(unique, range(self.num_classes)))\n",
    "        self.weights = np.zeros((augmented.shape[1], self.num_classes), dtype=np.float64)\n",
    "        for epoch in range(self.epochs):\n",
    "            for step, (features, labels) in enumerate(self.__data_iter(augmented, y)):\n",
    "                res = self.__softmax(features @ self.weights)\n",
    "                obj = np.eye(self.num_classes)[[indices[value] for value in labels]]\n",
    "                err = res - obj\n",
    "                self.weights -= self.lr * (features.T @ err) / self.batch_size\n",
    "                if (step + 1) % console == 0:\n",
    "                    print ('Epoch [{}/{}], Step [{}/{}], Loss {:.4f}'.format(epoch+1, self.epochs, step+1, len(X) // self.batch_size, np.linalg.norm(err)))\n",
    "            # learning rate decay\n",
    "            if (epoch + 1) % decay == 0:\n",
    "                self.lr /= 3 # replace it with another schedule.\n",
    "                \n",
    "    def score(self, X, y) -> float:\n",
    "        '''\n",
    "        :param X: test data, numpy.ndarray.\n",
    "        :param y: correct labels, numpy.ndarray.\n",
    "\n",
    "        '''\n",
    "        assert len(X.shape) == 2, 'please ensure data like: (2, 2) shape'\n",
    "        assert len(y.shape) == 1, 'please ensure data like: (2,) shape'\n",
    "        X = self.__data_matrix(X)\n",
    "        corr, prob = 0, X @ self.weights\n",
    "        predicted = np.argmax(prob, axis=1)\n",
    "        corr += (predicted == y).sum()\n",
    "        return corr / len(X)\n",
    "    \n",
    "    def predict(self, X):\n",
    "        '''\n",
    "        :param X: predict data, numpy.ndarray.\n",
    "\n",
    "        '''\n",
    "        assert len(X.shape) == 2, 'please ensure data like: (2, 2) shape'\n",
    "        X = self.__data_matrix(X)\n",
    "        prob = X @ self.weights\n",
    "        return np.argmax(prob, axis=1)"
   ]
  },
  {
   "cell_type": "code",
   "execution_count": 18,
   "id": "eb265f28-1d97-46ce-bbe1-bd1d80f70acf",
   "metadata": {},
   "outputs": [],
   "source": [
    "# import packages and model\n",
    "import scipy.io as sio"
   ]
  },
  {
   "cell_type": "code",
   "execution_count": 19,
   "id": "2a369a4b-c0a5-449d-8f19-44eef948b884",
   "metadata": {},
   "outputs": [],
   "source": [
    "# load data\n",
    "def process_data(url: str) -> tuple:\n",
    "    data = sio.loadmat(url)\n",
    "    return data['X'], data['class']"
   ]
  },
  {
   "cell_type": "code",
   "execution_count": 20,
   "id": "42d3d651-e19c-42a2-8a74-670a5f02348f",
   "metadata": {},
   "outputs": [],
   "source": [
    "# get features and labels\n",
    "features, labels = process_data('../textretrieval.mat')"
   ]
  },
  {
   "cell_type": "code",
   "execution_count": 21,
   "id": "fb5c4ca0-2cf2-4980-aaf3-b7f8822ecedf",
   "metadata": {},
   "outputs": [],
   "source": [
    "# split data\n",
    "def pretreat(features, labels) -> tuple:\n",
    "    labels = np.argwhere(labels == 1)[:, 1]\n",
    "    return features[:2000, :], features[2000:, :], labels[:2000], labels[2000:]"
   ]
  },
  {
   "cell_type": "code",
   "execution_count": 22,
   "id": "738b08ed-52dd-4b54-91df-4e3a8888cca7",
   "metadata": {},
   "outputs": [],
   "source": [
    "# get splited data\n",
    "X_train, X_test, y_train, y_test = pretreat(features, labels)"
   ]
  },
  {
   "cell_type": "code",
   "execution_count": 23,
   "id": "8011d556-6754-4b59-98ba-c8844045aef9",
   "metadata": {},
   "outputs": [],
   "source": [
    "# train model\n",
    "# model = Classifier(epochs=200, batch_size=1, lr=0.1)\n",
    "# model.fit(X_train, y_train)"
   ]
  },
  {
   "cell_type": "code",
   "execution_count": 24,
   "id": "e47df361-9bc9-46ab-87a1-1f507f64a511",
   "metadata": {},
   "outputs": [],
   "source": [
    "# evaluate model\n",
    "# model.score(X_test, y_test)"
   ]
  },
  {
   "cell_type": "code",
   "execution_count": 25,
   "id": "39fa72ec-7e0c-419c-82c3-6b12ecd3243b",
   "metadata": {},
   "outputs": [],
   "source": [
    "# predict result\n",
    "# print((y_test == model.predict(X_test)).sum() / len(X_test))"
   ]
  }
 ],
 "metadata": {
  "kernelspec": {
   "display_name": "base",
   "language": "python",
   "name": "python3"
  },
  "language_info": {
   "codemirror_mode": {
    "name": "ipython",
    "version": 3
   },
   "file_extension": ".py",
   "mimetype": "text/x-python",
   "name": "python",
   "nbconvert_exporter": "python",
   "pygments_lexer": "ipython3",
   "version": "3.8.12"
  },
  "vscode": {
   "interpreter": {
    "hash": "5179d32cf6ec497baf3f8a3ef987cc77c5d2dc691fdde20a56316522f61a7323"
   }
  },
  "widgets": {
   "application/vnd.jupyter.widget-state+json": {
    "state": {},
    "version_major": 2,
    "version_minor": 0
   }
  }
 },
 "nbformat": 4,
 "nbformat_minor": 5
}
