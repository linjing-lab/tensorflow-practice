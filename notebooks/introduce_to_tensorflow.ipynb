{
 "cells": [
  {
   "cell_type": "markdown",
   "id": "7602ea67-1d62-46c2-9ccd-8562cdc6cf53",
   "metadata": {},
   "source": [
    "# 介绍Tensorflow"
   ]
  },
  {
   "cell_type": "code",
   "execution_count": 1,
   "id": "f7bde7e7-e2c7-47f8-b536-c5edbea539ac",
   "metadata": {},
   "outputs": [],
   "source": [
    "import tensorflow as tf"
   ]
  },
  {
   "cell_type": "code",
   "execution_count": 2,
   "id": "bdd3b576-f7e9-48e8-a83f-ecd32231d104",
   "metadata": {},
   "outputs": [
    {
     "data": {
      "text/plain": [
       "'2.3.0'"
      ]
     },
     "execution_count": 2,
     "metadata": {},
     "output_type": "execute_result"
    }
   ],
   "source": [
    "tf.__version__"
   ]
  },
  {
   "cell_type": "markdown",
   "id": "e10ce397-d6e2-41e9-8caa-ababe56d876b",
   "metadata": {},
   "source": [
    "## 1. 低阶API"
   ]
  },
  {
   "cell_type": "markdown",
   "id": "640947d4-39b0-441f-8e70-b4f7048bf08e",
   "metadata": {},
   "source": [
    "### 1.1 张量的创建\n",
    "#### 创建常量"
   ]
  },
  {
   "cell_type": "code",
   "execution_count": 3,
   "id": "fecef7b0-9b76-4202-a133-4a598343e574",
   "metadata": {},
   "outputs": [],
   "source": [
    "tf1 = tf.constant(1.0) # 创建标量"
   ]
  },
  {
   "cell_type": "code",
   "execution_count": 4,
   "id": "60d82d0e-c402-4c41-9af8-51791d2bbd35",
   "metadata": {},
   "outputs": [
    {
     "name": "stdout",
     "output_type": "stream",
     "text": [
      "tf.Tensor(1.0, shape=(), dtype=float32)\n"
     ]
    }
   ],
   "source": [
    "print(tf1) # 打印张量的数值、尺寸、数据类型"
   ]
  },
  {
   "cell_type": "code",
   "execution_count": 5,
   "id": "261bc922-fbff-4238-8435-651a6cde01d0",
   "metadata": {},
   "outputs": [
    {
     "name": "stdout",
     "output_type": "stream",
     "text": [
      "1\n"
     ]
    }
   ],
   "source": [
    "tf.print(tf1) # 只将张量的数值打印出来"
   ]
  },
  {
   "cell_type": "code",
   "execution_count": 6,
   "id": "8bdd1c19-c7d9-4a2f-a9ae-121b94db9220",
   "metadata": {},
   "outputs": [
    {
     "name": "stdout",
     "output_type": "stream",
     "text": [
      "[1 2 3]\n"
     ]
    }
   ],
   "source": [
    "tf2 = tf.constant([1, 2, 3]) # 创建一维向量\n",
    "tf.print(tf2)"
   ]
  },
  {
   "cell_type": "code",
   "execution_count": 7,
   "id": "dc4715fa-a28b-4069-b66d-390a2e1ef406",
   "metadata": {},
   "outputs": [
    {
     "name": "stdout",
     "output_type": "stream",
     "text": [
      "[[1 2 3 4]\n",
      " [5 6 7 8]\n",
      " [9 10 11 12]]\n"
     ]
    }
   ],
   "source": [
    "tf3 = tf.constant([[1, 2, 3, 4], [5, 6, 7, 8], [9, 10, 11, 12]], dtype=tf.float64) # 创建二维张量\n",
    "tf.print(tf3)"
   ]
  },
  {
   "cell_type": "markdown",
   "id": "f241db34-ae27-45d3-914b-617f5188c5c4",
   "metadata": {},
   "source": [
    "#### 创建变量"
   ]
  },
  {
   "cell_type": "code",
   "execution_count": 8,
   "id": "81bbb658-1429-4da7-aabf-355093361b29",
   "metadata": {},
   "outputs": [
    {
     "name": "stdout",
     "output_type": "stream",
     "text": [
      "[[11 12 13 14]\n",
      " [21 22 23 24]\n",
      " [31 32 33 34]]\n"
     ]
    }
   ],
   "source": [
    "tv1 = tf.Variable([[11, 12, 13, 14], [21, 22, 23, 24], [31, 32, 33, 34]])\n",
    "tf.print(tv1)"
   ]
  },
  {
   "cell_type": "code",
   "execution_count": 9,
   "id": "e8bc1be0-a4ee-490a-af4f-db983213fec6",
   "metadata": {},
   "outputs": [
    {
     "name": "stdout",
     "output_type": "stream",
     "text": [
      "before update:\n",
      " [[11 12 13 14]\n",
      " [21 22 23 24]\n",
      " [31 32 33 34]]\n",
      "after update:\n",
      " [[ 11  12  13  14]\n",
      " [ 21  22  23  24]\n",
      " [ 31  32 333  34]]\n"
     ]
    }
   ],
   "source": [
    "# 数组修改值\n",
    "import numpy as np\n",
    "array1 = np.array([[11, 12, 13, 14], [21, 22, 23, 24], [31, 32, 33, 34]])\n",
    "print('before update:\\n', array1)\n",
    "array1[2, 2] = 333\n",
    "print('after update:\\n', array1)"
   ]
  },
  {
   "cell_type": "code",
   "execution_count": 10,
   "id": "c1dbf1c4-851b-4a68-8de6-a33c46e3e168",
   "metadata": {},
   "outputs": [
    {
     "data": {
      "text/plain": [
       "\"\\n# 修改张量的值\\nprint('before update:')\\ntf.print(tv1)\\ntv1[2, 2] = 333\\nprint('after update:')\\ntf.print(tv1)\\n\""
      ]
     },
     "execution_count": 10,
     "metadata": {},
     "output_type": "execute_result"
    }
   ],
   "source": [
    "'''\n",
    "# 修改张量的值\n",
    "print('before update:')\n",
    "tf.print(tv1)\n",
    "tv1[2, 2] = 333\n",
    "print('after update:')\n",
    "tf.print(tv1)\n",
    "'''"
   ]
  },
  {
   "cell_type": "code",
   "execution_count": 11,
   "id": "ceb1b005-6a9c-4380-84f3-386b463a14a9",
   "metadata": {},
   "outputs": [
    {
     "name": "stdout",
     "output_type": "stream",
     "text": [
      "before update:\n",
      "[[11 12 13 14]\n",
      " [21 22 23 24]\n",
      " [31 32 33 34]]\n",
      "after update:\n",
      "[[11 12 13 14]\n",
      " [21 22 23 24]\n",
      " [31 32 333 34]]\n"
     ]
    }
   ],
   "source": [
    "# 修改张量的值\n",
    "print('before update:')\n",
    "tf.print(tv1)\n",
    "tv1[2, 2].assign(333) # 使用.assign修改指定索引位置上的元素\n",
    "print('after update:')\n",
    "tf.print(tv1)"
   ]
  },
  {
   "cell_type": "code",
   "execution_count": 12,
   "id": "300fadc3-b48d-45ae-a158-59293a500598",
   "metadata": {},
   "outputs": [
    {
     "name": "stdout",
     "output_type": "stream",
     "text": [
      "before update:\n",
      "[[11 12 13 14]\n",
      " [21 22 23 24]\n",
      " [31 32 333 34]]\n",
      "after update:\n",
      "[[22 24 26 28]\n",
      " [42 44 46 48]\n",
      " [62 64 666 68]]\n"
     ]
    }
   ],
   "source": [
    "# 自加运算\n",
    "print('before update:')\n",
    "tf.print(tv1)\n",
    "tv1.assign_add(tv1)\n",
    "print('after update:')\n",
    "tf.print(tv1)"
   ]
  },
  {
   "cell_type": "code",
   "execution_count": 13,
   "id": "46a15344-8838-40ba-943f-c862fa86a28b",
   "metadata": {},
   "outputs": [
    {
     "name": "stdout",
     "output_type": "stream",
     "text": [
      "before update:\n",
      "[[22 24 26 28]\n",
      " [42 44 46 48]\n",
      " [62 64 666 68]]\n",
      "after update:\n",
      "[[0 0 0 0]\n",
      " [0 0 0 0]\n",
      " [0 0 0 0]]\n"
     ]
    }
   ],
   "source": [
    "# 自加运算\n",
    "print('before update:')\n",
    "tf.print(tv1)\n",
    "tv1.assign_sub(tv1)\n",
    "print('after update:')\n",
    "tf.print(tv1)"
   ]
  },
  {
   "cell_type": "markdown",
   "id": "9e5006f9-c1e9-40d0-a170-242e01a2d954",
   "metadata": {},
   "source": [
    "#### 创建全零张量"
   ]
  },
  {
   "cell_type": "code",
   "execution_count": 14,
   "id": "e3fde585-3f40-4539-bfc1-fa4295b76469",
   "metadata": {},
   "outputs": [
    {
     "name": "stdout",
     "output_type": "stream",
     "text": [
      "[[0 0 0]\n",
      " [0 0 0]\n",
      " [0 0 0]]\n"
     ]
    }
   ],
   "source": [
    "tz1 = tf.zeros([3, 3])\n",
    "tf.print(tz1)"
   ]
  },
  {
   "cell_type": "code",
   "execution_count": 15,
   "id": "cd2803f6-a170-486f-8cb7-a0171e1b0b84",
   "metadata": {},
   "outputs": [
    {
     "name": "stdout",
     "output_type": "stream",
     "text": [
      "[[0 0 0 0]\n",
      " [0 0 0 0]\n",
      " [0 0 0 0]]\n"
     ]
    }
   ],
   "source": [
    "tf.print(tf.zeros_like(tv1))"
   ]
  },
  {
   "cell_type": "markdown",
   "id": "7b725ebd-433f-4895-9f55-4ffe08814e14",
   "metadata": {},
   "source": [
    "#### 创建全1张量"
   ]
  },
  {
   "cell_type": "code",
   "execution_count": 16,
   "id": "d43ec6c1-55b1-47b7-b17d-ff1aabcc5af5",
   "metadata": {},
   "outputs": [
    {
     "name": "stdout",
     "output_type": "stream",
     "text": [
      "[[1 1 1]\n",
      " [1 1 1]\n",
      " [1 1 1]]\n"
     ]
    }
   ],
   "source": [
    "to1 = tf.ones([3, 3])\n",
    "tf.print(to1)"
   ]
  },
  {
   "cell_type": "code",
   "execution_count": 17,
   "id": "9a4a9e42-1ed9-4f61-bd69-6647baf7e3f3",
   "metadata": {},
   "outputs": [
    {
     "name": "stdout",
     "output_type": "stream",
     "text": [
      "[[1 1 1 1]\n",
      " [1 1 1 1]\n",
      " [1 1 1 1]]\n"
     ]
    }
   ],
   "source": [
    "tf.print(tf.ones_like(tv1))"
   ]
  },
  {
   "cell_type": "markdown",
   "id": "8f6eaee0-51ef-47bb-9cc4-22180fbb4b29",
   "metadata": {},
   "source": [
    "#### 创建均匀分布的随机张量"
   ]
  },
  {
   "cell_type": "code",
   "execution_count": 18,
   "id": "11609f2c-29fd-45e7-b578-c864e0358431",
   "metadata": {},
   "outputs": [
    {
     "name": "stdout",
     "output_type": "stream",
     "text": [
      "[[9 6 7]\n",
      " [9 9 6]\n",
      " [5 7 5]]\n"
     ]
    }
   ],
   "source": [
    "tu1 = tf.random.uniform((3, 3), minval=5, maxval=10, dtype=tf.int64)\n",
    "tf.print(tu1)"
   ]
  },
  {
   "cell_type": "code",
   "execution_count": 19,
   "id": "1a0634fa-2f57-463e-9833-397dd636296f",
   "metadata": {},
   "outputs": [
    {
     "name": "stdout",
     "output_type": "stream",
     "text": [
      "[[-0.898083687 -1.82591438 -0.444418073]\n",
      " [-1.48829472 -0.785546303 0.196196556]\n",
      " [0.17604655 -1.52525055 0.635294]]\n"
     ]
    }
   ],
   "source": [
    "tf.random.set_seed(123) # 设置随机种子数\n",
    "tf.print(tf.random.normal(shape=(3, 3)))"
   ]
  },
  {
   "cell_type": "markdown",
   "id": "9056d452-93ee-4ab9-92a1-af2ac33a87e6",
   "metadata": {},
   "source": [
    "#### 创建连续张量"
   ]
  },
  {
   "cell_type": "code",
   "execution_count": 20,
   "id": "40d86c05-c8fa-40d9-bb8b-f3e3c1fb6f70",
   "metadata": {},
   "outputs": [
    {
     "name": "stdout",
     "output_type": "stream",
     "text": [
      "[0 2 4 6 8]\n"
     ]
    }
   ],
   "source": [
    "tf.print(tf.range(start=0, limit=10, delta=2)) # start: 起点, limit: 终点, delta: 步长"
   ]
  },
  {
   "cell_type": "code",
   "execution_count": 21,
   "id": "044d6dc8-3665-4d50-9aba-000c11aa4f20",
   "metadata": {},
   "outputs": [
    {
     "data": {
      "text/plain": [
       "<tf.Tensor: shape=(11,), dtype=float64, numpy=array([ 0.,  1.,  2.,  3.,  4.,  5.,  6.,  7.,  8.,  9., 10.])>"
      ]
     },
     "execution_count": 21,
     "metadata": {},
     "output_type": "execute_result"
    }
   ],
   "source": [
    "tf.linspace(0, 10, 11)"
   ]
  },
  {
   "cell_type": "markdown",
   "id": "118d7977-a598-4ce4-85a4-592b6f5059b9",
   "metadata": {},
   "source": [
    "### 1.2 张量的索引"
   ]
  },
  {
   "cell_type": "code",
   "execution_count": 22,
   "id": "a591a5c7-834f-41ad-909d-dfa27dd39e75",
   "metadata": {},
   "outputs": [
    {
     "name": "stdout",
     "output_type": "stream",
     "text": [
      "[[95 51 41 12 23]\n",
      " [27 53 83 46 93]\n",
      " [20 21 52 19 22]\n",
      " [96 33 84 44 43]\n",
      " [62 75 23 31 88]]\n"
     ]
    }
   ],
   "source": [
    "tf.random.set_seed(1234)\n",
    "tu2 = tf.random.uniform((5, 5), minval=5, maxval=100, dtype=tf.int64)\n",
    "tf.print(tu2)"
   ]
  },
  {
   "cell_type": "markdown",
   "id": "62bbeab6-230a-465e-aab8-05ca7f248018",
   "metadata": {},
   "source": [
    "#### 索引"
   ]
  },
  {
   "cell_type": "code",
   "execution_count": 23,
   "id": "d95f0ec5-eade-46e1-a5c3-6e14290da127",
   "metadata": {},
   "outputs": [
    {
     "name": "stdout",
     "output_type": "stream",
     "text": [
      "44\n"
     ]
    }
   ],
   "source": [
    "tf.print(tu2[3, 3]) # 指定位置的索引"
   ]
  },
  {
   "cell_type": "code",
   "execution_count": 24,
   "id": "d10ea167-5f0c-446c-abca-c448dab2baf0",
   "metadata": {},
   "outputs": [
    {
     "name": "stdout",
     "output_type": "stream",
     "text": [
      "[44 88]\n"
     ]
    }
   ],
   "source": [
    "index = [[3, 3], [4, 4]]\n",
    "tf.print(tf.gather_nd(tu2, index))"
   ]
  },
  {
   "cell_type": "markdown",
   "id": "cb7319f1-75e1-4b5c-8c20-7a71ad3fc577",
   "metadata": {},
   "source": [
    "#### 切片"
   ]
  },
  {
   "cell_type": "code",
   "execution_count": 25,
   "id": "4b3aeaa1-604c-42a6-b126-9a6fa2754092",
   "metadata": {},
   "outputs": [
    {
     "name": "stdout",
     "output_type": "stream",
     "text": [
      "[[52 19 22]\n",
      " [84 44 43]]\n"
     ]
    }
   ],
   "source": [
    "tf.print(tu2[2:4, 2:])"
   ]
  },
  {
   "cell_type": "code",
   "execution_count": 26,
   "id": "a581c386-10cb-439b-8386-679f07282e3e",
   "metadata": {},
   "outputs": [
    {
     "name": "stdout",
     "output_type": "stream",
     "text": [
      "[[95 51 41 12 23]\n",
      " [27 53 83 46 93]\n",
      " [20 21 52 19 22]\n",
      " [96 33 84 44 43]\n",
      " [62 75 23 31 88]]\n"
     ]
    }
   ],
   "source": [
    "tf.print(tu2)"
   ]
  },
  {
   "cell_type": "code",
   "execution_count": 27,
   "id": "8b58738a-1059-44be-85fe-17175081f775",
   "metadata": {},
   "outputs": [
    {
     "name": "stdout",
     "output_type": "stream",
     "text": [
      "[[52 19 22]\n",
      " [84 44 43]]\n"
     ]
    }
   ],
   "source": [
    "tf.print(tf.slice(input_=tu2, begin=[2, 2], size=[2, 3])) # input_: 待切片的张量, begin: [开始的行索引, 开始的列索引], size: [取出的行数, 取出的列数]"
   ]
  },
  {
   "cell_type": "markdown",
   "id": "f34c7a7e-2153-406c-9a8e-34e1ef99c829",
   "metadata": {},
   "source": [
    "#### 取出指定的行和指定的列"
   ]
  },
  {
   "cell_type": "code",
   "execution_count": 28,
   "id": "e84a7b63-17ca-4a40-ab9d-dbff0b081b78",
   "metadata": {},
   "outputs": [
    {
     "name": "stdout",
     "output_type": "stream",
     "text": [
      "[41 83 52 84 23]\n"
     ]
    }
   ],
   "source": [
    "tf.print(tu2[:,2])"
   ]
  },
  {
   "cell_type": "code",
   "execution_count": 29,
   "id": "48198b25-7055-47d5-8252-7ee77b1ca8f1",
   "metadata": {},
   "outputs": [
    {
     "name": "stdout",
     "output_type": "stream",
     "text": [
      "[[41 23 51]\n",
      " [83 93 53]\n",
      " [52 22 21]\n",
      " [84 43 33]\n",
      " [23 88 75]]\n"
     ]
    }
   ],
   "source": [
    "tf.print(tf.gather(tu2, [2, 4, 1], axis=1))"
   ]
  },
  {
   "cell_type": "markdown",
   "id": "4dc21c0b-edd6-4605-b20d-5956bd10c905",
   "metadata": {},
   "source": [
    "### 1.3 维度变换"
   ]
  },
  {
   "cell_type": "code",
   "execution_count": 30,
   "id": "9d8cf8df-b57f-498a-9c03-a9b6ff956af2",
   "metadata": {},
   "outputs": [],
   "source": [
    "tu3 = tf.random.uniform((1, 3, 4), minval=5, maxval=10, dtype=tf.int64)"
   ]
  },
  {
   "cell_type": "code",
   "execution_count": 31,
   "id": "f60a22fc-a593-4e34-8487-b7b1d170baad",
   "metadata": {},
   "outputs": [
    {
     "name": "stdout",
     "output_type": "stream",
     "text": [
      "[[5 6 5]\n",
      " [6 9 8]\n",
      " [8 5 8]\n",
      " [8 6 7]]\n"
     ]
    }
   ],
   "source": [
    "tu4 = tf.reshape(tu3, shape=(4, 3)) # 修改尺寸，须保证数据的大小不变\n",
    "tf.print(tu4)"
   ]
  },
  {
   "cell_type": "code",
   "execution_count": 32,
   "id": "7c52a1f0-3595-401f-979f-05b47e3f9760",
   "metadata": {},
   "outputs": [
    {
     "name": "stdout",
     "output_type": "stream",
     "text": [
      "TensorShape([3, 4])\n"
     ]
    }
   ],
   "source": [
    "tf.print(tf.squeeze(tu3).shape) # tf.squeeze() 删除尺寸为1的位置"
   ]
  },
  {
   "cell_type": "code",
   "execution_count": 33,
   "id": "4a25db5b-557f-4e7d-b922-fd052b1f3ef6",
   "metadata": {},
   "outputs": [
    {
     "name": "stdout",
     "output_type": "stream",
     "text": [
      "TensorShape([1, 3, 4, 1])\n"
     ]
    }
   ],
   "source": [
    "tf.print(tf.expand_dims(tu3, -1).shape) # tf.expand_dims() 增加尺寸为1的位置"
   ]
  },
  {
   "cell_type": "code",
   "execution_count": 34,
   "id": "045225ed-e838-4460-94bf-7e32b44f7846",
   "metadata": {},
   "outputs": [
    {
     "name": "stdout",
     "output_type": "stream",
     "text": [
      "[[5 6 8 8]\n",
      " [6 9 5 6]\n",
      " [5 8 8 7]]\n"
     ]
    }
   ],
   "source": [
    "tf.print(tf.transpose(tu4)) # 张量的转置"
   ]
  },
  {
   "cell_type": "markdown",
   "id": "73d07b84-ebb5-4851-b4b0-ea8c7216fcb8",
   "metadata": {},
   "source": [
    "### 1.4 张量的合并和分割"
   ]
  },
  {
   "cell_type": "code",
   "execution_count": 35,
   "id": "225cc4f4-5d06-4e1c-a4a6-3ce325a04e77",
   "metadata": {},
   "outputs": [],
   "source": [
    "tf.random.set_seed(1234)\n",
    "tf1 = tf.random.uniform((4, 4), minval=5, maxval=100, dtype=tf.int64)\n",
    "tf2 = tf.random.uniform((4, 4), minval=5, maxval=100, dtype=tf.int64)"
   ]
  },
  {
   "cell_type": "code",
   "execution_count": 36,
   "id": "37940317-f408-45f2-8a7f-4dd283ce3ba5",
   "metadata": {},
   "outputs": [
    {
     "name": "stdout",
     "output_type": "stream",
     "text": [
      "[[95 51 41 12]\n",
      " [23 27 53 83]\n",
      " [46 93 20 21]\n",
      " [52 19 22 96]]\n",
      "[[80 66 45 36]\n",
      " [94 58 18 70]\n",
      " [63 83 76 22]\n",
      " [62 60 89 15]]\n"
     ]
    },
    {
     "data": {
      "text/plain": [
       "(None, None)"
      ]
     },
     "execution_count": 36,
     "metadata": {},
     "output_type": "execute_result"
    }
   ],
   "source": [
    "tf.print(tf1), tf.print(tf2)"
   ]
  },
  {
   "cell_type": "markdown",
   "id": "035ecb83-eb25-4566-93c7-80ea94854945",
   "metadata": {},
   "source": [
    "#### 横向合并"
   ]
  },
  {
   "cell_type": "code",
   "execution_count": 37,
   "id": "9c6ce73f-4153-44b6-93b7-3a4b876176f9",
   "metadata": {},
   "outputs": [
    {
     "name": "stdout",
     "output_type": "stream",
     "text": [
      "[[95 51 41 ... 66 45 36]\n",
      " [23 27 53 ... 58 18 70]\n",
      " [46 93 20 ... 83 76 22]\n",
      " [52 19 22 ... 60 89 15]]\n"
     ]
    },
    {
     "data": {
      "text/plain": [
       "TensorShape([4, 8])"
      ]
     },
     "execution_count": 37,
     "metadata": {},
     "output_type": "execute_result"
    }
   ],
   "source": [
    "tf.print(tf.concat([tf1, tf2], axis=1))\n",
    "tf.concat([tf1, tf2], axis=1).shape"
   ]
  },
  {
   "cell_type": "markdown",
   "id": "7d42ee72-5f26-412c-8851-a00c6d28ace2",
   "metadata": {},
   "source": [
    "#### 纵向合并"
   ]
  },
  {
   "cell_type": "code",
   "execution_count": 38,
   "id": "07eb475d-1fc2-4570-962c-7ac924fea9f8",
   "metadata": {},
   "outputs": [
    {
     "name": "stdout",
     "output_type": "stream",
     "text": [
      "[[95 51 41 12]\n",
      " [23 27 53 83]\n",
      " [46 93 20 21]\n",
      " ...\n",
      " [94 58 18 70]\n",
      " [63 83 76 22]\n",
      " [62 60 89 15]]\n"
     ]
    },
    {
     "data": {
      "text/plain": [
       "TensorShape([8, 4])"
      ]
     },
     "execution_count": 38,
     "metadata": {},
     "output_type": "execute_result"
    }
   ],
   "source": [
    "tf.print(tf.concat([tf1, tf2], axis=0))\n",
    "tf.concat([tf1, tf2], axis=0).shape"
   ]
  },
  {
   "cell_type": "markdown",
   "id": "8b52830a-c3e7-47e3-8d13-ce981d5d4bff",
   "metadata": {},
   "source": [
    "#### 横向分割"
   ]
  },
  {
   "cell_type": "code",
   "execution_count": 39,
   "id": "fdd9408b-b0e4-46d0-8195-17439a86c8bd",
   "metadata": {},
   "outputs": [
    {
     "name": "stdout",
     "output_type": "stream",
     "text": [
      "[[[95 51 41 12]\n",
      " [23 27 53 83]], [[46 93 20 21]\n",
      " [52 19 22 96]]]\n"
     ]
    }
   ],
   "source": [
    "tf.print(tf.split(tf1, 2, axis=0))"
   ]
  },
  {
   "cell_type": "markdown",
   "id": "d6e6df01-1198-484f-891b-518499f834f6",
   "metadata": {},
   "source": [
    "#### 纵向分割"
   ]
  },
  {
   "cell_type": "code",
   "execution_count": 40,
   "id": "bee69587-8322-4604-b175-851d9e4fb5ea",
   "metadata": {},
   "outputs": [
    {
     "name": "stdout",
     "output_type": "stream",
     "text": [
      "[[[95 51]\n",
      " [23 27]\n",
      " [46 93]\n",
      " [52 19]], [[41 12]\n",
      " [53 83]\n",
      " [20 21]\n",
      " [22 96]]]\n"
     ]
    }
   ],
   "source": [
    "tf.print(tf.split(tf1, 2, axis=1))"
   ]
  },
  {
   "cell_type": "markdown",
   "id": "628e5306-6eee-4373-9bfb-10b9992453c0",
   "metadata": {},
   "source": [
    "### 1.5 张量的计算"
   ]
  },
  {
   "cell_type": "code",
   "execution_count": 41,
   "id": "8d4df980-2d4f-461f-aa9f-006f48a9d2e1",
   "metadata": {},
   "outputs": [
    {
     "name": "stdout",
     "output_type": "stream",
     "text": [
      "[[95 51 41 12]\n",
      " [23 27 53 83]\n",
      " [46 93 20 21]\n",
      " [52 19 22 96]]\n",
      "[[80 66 45 36]\n",
      " [94 58 18 70]\n",
      " [63 83 76 22]\n",
      " [62 60 89 15]]\n"
     ]
    }
   ],
   "source": [
    "tf.print(tf1)\n",
    "tf.print(tf2)"
   ]
  },
  {
   "cell_type": "code",
   "execution_count": 42,
   "id": "a1e64622-3c07-4e20-8743-39c595f6daf2",
   "metadata": {},
   "outputs": [
    {
     "name": "stdout",
     "output_type": "stream",
     "text": [
      "[[175 117 86 48]\n",
      " [117 85 71 153]\n",
      " [109 176 96 43]\n",
      " [114 79 111 111]]\n"
     ]
    }
   ],
   "source": [
    "tf.print(tf1 + tf2) # 对应元素相运算"
   ]
  },
  {
   "cell_type": "code",
   "execution_count": 43,
   "id": "f132066d-7859-42e9-aaad-0f8ed97a78fb",
   "metadata": {},
   "outputs": [
    {
     "name": "stdout",
     "output_type": "stream",
     "text": [
      "tf1: <dtype: 'int64'>\n",
      "tf2: <dtype: 'int64'>\n"
     ]
    }
   ],
   "source": [
    "print('tf1:', tf1.dtype) # 两个张量的数据类型必须一致\n",
    "print('tf2:', tf2.dtype)"
   ]
  },
  {
   "cell_type": "code",
   "execution_count": 44,
   "id": "520b2f90-2e02-4f89-ad5c-f1b11688529a",
   "metadata": {},
   "outputs": [
    {
     "name": "stdout",
     "output_type": "stream",
     "text": [
      "tf3: <dtype: 'float32'>\n"
     ]
    }
   ],
   "source": [
    "tf3 = tf.cast(tf1, tf.float32)\n",
    "print('tf3:', tf3.dtype)"
   ]
  },
  {
   "cell_type": "code",
   "execution_count": 45,
   "id": "4f9c8a8a-4158-4f8f-aabc-f6577e03bfa8",
   "metadata": {},
   "outputs": [],
   "source": [
    "# tf2 + tf3 # 张量的数据类型不一致，无法运算"
   ]
  },
  {
   "cell_type": "code",
   "execution_count": 46,
   "id": "dccd1c0b-8df1-42d6-bf88-8ae2fea32f31",
   "metadata": {},
   "outputs": [
    {
     "name": "stdout",
     "output_type": "stream",
     "text": [
      "<dtype: 'float64'>\n"
     ]
    }
   ],
   "source": [
    "tf4 = tf.cast(tf2, dtype=tf.float64)\n",
    "print(tf4.dtype)"
   ]
  },
  {
   "cell_type": "code",
   "execution_count": 47,
   "id": "a35a31f4-f50e-477d-a9bd-a96a4c33edac",
   "metadata": {},
   "outputs": [],
   "source": [
    "# tf3 + tf4"
   ]
  },
  {
   "cell_type": "markdown",
   "id": "4fc879cd-743e-4193-a313-34a9f961df1d",
   "metadata": {},
   "source": [
    "### 1.6 tensorflow中的自微分机制"
   ]
  },
  {
   "cell_type": "markdown",
   "id": "ec2efb3a-7b0e-4701-b489-197b7e090ffa",
   "metadata": {},
   "source": [
    "函数为：\n",
    "$$\n",
    "y=x^2-2x+1\n",
    "$$"
   ]
  },
  {
   "cell_type": "code",
   "execution_count": 48,
   "id": "c0b50175-81dc-4f05-b47a-8748523c4b96",
   "metadata": {},
   "outputs": [],
   "source": [
    "x = tf.Variable(1.0, dtype=tf.float32) # 默认的张量精度为单精度浮点型（tf.float32）\n",
    "a = tf.constant(1.0)\n",
    "b = tf.constant(-2.0)\n",
    "c = tf.constant(1.0)\n",
    "with tf.GradientTape() as tape:\n",
    "    y = a * tf.pow(x, 2) + b*x + c"
   ]
  },
  {
   "cell_type": "code",
   "execution_count": 49,
   "id": "c8180e73-cc76-491c-bde8-667fc3d7f0f1",
   "metadata": {},
   "outputs": [
    {
     "data": {
      "text/plain": [
       "<tf.Tensor: shape=(), dtype=float32, numpy=0.0>"
      ]
     },
     "execution_count": 49,
     "metadata": {},
     "output_type": "execute_result"
    }
   ],
   "source": [
    "dy_dx = tape.gradient(y, x)\n",
    "dy_dx"
   ]
  },
  {
   "cell_type": "code",
   "execution_count": 50,
   "id": "5eabe063-f23d-4d22-bdb0-b7f4d40ad2b7",
   "metadata": {},
   "outputs": [],
   "source": [
    "with tf.GradientTape() as tape0:\n",
    "    with tf.GradientTape() as tape:\n",
    "        y = a * tf.pow(x, 2) + b*x + c\n",
    "    dy_dx = tape.gradient(y, x)"
   ]
  },
  {
   "cell_type": "code",
   "execution_count": 51,
   "id": "a542c19d-05cd-4604-a1a4-1becb642c303",
   "metadata": {},
   "outputs": [],
   "source": [
    "dy2_dx2 = tape0.gradient(dy_dx, x)"
   ]
  },
  {
   "cell_type": "code",
   "execution_count": 52,
   "id": "f6e1db19-5440-4bc7-aefa-9fa5a5c75164",
   "metadata": {},
   "outputs": [
    {
     "data": {
      "text/plain": [
       "<tf.Tensor: shape=(), dtype=float32, numpy=2.0>"
      ]
     },
     "execution_count": 52,
     "metadata": {},
     "output_type": "execute_result"
    }
   ],
   "source": [
    "dy2_dx2"
   ]
  },
  {
   "cell_type": "markdown",
   "id": "bbae5e8b-7127-49fd-9c0a-d0e6ffc61ea4",
   "metadata": {},
   "source": [
    "### 1.7 使用tensorflow对一元线性回归进行参数优化"
   ]
  },
  {
   "cell_type": "code",
   "execution_count": 53,
   "id": "58ab5556-8c43-411d-86b0-ca68bd3e39fc",
   "metadata": {},
   "outputs": [],
   "source": [
    "data = np.loadtxt('../data/line_fit_data.csv', skiprows=1, delimiter=',')"
   ]
  },
  {
   "cell_type": "code",
   "execution_count": 54,
   "id": "cf03cd1d-0c61-4094-992b-e20680b7c935",
   "metadata": {},
   "outputs": [],
   "source": [
    "x_data = tf.constant(data[:,0], dtype=tf.float32)\n",
    "y_data = tf.constant(data[:,1], dtype=tf.float32) # 分离特征和标签"
   ]
  },
  {
   "cell_type": "code",
   "execution_count": 55,
   "id": "6d2ca89f-1364-4e9f-8bfd-8f862199dcd9",
   "metadata": {},
   "outputs": [
    {
     "data": {
      "text/plain": [
       "<tf.Variable 'Variable:0' shape=(2,) dtype=float32, numpy=array([ 0.95883226, -0.3325803 ], dtype=float32)>"
      ]
     },
     "execution_count": 55,
     "metadata": {},
     "output_type": "execute_result"
    }
   ],
   "source": [
    "params = tf.Variable(tf.random.normal(shape=(2,)))\n",
    "params"
   ]
  },
  {
   "cell_type": "code",
   "execution_count": 56,
   "id": "3bbfd824-91d1-45d9-add5-29973d69a4d8",
   "metadata": {},
   "outputs": [],
   "source": [
    "# 学习率、最大迭代次数\n",
    "yita, epochs = 0.5, 10"
   ]
  },
  {
   "cell_type": "code",
   "execution_count": 57,
   "id": "7553ff09-95f2-4d67-b975-7b1bd8db46ee",
   "metadata": {},
   "outputs": [],
   "source": [
    "# 定义模型函数\n",
    "def line_model(x, w, b):\n",
    "    return x*w + b"
   ]
  },
  {
   "cell_type": "code",
   "execution_count": 58,
   "id": "88d56e6a-5f97-44e2-ae63-6fbb5eba70d3",
   "metadata": {},
   "outputs": [],
   "source": [
    "# 定义损失函数\n",
    "def loss(y_true, y_pred):\n",
    "    return 1/2 * tf.pow(y_true - y_pred, 2)"
   ]
  },
  {
   "cell_type": "code",
   "execution_count": 59,
   "id": "6737b4eb-d644-4741-b5be-d673a49da57c",
   "metadata": {},
   "outputs": [
    {
     "name": "stdout",
     "output_type": "stream",
     "text": [
      "epoch:0, w:2.5806806087493896, b:3.981973648071289, error:0.0002462636330164969\n",
      "epoch:1, w:2.5037715435028076, b:3.999157428741455, error:5.383044481277466e-07\n",
      "epoch:2, w:2.500175952911377, b:3.9999608993530273, error:1.1827978596556932e-09\n",
      "epoch:3, w:2.5000078678131104, b:3.9999983310699463, error:2.8421709430404007e-12\n",
      "epoch:4, w:2.5, b:4.0, error:0.0\n",
      "epoch:5, w:2.499999761581421, b:4.0, error:0.0\n",
      "epoch:6, w:2.499999761581421, b:4.0, error:0.0\n",
      "epoch:7, w:2.499999761581421, b:4.0, error:0.0\n",
      "epoch:8, w:2.499999761581421, b:4.0, error:0.0\n",
      "epoch:9, w:2.499999761581421, b:4.0, error:0.0\n"
     ]
    }
   ],
   "source": [
    "for epoch in range(epochs):\n",
    "    for line in range(len(x_data)):\n",
    "        x = x_data[line]\n",
    "        y = y_data[line]\n",
    "        with tf.GradientTape() as grad:\n",
    "            y_pred = line_model(x, params[0], params[1])\n",
    "            error = loss(y, y_pred)\n",
    "        d_params = grad.gradient(error, params)\n",
    "        params.assign_sub(d_params * yita)\n",
    "    print('epoch:{}, w:{}, b:{}, error:{}'.format(epoch, params.numpy()[0], params.value()[1], error))"
   ]
  },
  {
   "cell_type": "markdown",
   "id": "6bacf935-0d91-458e-916d-f7e491a4b5f4",
   "metadata": {},
   "source": [
    "### 1.8 张量和数组间的相互转化"
   ]
  },
  {
   "cell_type": "code",
   "execution_count": 60,
   "id": "74b1f9a3-4adf-416f-8cc6-22dfcce4ba03",
   "metadata": {},
   "outputs": [],
   "source": [
    "array2 = np.array([5, 7, 9, 2])"
   ]
  },
  {
   "cell_type": "markdown",
   "id": "37b83388-04d9-4e97-ae29-85d09d4f0328",
   "metadata": {},
   "source": [
    "#### 数组转化为张量"
   ]
  },
  {
   "cell_type": "code",
   "execution_count": 61,
   "id": "28a45583-0dfb-4d31-b919-34c5b487f60e",
   "metadata": {},
   "outputs": [
    {
     "data": {
      "text/plain": [
       "<tf.Tensor: shape=(4,), dtype=int32, numpy=array([5, 7, 9, 2])>"
      ]
     },
     "execution_count": 61,
     "metadata": {},
     "output_type": "execute_result"
    }
   ],
   "source": [
    "array2tensor = tf.constant(array2)\n",
    "array2tensor"
   ]
  },
  {
   "cell_type": "code",
   "execution_count": 62,
   "id": "4b8c2044-a8c0-4940-94d6-0124789d6846",
   "metadata": {},
   "outputs": [
    {
     "data": {
      "text/plain": [
       "<tf.Variable 'Variable:0' shape=(4,) dtype=int32, numpy=array([5, 7, 9, 2])>"
      ]
     },
     "execution_count": 62,
     "metadata": {},
     "output_type": "execute_result"
    }
   ],
   "source": [
    "array2tensor2 = tf.Variable(array2)\n",
    "array2tensor2"
   ]
  },
  {
   "cell_type": "markdown",
   "id": "4f6d33a5-4e06-42ea-a074-447fae7634a7",
   "metadata": {},
   "source": [
    "#### 张量转化为数组"
   ]
  },
  {
   "cell_type": "code",
   "execution_count": 63,
   "id": "ea041305-f97f-40e5-9d35-14e4b4b61da6",
   "metadata": {},
   "outputs": [
    {
     "data": {
      "text/plain": [
       "array([5, 7, 9, 2])"
      ]
     },
     "execution_count": 63,
     "metadata": {},
     "output_type": "execute_result"
    }
   ],
   "source": [
    "tensor2numpy = array2tensor.numpy()\n",
    "tensor2numpy"
   ]
  },
  {
   "cell_type": "code",
   "execution_count": 64,
   "id": "0287023b-2847-4683-bd23-56b6864aa3c2",
   "metadata": {},
   "outputs": [
    {
     "data": {
      "text/plain": [
       "array(<tf.Variable 'Variable:0' shape=(4,) dtype=int32, numpy=array([5, 7, 9, 2])>,\n",
       "      dtype=object)"
      ]
     },
     "execution_count": 64,
     "metadata": {},
     "output_type": "execute_result"
    }
   ],
   "source": [
    "tensor2array2 = np.array(array2tensor2)\n",
    "tensor2array2"
   ]
  },
  {
   "cell_type": "markdown",
   "id": "afdccb47-ab18-4fa4-8d7b-bb6cd0696220",
   "metadata": {},
   "source": [
    "## 2. 中阶API"
   ]
  },
  {
   "cell_type": "markdown",
   "id": "80c8669e-75fb-42b6-8a2a-c9dcbd979d4a",
   "metadata": {},
   "source": [
    "### 2.1 激活函数\n",
    "一般作用于单个神经元的输出，我们需要利用非线性激活函数想模型中引入非线性特征，用来拟合非线性数据。"
   ]
  },
  {
   "cell_type": "code",
   "execution_count": 65,
   "id": "d7f6d7ea-0d93-4e71-b861-ac2116488957",
   "metadata": {},
   "outputs": [],
   "source": [
    "from tensorflow.keras import activations"
   ]
  },
  {
   "cell_type": "code",
   "execution_count": 66,
   "id": "7455a268-0a33-4fd3-b9f5-9a37a8156f21",
   "metadata": {},
   "outputs": [],
   "source": [
    "# activations.sigmoid()\n",
    "# activations.relu()\n",
    "# activations.softmax()"
   ]
  },
  {
   "cell_type": "markdown",
   "id": "5a0f36e0-e517-4eff-8488-dde742f5a713",
   "metadata": {},
   "source": [
    "### 2.2 模型层\n",
    "构成模型的主要原件"
   ]
  },
  {
   "cell_type": "code",
   "execution_count": 67,
   "id": "04fcd01d-0b67-4457-ba6d-87d12d065046",
   "metadata": {},
   "outputs": [],
   "source": [
    "from tensorflow.keras import layers"
   ]
  },
  {
   "cell_type": "code",
   "execution_count": 68,
   "id": "33f38c90-fdd6-434a-b924-9683112553ec",
   "metadata": {},
   "outputs": [],
   "source": [
    "# layers.Dense() # 全连接层\n",
    "# layers.Conv2D() # 二维卷积层\n",
    "# layers.MaxPool2D() # 最大池化层\n",
    "# layers.Flatten() # 展平层\n",
    "# layers.BatchNormalization() # 批标准化层\n",
    "# layers.Dropout() # 暂退法，丢弃层，随机取某些神经元不参与模型的更新"
   ]
  },
  {
   "cell_type": "markdown",
   "id": "d75f8f79-0b25-4a8a-af47-260ca20af57e",
   "metadata": {},
   "source": [
    "### 2.3 损失函数"
   ]
  },
  {
   "cell_type": "code",
   "execution_count": 69,
   "id": "e8e56b0d-c05d-4f24-9344-a6881695157a",
   "metadata": {},
   "outputs": [],
   "source": [
    "from tensorflow.keras import losses"
   ]
  },
  {
   "cell_type": "code",
   "execution_count": 70,
   "id": "e9f2ff93-05be-4e37-a00f-f9051114f072",
   "metadata": {},
   "outputs": [],
   "source": [
    "# 分类\n",
    "# losses.binary_crossentropy # 二进制交叉熵（处理二分类）\n",
    "# losses.categorical_crossentropy # 多分类交叉熵\n",
    "# losses.sparse_categorical_crossentropy # 稀疏的多分类交叉熵\n",
    "\n",
    "# 回归任务\n",
    "# losses.mse() # 均方误差\n",
    "# losses.mean_squared_error() # 均方误差\n",
    "# losses.mean_squard_logarithmic_error # 对数均方误差\n",
    "# losses.mean_absolute_error() # 绝对误差"
   ]
  },
  {
   "cell_type": "markdown",
   "id": "1e87b664-70a8-4165-aa1d-3e55a4c52149",
   "metadata": {},
   "source": [
    "### 2.4 评估函数"
   ]
  },
  {
   "cell_type": "code",
   "execution_count": 71,
   "id": "f90c16df-2631-457f-a2c5-0dbda24fcb37",
   "metadata": {},
   "outputs": [],
   "source": [
    "from tensorflow.keras import metrics"
   ]
  },
  {
   "cell_type": "code",
   "execution_count": 72,
   "id": "96d6ecc8-985b-4596-b812-a432e12b2411",
   "metadata": {},
   "outputs": [],
   "source": [
    "# 分类任务\n",
    "# metrics.Accuracy() # 精度\n",
    "# metrics.binary_accuracy # 二分类精度\n",
    "# metrics.categorical_accuracy # 多分类精度\n",
    "# metrics.sparse_categorical_accuracy # 稀疏多分类精度\n",
    "# metrics.Poisson() # 准确率\n",
    "# metrics.Recall() # 召回率\n",
    "# metrics.IoU()\n",
    "# metrics.AUC()"
   ]
  },
  {
   "cell_type": "code",
   "execution_count": 73,
   "id": "240fcc7b-6e94-4477-bb54-3a93b2cce18e",
   "metadata": {},
   "outputs": [],
   "source": [
    "# 回归任务\n",
    "# losses.mse() # 均方误差\n",
    "# losses.mean_squared_error() # 均方误差\n",
    "# losses.mean_squard_logarithmic_error # 对数均方误差\n",
    "# losses.mean_absolute_error() # 绝对误差"
   ]
  },
  {
   "cell_type": "markdown",
   "id": "3684974b-606b-4add-8d25-005bb1ed3a32",
   "metadata": {},
   "source": [
    "### 2.5 优化器"
   ]
  },
  {
   "cell_type": "code",
   "execution_count": 74,
   "id": "b06d5413-c7d9-43fa-ad9f-7c5090188710",
   "metadata": {},
   "outputs": [],
   "source": [
    "from tensorflow.keras import optimizers"
   ]
  },
  {
   "cell_type": "code",
   "execution_count": 75,
   "id": "3b7adb6f-2412-41b4-b14a-39008ff8225d",
   "metadata": {},
   "outputs": [],
   "source": [
    "# optimizers.SGD() # 随机梯度下降法\n",
    "# optimizers.Adam() # 自适应梯度下降法"
   ]
  },
  {
   "cell_type": "markdown",
   "id": "5f54914c-7577-4fd3-a617-7ddf1db6fd58",
   "metadata": {},
   "source": [
    "### 2.6 使用中阶API简化一元线性回归模型"
   ]
  },
  {
   "cell_type": "code",
   "execution_count": 76,
   "id": "f4cbd9bf-7a5f-4a9d-8b20-101d9984425b",
   "metadata": {},
   "outputs": [],
   "source": [
    "data = np.loadtxt('../data/line_fit_data.csv', skiprows=1, delimiter=',')"
   ]
  },
  {
   "cell_type": "code",
   "execution_count": 77,
   "id": "40a3914b-ea20-4973-9dc7-d25d6f91f1a5",
   "metadata": {},
   "outputs": [],
   "source": [
    "x_data = tf.constant(data[:,0], dtype=tf.float32)\n",
    "y_data = tf.constant(data[:,1], dtype=tf.float32) # 分离特征和标签"
   ]
  },
  {
   "cell_type": "code",
   "execution_count": 78,
   "id": "3e25d3cc-acc6-44f0-8f2c-69d02405c7ea",
   "metadata": {},
   "outputs": [
    {
     "data": {
      "text/plain": [
       "<tf.Variable 'Variable:0' shape=(2,) dtype=float32, numpy=array([-0.37767014, -0.2148674 ], dtype=float32)>"
      ]
     },
     "execution_count": 78,
     "metadata": {},
     "output_type": "execute_result"
    }
   ],
   "source": [
    "params = tf.Variable(tf.random.normal(shape=(2,)))\n",
    "params"
   ]
  },
  {
   "cell_type": "code",
   "execution_count": 79,
   "id": "8fa6fb5f-2064-4f29-b0c6-81aba404e993",
   "metadata": {},
   "outputs": [],
   "source": [
    "# 学习率、最大迭代次数\n",
    "yita, epochs = 0.5, 10"
   ]
  },
  {
   "cell_type": "code",
   "execution_count": 80,
   "id": "1d5598ca-cb86-41b1-aa61-3ccec2e64e7a",
   "metadata": {},
   "outputs": [],
   "source": [
    "def line_model(x, w, b):\n",
    "    return x*w + b"
   ]
  },
  {
   "cell_type": "code",
   "execution_count": 81,
   "id": "a6de6694-52ec-4a89-8278-d32c9b80137a",
   "metadata": {},
   "outputs": [
    {
     "name": "stdout",
     "output_type": "stream",
     "text": [
      "epoch:0, w:2.5038740634918213, b:3.9996674060821533, error:3.012248726008693e-07\n",
      "epoch:1, w:2.5000088214874268, b:3.9999992847442627, error:9.094947017729282e-13\n",
      "Early Stop!\n",
      "Early Stop!\n",
      "Early Stop!\n",
      "Early Stop!\n",
      "Early Stop!\n",
      "Early Stop!\n",
      "Early Stop!\n",
      "Early Stop!\n"
     ]
    }
   ],
   "source": [
    "for epoch in range(epochs):\n",
    "    for line in range(len(x_data)):\n",
    "        x = x_data[line:line+1]\n",
    "        y = y_data[line:line+1]\n",
    "        with tf.GradientTape() as grad:\n",
    "            y_pred = line_model(x, params[0], params[1])\n",
    "            error = losses.mse(y, y_pred)\n",
    "        d_params = grad.gradient(error, params)\n",
    "        sgd = optimizers.SGD(learning_rate=yita)\n",
    "        sgd.apply_gradients(grads_and_vars=[(d_params, params)])\n",
    "    if error < 1e-20:\n",
    "        print('Early Stop!')\n",
    "    else:\n",
    "        print('epoch:{}, w:{}, b:{}, error:{}'.format(epoch, params.numpy()[0], params.value()[1], error))"
   ]
  },
  {
   "cell_type": "markdown",
   "id": "b6cbccb0-aa41-4183-90d0-e4c4dff02546",
   "metadata": {},
   "source": [
    "## 3. 高阶API"
   ]
  },
  {
   "cell_type": "markdown",
   "id": "7133116b-c006-4565-a443-2c8c13a10218",
   "metadata": {},
   "source": [
    "### 3.1 准备数据"
   ]
  },
  {
   "cell_type": "code",
   "execution_count": 82,
   "id": "96a6a813-3cf3-484f-ad18-6577dd9359cf",
   "metadata": {},
   "outputs": [],
   "source": [
    "from sklearn.datasets import load_iris"
   ]
  },
  {
   "cell_type": "code",
   "execution_count": 83,
   "id": "e0061435-4a4b-42b9-a639-320475f94060",
   "metadata": {},
   "outputs": [
    {
     "name": "stdout",
     "output_type": "stream",
     "text": [
      "(150, 4) (150,)\n"
     ]
    }
   ],
   "source": [
    "X, y = load_iris()['data'], load_iris()['target']\n",
    "print(X.shape, y.shape)"
   ]
  },
  {
   "cell_type": "markdown",
   "id": "762300dd-d58f-4bd4-b871-ac2bdf39bfc0",
   "metadata": {},
   "source": [
    "### 3.2 模型的搭建\n",
    "- 定义BP神经网络模型\n",
    "- hidden_num = (5, 6, 3)"
   ]
  },
  {
   "cell_type": "code",
   "execution_count": 84,
   "id": "d9399e7f-c724-4f3a-88f8-df95b476f99b",
   "metadata": {},
   "outputs": [],
   "source": [
    "from tensorflow.keras import layers"
   ]
  },
  {
   "cell_type": "markdown",
   "id": "a7cefad5-641b-4fe0-bb68-a96d7951c491",
   "metadata": {},
   "source": [
    "#### 顺序式"
   ]
  },
  {
   "cell_type": "code",
   "execution_count": 85,
   "id": "9e815f3a-5289-4d1a-aed0-372149228779",
   "metadata": {},
   "outputs": [],
   "source": [
    "from tensorflow import keras"
   ]
  },
  {
   "cell_type": "code",
   "execution_count": 86,
   "id": "e74fd493-1ad2-431c-a94e-79fcd0887ee2",
   "metadata": {},
   "outputs": [],
   "source": [
    "model1 = keras.Sequential() # 定义一个容器\n",
    "model1.add(layers.Dense(5, input_shape=(4,), activation='relu'))\n",
    "model1.add(layers.Dense(6, activation='relu'))\n",
    "model1.add(layers.Dense(3, activation='softmax'))"
   ]
  },
  {
   "cell_type": "code",
   "execution_count": 87,
   "id": "d81c87f5-3681-41b3-bf66-066979c7e8d2",
   "metadata": {},
   "outputs": [
    {
     "name": "stdout",
     "output_type": "stream",
     "text": [
      "Model: \"sequential\"\n",
      "_________________________________________________________________\n",
      "Layer (type)                 Output Shape              Param #   \n",
      "=================================================================\n",
      "dense (Dense)                (None, 5)                 25        \n",
      "_________________________________________________________________\n",
      "dense_1 (Dense)              (None, 6)                 36        \n",
      "_________________________________________________________________\n",
      "dense_2 (Dense)              (None, 3)                 21        \n",
      "=================================================================\n",
      "Total params: 82\n",
      "Trainable params: 82\n",
      "Non-trainable params: 0\n",
      "_________________________________________________________________\n"
     ]
    }
   ],
   "source": [
    "model1.summary()"
   ]
  },
  {
   "cell_type": "markdown",
   "id": "230c9149-828b-4ac0-8d2e-e8e0530c16e7",
   "metadata": {},
   "source": [
    "#### 函数式"
   ]
  },
  {
   "cell_type": "code",
   "execution_count": 88,
   "id": "7c2267f6-33f5-4839-a090-0931e2021cef",
   "metadata": {},
   "outputs": [],
   "source": [
    "inputs = keras.Input(shape=(4,))\n",
    "hidden1 = layers.Dense(5, activation='relu')(inputs)\n",
    "hidden2 = layers.Dense(6, activation='relu')(hidden1)\n",
    "outputs = layers.Dense(3, activation='softmax')(hidden2)\n",
    "model2 = keras.Model(inputs=inputs, outputs=outputs)"
   ]
  },
  {
   "cell_type": "code",
   "execution_count": 89,
   "id": "b70a2a2a-00b0-4f2a-bc4e-7cf5d17cab55",
   "metadata": {},
   "outputs": [
    {
     "name": "stdout",
     "output_type": "stream",
     "text": [
      "Model: \"functional_1\"\n",
      "_________________________________________________________________\n",
      "Layer (type)                 Output Shape              Param #   \n",
      "=================================================================\n",
      "input_1 (InputLayer)         [(None, 4)]               0         \n",
      "_________________________________________________________________\n",
      "dense_3 (Dense)              (None, 5)                 25        \n",
      "_________________________________________________________________\n",
      "dense_4 (Dense)              (None, 6)                 36        \n",
      "_________________________________________________________________\n",
      "dense_5 (Dense)              (None, 3)                 21        \n",
      "=================================================================\n",
      "Total params: 82\n",
      "Trainable params: 82\n",
      "Non-trainable params: 0\n",
      "_________________________________________________________________\n"
     ]
    }
   ],
   "source": [
    "model2.summary()"
   ]
  },
  {
   "cell_type": "markdown",
   "id": "53c9d20e-972c-40d9-843f-9f3dba908bf4",
   "metadata": {},
   "source": [
    "#### 子类式"
   ]
  },
  {
   "cell_type": "code",
   "execution_count": 90,
   "id": "5ef24835-2a31-4f01-a369-d9a542899b24",
   "metadata": {},
   "outputs": [],
   "source": [
    "class MyModel(keras.models.Model):\n",
    "    def __init__(self):\n",
    "        super(MyModel, self).__init__()\n",
    "        self.hidden1 = layers.Dense(5, activation='relu')\n",
    "        self.hidden2 = layers.Dense(6, activation='relu')\n",
    "        self.outputs = layers.Dense(3, activation='softmax')\n",
    "    \n",
    "    def call(self, x):\n",
    "        x = self.hidden1(x)\n",
    "        x = self.hidden2(x)\n",
    "        output = self.outputs(x)\n",
    "        return output"
   ]
  },
  {
   "cell_type": "code",
   "execution_count": 91,
   "id": "4daf4396-03cb-4681-ad5f-6658466ecda6",
   "metadata": {},
   "outputs": [],
   "source": [
    "# 实例化模型\n",
    "myModel = MyModel()\n",
    "myModel.build(input_shape=(1, 4))"
   ]
  },
  {
   "cell_type": "code",
   "execution_count": 92,
   "id": "64964a13-0804-4528-acda-3c7231749c96",
   "metadata": {},
   "outputs": [
    {
     "name": "stdout",
     "output_type": "stream",
     "text": [
      "Model: \"my_model\"\n",
      "_________________________________________________________________\n",
      "Layer (type)                 Output Shape              Param #   \n",
      "=================================================================\n",
      "dense_6 (Dense)              multiple                  25        \n",
      "_________________________________________________________________\n",
      "dense_7 (Dense)              multiple                  36        \n",
      "_________________________________________________________________\n",
      "dense_8 (Dense)              multiple                  21        \n",
      "=================================================================\n",
      "Total params: 82\n",
      "Trainable params: 82\n",
      "Non-trainable params: 0\n",
      "_________________________________________________________________\n"
     ]
    }
   ],
   "source": [
    "myModel.summary()"
   ]
  },
  {
   "cell_type": "markdown",
   "id": "7cf17498-d6a9-4d0c-8c65-1cea39f7c5c0",
   "metadata": {},
   "source": [
    "### 3.3 模型的编译"
   ]
  },
  {
   "cell_type": "code",
   "execution_count": 93,
   "id": "8379b53c-2ebd-4cd5-b216-a4fe4298d19e",
   "metadata": {},
   "outputs": [],
   "source": [
    "model1.compile(loss=losses.sparse_categorical_crossentropy, metrics=metrics.sparse_categorical_accuracy, optimizer=optimizers.Adam())"
   ]
  },
  {
   "cell_type": "markdown",
   "id": "f7733a75-798a-4112-8de2-4b6394240d17",
   "metadata": {},
   "source": [
    "### 3.4 模型的训练"
   ]
  },
  {
   "cell_type": "code",
   "execution_count": 94,
   "id": "e06912bc-3401-46e1-b1fb-5246a23b9b46",
   "metadata": {},
   "outputs": [
    {
     "name": "stdout",
     "output_type": "stream",
     "text": [
      "Epoch 1/500\n",
      "34/34 [==============================] - 0s 6ms/step - loss: 1.0105 - sparse_categorical_accuracy: 0.6593 - val_loss: 1.1166 - val_sparse_categorical_accuracy: 0.0000e+00\n",
      "Epoch 2/500\n",
      "34/34 [==============================] - 0s 1ms/step - loss: 0.9557 - sparse_categorical_accuracy: 0.6074 - val_loss: 1.1233 - val_sparse_categorical_accuracy: 0.0000e+00\n",
      "Epoch 3/500\n",
      "34/34 [==============================] - 0s 1ms/step - loss: 0.9209 - sparse_categorical_accuracy: 0.6370 - val_loss: 1.1341 - val_sparse_categorical_accuracy: 0.0000e+00\n",
      "Epoch 4/500\n",
      "34/34 [==============================] - 0s 1ms/step - loss: 0.8856 - sparse_categorical_accuracy: 0.6296 - val_loss: 1.1387 - val_sparse_categorical_accuracy: 0.0000e+00\n",
      "Epoch 5/500\n",
      "34/34 [==============================] - 0s 1ms/step - loss: 0.8499 - sparse_categorical_accuracy: 0.6667 - val_loss: 1.1454 - val_sparse_categorical_accuracy: 0.0000e+00\n",
      "Epoch 6/500\n",
      "34/34 [==============================] - 0s 2ms/step - loss: 0.8173 - sparse_categorical_accuracy: 0.6593 - val_loss: 1.1484 - val_sparse_categorical_accuracy: 0.0000e+00\n",
      "Epoch 7/500\n",
      "34/34 [==============================] - 0s 2ms/step - loss: 0.7864 - sparse_categorical_accuracy: 0.6741 - val_loss: 1.1414 - val_sparse_categorical_accuracy: 0.0000e+00\n",
      "Epoch 8/500\n",
      "34/34 [==============================] - 0s 2ms/step - loss: 0.7588 - sparse_categorical_accuracy: 0.6815 - val_loss: 1.1314 - val_sparse_categorical_accuracy: 0.0000e+00\n",
      "Epoch 9/500\n",
      "34/34 [==============================] - 0s 2ms/step - loss: 0.7361 - sparse_categorical_accuracy: 0.6889 - val_loss: 1.1150 - val_sparse_categorical_accuracy: 0.0000e+00\n",
      "Epoch 10/500\n",
      "34/34 [==============================] - 0s 2ms/step - loss: 0.7120 - sparse_categorical_accuracy: 0.7185 - val_loss: 1.0895 - val_sparse_categorical_accuracy: 0.0000e+00\n",
      "Epoch 11/500\n",
      "34/34 [==============================] - 0s 2ms/step - loss: 0.6899 - sparse_categorical_accuracy: 0.7333 - val_loss: 1.0451 - val_sparse_categorical_accuracy: 0.3333\n",
      "Epoch 12/500\n",
      "34/34 [==============================] - 0s 2ms/step - loss: 0.6700 - sparse_categorical_accuracy: 0.8000 - val_loss: 0.9708 - val_sparse_categorical_accuracy: 0.9333\n",
      "Epoch 13/500\n",
      "34/34 [==============================] - 0s 2ms/step - loss: 0.6497 - sparse_categorical_accuracy: 0.8519 - val_loss: 0.9406 - val_sparse_categorical_accuracy: 0.9333\n",
      "Epoch 14/500\n",
      "34/34 [==============================] - 0s 1ms/step - loss: 0.6313 - sparse_categorical_accuracy: 0.8667 - val_loss: 0.8804 - val_sparse_categorical_accuracy: 1.0000\n",
      "Epoch 15/500\n",
      "34/34 [==============================] - 0s 1ms/step - loss: 0.6126 - sparse_categorical_accuracy: 0.8444 - val_loss: 0.8210 - val_sparse_categorical_accuracy: 1.0000\n",
      "Epoch 16/500\n",
      "34/34 [==============================] - 0s 2ms/step - loss: 0.5933 - sparse_categorical_accuracy: 0.8296 - val_loss: 0.7572 - val_sparse_categorical_accuracy: 1.0000\n",
      "Epoch 17/500\n",
      "34/34 [==============================] - 0s 1ms/step - loss: 0.5756 - sparse_categorical_accuracy: 0.7630 - val_loss: 0.6852 - val_sparse_categorical_accuracy: 1.0000\n",
      "Epoch 18/500\n",
      "34/34 [==============================] - 0s 2ms/step - loss: 0.5570 - sparse_categorical_accuracy: 0.7481 - val_loss: 0.6627 - val_sparse_categorical_accuracy: 1.0000\n",
      "Epoch 19/500\n",
      "34/34 [==============================] - 0s 1ms/step - loss: 0.5406 - sparse_categorical_accuracy: 0.7333 - val_loss: 0.6094 - val_sparse_categorical_accuracy: 1.0000\n",
      "Epoch 20/500\n",
      "34/34 [==============================] - 0s 1ms/step - loss: 0.5223 - sparse_categorical_accuracy: 0.7333 - val_loss: 0.5873 - val_sparse_categorical_accuracy: 1.0000\n",
      "Epoch 21/500\n",
      "34/34 [==============================] - 0s 2ms/step - loss: 0.5056 - sparse_categorical_accuracy: 0.7630 - val_loss: 0.5404 - val_sparse_categorical_accuracy: 1.0000\n",
      "Epoch 22/500\n",
      "34/34 [==============================] - 0s 2ms/step - loss: 0.4871 - sparse_categorical_accuracy: 0.8148 - val_loss: 0.5816 - val_sparse_categorical_accuracy: 1.0000\n",
      "Epoch 23/500\n",
      "34/34 [==============================] - 0s 2ms/step - loss: 0.4674 - sparse_categorical_accuracy: 0.8370 - val_loss: 0.5422 - val_sparse_categorical_accuracy: 1.0000\n",
      "Epoch 24/500\n",
      "34/34 [==============================] - 0s 1ms/step - loss: 0.4505 - sparse_categorical_accuracy: 0.8815 - val_loss: 0.5801 - val_sparse_categorical_accuracy: 1.0000\n",
      "Epoch 25/500\n",
      "34/34 [==============================] - 0s 1ms/step - loss: 0.4276 - sparse_categorical_accuracy: 0.8963 - val_loss: 0.5410 - val_sparse_categorical_accuracy: 1.0000\n",
      "Epoch 26/500\n",
      "34/34 [==============================] - 0s 1ms/step - loss: 0.4064 - sparse_categorical_accuracy: 0.9185 - val_loss: 0.5006 - val_sparse_categorical_accuracy: 1.0000\n",
      "Epoch 27/500\n",
      "34/34 [==============================] - 0s 1ms/step - loss: 0.3922 - sparse_categorical_accuracy: 0.9037 - val_loss: 0.5522 - val_sparse_categorical_accuracy: 0.8667\n",
      "Epoch 28/500\n",
      "34/34 [==============================] - 0s 1ms/step - loss: 0.3645 - sparse_categorical_accuracy: 0.9333 - val_loss: 0.5822 - val_sparse_categorical_accuracy: 0.8667\n",
      "Epoch 29/500\n",
      "34/34 [==============================] - 0s 2ms/step - loss: 0.3462 - sparse_categorical_accuracy: 0.9481 - val_loss: 0.5292 - val_sparse_categorical_accuracy: 0.8667\n",
      "Epoch 30/500\n",
      "34/34 [==============================] - 0s 2ms/step - loss: 0.3245 - sparse_categorical_accuracy: 0.9481 - val_loss: 0.5139 - val_sparse_categorical_accuracy: 0.8667\n",
      "Epoch 31/500\n",
      "34/34 [==============================] - 0s 2ms/step - loss: 0.3066 - sparse_categorical_accuracy: 0.9704 - val_loss: 0.6461 - val_sparse_categorical_accuracy: 0.7333\n",
      "Epoch 32/500\n",
      "34/34 [==============================] - 0s 2ms/step - loss: 0.2924 - sparse_categorical_accuracy: 0.9481 - val_loss: 0.4936 - val_sparse_categorical_accuracy: 0.8667\n",
      "Epoch 33/500\n",
      "34/34 [==============================] - 0s 2ms/step - loss: 0.2768 - sparse_categorical_accuracy: 0.9556 - val_loss: 0.6252 - val_sparse_categorical_accuracy: 0.7333\n",
      "Epoch 34/500\n",
      "34/34 [==============================] - 0s 2ms/step - loss: 0.2621 - sparse_categorical_accuracy: 0.9481 - val_loss: 0.4799 - val_sparse_categorical_accuracy: 0.8667\n",
      "Epoch 35/500\n",
      "34/34 [==============================] - 0s 2ms/step - loss: 0.2540 - sparse_categorical_accuracy: 0.9481 - val_loss: 0.4598 - val_sparse_categorical_accuracy: 0.8667\n",
      "Epoch 36/500\n",
      "34/34 [==============================] - 0s 1ms/step - loss: 0.2438 - sparse_categorical_accuracy: 0.9556 - val_loss: 0.4666 - val_sparse_categorical_accuracy: 0.8667\n",
      "Epoch 37/500\n",
      "34/34 [==============================] - 0s 1ms/step - loss: 0.2306 - sparse_categorical_accuracy: 0.9481 - val_loss: 0.4908 - val_sparse_categorical_accuracy: 0.8667\n",
      "Epoch 38/500\n",
      "34/34 [==============================] - 0s 2ms/step - loss: 0.2217 - sparse_categorical_accuracy: 0.9556 - val_loss: 0.4933 - val_sparse_categorical_accuracy: 0.8667\n",
      "Epoch 39/500\n",
      "34/34 [==============================] - 0s 2ms/step - loss: 0.2140 - sparse_categorical_accuracy: 0.9630 - val_loss: 0.5835 - val_sparse_categorical_accuracy: 0.8000\n",
      "Epoch 40/500\n",
      "34/34 [==============================] - 0s 1ms/step - loss: 0.2115 - sparse_categorical_accuracy: 0.9481 - val_loss: 0.4337 - val_sparse_categorical_accuracy: 0.8667\n",
      "Epoch 41/500\n",
      "34/34 [==============================] - 0s 1ms/step - loss: 0.2008 - sparse_categorical_accuracy: 0.9556 - val_loss: 0.3766 - val_sparse_categorical_accuracy: 0.8667\n",
      "Epoch 42/500\n",
      "34/34 [==============================] - 0s 1ms/step - loss: 0.1906 - sparse_categorical_accuracy: 0.9630 - val_loss: 0.5743 - val_sparse_categorical_accuracy: 0.8000\n",
      "Epoch 43/500\n",
      "34/34 [==============================] - 0s 1ms/step - loss: 0.1892 - sparse_categorical_accuracy: 0.9556 - val_loss: 0.4572 - val_sparse_categorical_accuracy: 0.8667\n",
      "Epoch 44/500\n",
      "34/34 [==============================] - 0s 2ms/step - loss: 0.1809 - sparse_categorical_accuracy: 0.9556 - val_loss: 0.3621 - val_sparse_categorical_accuracy: 0.8667\n",
      "Epoch 45/500\n",
      "34/34 [==============================] - 0s 1ms/step - loss: 0.1791 - sparse_categorical_accuracy: 0.9556 - val_loss: 0.3635 - val_sparse_categorical_accuracy: 0.8667\n",
      "Epoch 46/500\n",
      "34/34 [==============================] - 0s 2ms/step - loss: 0.1736 - sparse_categorical_accuracy: 0.9556 - val_loss: 0.4369 - val_sparse_categorical_accuracy: 0.8667\n",
      "Epoch 47/500\n",
      "34/34 [==============================] - 0s 2ms/step - loss: 0.1721 - sparse_categorical_accuracy: 0.9556 - val_loss: 0.4777 - val_sparse_categorical_accuracy: 0.8667\n",
      "Epoch 48/500\n",
      "34/34 [==============================] - 0s 2ms/step - loss: 0.1669 - sparse_categorical_accuracy: 0.9556 - val_loss: 0.4201 - val_sparse_categorical_accuracy: 0.8667\n",
      "Epoch 49/500\n",
      "34/34 [==============================] - 0s 2ms/step - loss: 0.1651 - sparse_categorical_accuracy: 0.9556 - val_loss: 0.4333 - val_sparse_categorical_accuracy: 0.8667\n",
      "Epoch 50/500\n",
      "34/34 [==============================] - 0s 1ms/step - loss: 0.1580 - sparse_categorical_accuracy: 0.9556 - val_loss: 0.3475 - val_sparse_categorical_accuracy: 0.8667\n",
      "Epoch 51/500\n",
      "34/34 [==============================] - 0s 1ms/step - loss: 0.1538 - sparse_categorical_accuracy: 0.9556 - val_loss: 0.4361 - val_sparse_categorical_accuracy: 0.8667\n",
      "Epoch 52/500\n",
      "34/34 [==============================] - 0s 1ms/step - loss: 0.1497 - sparse_categorical_accuracy: 0.9556 - val_loss: 0.3039 - val_sparse_categorical_accuracy: 0.9333\n",
      "Epoch 53/500\n",
      "34/34 [==============================] - 0s 1ms/step - loss: 0.1493 - sparse_categorical_accuracy: 0.9630 - val_loss: 0.3658 - val_sparse_categorical_accuracy: 0.8667\n",
      "Epoch 54/500\n",
      "34/34 [==============================] - 0s 1ms/step - loss: 0.1458 - sparse_categorical_accuracy: 0.9630 - val_loss: 0.4662 - val_sparse_categorical_accuracy: 0.8667\n",
      "Epoch 55/500\n",
      "34/34 [==============================] - 0s 1ms/step - loss: 0.1432 - sparse_categorical_accuracy: 0.9630 - val_loss: 0.3545 - val_sparse_categorical_accuracy: 0.8667\n",
      "Epoch 56/500\n",
      "34/34 [==============================] - 0s 2ms/step - loss: 0.1448 - sparse_categorical_accuracy: 0.9630 - val_loss: 0.3091 - val_sparse_categorical_accuracy: 0.9333\n",
      "Epoch 57/500\n",
      "34/34 [==============================] - 0s 1ms/step - loss: 0.1487 - sparse_categorical_accuracy: 0.9481 - val_loss: 0.2529 - val_sparse_categorical_accuracy: 0.9333\n",
      "Epoch 58/500\n",
      "34/34 [==============================] - 0s 2ms/step - loss: 0.1394 - sparse_categorical_accuracy: 0.9556 - val_loss: 0.2936 - val_sparse_categorical_accuracy: 0.9333\n",
      "Epoch 59/500\n",
      "34/34 [==============================] - 0s 1ms/step - loss: 0.1330 - sparse_categorical_accuracy: 0.9556 - val_loss: 0.2837 - val_sparse_categorical_accuracy: 0.9333\n",
      "Epoch 60/500\n",
      "34/34 [==============================] - 0s 1ms/step - loss: 0.1344 - sparse_categorical_accuracy: 0.9556 - val_loss: 0.2654 - val_sparse_categorical_accuracy: 0.9333\n",
      "Epoch 61/500\n",
      "34/34 [==============================] - 0s 1ms/step - loss: 0.1288 - sparse_categorical_accuracy: 0.9630 - val_loss: 0.4025 - val_sparse_categorical_accuracy: 0.8667\n",
      "Epoch 62/500\n",
      "34/34 [==============================] - 0s 1ms/step - loss: 0.1286 - sparse_categorical_accuracy: 0.9556 - val_loss: 0.2142 - val_sparse_categorical_accuracy: 0.9333\n",
      "Epoch 63/500\n",
      "34/34 [==============================] - 0s 2ms/step - loss: 0.1297 - sparse_categorical_accuracy: 0.9704 - val_loss: 0.3798 - val_sparse_categorical_accuracy: 0.8667\n",
      "Epoch 64/500\n",
      "34/34 [==============================] - 0s 2ms/step - loss: 0.1254 - sparse_categorical_accuracy: 0.9630 - val_loss: 0.3527 - val_sparse_categorical_accuracy: 0.8667\n",
      "Epoch 65/500\n",
      "34/34 [==============================] - 0s 2ms/step - loss: 0.1215 - sparse_categorical_accuracy: 0.9556 - val_loss: 0.3126 - val_sparse_categorical_accuracy: 0.8667\n",
      "Epoch 66/500\n",
      "34/34 [==============================] - 0s 2ms/step - loss: 0.1210 - sparse_categorical_accuracy: 0.9630 - val_loss: 0.3477 - val_sparse_categorical_accuracy: 0.8667\n",
      "Epoch 67/500\n",
      "34/34 [==============================] - 0s 2ms/step - loss: 0.1201 - sparse_categorical_accuracy: 0.9556 - val_loss: 0.3432 - val_sparse_categorical_accuracy: 0.8667\n",
      "Epoch 68/500\n",
      "34/34 [==============================] - 0s 2ms/step - loss: 0.1182 - sparse_categorical_accuracy: 0.9481 - val_loss: 0.2287 - val_sparse_categorical_accuracy: 0.9333\n",
      "Epoch 69/500\n",
      "34/34 [==============================] - 0s 2ms/step - loss: 0.1165 - sparse_categorical_accuracy: 0.9556 - val_loss: 0.2910 - val_sparse_categorical_accuracy: 0.9333\n",
      "Epoch 70/500\n",
      "34/34 [==============================] - 0s 2ms/step - loss: 0.1185 - sparse_categorical_accuracy: 0.9556 - val_loss: 0.3985 - val_sparse_categorical_accuracy: 0.8667\n",
      "Epoch 71/500\n",
      "34/34 [==============================] - 0s 1ms/step - loss: 0.1132 - sparse_categorical_accuracy: 0.9630 - val_loss: 0.2549 - val_sparse_categorical_accuracy: 0.9333\n",
      "Epoch 72/500\n",
      "34/34 [==============================] - 0s 1ms/step - loss: 0.1157 - sparse_categorical_accuracy: 0.9630 - val_loss: 0.3317 - val_sparse_categorical_accuracy: 0.8667\n",
      "Epoch 73/500\n",
      "34/34 [==============================] - 0s 1ms/step - loss: 0.1126 - sparse_categorical_accuracy: 0.9556 - val_loss: 0.2493 - val_sparse_categorical_accuracy: 0.9333\n",
      "Epoch 74/500\n",
      "34/34 [==============================] - 0s 1ms/step - loss: 0.1131 - sparse_categorical_accuracy: 0.9704 - val_loss: 0.3158 - val_sparse_categorical_accuracy: 0.8667\n",
      "Epoch 75/500\n",
      "34/34 [==============================] - 0s 1ms/step - loss: 0.1104 - sparse_categorical_accuracy: 0.9556 - val_loss: 0.2283 - val_sparse_categorical_accuracy: 0.9333\n",
      "Epoch 76/500\n",
      "34/34 [==============================] - 0s 1ms/step - loss: 0.1129 - sparse_categorical_accuracy: 0.9778 - val_loss: 0.3455 - val_sparse_categorical_accuracy: 0.8667\n",
      "Epoch 77/500\n",
      "34/34 [==============================] - 0s 2ms/step - loss: 0.1084 - sparse_categorical_accuracy: 0.9481 - val_loss: 0.2143 - val_sparse_categorical_accuracy: 0.9333\n",
      "Epoch 78/500\n",
      "34/34 [==============================] - 0s 1ms/step - loss: 0.1053 - sparse_categorical_accuracy: 0.9704 - val_loss: 0.2479 - val_sparse_categorical_accuracy: 0.9333\n",
      "Epoch 79/500\n",
      "34/34 [==============================] - 0s 2ms/step - loss: 0.1026 - sparse_categorical_accuracy: 0.9556 - val_loss: 0.2756 - val_sparse_categorical_accuracy: 0.9333\n",
      "Epoch 80/500\n",
      "34/34 [==============================] - 0s 1ms/step - loss: 0.1053 - sparse_categorical_accuracy: 0.9556 - val_loss: 0.2711 - val_sparse_categorical_accuracy: 0.9333\n",
      "Epoch 81/500\n",
      "34/34 [==============================] - 0s 1ms/step - loss: 0.1019 - sparse_categorical_accuracy: 0.9630 - val_loss: 0.2818 - val_sparse_categorical_accuracy: 0.9333\n",
      "Epoch 82/500\n",
      "34/34 [==============================] - 0s 1ms/step - loss: 0.1003 - sparse_categorical_accuracy: 0.9556 - val_loss: 0.2323 - val_sparse_categorical_accuracy: 0.9333\n",
      "Epoch 83/500\n",
      "34/34 [==============================] - 0s 2ms/step - loss: 0.1032 - sparse_categorical_accuracy: 0.9778 - val_loss: 0.3194 - val_sparse_categorical_accuracy: 0.8667\n",
      "Epoch 84/500\n",
      "34/34 [==============================] - 0s 1ms/step - loss: 0.1089 - sparse_categorical_accuracy: 0.9630 - val_loss: 0.1613 - val_sparse_categorical_accuracy: 0.9333\n",
      "Epoch 85/500\n",
      "34/34 [==============================] - 0s 1ms/step - loss: 0.1039 - sparse_categorical_accuracy: 0.9630 - val_loss: 0.2163 - val_sparse_categorical_accuracy: 0.9333\n",
      "Epoch 86/500\n",
      "34/34 [==============================] - 0s 1ms/step - loss: 0.0998 - sparse_categorical_accuracy: 0.9556 - val_loss: 0.1881 - val_sparse_categorical_accuracy: 0.9333\n",
      "Epoch 87/500\n",
      "34/34 [==============================] - 0s 1ms/step - loss: 0.0983 - sparse_categorical_accuracy: 0.9481 - val_loss: 0.2492 - val_sparse_categorical_accuracy: 0.9333\n",
      "Epoch 88/500\n",
      "34/34 [==============================] - 0s 1ms/step - loss: 0.0961 - sparse_categorical_accuracy: 0.9556 - val_loss: 0.1897 - val_sparse_categorical_accuracy: 0.9333\n",
      "Epoch 89/500\n",
      "34/34 [==============================] - 0s 1ms/step - loss: 0.0977 - sparse_categorical_accuracy: 0.9778 - val_loss: 0.2308 - val_sparse_categorical_accuracy: 0.9333\n",
      "Epoch 90/500\n",
      "34/34 [==============================] - 0s 1ms/step - loss: 0.0955 - sparse_categorical_accuracy: 0.9556 - val_loss: 0.2926 - val_sparse_categorical_accuracy: 0.9333\n",
      "Epoch 91/500\n",
      "34/34 [==============================] - 0s 2ms/step - loss: 0.0987 - sparse_categorical_accuracy: 0.9481 - val_loss: 0.2063 - val_sparse_categorical_accuracy: 0.9333\n",
      "Epoch 92/500\n",
      "34/34 [==============================] - 0s 1ms/step - loss: 0.0965 - sparse_categorical_accuracy: 0.9556 - val_loss: 0.1913 - val_sparse_categorical_accuracy: 0.9333\n",
      "Epoch 93/500\n",
      "34/34 [==============================] - 0s 1ms/step - loss: 0.0925 - sparse_categorical_accuracy: 0.9556 - val_loss: 0.1896 - val_sparse_categorical_accuracy: 0.9333\n",
      "Epoch 94/500\n",
      "34/34 [==============================] - 0s 1ms/step - loss: 0.0933 - sparse_categorical_accuracy: 0.9630 - val_loss: 0.2342 - val_sparse_categorical_accuracy: 0.9333\n",
      "Epoch 95/500\n",
      "34/34 [==============================] - 0s 1ms/step - loss: 0.0930 - sparse_categorical_accuracy: 0.9630 - val_loss: 0.2185 - val_sparse_categorical_accuracy: 0.9333\n",
      "Epoch 96/500\n",
      "34/34 [==============================] - 0s 1ms/step - loss: 0.0970 - sparse_categorical_accuracy: 0.9630 - val_loss: 0.1519 - val_sparse_categorical_accuracy: 0.9333\n",
      "Epoch 97/500\n",
      "34/34 [==============================] - 0s 997us/step - loss: 0.0893 - sparse_categorical_accuracy: 0.9704 - val_loss: 0.2352 - val_sparse_categorical_accuracy: 0.9333\n",
      "Epoch 98/500\n",
      "34/34 [==============================] - 0s 1ms/step - loss: 0.0907 - sparse_categorical_accuracy: 0.9556 - val_loss: 0.2601 - val_sparse_categorical_accuracy: 0.9333\n",
      "Epoch 99/500\n",
      "34/34 [==============================] - 0s 1ms/step - loss: 0.0902 - sparse_categorical_accuracy: 0.9556 - val_loss: 0.1434 - val_sparse_categorical_accuracy: 0.9333\n",
      "Epoch 100/500\n",
      "34/34 [==============================] - 0s 1ms/step - loss: 0.0907 - sparse_categorical_accuracy: 0.9778 - val_loss: 0.2009 - val_sparse_categorical_accuracy: 0.9333\n",
      "Epoch 101/500\n",
      "34/34 [==============================] - 0s 1ms/step - loss: 0.0900 - sparse_categorical_accuracy: 0.9556 - val_loss: 0.1691 - val_sparse_categorical_accuracy: 0.9333\n",
      "Epoch 102/500\n",
      "34/34 [==============================] - 0s 2ms/step - loss: 0.0965 - sparse_categorical_accuracy: 0.9704 - val_loss: 0.3148 - val_sparse_categorical_accuracy: 0.8667\n",
      "Epoch 103/500\n",
      "34/34 [==============================] - 0s 2ms/step - loss: 0.0904 - sparse_categorical_accuracy: 0.9556 - val_loss: 0.1726 - val_sparse_categorical_accuracy: 0.9333\n",
      "Epoch 104/500\n",
      "34/34 [==============================] - 0s 1ms/step - loss: 0.0875 - sparse_categorical_accuracy: 0.9556 - val_loss: 0.1863 - val_sparse_categorical_accuracy: 0.9333\n",
      "Epoch 105/500\n",
      "34/34 [==============================] - 0s 2ms/step - loss: 0.0976 - sparse_categorical_accuracy: 0.9630 - val_loss: 0.2502 - val_sparse_categorical_accuracy: 0.9333\n",
      "Epoch 106/500\n",
      "34/34 [==============================] - 0s 1ms/step - loss: 0.0851 - sparse_categorical_accuracy: 0.9556 - val_loss: 0.1448 - val_sparse_categorical_accuracy: 0.9333\n",
      "Epoch 107/500\n",
      "34/34 [==============================] - 0s 2ms/step - loss: 0.0860 - sparse_categorical_accuracy: 0.9778 - val_loss: 0.2626 - val_sparse_categorical_accuracy: 0.9333\n",
      "Epoch 108/500\n",
      "34/34 [==============================] - 0s 1ms/step - loss: 0.0858 - sparse_categorical_accuracy: 0.9556 - val_loss: 0.1837 - val_sparse_categorical_accuracy: 0.9333\n",
      "Epoch 109/500\n",
      "34/34 [==============================] - 0s 1ms/step - loss: 0.0863 - sparse_categorical_accuracy: 0.9630 - val_loss: 0.1993 - val_sparse_categorical_accuracy: 0.9333\n",
      "Epoch 110/500\n",
      "34/34 [==============================] - 0s 1ms/step - loss: 0.0868 - sparse_categorical_accuracy: 0.9481 - val_loss: 0.1334 - val_sparse_categorical_accuracy: 0.9333\n",
      "Epoch 111/500\n",
      "34/34 [==============================] - 0s 1ms/step - loss: 0.0878 - sparse_categorical_accuracy: 0.9704 - val_loss: 0.2391 - val_sparse_categorical_accuracy: 0.9333\n",
      "Epoch 112/500\n",
      "34/34 [==============================] - 0s 1ms/step - loss: 0.0822 - sparse_categorical_accuracy: 0.9630 - val_loss: 0.1418 - val_sparse_categorical_accuracy: 0.9333\n",
      "Epoch 113/500\n",
      "34/34 [==============================] - 0s 1ms/step - loss: 0.0836 - sparse_categorical_accuracy: 0.9630 - val_loss: 0.1618 - val_sparse_categorical_accuracy: 0.9333\n",
      "Epoch 114/500\n",
      "34/34 [==============================] - 0s 1ms/step - loss: 0.0822 - sparse_categorical_accuracy: 0.9630 - val_loss: 0.1856 - val_sparse_categorical_accuracy: 0.9333\n",
      "Epoch 115/500\n",
      "34/34 [==============================] - 0s 1ms/step - loss: 0.0909 - sparse_categorical_accuracy: 0.9630 - val_loss: 0.1055 - val_sparse_categorical_accuracy: 1.0000\n",
      "Epoch 116/500\n",
      "34/34 [==============================] - 0s 2ms/step - loss: 0.0875 - sparse_categorical_accuracy: 0.9556 - val_loss: 0.1467 - val_sparse_categorical_accuracy: 0.9333\n",
      "Epoch 117/500\n",
      "34/34 [==============================] - 0s 1ms/step - loss: 0.0910 - sparse_categorical_accuracy: 0.9630 - val_loss: 0.1531 - val_sparse_categorical_accuracy: 0.9333\n",
      "Epoch 118/500\n",
      "34/34 [==============================] - 0s 2ms/step - loss: 0.0873 - sparse_categorical_accuracy: 0.9556 - val_loss: 0.1896 - val_sparse_categorical_accuracy: 0.9333\n",
      "Epoch 119/500\n",
      "34/34 [==============================] - 0s 1ms/step - loss: 0.0848 - sparse_categorical_accuracy: 0.9630 - val_loss: 0.1859 - val_sparse_categorical_accuracy: 0.9333\n",
      "Epoch 120/500\n",
      "34/34 [==============================] - 0s 1ms/step - loss: 0.0838 - sparse_categorical_accuracy: 0.9778 - val_loss: 0.2205 - val_sparse_categorical_accuracy: 0.9333\n",
      "Epoch 121/500\n",
      "34/34 [==============================] - 0s 2ms/step - loss: 0.0830 - sparse_categorical_accuracy: 0.9704 - val_loss: 0.1812 - val_sparse_categorical_accuracy: 0.9333\n",
      "Epoch 122/500\n",
      "34/34 [==============================] - 0s 1ms/step - loss: 0.0792 - sparse_categorical_accuracy: 0.9630 - val_loss: 0.1770 - val_sparse_categorical_accuracy: 0.9333\n",
      "Epoch 123/500\n",
      "34/34 [==============================] - 0s 1ms/step - loss: 0.0813 - sparse_categorical_accuracy: 0.9704 - val_loss: 0.1558 - val_sparse_categorical_accuracy: 0.9333\n",
      "Epoch 124/500\n",
      "34/34 [==============================] - 0s 1ms/step - loss: 0.0773 - sparse_categorical_accuracy: 0.9704 - val_loss: 0.1904 - val_sparse_categorical_accuracy: 0.9333\n",
      "Epoch 125/500\n",
      "34/34 [==============================] - 0s 1ms/step - loss: 0.0801 - sparse_categorical_accuracy: 0.9556 - val_loss: 0.1625 - val_sparse_categorical_accuracy: 0.9333\n",
      "Epoch 126/500\n",
      "34/34 [==============================] - 0s 2ms/step - loss: 0.0851 - sparse_categorical_accuracy: 0.9778 - val_loss: 0.2148 - val_sparse_categorical_accuracy: 0.9333\n",
      "Epoch 127/500\n",
      "34/34 [==============================] - 0s 2ms/step - loss: 0.0785 - sparse_categorical_accuracy: 0.9556 - val_loss: 0.1400 - val_sparse_categorical_accuracy: 0.9333\n",
      "Epoch 128/500\n",
      "34/34 [==============================] - 0s 1ms/step - loss: 0.0845 - sparse_categorical_accuracy: 0.9630 - val_loss: 0.1674 - val_sparse_categorical_accuracy: 0.9333\n",
      "Epoch 129/500\n",
      "34/34 [==============================] - 0s 2ms/step - loss: 0.0789 - sparse_categorical_accuracy: 0.9630 - val_loss: 0.1687 - val_sparse_categorical_accuracy: 0.9333\n",
      "Epoch 130/500\n",
      "34/34 [==============================] - 0s 1ms/step - loss: 0.0778 - sparse_categorical_accuracy: 0.9704 - val_loss: 0.1507 - val_sparse_categorical_accuracy: 0.9333\n",
      "Epoch 131/500\n",
      "34/34 [==============================] - 0s 1ms/step - loss: 0.0809 - sparse_categorical_accuracy: 0.9704 - val_loss: 0.2188 - val_sparse_categorical_accuracy: 0.9333\n",
      "Epoch 132/500\n",
      "34/34 [==============================] - 0s 2ms/step - loss: 0.0852 - sparse_categorical_accuracy: 0.9556 - val_loss: 0.1457 - val_sparse_categorical_accuracy: 0.9333\n",
      "Epoch 133/500\n",
      "34/34 [==============================] - 0s 2ms/step - loss: 0.0827 - sparse_categorical_accuracy: 0.9778 - val_loss: 0.2197 - val_sparse_categorical_accuracy: 0.9333\n",
      "Epoch 134/500\n",
      "34/34 [==============================] - 0s 1ms/step - loss: 0.0823 - sparse_categorical_accuracy: 0.9630 - val_loss: 0.1455 - val_sparse_categorical_accuracy: 0.9333\n",
      "Epoch 135/500\n",
      "34/34 [==============================] - 0s 1ms/step - loss: 0.0790 - sparse_categorical_accuracy: 0.9778 - val_loss: 0.1860 - val_sparse_categorical_accuracy: 0.9333\n",
      "Epoch 136/500\n",
      "34/34 [==============================] - 0s 1ms/step - loss: 0.0808 - sparse_categorical_accuracy: 0.9556 - val_loss: 0.1850 - val_sparse_categorical_accuracy: 0.9333\n",
      "Epoch 137/500\n",
      "34/34 [==============================] - 0s 1ms/step - loss: 0.0801 - sparse_categorical_accuracy: 0.9704 - val_loss: 0.1465 - val_sparse_categorical_accuracy: 0.9333\n",
      "Epoch 138/500\n",
      "34/34 [==============================] - 0s 1ms/step - loss: 0.0758 - sparse_categorical_accuracy: 0.9630 - val_loss: 0.1569 - val_sparse_categorical_accuracy: 0.9333\n",
      "Epoch 139/500\n",
      "34/34 [==============================] - 0s 1ms/step - loss: 0.0775 - sparse_categorical_accuracy: 0.9704 - val_loss: 0.1381 - val_sparse_categorical_accuracy: 0.9333\n",
      "Epoch 140/500\n",
      "34/34 [==============================] - 0s 1ms/step - loss: 0.0740 - sparse_categorical_accuracy: 0.9778 - val_loss: 0.1793 - val_sparse_categorical_accuracy: 0.9333\n",
      "Epoch 141/500\n",
      "34/34 [==============================] - 0s 1ms/step - loss: 0.0745 - sparse_categorical_accuracy: 0.9556 - val_loss: 0.1555 - val_sparse_categorical_accuracy: 0.9333\n",
      "Epoch 142/500\n",
      "34/34 [==============================] - 0s 2ms/step - loss: 0.0810 - sparse_categorical_accuracy: 0.9630 - val_loss: 0.1344 - val_sparse_categorical_accuracy: 0.9333\n",
      "Epoch 143/500\n",
      "34/34 [==============================] - 0s 2ms/step - loss: 0.0780 - sparse_categorical_accuracy: 0.9704 - val_loss: 0.1727 - val_sparse_categorical_accuracy: 0.9333\n",
      "Epoch 144/500\n",
      "34/34 [==============================] - 0s 2ms/step - loss: 0.0735 - sparse_categorical_accuracy: 0.9704 - val_loss: 0.1307 - val_sparse_categorical_accuracy: 0.9333\n",
      "Epoch 145/500\n",
      "34/34 [==============================] - 0s 1ms/step - loss: 0.0780 - sparse_categorical_accuracy: 0.9556 - val_loss: 0.1265 - val_sparse_categorical_accuracy: 0.9333\n",
      "Epoch 146/500\n",
      "34/34 [==============================] - 0s 1ms/step - loss: 0.0745 - sparse_categorical_accuracy: 0.9630 - val_loss: 0.1336 - val_sparse_categorical_accuracy: 0.9333\n",
      "Epoch 147/500\n",
      "34/34 [==============================] - 0s 1ms/step - loss: 0.0712 - sparse_categorical_accuracy: 0.9778 - val_loss: 0.1414 - val_sparse_categorical_accuracy: 0.9333\n",
      "Epoch 148/500\n",
      "34/34 [==============================] - 0s 1ms/step - loss: 0.0763 - sparse_categorical_accuracy: 0.9704 - val_loss: 0.1264 - val_sparse_categorical_accuracy: 0.9333\n",
      "Epoch 149/500\n",
      "34/34 [==============================] - 0s 1ms/step - loss: 0.0728 - sparse_categorical_accuracy: 0.9704 - val_loss: 0.1543 - val_sparse_categorical_accuracy: 0.9333\n",
      "Epoch 150/500\n",
      "34/34 [==============================] - 0s 1ms/step - loss: 0.0758 - sparse_categorical_accuracy: 0.9704 - val_loss: 0.1351 - val_sparse_categorical_accuracy: 0.9333\n",
      "Epoch 151/500\n",
      "34/34 [==============================] - 0s 1ms/step - loss: 0.0771 - sparse_categorical_accuracy: 0.9556 - val_loss: 0.1182 - val_sparse_categorical_accuracy: 0.9333\n",
      "Epoch 152/500\n",
      "34/34 [==============================] - 0s 1ms/step - loss: 0.0710 - sparse_categorical_accuracy: 0.9556 - val_loss: 0.1464 - val_sparse_categorical_accuracy: 0.9333\n",
      "Epoch 153/500\n",
      "34/34 [==============================] - 0s 1ms/step - loss: 0.0755 - sparse_categorical_accuracy: 0.9630 - val_loss: 0.1182 - val_sparse_categorical_accuracy: 0.9333\n",
      "Epoch 154/500\n",
      "34/34 [==============================] - 0s 2ms/step - loss: 0.0729 - sparse_categorical_accuracy: 0.9778 - val_loss: 0.1207 - val_sparse_categorical_accuracy: 0.9333\n",
      "Epoch 155/500\n",
      "34/34 [==============================] - 0s 2ms/step - loss: 0.0719 - sparse_categorical_accuracy: 0.9778 - val_loss: 0.1330 - val_sparse_categorical_accuracy: 0.9333\n",
      "Epoch 156/500\n",
      "34/34 [==============================] - 0s 2ms/step - loss: 0.0704 - sparse_categorical_accuracy: 0.9630 - val_loss: 0.1243 - val_sparse_categorical_accuracy: 0.9333\n",
      "Epoch 157/500\n",
      "34/34 [==============================] - 0s 1ms/step - loss: 0.0711 - sparse_categorical_accuracy: 0.9704 - val_loss: 0.1089 - val_sparse_categorical_accuracy: 0.9333\n",
      "Epoch 158/500\n",
      "34/34 [==============================] - 0s 1ms/step - loss: 0.0700 - sparse_categorical_accuracy: 0.9778 - val_loss: 0.1635 - val_sparse_categorical_accuracy: 0.9333\n",
      "Epoch 159/500\n",
      "34/34 [==============================] - 0s 1ms/step - loss: 0.0709 - sparse_categorical_accuracy: 0.9630 - val_loss: 0.1486 - val_sparse_categorical_accuracy: 0.9333\n",
      "Epoch 160/500\n",
      "34/34 [==============================] - 0s 1ms/step - loss: 0.0685 - sparse_categorical_accuracy: 0.9852 - val_loss: 0.1116 - val_sparse_categorical_accuracy: 0.9333\n",
      "Epoch 161/500\n",
      "34/34 [==============================] - 0s 1ms/step - loss: 0.0709 - sparse_categorical_accuracy: 0.9704 - val_loss: 0.1259 - val_sparse_categorical_accuracy: 0.9333\n",
      "Epoch 162/500\n",
      "34/34 [==============================] - 0s 1ms/step - loss: 0.0766 - sparse_categorical_accuracy: 0.9778 - val_loss: 0.1713 - val_sparse_categorical_accuracy: 0.9333\n",
      "Epoch 163/500\n",
      "34/34 [==============================] - 0s 1ms/step - loss: 0.0733 - sparse_categorical_accuracy: 0.9556 - val_loss: 0.0826 - val_sparse_categorical_accuracy: 1.0000\n",
      "Epoch 164/500\n",
      "34/34 [==============================] - 0s 1ms/step - loss: 0.0701 - sparse_categorical_accuracy: 0.9778 - val_loss: 0.1190 - val_sparse_categorical_accuracy: 0.9333\n",
      "Epoch 165/500\n",
      "34/34 [==============================] - 0s 1ms/step - loss: 0.0692 - sparse_categorical_accuracy: 0.9852 - val_loss: 0.1151 - val_sparse_categorical_accuracy: 0.9333\n",
      "Epoch 166/500\n",
      "34/34 [==============================] - 0s 1ms/step - loss: 0.0701 - sparse_categorical_accuracy: 0.9630 - val_loss: 0.1140 - val_sparse_categorical_accuracy: 0.9333\n",
      "Epoch 167/500\n",
      "34/34 [==============================] - 0s 1ms/step - loss: 0.0681 - sparse_categorical_accuracy: 0.9852 - val_loss: 0.1481 - val_sparse_categorical_accuracy: 0.9333\n",
      "Epoch 168/500\n",
      "34/34 [==============================] - 0s 1ms/step - loss: 0.0692 - sparse_categorical_accuracy: 0.9630 - val_loss: 0.0950 - val_sparse_categorical_accuracy: 1.0000\n",
      "Epoch 169/500\n",
      "34/34 [==============================] - 0s 1ms/step - loss: 0.0751 - sparse_categorical_accuracy: 0.9704 - val_loss: 0.1585 - val_sparse_categorical_accuracy: 0.9333\n",
      "Epoch 170/500\n",
      "34/34 [==============================] - 0s 1ms/step - loss: 0.0687 - sparse_categorical_accuracy: 0.9778 - val_loss: 0.1388 - val_sparse_categorical_accuracy: 0.9333\n",
      "Epoch 171/500\n",
      "34/34 [==============================] - 0s 1ms/step - loss: 0.0710 - sparse_categorical_accuracy: 0.9704 - val_loss: 0.1623 - val_sparse_categorical_accuracy: 0.9333\n",
      "Epoch 172/500\n",
      "34/34 [==============================] - 0s 1ms/step - loss: 0.0703 - sparse_categorical_accuracy: 0.9556 - val_loss: 0.1357 - val_sparse_categorical_accuracy: 0.9333\n",
      "Epoch 173/500\n",
      "34/34 [==============================] - 0s 1ms/step - loss: 0.0731 - sparse_categorical_accuracy: 0.9778 - val_loss: 0.1229 - val_sparse_categorical_accuracy: 0.9333\n",
      "Epoch 174/500\n",
      "34/34 [==============================] - 0s 1ms/step - loss: 0.0729 - sparse_categorical_accuracy: 0.9630 - val_loss: 0.0917 - val_sparse_categorical_accuracy: 1.0000\n",
      "Epoch 175/500\n",
      "34/34 [==============================] - 0s 1ms/step - loss: 0.0678 - sparse_categorical_accuracy: 0.9778 - val_loss: 0.1257 - val_sparse_categorical_accuracy: 0.9333\n",
      "Epoch 176/500\n",
      "34/34 [==============================] - 0s 1ms/step - loss: 0.0666 - sparse_categorical_accuracy: 0.9778 - val_loss: 0.1376 - val_sparse_categorical_accuracy: 0.9333\n",
      "Epoch 177/500\n",
      "34/34 [==============================] - 0s 1ms/step - loss: 0.0675 - sparse_categorical_accuracy: 0.9778 - val_loss: 0.1379 - val_sparse_categorical_accuracy: 0.9333\n",
      "Epoch 178/500\n",
      "34/34 [==============================] - 0s 1ms/step - loss: 0.0707 - sparse_categorical_accuracy: 0.9704 - val_loss: 0.0965 - val_sparse_categorical_accuracy: 0.9333\n",
      "Epoch 179/500\n",
      "34/34 [==============================] - 0s 1ms/step - loss: 0.0707 - sparse_categorical_accuracy: 0.9704 - val_loss: 0.1043 - val_sparse_categorical_accuracy: 0.9333\n",
      "Epoch 180/500\n",
      "34/34 [==============================] - 0s 1ms/step - loss: 0.0716 - sparse_categorical_accuracy: 0.9778 - val_loss: 0.1084 - val_sparse_categorical_accuracy: 0.9333\n",
      "Epoch 181/500\n",
      "34/34 [==============================] - 0s 987us/step - loss: 0.0697 - sparse_categorical_accuracy: 0.9704 - val_loss: 0.0739 - val_sparse_categorical_accuracy: 1.0000\n",
      "Epoch 182/500\n",
      "34/34 [==============================] - 0s 1ms/step - loss: 0.0686 - sparse_categorical_accuracy: 0.9852 - val_loss: 0.1132 - val_sparse_categorical_accuracy: 0.9333\n",
      "Epoch 183/500\n",
      "34/34 [==============================] - 0s 1ms/step - loss: 0.0662 - sparse_categorical_accuracy: 0.9778 - val_loss: 0.0989 - val_sparse_categorical_accuracy: 0.9333\n",
      "Epoch 184/500\n",
      "34/34 [==============================] - 0s 1ms/step - loss: 0.0750 - sparse_categorical_accuracy: 0.9630 - val_loss: 0.0945 - val_sparse_categorical_accuracy: 0.9333\n",
      "Epoch 185/500\n",
      "34/34 [==============================] - 0s 1ms/step - loss: 0.0663 - sparse_categorical_accuracy: 0.9852 - val_loss: 0.0763 - val_sparse_categorical_accuracy: 1.0000\n",
      "Epoch 186/500\n",
      "34/34 [==============================] - 0s 1ms/step - loss: 0.0678 - sparse_categorical_accuracy: 0.9852 - val_loss: 0.0996 - val_sparse_categorical_accuracy: 0.9333\n",
      "Epoch 187/500\n",
      "34/34 [==============================] - 0s 1ms/step - loss: 0.0682 - sparse_categorical_accuracy: 0.9704 - val_loss: 0.1097 - val_sparse_categorical_accuracy: 0.9333\n",
      "Epoch 188/500\n",
      "34/34 [==============================] - 0s 1ms/step - loss: 0.0666 - sparse_categorical_accuracy: 0.9778 - val_loss: 0.0940 - val_sparse_categorical_accuracy: 0.9333\n",
      "Epoch 189/500\n",
      "34/34 [==============================] - 0s 1ms/step - loss: 0.0681 - sparse_categorical_accuracy: 0.9778 - val_loss: 0.1436 - val_sparse_categorical_accuracy: 0.9333\n",
      "Epoch 190/500\n",
      "34/34 [==============================] - 0s 1ms/step - loss: 0.0706 - sparse_categorical_accuracy: 0.9556 - val_loss: 0.0928 - val_sparse_categorical_accuracy: 1.0000\n",
      "Epoch 191/500\n",
      "34/34 [==============================] - 0s 1ms/step - loss: 0.0655 - sparse_categorical_accuracy: 0.9704 - val_loss: 0.1171 - val_sparse_categorical_accuracy: 0.9333\n",
      "Epoch 192/500\n",
      "34/34 [==============================] - 0s 1ms/step - loss: 0.0643 - sparse_categorical_accuracy: 0.9852 - val_loss: 0.1084 - val_sparse_categorical_accuracy: 0.9333\n",
      "Epoch 193/500\n",
      "34/34 [==============================] - 0s 1ms/step - loss: 0.0645 - sparse_categorical_accuracy: 0.9852 - val_loss: 0.1227 - val_sparse_categorical_accuracy: 0.9333\n",
      "Epoch 194/500\n",
      "34/34 [==============================] - 0s 1ms/step - loss: 0.0656 - sparse_categorical_accuracy: 0.9852 - val_loss: 0.1234 - val_sparse_categorical_accuracy: 0.9333\n",
      "Epoch 195/500\n",
      "34/34 [==============================] - 0s 1ms/step - loss: 0.0683 - sparse_categorical_accuracy: 0.9630 - val_loss: 0.1137 - val_sparse_categorical_accuracy: 0.9333\n",
      "Epoch 196/500\n",
      "34/34 [==============================] - 0s 1ms/step - loss: 0.0666 - sparse_categorical_accuracy: 0.9778 - val_loss: 0.0878 - val_sparse_categorical_accuracy: 1.0000\n",
      "Epoch 197/500\n",
      "34/34 [==============================] - 0s 1ms/step - loss: 0.0638 - sparse_categorical_accuracy: 0.9704 - val_loss: 0.1707 - val_sparse_categorical_accuracy: 0.9333\n",
      "Epoch 198/500\n",
      "34/34 [==============================] - 0s 1ms/step - loss: 0.0656 - sparse_categorical_accuracy: 0.9778 - val_loss: 0.0918 - val_sparse_categorical_accuracy: 0.9333\n",
      "Epoch 199/500\n",
      "34/34 [==============================] - 0s 1ms/step - loss: 0.0691 - sparse_categorical_accuracy: 0.9852 - val_loss: 0.1843 - val_sparse_categorical_accuracy: 0.9333\n",
      "Epoch 200/500\n",
      "34/34 [==============================] - 0s 1ms/step - loss: 0.0735 - sparse_categorical_accuracy: 0.9630 - val_loss: 0.0808 - val_sparse_categorical_accuracy: 1.0000\n",
      "Epoch 201/500\n",
      "34/34 [==============================] - 0s 1ms/step - loss: 0.0697 - sparse_categorical_accuracy: 0.9778 - val_loss: 0.1290 - val_sparse_categorical_accuracy: 0.9333\n",
      "Epoch 202/500\n",
      "34/34 [==============================] - 0s 1ms/step - loss: 0.0647 - sparse_categorical_accuracy: 0.9778 - val_loss: 0.1264 - val_sparse_categorical_accuracy: 0.9333\n",
      "Epoch 203/500\n",
      "34/34 [==============================] - 0s 1ms/step - loss: 0.0644 - sparse_categorical_accuracy: 0.9630 - val_loss: 0.1360 - val_sparse_categorical_accuracy: 0.9333\n",
      "Epoch 204/500\n",
      "34/34 [==============================] - 0s 1ms/step - loss: 0.0683 - sparse_categorical_accuracy: 0.9704 - val_loss: 0.1183 - val_sparse_categorical_accuracy: 0.9333\n",
      "Epoch 205/500\n",
      "34/34 [==============================] - 0s 1ms/step - loss: 0.0654 - sparse_categorical_accuracy: 0.9778 - val_loss: 0.1132 - val_sparse_categorical_accuracy: 0.9333\n",
      "Epoch 206/500\n",
      "34/34 [==============================] - 0s 1ms/step - loss: 0.0628 - sparse_categorical_accuracy: 0.9852 - val_loss: 0.0951 - val_sparse_categorical_accuracy: 0.9333\n",
      "Epoch 207/500\n",
      "34/34 [==============================] - 0s 1ms/step - loss: 0.0641 - sparse_categorical_accuracy: 0.9852 - val_loss: 0.1414 - val_sparse_categorical_accuracy: 0.9333\n",
      "Epoch 208/500\n",
      "34/34 [==============================] - 0s 1ms/step - loss: 0.0685 - sparse_categorical_accuracy: 0.9778 - val_loss: 0.0976 - val_sparse_categorical_accuracy: 0.9333\n",
      "Epoch 209/500\n",
      "34/34 [==============================] - 0s 1ms/step - loss: 0.0640 - sparse_categorical_accuracy: 0.9704 - val_loss: 0.0914 - val_sparse_categorical_accuracy: 0.9333\n",
      "Epoch 210/500\n",
      "34/34 [==============================] - 0s 1ms/step - loss: 0.0657 - sparse_categorical_accuracy: 0.9852 - val_loss: 0.1219 - val_sparse_categorical_accuracy: 0.9333\n",
      "Epoch 211/500\n",
      "34/34 [==============================] - 0s 1ms/step - loss: 0.0637 - sparse_categorical_accuracy: 0.9852 - val_loss: 0.0999 - val_sparse_categorical_accuracy: 0.9333\n",
      "Epoch 212/500\n",
      "34/34 [==============================] - 0s 1ms/step - loss: 0.0627 - sparse_categorical_accuracy: 0.9704 - val_loss: 0.1075 - val_sparse_categorical_accuracy: 0.9333\n",
      "Epoch 213/500\n",
      "34/34 [==============================] - 0s 997us/step - loss: 0.0633 - sparse_categorical_accuracy: 0.9778 - val_loss: 0.1163 - val_sparse_categorical_accuracy: 0.9333\n",
      "Epoch 214/500\n",
      "34/34 [==============================] - 0s 1ms/step - loss: 0.0700 - sparse_categorical_accuracy: 0.9630 - val_loss: 0.1401 - val_sparse_categorical_accuracy: 0.9333\n",
      "Epoch 215/500\n",
      "34/34 [==============================] - 0s 997us/step - loss: 0.0647 - sparse_categorical_accuracy: 0.9704 - val_loss: 0.1117 - val_sparse_categorical_accuracy: 0.9333\n",
      "Epoch 216/500\n",
      "34/34 [==============================] - 0s 939us/step - loss: 0.0612 - sparse_categorical_accuracy: 0.9778 - val_loss: 0.0982 - val_sparse_categorical_accuracy: 0.9333\n",
      "Epoch 217/500\n",
      "34/34 [==============================] - 0s 1ms/step - loss: 0.0638 - sparse_categorical_accuracy: 0.9778 - val_loss: 0.0903 - val_sparse_categorical_accuracy: 0.9333\n",
      "Epoch 218/500\n",
      "34/34 [==============================] - 0s 1ms/step - loss: 0.0674 - sparse_categorical_accuracy: 0.9630 - val_loss: 0.0793 - val_sparse_categorical_accuracy: 1.0000\n",
      "Epoch 219/500\n",
      "34/34 [==============================] - 0s 1ms/step - loss: 0.0641 - sparse_categorical_accuracy: 0.9630 - val_loss: 0.0818 - val_sparse_categorical_accuracy: 1.0000\n",
      "Epoch 220/500\n",
      "34/34 [==============================] - 0s 1ms/step - loss: 0.0639 - sparse_categorical_accuracy: 0.9704 - val_loss: 0.1176 - val_sparse_categorical_accuracy: 0.9333\n",
      "Epoch 221/500\n",
      "34/34 [==============================] - 0s 1ms/step - loss: 0.0641 - sparse_categorical_accuracy: 0.9778 - val_loss: 0.1038 - val_sparse_categorical_accuracy: 0.9333\n",
      "Epoch 222/500\n",
      "34/34 [==============================] - 0s 1ms/step - loss: 0.0651 - sparse_categorical_accuracy: 0.9778 - val_loss: 0.1026 - val_sparse_categorical_accuracy: 0.9333\n",
      "Epoch 223/500\n",
      "34/34 [==============================] - 0s 1ms/step - loss: 0.0610 - sparse_categorical_accuracy: 0.9704 - val_loss: 0.1122 - val_sparse_categorical_accuracy: 0.9333\n",
      "Epoch 224/500\n",
      "34/34 [==============================] - 0s 1ms/step - loss: 0.0623 - sparse_categorical_accuracy: 0.9852 - val_loss: 0.0995 - val_sparse_categorical_accuracy: 0.9333\n",
      "Epoch 225/500\n",
      "34/34 [==============================] - 0s 1ms/step - loss: 0.0610 - sparse_categorical_accuracy: 0.9704 - val_loss: 0.1170 - val_sparse_categorical_accuracy: 0.9333\n",
      "Epoch 226/500\n",
      "34/34 [==============================] - 0s 1ms/step - loss: 0.0617 - sparse_categorical_accuracy: 0.9778 - val_loss: 0.0987 - val_sparse_categorical_accuracy: 0.9333\n",
      "Epoch 227/500\n",
      "34/34 [==============================] - 0s 1ms/step - loss: 0.0602 - sparse_categorical_accuracy: 0.9778 - val_loss: 0.1005 - val_sparse_categorical_accuracy: 0.9333\n",
      "Epoch 228/500\n",
      "34/34 [==============================] - 0s 968us/step - loss: 0.0624 - sparse_categorical_accuracy: 0.9852 - val_loss: 0.0876 - val_sparse_categorical_accuracy: 0.9333\n",
      "Epoch 229/500\n",
      "34/34 [==============================] - 0s 1ms/step - loss: 0.0646 - sparse_categorical_accuracy: 0.9630 - val_loss: 0.0776 - val_sparse_categorical_accuracy: 1.0000\n",
      "Epoch 230/500\n",
      "34/34 [==============================] - 0s 997us/step - loss: 0.0645 - sparse_categorical_accuracy: 0.9778 - val_loss: 0.0724 - val_sparse_categorical_accuracy: 1.0000\n",
      "Epoch 231/500\n",
      "34/34 [==============================] - 0s 1ms/step - loss: 0.0625 - sparse_categorical_accuracy: 0.9778 - val_loss: 0.1087 - val_sparse_categorical_accuracy: 0.9333\n",
      "Epoch 232/500\n",
      "34/34 [==============================] - 0s 1ms/step - loss: 0.0612 - sparse_categorical_accuracy: 0.9704 - val_loss: 0.0810 - val_sparse_categorical_accuracy: 1.0000\n",
      "Epoch 233/500\n",
      "34/34 [==============================] - 0s 1ms/step - loss: 0.0601 - sparse_categorical_accuracy: 0.9852 - val_loss: 0.1154 - val_sparse_categorical_accuracy: 0.9333\n",
      "Epoch 234/500\n",
      "34/34 [==============================] - 0s 1ms/step - loss: 0.0615 - sparse_categorical_accuracy: 0.9926 - val_loss: 0.0844 - val_sparse_categorical_accuracy: 1.0000\n",
      "Epoch 235/500\n",
      "34/34 [==============================] - 0s 1ms/step - loss: 0.0599 - sparse_categorical_accuracy: 0.9778 - val_loss: 0.0814 - val_sparse_categorical_accuracy: 1.0000\n",
      "Epoch 236/500\n",
      "34/34 [==============================] - 0s 1ms/step - loss: 0.0599 - sparse_categorical_accuracy: 0.9852 - val_loss: 0.1247 - val_sparse_categorical_accuracy: 0.9333\n",
      "Epoch 237/500\n",
      "34/34 [==============================] - 0s 996us/step - loss: 0.0636 - sparse_categorical_accuracy: 0.9704 - val_loss: 0.1058 - val_sparse_categorical_accuracy: 0.9333\n",
      "Epoch 238/500\n",
      "34/34 [==============================] - 0s 1ms/step - loss: 0.0633 - sparse_categorical_accuracy: 0.9852 - val_loss: 0.1172 - val_sparse_categorical_accuracy: 0.9333\n",
      "Epoch 239/500\n",
      "34/34 [==============================] - 0s 1ms/step - loss: 0.0616 - sparse_categorical_accuracy: 0.9630 - val_loss: 0.0830 - val_sparse_categorical_accuracy: 1.0000\n",
      "Epoch 240/500\n",
      "34/34 [==============================] - 0s 1ms/step - loss: 0.0604 - sparse_categorical_accuracy: 0.9852 - val_loss: 0.0776 - val_sparse_categorical_accuracy: 1.0000\n",
      "Epoch 241/500\n",
      "34/34 [==============================] - 0s 1ms/step - loss: 0.0626 - sparse_categorical_accuracy: 0.9704 - val_loss: 0.0983 - val_sparse_categorical_accuracy: 0.9333\n",
      "Epoch 242/500\n",
      "34/34 [==============================] - 0s 1ms/step - loss: 0.0645 - sparse_categorical_accuracy: 0.9852 - val_loss: 0.0763 - val_sparse_categorical_accuracy: 1.0000\n",
      "Epoch 243/500\n",
      "34/34 [==============================] - 0s 997us/step - loss: 0.0608 - sparse_categorical_accuracy: 0.9630 - val_loss: 0.0903 - val_sparse_categorical_accuracy: 0.9333\n",
      "Epoch 244/500\n",
      "34/34 [==============================] - 0s 1ms/step - loss: 0.0618 - sparse_categorical_accuracy: 0.9778 - val_loss: 0.1072 - val_sparse_categorical_accuracy: 0.9333\n",
      "Epoch 245/500\n",
      "34/34 [==============================] - 0s 1ms/step - loss: 0.0612 - sparse_categorical_accuracy: 0.9704 - val_loss: 0.0756 - val_sparse_categorical_accuracy: 1.0000\n",
      "Epoch 246/500\n",
      "34/34 [==============================] - 0s 1ms/step - loss: 0.0736 - sparse_categorical_accuracy: 0.9778 - val_loss: 0.1037 - val_sparse_categorical_accuracy: 0.9333\n",
      "Epoch 247/500\n",
      "34/34 [==============================] - 0s 1ms/step - loss: 0.0664 - sparse_categorical_accuracy: 0.9704 - val_loss: 0.1031 - val_sparse_categorical_accuracy: 0.9333\n",
      "Epoch 248/500\n",
      "34/34 [==============================] - 0s 1ms/step - loss: 0.0635 - sparse_categorical_accuracy: 0.9704 - val_loss: 0.0772 - val_sparse_categorical_accuracy: 1.0000\n",
      "Epoch 249/500\n",
      "34/34 [==============================] - 0s 2ms/step - loss: 0.0624 - sparse_categorical_accuracy: 0.9704 - val_loss: 0.0898 - val_sparse_categorical_accuracy: 0.9333\n",
      "Epoch 250/500\n",
      "34/34 [==============================] - 0s 1ms/step - loss: 0.0590 - sparse_categorical_accuracy: 0.9778 - val_loss: 0.0732 - val_sparse_categorical_accuracy: 1.0000\n",
      "Epoch 251/500\n",
      "34/34 [==============================] - 0s 1ms/step - loss: 0.0599 - sparse_categorical_accuracy: 0.9778 - val_loss: 0.0955 - val_sparse_categorical_accuracy: 0.9333\n",
      "Epoch 252/500\n",
      "34/34 [==============================] - 0s 1ms/step - loss: 0.0607 - sparse_categorical_accuracy: 0.9778 - val_loss: 0.0956 - val_sparse_categorical_accuracy: 0.9333\n",
      "Epoch 253/500\n",
      "34/34 [==============================] - 0s 1ms/step - loss: 0.0686 - sparse_categorical_accuracy: 0.9704 - val_loss: 0.1077 - val_sparse_categorical_accuracy: 0.9333\n",
      "Epoch 254/500\n",
      "34/34 [==============================] - 0s 997us/step - loss: 0.0585 - sparse_categorical_accuracy: 0.9852 - val_loss: 0.0476 - val_sparse_categorical_accuracy: 1.0000\n",
      "Epoch 255/500\n",
      "34/34 [==============================] - 0s 1ms/step - loss: 0.0607 - sparse_categorical_accuracy: 0.9778 - val_loss: 0.1126 - val_sparse_categorical_accuracy: 0.9333\n",
      "Epoch 256/500\n",
      "34/34 [==============================] - 0s 1ms/step - loss: 0.0590 - sparse_categorical_accuracy: 0.9778 - val_loss: 0.0776 - val_sparse_categorical_accuracy: 1.0000\n",
      "Epoch 257/500\n",
      "34/34 [==============================] - 0s 1ms/step - loss: 0.0582 - sparse_categorical_accuracy: 0.9852 - val_loss: 0.0876 - val_sparse_categorical_accuracy: 0.9333\n",
      "Epoch 258/500\n",
      "34/34 [==============================] - 0s 1ms/step - loss: 0.0588 - sparse_categorical_accuracy: 0.9778 - val_loss: 0.0867 - val_sparse_categorical_accuracy: 0.9333\n",
      "Epoch 259/500\n",
      "34/34 [==============================] - 0s 1ms/step - loss: 0.0587 - sparse_categorical_accuracy: 0.9852 - val_loss: 0.0758 - val_sparse_categorical_accuracy: 1.0000\n",
      "Epoch 260/500\n",
      "34/34 [==============================] - 0s 1ms/step - loss: 0.0580 - sparse_categorical_accuracy: 0.9778 - val_loss: 0.0830 - val_sparse_categorical_accuracy: 0.9333\n",
      "Epoch 261/500\n",
      "34/34 [==============================] - 0s 1ms/step - loss: 0.0588 - sparse_categorical_accuracy: 0.9704 - val_loss: 0.0852 - val_sparse_categorical_accuracy: 0.9333\n",
      "Epoch 262/500\n",
      "34/34 [==============================] - 0s 958us/step - loss: 0.0598 - sparse_categorical_accuracy: 0.9852 - val_loss: 0.0980 - val_sparse_categorical_accuracy: 0.9333\n",
      "Epoch 263/500\n",
      "34/34 [==============================] - 0s 1ms/step - loss: 0.0609 - sparse_categorical_accuracy: 0.9778 - val_loss: 0.0853 - val_sparse_categorical_accuracy: 0.9333\n",
      "Epoch 264/500\n",
      "34/34 [==============================] - 0s 1ms/step - loss: 0.0611 - sparse_categorical_accuracy: 0.9852 - val_loss: 0.0978 - val_sparse_categorical_accuracy: 0.9333\n",
      "Epoch 265/500\n",
      "34/34 [==============================] - 0s 1ms/step - loss: 0.0590 - sparse_categorical_accuracy: 0.9778 - val_loss: 0.0680 - val_sparse_categorical_accuracy: 1.0000\n",
      "Epoch 266/500\n",
      "34/34 [==============================] - 0s 1ms/step - loss: 0.0627 - sparse_categorical_accuracy: 0.9778 - val_loss: 0.1074 - val_sparse_categorical_accuracy: 0.9333\n",
      "Epoch 267/500\n",
      "34/34 [==============================] - 0s 1ms/step - loss: 0.0574 - sparse_categorical_accuracy: 0.9778 - val_loss: 0.0740 - val_sparse_categorical_accuracy: 1.0000\n",
      "Epoch 268/500\n",
      "34/34 [==============================] - 0s 1ms/step - loss: 0.0613 - sparse_categorical_accuracy: 0.9778 - val_loss: 0.0632 - val_sparse_categorical_accuracy: 1.0000\n",
      "Epoch 269/500\n",
      "34/34 [==============================] - 0s 1ms/step - loss: 0.0605 - sparse_categorical_accuracy: 0.9852 - val_loss: 0.0789 - val_sparse_categorical_accuracy: 1.0000\n",
      "Epoch 270/500\n",
      "34/34 [==============================] - 0s 997us/step - loss: 0.0589 - sparse_categorical_accuracy: 0.9852 - val_loss: 0.0622 - val_sparse_categorical_accuracy: 1.0000\n",
      "Epoch 271/500\n",
      "34/34 [==============================] - 0s 997us/step - loss: 0.0696 - sparse_categorical_accuracy: 0.9630 - val_loss: 0.0921 - val_sparse_categorical_accuracy: 0.9333\n",
      "Epoch 272/500\n",
      "34/34 [==============================] - 0s 1ms/step - loss: 0.0580 - sparse_categorical_accuracy: 0.9778 - val_loss: 0.0477 - val_sparse_categorical_accuracy: 1.0000\n",
      "Epoch 273/500\n",
      "34/34 [==============================] - 0s 1ms/step - loss: 0.0636 - sparse_categorical_accuracy: 0.9778 - val_loss: 0.1024 - val_sparse_categorical_accuracy: 0.9333\n",
      "Epoch 274/500\n",
      "34/34 [==============================] - 0s 1ms/step - loss: 0.0588 - sparse_categorical_accuracy: 0.9778 - val_loss: 0.0710 - val_sparse_categorical_accuracy: 1.0000\n",
      "Epoch 275/500\n",
      "34/34 [==============================] - 0s 1ms/step - loss: 0.0590 - sparse_categorical_accuracy: 0.9778 - val_loss: 0.1057 - val_sparse_categorical_accuracy: 0.9333\n",
      "Epoch 276/500\n",
      "34/34 [==============================] - 0s 1ms/step - loss: 0.0649 - sparse_categorical_accuracy: 0.9778 - val_loss: 0.0778 - val_sparse_categorical_accuracy: 1.0000\n",
      "Epoch 277/500\n",
      "34/34 [==============================] - 0s 1ms/step - loss: 0.0593 - sparse_categorical_accuracy: 0.9704 - val_loss: 0.0997 - val_sparse_categorical_accuracy: 0.9333\n",
      "Epoch 278/500\n",
      "34/34 [==============================] - 0s 1ms/step - loss: 0.0579 - sparse_categorical_accuracy: 0.9852 - val_loss: 0.0579 - val_sparse_categorical_accuracy: 1.0000\n",
      "Epoch 279/500\n",
      "34/34 [==============================] - 0s 1ms/step - loss: 0.0615 - sparse_categorical_accuracy: 0.9778 - val_loss: 0.0585 - val_sparse_categorical_accuracy: 1.0000\n",
      "Epoch 280/500\n",
      "34/34 [==============================] - 0s 1ms/step - loss: 0.0635 - sparse_categorical_accuracy: 0.9778 - val_loss: 0.0531 - val_sparse_categorical_accuracy: 1.0000\n",
      "Epoch 281/500\n",
      "34/34 [==============================] - ETA: 0s - loss: 0.1530 - sparse_categorical_accuracy: 1.000 - 0s 1ms/step - loss: 0.0576 - sparse_categorical_accuracy: 0.9852 - val_loss: 0.0672 - val_sparse_categorical_accuracy: 1.0000\n",
      "Epoch 282/500\n",
      "34/34 [==============================] - 0s 1ms/step - loss: 0.0571 - sparse_categorical_accuracy: 0.9778 - val_loss: 0.0737 - val_sparse_categorical_accuracy: 1.0000\n",
      "Epoch 283/500\n",
      "34/34 [==============================] - 0s 1ms/step - loss: 0.0624 - sparse_categorical_accuracy: 0.9704 - val_loss: 0.0658 - val_sparse_categorical_accuracy: 1.0000\n",
      "Epoch 284/500\n",
      "34/34 [==============================] - 0s 1ms/step - loss: 0.0611 - sparse_categorical_accuracy: 0.9852 - val_loss: 0.0710 - val_sparse_categorical_accuracy: 1.0000\n",
      "Epoch 285/500\n",
      "34/34 [==============================] - 0s 1ms/step - loss: 0.0662 - sparse_categorical_accuracy: 0.9630 - val_loss: 0.0456 - val_sparse_categorical_accuracy: 1.0000\n",
      "Epoch 286/500\n",
      "34/34 [==============================] - 0s 1ms/step - loss: 0.0633 - sparse_categorical_accuracy: 0.9778 - val_loss: 0.0517 - val_sparse_categorical_accuracy: 1.0000\n",
      "Epoch 287/500\n",
      "34/34 [==============================] - 0s 994us/step - loss: 0.0649 - sparse_categorical_accuracy: 0.9630 - val_loss: 0.1113 - val_sparse_categorical_accuracy: 0.9333\n",
      "Epoch 288/500\n",
      "34/34 [==============================] - 0s 1ms/step - loss: 0.0635 - sparse_categorical_accuracy: 0.9778 - val_loss: 0.0800 - val_sparse_categorical_accuracy: 0.9333\n",
      "Epoch 289/500\n",
      "34/34 [==============================] - 0s 1ms/step - loss: 0.0570 - sparse_categorical_accuracy: 0.9852 - val_loss: 0.0765 - val_sparse_categorical_accuracy: 1.0000\n",
      "Epoch 290/500\n",
      "34/34 [==============================] - 0s 940us/step - loss: 0.0623 - sparse_categorical_accuracy: 0.9778 - val_loss: 0.0749 - val_sparse_categorical_accuracy: 1.0000\n",
      "Epoch 291/500\n",
      "34/34 [==============================] - 0s 1ms/step - loss: 0.0660 - sparse_categorical_accuracy: 0.9778 - val_loss: 0.1112 - val_sparse_categorical_accuracy: 0.9333\n",
      "Epoch 292/500\n",
      "34/34 [==============================] - 0s 1ms/step - loss: 0.0597 - sparse_categorical_accuracy: 0.9704 - val_loss: 0.0541 - val_sparse_categorical_accuracy: 1.0000\n",
      "Epoch 293/500\n",
      "34/34 [==============================] - 0s 2ms/step - loss: 0.0569 - sparse_categorical_accuracy: 0.9852 - val_loss: 0.0645 - val_sparse_categorical_accuracy: 1.0000\n",
      "Epoch 294/500\n",
      "34/34 [==============================] - 0s 2ms/step - loss: 0.0578 - sparse_categorical_accuracy: 0.9778 - val_loss: 0.0724 - val_sparse_categorical_accuracy: 1.0000\n",
      "Epoch 295/500\n",
      "34/34 [==============================] - 0s 1ms/step - loss: 0.0613 - sparse_categorical_accuracy: 0.9704 - val_loss: 0.0699 - val_sparse_categorical_accuracy: 1.0000\n",
      "Epoch 296/500\n",
      "34/34 [==============================] - 0s 995us/step - loss: 0.0588 - sparse_categorical_accuracy: 0.9704 - val_loss: 0.0987 - val_sparse_categorical_accuracy: 0.9333\n",
      "Epoch 297/500\n",
      "34/34 [==============================] - 0s 996us/step - loss: 0.0584 - sparse_categorical_accuracy: 0.9852 - val_loss: 0.0823 - val_sparse_categorical_accuracy: 0.9333\n",
      "Epoch 298/500\n",
      "34/34 [==============================] - 0s 1ms/step - loss: 0.0583 - sparse_categorical_accuracy: 0.9852 - val_loss: 0.0908 - val_sparse_categorical_accuracy: 0.9333\n",
      "Epoch 299/500\n",
      "34/34 [==============================] - 0s 1ms/step - loss: 0.0614 - sparse_categorical_accuracy: 0.9778 - val_loss: 0.0629 - val_sparse_categorical_accuracy: 1.0000\n",
      "Epoch 300/500\n",
      "34/34 [==============================] - 0s 1ms/step - loss: 0.0607 - sparse_categorical_accuracy: 0.9778 - val_loss: 0.1098 - val_sparse_categorical_accuracy: 0.9333\n",
      "Epoch 301/500\n",
      "34/34 [==============================] - 0s 1ms/step - loss: 0.0637 - sparse_categorical_accuracy: 0.9778 - val_loss: 0.0626 - val_sparse_categorical_accuracy: 1.0000\n",
      "Epoch 302/500\n",
      "34/34 [==============================] - 0s 1ms/step - loss: 0.0554 - sparse_categorical_accuracy: 0.9778 - val_loss: 0.0851 - val_sparse_categorical_accuracy: 0.9333\n",
      "Epoch 303/500\n",
      "34/34 [==============================] - 0s 1ms/step - loss: 0.0595 - sparse_categorical_accuracy: 0.9704 - val_loss: 0.0547 - val_sparse_categorical_accuracy: 1.0000\n",
      "Epoch 304/500\n",
      "34/34 [==============================] - 0s 997us/step - loss: 0.0585 - sparse_categorical_accuracy: 0.9852 - val_loss: 0.0790 - val_sparse_categorical_accuracy: 0.9333\n",
      "Epoch 305/500\n",
      "34/34 [==============================] - 0s 1ms/step - loss: 0.0572 - sparse_categorical_accuracy: 0.9778 - val_loss: 0.0854 - val_sparse_categorical_accuracy: 0.9333\n",
      "Epoch 306/500\n",
      "34/34 [==============================] - 0s 984us/step - loss: 0.0570 - sparse_categorical_accuracy: 0.9778 - val_loss: 0.0553 - val_sparse_categorical_accuracy: 1.0000\n",
      "Epoch 307/500\n",
      "34/34 [==============================] - 0s 1ms/step - loss: 0.0563 - sparse_categorical_accuracy: 0.9852 - val_loss: 0.0755 - val_sparse_categorical_accuracy: 1.0000\n",
      "Epoch 308/500\n",
      "34/34 [==============================] - 0s 1ms/step - loss: 0.0572 - sparse_categorical_accuracy: 0.9778 - val_loss: 0.0629 - val_sparse_categorical_accuracy: 1.0000\n",
      "Epoch 309/500\n",
      "34/34 [==============================] - 0s 1ms/step - loss: 0.0585 - sparse_categorical_accuracy: 0.9778 - val_loss: 0.0741 - val_sparse_categorical_accuracy: 1.0000\n",
      "Epoch 310/500\n",
      "34/34 [==============================] - 0s 1ms/step - loss: 0.0554 - sparse_categorical_accuracy: 0.9852 - val_loss: 0.0958 - val_sparse_categorical_accuracy: 0.9333\n",
      "Epoch 311/500\n",
      "34/34 [==============================] - 0s 1ms/step - loss: 0.0612 - sparse_categorical_accuracy: 0.9704 - val_loss: 0.1022 - val_sparse_categorical_accuracy: 0.9333\n",
      "Epoch 312/500\n",
      "34/34 [==============================] - 0s 1ms/step - loss: 0.0634 - sparse_categorical_accuracy: 0.9630 - val_loss: 0.0627 - val_sparse_categorical_accuracy: 1.0000\n",
      "Epoch 313/500\n",
      "34/34 [==============================] - 0s 1ms/step - loss: 0.0593 - sparse_categorical_accuracy: 0.9926 - val_loss: 0.0897 - val_sparse_categorical_accuracy: 0.9333\n",
      "Epoch 314/500\n",
      "34/34 [==============================] - 0s 1ms/step - loss: 0.0545 - sparse_categorical_accuracy: 0.9852 - val_loss: 0.0592 - val_sparse_categorical_accuracy: 1.0000\n",
      "Epoch 315/500\n",
      "34/34 [==============================] - 0s 1ms/step - loss: 0.0552 - sparse_categorical_accuracy: 0.9852 - val_loss: 0.0713 - val_sparse_categorical_accuracy: 1.0000\n",
      "Epoch 316/500\n",
      "34/34 [==============================] - 0s 1ms/step - loss: 0.0566 - sparse_categorical_accuracy: 0.9778 - val_loss: 0.0835 - val_sparse_categorical_accuracy: 0.9333\n",
      "Epoch 317/500\n",
      "34/34 [==============================] - 0s 1ms/step - loss: 0.0598 - sparse_categorical_accuracy: 0.9778 - val_loss: 0.0519 - val_sparse_categorical_accuracy: 1.0000\n",
      "Epoch 318/500\n",
      "34/34 [==============================] - 0s 1ms/step - loss: 0.0655 - sparse_categorical_accuracy: 0.9778 - val_loss: 0.0973 - val_sparse_categorical_accuracy: 0.9333\n",
      "Epoch 319/500\n",
      "34/34 [==============================] - 0s 1ms/step - loss: 0.0583 - sparse_categorical_accuracy: 0.9704 - val_loss: 0.0824 - val_sparse_categorical_accuracy: 0.9333\n",
      "Epoch 320/500\n",
      "34/34 [==============================] - 0s 1ms/step - loss: 0.0575 - sparse_categorical_accuracy: 0.9852 - val_loss: 0.0653 - val_sparse_categorical_accuracy: 1.0000\n",
      "Epoch 321/500\n",
      "34/34 [==============================] - 0s 968us/step - loss: 0.0544 - sparse_categorical_accuracy: 0.9852 - val_loss: 0.1011 - val_sparse_categorical_accuracy: 0.9333\n",
      "Epoch 322/500\n",
      "34/34 [==============================] - 0s 998us/step - loss: 0.0618 - sparse_categorical_accuracy: 0.9704 - val_loss: 0.0990 - val_sparse_categorical_accuracy: 0.9333\n",
      "Epoch 323/500\n",
      "34/34 [==============================] - 0s 1ms/step - loss: 0.0591 - sparse_categorical_accuracy: 0.9704 - val_loss: 0.0541 - val_sparse_categorical_accuracy: 1.0000\n",
      "Epoch 324/500\n",
      "34/34 [==============================] - 0s 1ms/step - loss: 0.0632 - sparse_categorical_accuracy: 0.9704 - val_loss: 0.0820 - val_sparse_categorical_accuracy: 0.9333\n",
      "Epoch 325/500\n",
      "34/34 [==============================] - 0s 990us/step - loss: 0.0567 - sparse_categorical_accuracy: 0.9852 - val_loss: 0.0849 - val_sparse_categorical_accuracy: 0.9333\n",
      "Epoch 326/500\n",
      "34/34 [==============================] - 0s 1ms/step - loss: 0.0555 - sparse_categorical_accuracy: 0.9852 - val_loss: 0.0561 - val_sparse_categorical_accuracy: 1.0000\n",
      "Epoch 327/500\n",
      "34/34 [==============================] - 0s 1ms/step - loss: 0.0607 - sparse_categorical_accuracy: 0.9778 - val_loss: 0.0924 - val_sparse_categorical_accuracy: 0.9333\n",
      "Epoch 328/500\n",
      "34/34 [==============================] - 0s 1ms/step - loss: 0.0565 - sparse_categorical_accuracy: 0.9778 - val_loss: 0.0730 - val_sparse_categorical_accuracy: 1.0000\n",
      "Epoch 329/500\n",
      "34/34 [==============================] - 0s 1ms/step - loss: 0.0551 - sparse_categorical_accuracy: 0.9852 - val_loss: 0.0554 - val_sparse_categorical_accuracy: 1.0000\n",
      "Epoch 330/500\n",
      "34/34 [==============================] - 0s 1ms/step - loss: 0.0575 - sparse_categorical_accuracy: 0.9778 - val_loss: 0.0437 - val_sparse_categorical_accuracy: 1.0000\n",
      "Epoch 331/500\n",
      "34/34 [==============================] - 0s 1ms/step - loss: 0.0602 - sparse_categorical_accuracy: 0.9778 - val_loss: 0.0520 - val_sparse_categorical_accuracy: 1.0000\n",
      "Epoch 332/500\n",
      "34/34 [==============================] - 0s 1ms/step - loss: 0.0577 - sparse_categorical_accuracy: 0.9852 - val_loss: 0.0624 - val_sparse_categorical_accuracy: 1.0000\n",
      "Epoch 333/500\n",
      "34/34 [==============================] - 0s 1ms/step - loss: 0.0580 - sparse_categorical_accuracy: 0.9704 - val_loss: 0.0578 - val_sparse_categorical_accuracy: 1.0000\n",
      "Epoch 334/500\n",
      "34/34 [==============================] - 0s 1000us/step - loss: 0.0637 - sparse_categorical_accuracy: 0.9778 - val_loss: 0.0956 - val_sparse_categorical_accuracy: 0.9333\n",
      "Epoch 335/500\n",
      "34/34 [==============================] - 0s 1ms/step - loss: 0.0549 - sparse_categorical_accuracy: 0.9778 - val_loss: 0.0543 - val_sparse_categorical_accuracy: 1.0000\n",
      "Epoch 336/500\n",
      "34/34 [==============================] - 0s 1ms/step - loss: 0.0568 - sparse_categorical_accuracy: 0.9852 - val_loss: 0.0755 - val_sparse_categorical_accuracy: 0.9333\n",
      "Epoch 337/500\n",
      "34/34 [==============================] - 0s 1ms/step - loss: 0.0576 - sparse_categorical_accuracy: 0.9852 - val_loss: 0.0629 - val_sparse_categorical_accuracy: 1.0000\n",
      "Epoch 338/500\n",
      "34/34 [==============================] - 0s 1ms/step - loss: 0.0593 - sparse_categorical_accuracy: 0.9704 - val_loss: 0.0617 - val_sparse_categorical_accuracy: 1.0000\n",
      "Epoch 339/500\n",
      "34/34 [==============================] - 0s 1ms/step - loss: 0.0568 - sparse_categorical_accuracy: 0.9704 - val_loss: 0.0650 - val_sparse_categorical_accuracy: 1.0000\n",
      "Epoch 340/500\n",
      "34/34 [==============================] - 0s 1ms/step - loss: 0.0557 - sparse_categorical_accuracy: 0.9704 - val_loss: 0.0602 - val_sparse_categorical_accuracy: 1.0000\n",
      "Epoch 341/500\n",
      "34/34 [==============================] - 0s 1ms/step - loss: 0.0546 - sparse_categorical_accuracy: 0.9852 - val_loss: 0.0556 - val_sparse_categorical_accuracy: 1.0000\n",
      "Epoch 342/500\n",
      "34/34 [==============================] - 0s 1ms/step - loss: 0.0606 - sparse_categorical_accuracy: 0.9778 - val_loss: 0.0800 - val_sparse_categorical_accuracy: 0.9333\n",
      "Epoch 343/500\n",
      "34/34 [==============================] - 0s 1ms/step - loss: 0.0569 - sparse_categorical_accuracy: 0.9778 - val_loss: 0.0700 - val_sparse_categorical_accuracy: 1.0000\n",
      "Epoch 344/500\n",
      "34/34 [==============================] - 0s 1ms/step - loss: 0.0574 - sparse_categorical_accuracy: 0.9778 - val_loss: 0.0593 - val_sparse_categorical_accuracy: 1.0000\n",
      "Epoch 345/500\n",
      "34/34 [==============================] - 0s 1ms/step - loss: 0.0558 - sparse_categorical_accuracy: 0.9778 - val_loss: 0.0577 - val_sparse_categorical_accuracy: 1.0000\n",
      "Epoch 346/500\n",
      "34/34 [==============================] - 0s 1ms/step - loss: 0.0547 - sparse_categorical_accuracy: 0.9778 - val_loss: 0.0681 - val_sparse_categorical_accuracy: 1.0000\n",
      "Epoch 347/500\n",
      "34/34 [==============================] - 0s 968us/step - loss: 0.0560 - sparse_categorical_accuracy: 0.9852 - val_loss: 0.0700 - val_sparse_categorical_accuracy: 1.0000\n",
      "Epoch 348/500\n",
      "34/34 [==============================] - 0s 1ms/step - loss: 0.0566 - sparse_categorical_accuracy: 0.9852 - val_loss: 0.0860 - val_sparse_categorical_accuracy: 0.9333\n",
      "Epoch 349/500\n",
      "34/34 [==============================] - 0s 997us/step - loss: 0.0578 - sparse_categorical_accuracy: 0.9778 - val_loss: 0.0887 - val_sparse_categorical_accuracy: 0.9333\n",
      "Epoch 350/500\n",
      "34/34 [==============================] - 0s 1ms/step - loss: 0.0568 - sparse_categorical_accuracy: 0.9852 - val_loss: 0.0493 - val_sparse_categorical_accuracy: 1.0000\n",
      "Epoch 351/500\n",
      "34/34 [==============================] - 0s 1ms/step - loss: 0.0566 - sparse_categorical_accuracy: 0.9852 - val_loss: 0.0775 - val_sparse_categorical_accuracy: 0.9333\n",
      "Epoch 352/500\n",
      "34/34 [==============================] - 0s 1ms/step - loss: 0.0549 - sparse_categorical_accuracy: 0.9926 - val_loss: 0.0652 - val_sparse_categorical_accuracy: 1.0000\n",
      "Epoch 353/500\n",
      "34/34 [==============================] - 0s 1ms/step - loss: 0.0559 - sparse_categorical_accuracy: 0.9852 - val_loss: 0.0564 - val_sparse_categorical_accuracy: 1.0000\n",
      "Epoch 354/500\n",
      "34/34 [==============================] - 0s 1ms/step - loss: 0.0537 - sparse_categorical_accuracy: 0.9778 - val_loss: 0.0653 - val_sparse_categorical_accuracy: 1.0000\n",
      "Epoch 355/500\n",
      "34/34 [==============================] - 0s 1ms/step - loss: 0.0545 - sparse_categorical_accuracy: 0.9852 - val_loss: 0.0532 - val_sparse_categorical_accuracy: 1.0000\n",
      "Epoch 356/500\n",
      "34/34 [==============================] - 0s 1ms/step - loss: 0.0540 - sparse_categorical_accuracy: 0.9778 - val_loss: 0.0622 - val_sparse_categorical_accuracy: 1.0000\n",
      "Epoch 357/500\n",
      "34/34 [==============================] - 0s 1ms/step - loss: 0.0570 - sparse_categorical_accuracy: 0.9778 - val_loss: 0.0727 - val_sparse_categorical_accuracy: 1.0000\n",
      "Epoch 358/500\n",
      "34/34 [==============================] - 0s 1ms/step - loss: 0.0549 - sparse_categorical_accuracy: 0.9778 - val_loss: 0.0493 - val_sparse_categorical_accuracy: 1.0000\n",
      "Epoch 359/500\n",
      "34/34 [==============================] - 0s 1ms/step - loss: 0.0552 - sparse_categorical_accuracy: 0.9778 - val_loss: 0.0697 - val_sparse_categorical_accuracy: 1.0000\n",
      "Epoch 360/500\n",
      "34/34 [==============================] - 0s 1ms/step - loss: 0.0534 - sparse_categorical_accuracy: 0.9852 - val_loss: 0.0652 - val_sparse_categorical_accuracy: 1.0000\n",
      "Epoch 361/500\n",
      "34/34 [==============================] - 0s 2ms/step - loss: 0.0578 - sparse_categorical_accuracy: 0.9704 - val_loss: 0.0860 - val_sparse_categorical_accuracy: 0.9333\n",
      "Epoch 362/500\n",
      "34/34 [==============================] - 0s 1ms/step - loss: 0.0585 - sparse_categorical_accuracy: 0.9704 - val_loss: 0.0448 - val_sparse_categorical_accuracy: 1.0000\n",
      "Epoch 363/500\n",
      "34/34 [==============================] - 0s 1ms/step - loss: 0.0594 - sparse_categorical_accuracy: 0.9778 - val_loss: 0.0711 - val_sparse_categorical_accuracy: 1.0000\n",
      "Epoch 364/500\n",
      "34/34 [==============================] - 0s 997us/step - loss: 0.0599 - sparse_categorical_accuracy: 0.9778 - val_loss: 0.0594 - val_sparse_categorical_accuracy: 1.0000\n",
      "Epoch 365/500\n",
      "34/34 [==============================] - 0s 1ms/step - loss: 0.0515 - sparse_categorical_accuracy: 0.9852 - val_loss: 0.0835 - val_sparse_categorical_accuracy: 0.9333\n",
      "Epoch 366/500\n",
      "34/34 [==============================] - ETA: 0s - loss: 1.8539e-04 - sparse_categorical_accuracy: 1.000 - 0s 1ms/step - loss: 0.0556 - sparse_categorical_accuracy: 0.9778 - val_loss: 0.0427 - val_sparse_categorical_accuracy: 1.0000\n",
      "Epoch 367/500\n",
      "34/34 [==============================] - 0s 1ms/step - loss: 0.0549 - sparse_categorical_accuracy: 0.9778 - val_loss: 0.0723 - val_sparse_categorical_accuracy: 1.0000\n",
      "Epoch 368/500\n",
      "34/34 [==============================] - 0s 1ms/step - loss: 0.0530 - sparse_categorical_accuracy: 0.9852 - val_loss: 0.0828 - val_sparse_categorical_accuracy: 0.9333\n",
      "Epoch 369/500\n",
      "34/34 [==============================] - 0s 1ms/step - loss: 0.0537 - sparse_categorical_accuracy: 0.9852 - val_loss: 0.0692 - val_sparse_categorical_accuracy: 1.0000\n",
      "Epoch 370/500\n",
      "34/34 [==============================] - 0s 1ms/step - loss: 0.0551 - sparse_categorical_accuracy: 0.9778 - val_loss: 0.0532 - val_sparse_categorical_accuracy: 1.0000\n",
      "Epoch 371/500\n",
      "34/34 [==============================] - 0s 1ms/step - loss: 0.0547 - sparse_categorical_accuracy: 0.9778 - val_loss: 0.0681 - val_sparse_categorical_accuracy: 1.0000\n",
      "Epoch 372/500\n",
      "34/34 [==============================] - 0s 1ms/step - loss: 0.0555 - sparse_categorical_accuracy: 0.9852 - val_loss: 0.0702 - val_sparse_categorical_accuracy: 1.0000\n",
      "Epoch 373/500\n",
      "34/34 [==============================] - 0s 1ms/step - loss: 0.0531 - sparse_categorical_accuracy: 0.9778 - val_loss: 0.0550 - val_sparse_categorical_accuracy: 1.0000\n",
      "Epoch 374/500\n",
      "34/34 [==============================] - 0s 1ms/step - loss: 0.0565 - sparse_categorical_accuracy: 0.9778 - val_loss: 0.0586 - val_sparse_categorical_accuracy: 1.0000\n",
      "Epoch 375/500\n",
      "34/34 [==============================] - 0s 1ms/step - loss: 0.0535 - sparse_categorical_accuracy: 0.9852 - val_loss: 0.0437 - val_sparse_categorical_accuracy: 1.0000\n",
      "Epoch 376/500\n",
      "34/34 [==============================] - 0s 1ms/step - loss: 0.0546 - sparse_categorical_accuracy: 0.9852 - val_loss: 0.0767 - val_sparse_categorical_accuracy: 0.9333\n",
      "Epoch 377/500\n",
      "34/34 [==============================] - 0s 1ms/step - loss: 0.0586 - sparse_categorical_accuracy: 0.9704 - val_loss: 0.0581 - val_sparse_categorical_accuracy: 1.0000\n",
      "Epoch 378/500\n",
      "34/34 [==============================] - 0s 968us/step - loss: 0.0570 - sparse_categorical_accuracy: 0.9704 - val_loss: 0.0842 - val_sparse_categorical_accuracy: 0.9333\n",
      "Epoch 379/500\n",
      "34/34 [==============================] - 0s 1ms/step - loss: 0.0654 - sparse_categorical_accuracy: 0.9778 - val_loss: 0.0829 - val_sparse_categorical_accuracy: 0.9333\n",
      "Epoch 380/500\n",
      "34/34 [==============================] - 0s 1ms/step - loss: 0.0569 - sparse_categorical_accuracy: 0.9778 - val_loss: 0.0596 - val_sparse_categorical_accuracy: 1.0000\n",
      "Epoch 381/500\n",
      "34/34 [==============================] - 0s 1ms/step - loss: 0.0546 - sparse_categorical_accuracy: 0.9778 - val_loss: 0.0817 - val_sparse_categorical_accuracy: 0.9333\n",
      "Epoch 382/500\n",
      "34/34 [==============================] - 0s 1ms/step - loss: 0.0604 - sparse_categorical_accuracy: 0.9852 - val_loss: 0.0853 - val_sparse_categorical_accuracy: 0.9333\n",
      "Epoch 383/500\n",
      "34/34 [==============================] - 0s 1ms/step - loss: 0.0534 - sparse_categorical_accuracy: 0.9852 - val_loss: 0.0636 - val_sparse_categorical_accuracy: 1.0000\n",
      "Epoch 384/500\n",
      "34/34 [==============================] - 0s 1ms/step - loss: 0.0603 - sparse_categorical_accuracy: 0.9778 - val_loss: 0.0325 - val_sparse_categorical_accuracy: 1.0000\n",
      "Epoch 385/500\n",
      "34/34 [==============================] - 0s 998us/step - loss: 0.0560 - sparse_categorical_accuracy: 0.9778 - val_loss: 0.0699 - val_sparse_categorical_accuracy: 1.0000\n",
      "Epoch 386/500\n",
      "34/34 [==============================] - 0s 1ms/step - loss: 0.0522 - sparse_categorical_accuracy: 0.9852 - val_loss: 0.0627 - val_sparse_categorical_accuracy: 1.0000\n",
      "Epoch 387/500\n",
      "34/34 [==============================] - 0s 997us/step - loss: 0.0522 - sparse_categorical_accuracy: 0.9852 - val_loss: 0.0636 - val_sparse_categorical_accuracy: 1.0000\n",
      "Epoch 388/500\n",
      "34/34 [==============================] - 0s 1ms/step - loss: 0.0532 - sparse_categorical_accuracy: 0.9778 - val_loss: 0.0685 - val_sparse_categorical_accuracy: 1.0000\n",
      "Epoch 389/500\n",
      "34/34 [==============================] - 0s 1ms/step - loss: 0.0553 - sparse_categorical_accuracy: 0.9852 - val_loss: 0.0680 - val_sparse_categorical_accuracy: 1.0000\n",
      "Epoch 390/500\n",
      "34/34 [==============================] - 0s 1ms/step - loss: 0.0525 - sparse_categorical_accuracy: 0.9852 - val_loss: 0.0448 - val_sparse_categorical_accuracy: 1.0000\n",
      "Epoch 391/500\n",
      "34/34 [==============================] - 0s 1ms/step - loss: 0.0609 - sparse_categorical_accuracy: 0.9704 - val_loss: 0.0404 - val_sparse_categorical_accuracy: 1.0000\n",
      "Epoch 392/500\n",
      "34/34 [==============================] - 0s 1ms/step - loss: 0.0550 - sparse_categorical_accuracy: 0.9778 - val_loss: 0.0497 - val_sparse_categorical_accuracy: 1.0000\n",
      "Epoch 393/500\n",
      "34/34 [==============================] - 0s 1ms/step - loss: 0.0585 - sparse_categorical_accuracy: 0.9778 - val_loss: 0.1010 - val_sparse_categorical_accuracy: 0.9333\n",
      "Epoch 394/500\n",
      "34/34 [==============================] - 0s 1ms/step - loss: 0.0560 - sparse_categorical_accuracy: 0.9778 - val_loss: 0.0509 - val_sparse_categorical_accuracy: 1.0000\n",
      "Epoch 395/500\n",
      "34/34 [==============================] - 0s 1ms/step - loss: 0.0543 - sparse_categorical_accuracy: 0.9778 - val_loss: 0.0728 - val_sparse_categorical_accuracy: 0.9333\n",
      "Epoch 396/500\n",
      "34/34 [==============================] - 0s 1ms/step - loss: 0.0581 - sparse_categorical_accuracy: 0.9778 - val_loss: 0.0697 - val_sparse_categorical_accuracy: 1.0000\n",
      "Epoch 397/500\n",
      "34/34 [==============================] - 0s 1ms/step - loss: 0.0580 - sparse_categorical_accuracy: 0.9778 - val_loss: 0.0742 - val_sparse_categorical_accuracy: 0.9333\n",
      "Epoch 398/500\n",
      "34/34 [==============================] - 0s 1ms/step - loss: 0.0556 - sparse_categorical_accuracy: 0.9778 - val_loss: 0.0524 - val_sparse_categorical_accuracy: 1.0000\n",
      "Epoch 399/500\n",
      "34/34 [==============================] - 0s 1ms/step - loss: 0.0606 - sparse_categorical_accuracy: 0.9704 - val_loss: 0.0463 - val_sparse_categorical_accuracy: 1.0000\n",
      "Epoch 400/500\n",
      "34/34 [==============================] - 0s 968us/step - loss: 0.0549 - sparse_categorical_accuracy: 0.9778 - val_loss: 0.0660 - val_sparse_categorical_accuracy: 1.0000\n",
      "Epoch 401/500\n",
      "34/34 [==============================] - 0s 1ms/step - loss: 0.0568 - sparse_categorical_accuracy: 0.9778 - val_loss: 0.0564 - val_sparse_categorical_accuracy: 1.0000\n",
      "Epoch 402/500\n",
      "34/34 [==============================] - 0s 1ms/step - loss: 0.0538 - sparse_categorical_accuracy: 0.9852 - val_loss: 0.0574 - val_sparse_categorical_accuracy: 1.0000\n",
      "Epoch 403/500\n",
      "34/34 [==============================] - 0s 1ms/step - loss: 0.0532 - sparse_categorical_accuracy: 0.9852 - val_loss: 0.0675 - val_sparse_categorical_accuracy: 1.0000\n",
      "Epoch 404/500\n",
      "34/34 [==============================] - 0s 1ms/step - loss: 0.0525 - sparse_categorical_accuracy: 0.9778 - val_loss: 0.0476 - val_sparse_categorical_accuracy: 1.0000\n",
      "Epoch 405/500\n",
      "34/34 [==============================] - 0s 1ms/step - loss: 0.0534 - sparse_categorical_accuracy: 0.9852 - val_loss: 0.0688 - val_sparse_categorical_accuracy: 1.0000\n",
      "Epoch 406/500\n",
      "34/34 [==============================] - 0s 989us/step - loss: 0.0551 - sparse_categorical_accuracy: 0.9852 - val_loss: 0.0635 - val_sparse_categorical_accuracy: 1.0000\n",
      "Epoch 407/500\n",
      "34/34 [==============================] - 0s 997us/step - loss: 0.0593 - sparse_categorical_accuracy: 0.9704 - val_loss: 0.0673 - val_sparse_categorical_accuracy: 1.0000\n",
      "Epoch 408/500\n",
      "34/34 [==============================] - 0s 968us/step - loss: 0.0575 - sparse_categorical_accuracy: 0.9778 - val_loss: 0.0586 - val_sparse_categorical_accuracy: 1.0000\n",
      "Epoch 409/500\n",
      "34/34 [==============================] - 0s 1ms/step - loss: 0.0589 - sparse_categorical_accuracy: 0.9704 - val_loss: 0.0560 - val_sparse_categorical_accuracy: 1.0000\n",
      "Epoch 410/500\n",
      "34/34 [==============================] - 0s 997us/step - loss: 0.0534 - sparse_categorical_accuracy: 0.9778 - val_loss: 0.0681 - val_sparse_categorical_accuracy: 1.0000\n",
      "Epoch 411/500\n",
      "34/34 [==============================] - 0s 968us/step - loss: 0.0520 - sparse_categorical_accuracy: 0.9852 - val_loss: 0.0496 - val_sparse_categorical_accuracy: 1.0000\n",
      "Epoch 412/500\n",
      "34/34 [==============================] - 0s 968us/step - loss: 0.0568 - sparse_categorical_accuracy: 0.9704 - val_loss: 0.0553 - val_sparse_categorical_accuracy: 1.0000\n",
      "Epoch 413/500\n",
      "34/34 [==============================] - 0s 1ms/step - loss: 0.0548 - sparse_categorical_accuracy: 0.9778 - val_loss: 0.0651 - val_sparse_categorical_accuracy: 1.0000\n",
      "Epoch 414/500\n",
      "34/34 [==============================] - 0s 2ms/step - loss: 0.0553 - sparse_categorical_accuracy: 0.9778 - val_loss: 0.0467 - val_sparse_categorical_accuracy: 1.0000\n",
      "Epoch 415/500\n",
      "34/34 [==============================] - 0s 997us/step - loss: 0.0529 - sparse_categorical_accuracy: 0.9778 - val_loss: 0.0581 - val_sparse_categorical_accuracy: 1.0000\n",
      "Epoch 416/500\n",
      "34/34 [==============================] - 0s 1ms/step - loss: 0.0534 - sparse_categorical_accuracy: 0.9852 - val_loss: 0.0483 - val_sparse_categorical_accuracy: 1.0000\n",
      "Epoch 417/500\n",
      "34/34 [==============================] - 0s 997us/step - loss: 0.0535 - sparse_categorical_accuracy: 0.9778 - val_loss: 0.0700 - val_sparse_categorical_accuracy: 0.9333\n",
      "Epoch 418/500\n",
      "34/34 [==============================] - 0s 1ms/step - loss: 0.0587 - sparse_categorical_accuracy: 0.9852 - val_loss: 0.0409 - val_sparse_categorical_accuracy: 1.0000\n",
      "Epoch 419/500\n",
      "34/34 [==============================] - 0s 1ms/step - loss: 0.0524 - sparse_categorical_accuracy: 0.9778 - val_loss: 0.0889 - val_sparse_categorical_accuracy: 0.9333\n",
      "Epoch 420/500\n",
      "34/34 [==============================] - 0s 1ms/step - loss: 0.0559 - sparse_categorical_accuracy: 0.9852 - val_loss: 0.0637 - val_sparse_categorical_accuracy: 1.0000\n",
      "Epoch 421/500\n",
      "34/34 [==============================] - 0s 1ms/step - loss: 0.0548 - sparse_categorical_accuracy: 0.9852 - val_loss: 0.0549 - val_sparse_categorical_accuracy: 1.0000\n",
      "Epoch 422/500\n",
      "34/34 [==============================] - 0s 1ms/step - loss: 0.0518 - sparse_categorical_accuracy: 0.9852 - val_loss: 0.0561 - val_sparse_categorical_accuracy: 1.0000\n",
      "Epoch 423/500\n",
      "34/34 [==============================] - 0s 1ms/step - loss: 0.0575 - sparse_categorical_accuracy: 0.9778 - val_loss: 0.0513 - val_sparse_categorical_accuracy: 1.0000\n",
      "Epoch 424/500\n",
      "34/34 [==============================] - 0s 1ms/step - loss: 0.0520 - sparse_categorical_accuracy: 0.9778 - val_loss: 0.0717 - val_sparse_categorical_accuracy: 0.9333\n",
      "Epoch 425/500\n",
      "34/34 [==============================] - 0s 1ms/step - loss: 0.0532 - sparse_categorical_accuracy: 0.9852 - val_loss: 0.0591 - val_sparse_categorical_accuracy: 1.0000\n",
      "Epoch 426/500\n",
      "34/34 [==============================] - 0s 1ms/step - loss: 0.0540 - sparse_categorical_accuracy: 0.9704 - val_loss: 0.0781 - val_sparse_categorical_accuracy: 0.9333\n",
      "Epoch 427/500\n",
      "34/34 [==============================] - 0s 1ms/step - loss: 0.0533 - sparse_categorical_accuracy: 0.9778 - val_loss: 0.0601 - val_sparse_categorical_accuracy: 1.0000\n",
      "Epoch 428/500\n",
      "34/34 [==============================] - 0s 1ms/step - loss: 0.0532 - sparse_categorical_accuracy: 0.9778 - val_loss: 0.0662 - val_sparse_categorical_accuracy: 1.0000\n",
      "Epoch 429/500\n",
      "34/34 [==============================] - 0s 1ms/step - loss: 0.0542 - sparse_categorical_accuracy: 0.9778 - val_loss: 0.0566 - val_sparse_categorical_accuracy: 1.0000\n",
      "Epoch 430/500\n",
      "34/34 [==============================] - 0s 1ms/step - loss: 0.0588 - sparse_categorical_accuracy: 0.9704 - val_loss: 0.0588 - val_sparse_categorical_accuracy: 1.0000\n",
      "Epoch 431/500\n",
      "34/34 [==============================] - 0s 1ms/step - loss: 0.0547 - sparse_categorical_accuracy: 0.9852 - val_loss: 0.0493 - val_sparse_categorical_accuracy: 1.0000\n",
      "Epoch 432/500\n",
      "34/34 [==============================] - 0s 1ms/step - loss: 0.0515 - sparse_categorical_accuracy: 0.9852 - val_loss: 0.0656 - val_sparse_categorical_accuracy: 1.0000\n",
      "Epoch 433/500\n",
      "34/34 [==============================] - 0s 997us/step - loss: 0.0531 - sparse_categorical_accuracy: 0.9852 - val_loss: 0.0741 - val_sparse_categorical_accuracy: 0.9333\n",
      "Epoch 434/500\n",
      "34/34 [==============================] - 0s 1ms/step - loss: 0.0532 - sparse_categorical_accuracy: 0.9852 - val_loss: 0.0442 - val_sparse_categorical_accuracy: 1.0000\n",
      "Epoch 435/500\n",
      "34/34 [==============================] - 0s 1ms/step - loss: 0.0543 - sparse_categorical_accuracy: 0.9778 - val_loss: 0.0650 - val_sparse_categorical_accuracy: 1.0000\n",
      "Epoch 436/500\n",
      "34/34 [==============================] - 0s 1ms/step - loss: 0.0531 - sparse_categorical_accuracy: 0.9852 - val_loss: 0.0662 - val_sparse_categorical_accuracy: 1.0000\n",
      "Epoch 437/500\n",
      "34/34 [==============================] - 0s 1ms/step - loss: 0.0590 - sparse_categorical_accuracy: 0.9704 - val_loss: 0.0379 - val_sparse_categorical_accuracy: 1.0000\n",
      "Epoch 438/500\n",
      "34/34 [==============================] - 0s 1ms/step - loss: 0.0534 - sparse_categorical_accuracy: 0.9852 - val_loss: 0.0569 - val_sparse_categorical_accuracy: 1.0000\n",
      "Epoch 439/500\n",
      "34/34 [==============================] - 0s 1ms/step - loss: 0.0519 - sparse_categorical_accuracy: 0.9852 - val_loss: 0.0644 - val_sparse_categorical_accuracy: 1.0000\n",
      "Epoch 440/500\n",
      "34/34 [==============================] - 0s 1ms/step - loss: 0.0515 - sparse_categorical_accuracy: 0.9778 - val_loss: 0.0430 - val_sparse_categorical_accuracy: 1.0000\n",
      "Epoch 441/500\n",
      "34/34 [==============================] - 0s 1ms/step - loss: 0.0531 - sparse_categorical_accuracy: 0.9778 - val_loss: 0.0523 - val_sparse_categorical_accuracy: 1.0000\n",
      "Epoch 442/500\n",
      "34/34 [==============================] - 0s 1ms/step - loss: 0.0556 - sparse_categorical_accuracy: 0.9778 - val_loss: 0.0684 - val_sparse_categorical_accuracy: 0.9333\n",
      "Epoch 443/500\n",
      "34/34 [==============================] - 0s 1ms/step - loss: 0.0571 - sparse_categorical_accuracy: 0.9778 - val_loss: 0.0485 - val_sparse_categorical_accuracy: 1.0000\n",
      "Epoch 444/500\n",
      "34/34 [==============================] - 0s 1ms/step - loss: 0.0534 - sparse_categorical_accuracy: 0.9778 - val_loss: 0.0774 - val_sparse_categorical_accuracy: 0.9333\n",
      "Epoch 445/500\n",
      "34/34 [==============================] - 0s 991us/step - loss: 0.0559 - sparse_categorical_accuracy: 0.9778 - val_loss: 0.0430 - val_sparse_categorical_accuracy: 1.0000\n",
      "Epoch 446/500\n",
      "34/34 [==============================] - 0s 1ms/step - loss: 0.0549 - sparse_categorical_accuracy: 0.9778 - val_loss: 0.0761 - val_sparse_categorical_accuracy: 0.9333\n",
      "Epoch 447/500\n",
      "34/34 [==============================] - 0s 998us/step - loss: 0.0510 - sparse_categorical_accuracy: 0.9778 - val_loss: 0.0428 - val_sparse_categorical_accuracy: 1.0000\n",
      "Epoch 448/500\n",
      "34/34 [==============================] - 0s 1ms/step - loss: 0.0551 - sparse_categorical_accuracy: 0.9778 - val_loss: 0.0395 - val_sparse_categorical_accuracy: 1.0000\n",
      "Epoch 449/500\n",
      "34/34 [==============================] - 0s 1ms/step - loss: 0.0525 - sparse_categorical_accuracy: 0.9704 - val_loss: 0.0536 - val_sparse_categorical_accuracy: 1.0000\n",
      "Epoch 450/500\n",
      "34/34 [==============================] - 0s 1ms/step - loss: 0.0543 - sparse_categorical_accuracy: 0.9778 - val_loss: 0.0547 - val_sparse_categorical_accuracy: 1.0000\n",
      "Epoch 451/500\n",
      "34/34 [==============================] - 0s 997us/step - loss: 0.0566 - sparse_categorical_accuracy: 0.9778 - val_loss: 0.0413 - val_sparse_categorical_accuracy: 1.0000\n",
      "Epoch 452/500\n",
      "34/34 [==============================] - 0s 1ms/step - loss: 0.0538 - sparse_categorical_accuracy: 0.9778 - val_loss: 0.0693 - val_sparse_categorical_accuracy: 0.9333\n",
      "Epoch 453/500\n",
      "34/34 [==============================] - 0s 1ms/step - loss: 0.0600 - sparse_categorical_accuracy: 0.9778 - val_loss: 0.0492 - val_sparse_categorical_accuracy: 1.0000\n",
      "Epoch 454/500\n",
      "34/34 [==============================] - 0s 1ms/step - loss: 0.0616 - sparse_categorical_accuracy: 0.9704 - val_loss: 0.0662 - val_sparse_categorical_accuracy: 1.0000\n",
      "Epoch 455/500\n",
      "34/34 [==============================] - 0s 1ms/step - loss: 0.0603 - sparse_categorical_accuracy: 0.9778 - val_loss: 0.0526 - val_sparse_categorical_accuracy: 1.0000\n",
      "Epoch 456/500\n",
      "34/34 [==============================] - 0s 975us/step - loss: 0.0574 - sparse_categorical_accuracy: 0.9778 - val_loss: 0.0850 - val_sparse_categorical_accuracy: 0.9333\n",
      "Epoch 457/500\n",
      "34/34 [==============================] - 0s 1ms/step - loss: 0.0582 - sparse_categorical_accuracy: 0.9852 - val_loss: 0.0413 - val_sparse_categorical_accuracy: 1.0000\n",
      "Epoch 458/500\n",
      "34/34 [==============================] - 0s 2ms/step - loss: 0.0545 - sparse_categorical_accuracy: 0.9778 - val_loss: 0.0802 - val_sparse_categorical_accuracy: 0.9333\n",
      "Epoch 459/500\n",
      "34/34 [==============================] - 0s 1ms/step - loss: 0.0569 - sparse_categorical_accuracy: 0.9704 - val_loss: 0.0431 - val_sparse_categorical_accuracy: 1.0000\n",
      "Epoch 460/500\n",
      "34/34 [==============================] - 0s 1ms/step - loss: 0.0513 - sparse_categorical_accuracy: 0.9852 - val_loss: 0.0630 - val_sparse_categorical_accuracy: 1.0000\n",
      "Epoch 461/500\n",
      "34/34 [==============================] - 0s 1ms/step - loss: 0.0546 - sparse_categorical_accuracy: 0.9852 - val_loss: 0.0670 - val_sparse_categorical_accuracy: 1.0000\n",
      "Epoch 462/500\n",
      "34/34 [==============================] - 0s 1ms/step - loss: 0.0534 - sparse_categorical_accuracy: 0.9852 - val_loss: 0.0652 - val_sparse_categorical_accuracy: 1.0000\n",
      "Epoch 463/500\n",
      "34/34 [==============================] - 0s 1ms/step - loss: 0.0536 - sparse_categorical_accuracy: 0.9778 - val_loss: 0.0500 - val_sparse_categorical_accuracy: 1.0000\n",
      "Epoch 464/500\n",
      "34/34 [==============================] - 0s 997us/step - loss: 0.0510 - sparse_categorical_accuracy: 0.9852 - val_loss: 0.0675 - val_sparse_categorical_accuracy: 0.9333\n",
      "Epoch 465/500\n",
      "34/34 [==============================] - 0s 1ms/step - loss: 0.0521 - sparse_categorical_accuracy: 0.9852 - val_loss: 0.0592 - val_sparse_categorical_accuracy: 1.0000\n",
      "Epoch 466/500\n",
      "34/34 [==============================] - 0s 1ms/step - loss: 0.0551 - sparse_categorical_accuracy: 0.9778 - val_loss: 0.0419 - val_sparse_categorical_accuracy: 1.0000\n",
      "Epoch 467/500\n",
      "34/34 [==============================] - 0s 997us/step - loss: 0.0563 - sparse_categorical_accuracy: 0.9704 - val_loss: 0.0585 - val_sparse_categorical_accuracy: 1.0000\n",
      "Epoch 468/500\n",
      "34/34 [==============================] - 0s 968us/step - loss: 0.0562 - sparse_categorical_accuracy: 0.9778 - val_loss: 0.0487 - val_sparse_categorical_accuracy: 1.0000\n",
      "Epoch 469/500\n",
      "34/34 [==============================] - 0s 998us/step - loss: 0.0569 - sparse_categorical_accuracy: 0.9778 - val_loss: 0.0821 - val_sparse_categorical_accuracy: 0.9333\n",
      "Epoch 470/500\n",
      "34/34 [==============================] - 0s 1ms/step - loss: 0.0529 - sparse_categorical_accuracy: 0.9852 - val_loss: 0.0511 - val_sparse_categorical_accuracy: 1.0000\n",
      "Epoch 471/500\n",
      "34/34 [==============================] - 0s 1ms/step - loss: 0.0543 - sparse_categorical_accuracy: 0.9852 - val_loss: 0.0758 - val_sparse_categorical_accuracy: 0.9333\n",
      "Epoch 472/500\n",
      "34/34 [==============================] - 0s 1ms/step - loss: 0.0519 - sparse_categorical_accuracy: 0.9852 - val_loss: 0.0419 - val_sparse_categorical_accuracy: 1.0000\n",
      "Epoch 473/500\n",
      "34/34 [==============================] - 0s 1ms/step - loss: 0.0541 - sparse_categorical_accuracy: 0.9852 - val_loss: 0.0575 - val_sparse_categorical_accuracy: 1.0000\n",
      "Epoch 474/500\n",
      "34/34 [==============================] - 0s 1ms/step - loss: 0.0536 - sparse_categorical_accuracy: 0.9852 - val_loss: 0.0571 - val_sparse_categorical_accuracy: 1.0000\n",
      "Epoch 475/500\n",
      "34/34 [==============================] - 0s 1ms/step - loss: 0.0628 - sparse_categorical_accuracy: 0.9778 - val_loss: 0.0696 - val_sparse_categorical_accuracy: 0.9333\n",
      "Epoch 476/500\n",
      "34/34 [==============================] - 0s 1ms/step - loss: 0.0590 - sparse_categorical_accuracy: 0.9778 - val_loss: 0.0439 - val_sparse_categorical_accuracy: 1.0000\n",
      "Epoch 477/500\n",
      "34/34 [==============================] - 0s 1ms/step - loss: 0.0522 - sparse_categorical_accuracy: 0.9852 - val_loss: 0.0579 - val_sparse_categorical_accuracy: 1.0000\n",
      "Epoch 478/500\n",
      "34/34 [==============================] - 0s 1ms/step - loss: 0.0548 - sparse_categorical_accuracy: 0.9778 - val_loss: 0.0569 - val_sparse_categorical_accuracy: 1.0000\n",
      "Epoch 479/500\n",
      "34/34 [==============================] - 0s 1ms/step - loss: 0.0541 - sparse_categorical_accuracy: 0.9852 - val_loss: 0.0468 - val_sparse_categorical_accuracy: 1.0000\n",
      "Epoch 480/500\n",
      "34/34 [==============================] - 0s 1ms/step - loss: 0.0506 - sparse_categorical_accuracy: 0.9852 - val_loss: 0.0698 - val_sparse_categorical_accuracy: 0.9333\n",
      "Epoch 481/500\n",
      "34/34 [==============================] - 0s 968us/step - loss: 0.0506 - sparse_categorical_accuracy: 0.9852 - val_loss: 0.0511 - val_sparse_categorical_accuracy: 1.0000\n",
      "Epoch 482/500\n",
      "34/34 [==============================] - 0s 1ms/step - loss: 0.0562 - sparse_categorical_accuracy: 0.9778 - val_loss: 0.0520 - val_sparse_categorical_accuracy: 1.0000\n",
      "Epoch 483/500\n",
      "34/34 [==============================] - 0s 1ms/step - loss: 0.0520 - sparse_categorical_accuracy: 0.9704 - val_loss: 0.0502 - val_sparse_categorical_accuracy: 1.0000\n",
      "Epoch 484/500\n",
      "34/34 [==============================] - 0s 1ms/step - loss: 0.0546 - sparse_categorical_accuracy: 0.9852 - val_loss: 0.0565 - val_sparse_categorical_accuracy: 1.0000\n",
      "Epoch 485/500\n",
      "34/34 [==============================] - 0s 1ms/step - loss: 0.0569 - sparse_categorical_accuracy: 0.9704 - val_loss: 0.0355 - val_sparse_categorical_accuracy: 1.0000\n",
      "Epoch 486/500\n",
      "34/34 [==============================] - 0s 1ms/step - loss: 0.0500 - sparse_categorical_accuracy: 0.9778 - val_loss: 0.0615 - val_sparse_categorical_accuracy: 1.0000\n",
      "Epoch 487/500\n",
      "34/34 [==============================] - 0s 1ms/step - loss: 0.0531 - sparse_categorical_accuracy: 0.9852 - val_loss: 0.0683 - val_sparse_categorical_accuracy: 0.9333\n",
      "Epoch 488/500\n",
      "34/34 [==============================] - 0s 1ms/step - loss: 0.0508 - sparse_categorical_accuracy: 0.9852 - val_loss: 0.0518 - val_sparse_categorical_accuracy: 1.0000\n",
      "Epoch 489/500\n",
      "34/34 [==============================] - 0s 1ms/step - loss: 0.0503 - sparse_categorical_accuracy: 0.9852 - val_loss: 0.0435 - val_sparse_categorical_accuracy: 1.0000\n",
      "Epoch 490/500\n",
      "34/34 [==============================] - 0s 1ms/step - loss: 0.0529 - sparse_categorical_accuracy: 0.9852 - val_loss: 0.0449 - val_sparse_categorical_accuracy: 1.0000\n",
      "Epoch 491/500\n",
      "34/34 [==============================] - 0s 1ms/step - loss: 0.0517 - sparse_categorical_accuracy: 0.9852 - val_loss: 0.0527 - val_sparse_categorical_accuracy: 1.0000\n",
      "Epoch 492/500\n",
      "34/34 [==============================] - 0s 1ms/step - loss: 0.0569 - sparse_categorical_accuracy: 0.9852 - val_loss: 0.0586 - val_sparse_categorical_accuracy: 1.0000\n",
      "Epoch 493/500\n",
      "34/34 [==============================] - 0s 1ms/step - loss: 0.0601 - sparse_categorical_accuracy: 0.9778 - val_loss: 0.0622 - val_sparse_categorical_accuracy: 1.0000\n",
      "Epoch 494/500\n",
      "34/34 [==============================] - 0s 1ms/step - loss: 0.0609 - sparse_categorical_accuracy: 0.9704 - val_loss: 0.0527 - val_sparse_categorical_accuracy: 1.0000\n",
      "Epoch 495/500\n",
      "34/34 [==============================] - 0s 2ms/step - loss: 0.0545 - sparse_categorical_accuracy: 0.9852 - val_loss: 0.0608 - val_sparse_categorical_accuracy: 1.0000\n",
      "Epoch 496/500\n",
      "34/34 [==============================] - 0s 994us/step - loss: 0.0520 - sparse_categorical_accuracy: 0.9852 - val_loss: 0.0645 - val_sparse_categorical_accuracy: 1.0000\n",
      "Epoch 497/500\n",
      "34/34 [==============================] - 0s 1ms/step - loss: 0.0522 - sparse_categorical_accuracy: 0.9852 - val_loss: 0.0533 - val_sparse_categorical_accuracy: 1.0000\n",
      "Epoch 498/500\n",
      "34/34 [==============================] - 0s 1ms/step - loss: 0.0547 - sparse_categorical_accuracy: 0.9852 - val_loss: 0.0416 - val_sparse_categorical_accuracy: 1.0000\n",
      "Epoch 499/500\n",
      "34/34 [==============================] - 0s 1ms/step - loss: 0.0549 - sparse_categorical_accuracy: 0.9778 - val_loss: 0.0577 - val_sparse_categorical_accuracy: 1.0000\n",
      "Epoch 500/500\n",
      "34/34 [==============================] - 0s 1ms/step - loss: 0.0520 - sparse_categorical_accuracy: 0.9778 - val_loss: 0.0400 - val_sparse_categorical_accuracy: 1.0000\n"
     ]
    }
   ],
   "source": [
    "history = model1.fit(x=X, y=y, batch_size=4, epochs=500, validation_split=0.1)"
   ]
  },
  {
   "cell_type": "markdown",
   "id": "35801e2e-590b-47e5-8ccc-33f76a56fac2",
   "metadata": {},
   "source": [
    "### 3.5 模型的保存与读取"
   ]
  },
  {
   "cell_type": "markdown",
   "id": "558a499b-67a7-4a67-aa70-2df83e766255",
   "metadata": {},
   "source": [
    "#### 保存整个模型"
   ]
  },
  {
   "cell_type": "code",
   "execution_count": 95,
   "id": "1a89bd0b-cfb0-413e-a123-1eaff41c07cc",
   "metadata": {},
   "outputs": [],
   "source": [
    "model1.save('../models/model.h5')"
   ]
  },
  {
   "cell_type": "markdown",
   "id": "e828f217-b5a5-4024-8260-2313eac0b418",
   "metadata": {},
   "source": [
    "#### 保存模型参数"
   ]
  },
  {
   "cell_type": "code",
   "execution_count": 96,
   "id": "62354f34-1077-4e56-a4b6-6361ab14fde9",
   "metadata": {},
   "outputs": [],
   "source": [
    "model1.save_weights('../models/model_weight.h5')"
   ]
  },
  {
   "cell_type": "markdown",
   "id": "11312452-c459-4edb-af86-0df472af40c8",
   "metadata": {},
   "source": [
    "#### 读取整个模型"
   ]
  },
  {
   "cell_type": "code",
   "execution_count": 97,
   "id": "3c705312-4c2f-46f2-854f-06423db7d521",
   "metadata": {},
   "outputs": [
    {
     "name": "stdout",
     "output_type": "stream",
     "text": [
      "Model: \"sequential\"\n",
      "_________________________________________________________________\n",
      "Layer (type)                 Output Shape              Param #   \n",
      "=================================================================\n",
      "dense (Dense)                (None, 5)                 25        \n",
      "_________________________________________________________________\n",
      "dense_1 (Dense)              (None, 6)                 36        \n",
      "_________________________________________________________________\n",
      "dense_2 (Dense)              (None, 3)                 21        \n",
      "=================================================================\n",
      "Total params: 82\n",
      "Trainable params: 82\n",
      "Non-trainable params: 0\n",
      "_________________________________________________________________\n"
     ]
    }
   ],
   "source": [
    "upload_model = keras.models.load_model('../models/model.h5')\n",
    "upload_model.summary()"
   ]
  },
  {
   "cell_type": "markdown",
   "id": "e525306b-0205-4ed4-9a35-110fd759a540",
   "metadata": {},
   "source": [
    "#### 加载模型参数"
   ]
  },
  {
   "cell_type": "code",
   "execution_count": 98,
   "id": "10366592-0646-414a-a786-cbc877203126",
   "metadata": {},
   "outputs": [],
   "source": [
    "model1.load_weights('../models/model_weight.h5')"
   ]
  },
  {
   "cell_type": "markdown",
   "id": "ca0df3a7-7a3b-43a9-a3f2-9af2f6dfd320",
   "metadata": {},
   "source": [
    "### 3.6 模型的可视化"
   ]
  },
  {
   "cell_type": "code",
   "execution_count": 99,
   "id": "04105e79-680b-48be-bfda-d8e5b5b21557",
   "metadata": {},
   "outputs": [
    {
     "data": {
      "text/plain": [
       "dict_keys(['loss', 'sparse_categorical_accuracy', 'val_loss', 'val_sparse_categorical_accuracy'])"
      ]
     },
     "execution_count": 99,
     "metadata": {},
     "output_type": "execute_result"
    }
   ],
   "source": [
    "history.history.keys()"
   ]
  },
  {
   "cell_type": "code",
   "execution_count": 100,
   "id": "1a45fac0-75a1-4942-903f-e3e94a4d1cdd",
   "metadata": {},
   "outputs": [
    {
     "data": {
      "image/png": "[encoded data removed]",
      "text/plain": [
       "<Figure size 432x288 with 1 Axes>"
      ]
     },
     "metadata": {
      "needs_background": "light"
     },
     "output_type": "display_data"
    }
   ],
   "source": [
    "import matplotlib.pyplot as plt\n",
    "plt.plot(range(len(history.history['loss'])), history.history['loss'])\n",
    "plt.plot(range(len(history.history['val_loss'])), history.history['val_loss'])\n",
    "plt.legend(['loss', 'val_loss'])\n",
    "plt.show()"
   ]
  },
  {
   "cell_type": "code",
   "execution_count": 101,
   "id": "2ea9b7b0-cfc5-45a8-bcf1-f2ea0815d904",
   "metadata": {},
   "outputs": [
    {
     "data": {
      "image/png": "[encoded data removed]",
      "text/plain": [
       "<Figure size 432x288 with 1 Axes>"
      ]
     },
     "metadata": {
      "needs_background": "light"
     },
     "output_type": "display_data"
    }
   ],
   "source": [
    "plt.plot(range(len(history.history['sparse_categorical_accuracy'])), history.history['sparse_categorical_accuracy'])\n",
    "plt.plot(range(len(history.history['val_sparse_categorical_accuracy'])), history.history['val_sparse_categorical_accuracy'])\n",
    "plt.legend(['sparse_categorical_accuracy', 'val_sparse_categorical_accuracy'])\n",
    "plt.show()"
   ]
  },
  {
   "cell_type": "markdown",
   "id": "7d207258-eefb-4f2c-9892-dc0528879c2c",
   "metadata": {},
   "source": [
    "#### 可视化整个模型"
   ]
  },
  {
   "cell_type": "code",
   "execution_count": 102,
   "id": "aa5d1327-b5a1-41bb-a422-e2be590fcd2f",
   "metadata": {},
   "outputs": [
    {
     "data": {
      "image/png": "[encoded data removed]",
      "text/plain": [
       "<IPython.core.display.Image object>"
      ]
     },
     "execution_count": 102,
     "metadata": {},
     "output_type": "execute_result"
    }
   ],
   "source": [
    "keras.utils.plot_model(model1, to_file='../imgs/simple_model.png')"
   ]
  },
  {
   "cell_type": "code",
   "execution_count": null,
   "id": "5635598f-d1d7-4a01-9944-3a84b5e2baa8",
   "metadata": {},
   "outputs": [],
   "source": []
  }
 ],
 "metadata": {
  "kernelspec": {
   "display_name": "tensorflow",
   "language": "python",
   "name": "tensorflow-gpu"
  },
  "language_info": {
   "codemirror_mode": {
    "name": "ipython",
    "version": 3
   },
   "file_extension": ".py",
   "mimetype": "text/x-python",
   "name": "python",
   "nbconvert_exporter": "python",
   "pygments_lexer": "ipython3",
   "version": "3.7.13"
  },
  "widgets": {
   "application/vnd.jupyter.widget-state+json": {
    "state": {},
    "version_major": 2,
    "version_minor": 0
   }
  }
 },
 "nbformat": 4,
 "nbformat_minor": 5
}
