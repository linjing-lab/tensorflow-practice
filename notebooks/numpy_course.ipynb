{
 "cells": [
  {
   "cell_type": "markdown",
   "id": "9bae6dc4-66fb-48d5-b3a0-70ddd41c17d0",
   "metadata": {},
   "source": [
    "# Numpy课程"
   ]
  },
  {
   "cell_type": "code",
   "execution_count": 1,
   "id": "46ed6e02-6919-46fd-a430-407348718de9",
   "metadata": {},
   "outputs": [
    {
     "data": {
      "text/plain": [
       "[[1, 2, 3, 4, 5],\n",
       " [11, 22, 33, 44, 55],\n",
       " [12, 13, 14, 15, 16],\n",
       " [1, 2, 3, 4, 5],\n",
       " [11, 22, 33, 44, 55],\n",
       " [12, 13, 14, 15, 16]]"
      ]
     },
     "execution_count": 1,
     "metadata": {},
     "output_type": "execute_result"
    }
   ],
   "source": [
    "list1 = [[1, 2, 3, 4, 5], [11, 22, 33, 44, 55], [12, 13, 14, 15, 16]]\n",
    "list1*2"
   ]
  },
  {
   "cell_type": "code",
   "execution_count": 2,
   "id": "516fe5bb-7239-4f6b-a5f4-1d2cfdd862e8",
   "metadata": {},
   "outputs": [],
   "source": [
    "import numpy as np"
   ]
  },
  {
   "cell_type": "markdown",
   "id": "2776865a-8f0f-410f-a099-7095d57c48e8",
   "metadata": {},
   "source": [
    "## 1. 创建数组"
   ]
  },
  {
   "cell_type": "code",
   "execution_count": 3,
   "id": "3c6d09d1-33de-4b9d-bb30-435356ea98f5",
   "metadata": {},
   "outputs": [
    {
     "data": {
      "text/plain": [
       "array([[ 1,  2,  3,  4,  5],\n",
       "       [11, 22, 33, 44, 55],\n",
       "       [12, 13, 14, 15, 16]])"
      ]
     },
     "execution_count": 3,
     "metadata": {},
     "output_type": "execute_result"
    }
   ],
   "source": [
    "array1 = np.array(list1) # use list to convert\n",
    "array1"
   ]
  },
  {
   "cell_type": "markdown",
   "id": "0510d2ef-97d8-48e6-9066-01d8c25acecf",
   "metadata": {},
   "source": [
    "## 2. 数组的基本属性"
   ]
  },
  {
   "cell_type": "markdown",
   "id": "a40fd056-1910-4b16-a203-938b3370bb79",
   "metadata": {},
   "source": [
    "### 2.1 查看数组的大小（元素个数）"
   ]
  },
  {
   "cell_type": "code",
   "execution_count": 4,
   "id": "2e37f5cd-30e3-4352-8e72-71e26c9c027c",
   "metadata": {},
   "outputs": [
    {
     "data": {
      "text/plain": [
       "15"
      ]
     },
     "execution_count": 4,
     "metadata": {},
     "output_type": "execute_result"
    }
   ],
   "source": [
    "array1.size"
   ]
  },
  {
   "cell_type": "markdown",
   "id": "9273280b-fe9e-4a23-ae77-495013cdef2a",
   "metadata": {},
   "source": [
    "### 2.2 查看数组的尺寸"
   ]
  },
  {
   "cell_type": "code",
   "execution_count": 5,
   "id": "e7ec284b-dda4-446c-bded-b9d7c6b484c4",
   "metadata": {},
   "outputs": [
    {
     "data": {
      "text/plain": [
       "(3, 5)"
      ]
     },
     "execution_count": 5,
     "metadata": {},
     "output_type": "execute_result"
    }
   ],
   "source": [
    "array1.shape"
   ]
  },
  {
   "cell_type": "markdown",
   "id": "a5aaa244-cf5c-4806-be80-470cf34e1382",
   "metadata": {},
   "source": [
    "### 2.3 查看数组的维度"
   ]
  },
  {
   "cell_type": "code",
   "execution_count": 6,
   "id": "a6c5689c-ec72-442a-bc11-e20c9a2f275f",
   "metadata": {},
   "outputs": [
    {
     "data": {
      "text/plain": [
       "2"
      ]
     },
     "execution_count": 6,
     "metadata": {},
     "output_type": "execute_result"
    }
   ],
   "source": [
    "array1.ndim"
   ]
  },
  {
   "cell_type": "markdown",
   "id": "98be8e71-0a4b-4fdc-b3e1-b358b2e71d67",
   "metadata": {},
   "source": [
    "### 2.4 查看数组的数据类型"
   ]
  },
  {
   "cell_type": "code",
   "execution_count": 7,
   "id": "e0e5667a-6af3-49ff-9a1b-b99e5fd0aacf",
   "metadata": {},
   "outputs": [
    {
     "data": {
      "text/plain": [
       "dtype('int32')"
      ]
     },
     "execution_count": 7,
     "metadata": {},
     "output_type": "execute_result"
    }
   ],
   "source": [
    "array1.dtype"
   ]
  },
  {
   "cell_type": "markdown",
   "id": "1aa34fbd-518f-4164-8bd3-ab266719b82a",
   "metadata": {},
   "source": [
    "## 3. 创建特殊数组"
   ]
  },
  {
   "cell_type": "markdown",
   "id": "d74f9e69-a67f-4525-8a65-24bb650fa273",
   "metadata": {},
   "source": [
    "### 3.1 等差数列"
   ]
  },
  {
   "cell_type": "markdown",
   "id": "90d392a0-b87c-4ff6-abaa-68977d881eed",
   "metadata": {},
   "source": [
    "#### np.linspace()方法"
   ]
  },
  {
   "cell_type": "markdown",
   "id": "040abee8-bb16-4b2f-b61e-d7dd2931032d",
   "metadata": {},
   "source": [
    "`np.linspace(start, stop, num, endpoint)`:\n",
    "1. start: 起点\n",
    "2. stop: 终点\n",
    "3. num: 生成的数据量\n",
    "4. endpoint: 生成的数据中是否包含终止点"
   ]
  },
  {
   "cell_type": "code",
   "execution_count": 8,
   "id": "eb00ab7c-b6f3-4375-80b3-c10b99bc4497",
   "metadata": {},
   "outputs": [
    {
     "data": {
      "text/plain": [
       "array([ 1.,  2.,  3.,  4.,  5.,  6.,  7.,  8.,  9., 10.])"
      ]
     },
     "execution_count": 8,
     "metadata": {},
     "output_type": "execute_result"
    }
   ],
   "source": [
    "np.linspace(1, 10, num=10, endpoint=True)"
   ]
  },
  {
   "cell_type": "markdown",
   "id": "8f5d7eb3-2bd8-466d-9bb2-26d5fc018f13",
   "metadata": {},
   "source": [
    "#### np.arange()方法"
   ]
  },
  {
   "cell_type": "markdown",
   "id": "5f860ade-9519-4871-a5fa-a95e642d5946",
   "metadata": {},
   "source": [
    "`np.arange(start, end, step)`:\n",
    "1. start: 起点\n",
    "2. stop: 终点\n",
    "3. step: 步长/公差"
   ]
  },
  {
   "cell_type": "code",
   "execution_count": 9,
   "id": "7a4de301-0bd1-47c3-b62e-9a4b0a73f980",
   "metadata": {},
   "outputs": [
    {
     "data": {
      "text/plain": [
       "array([2, 4, 6, 8])"
      ]
     },
     "execution_count": 9,
     "metadata": {},
     "output_type": "execute_result"
    }
   ],
   "source": [
    "np.arange(2, 10, 2) # [2, 10)"
   ]
  },
  {
   "cell_type": "markdown",
   "id": "dece891a-20d5-48d8-b2e0-0231d5a4cc62",
   "metadata": {},
   "source": [
    "### 3.2 等比数列"
   ]
  },
  {
   "cell_type": "markdown",
   "id": "7493f817-dfea-4513-bf3b-9d67f26064af",
   "metadata": {},
   "source": [
    "base: 公比/底数"
   ]
  },
  {
   "cell_type": "code",
   "execution_count": 10,
   "id": "6d536647-860c-4000-9362-974e3da7129f",
   "metadata": {},
   "outputs": [
    {
     "data": {
      "text/plain": [
       "array([   2.,    4.,    8.,   16.,   32.,   64.,  128.,  256.,  512.,\n",
       "       1024.])"
      ]
     },
     "execution_count": 10,
     "metadata": {},
     "output_type": "execute_result"
    }
   ],
   "source": [
    "np.logspace(start=1, stop=10, num=10, endpoint=True, base=2) # [base^start, base^stop]"
   ]
  },
  {
   "cell_type": "markdown",
   "id": "5a54af01-ea34-4d1d-a8dd-fafa720757f3",
   "metadata": {},
   "source": [
    "### 3.3 案例 - 定积分"
   ]
  },
  {
   "cell_type": "code",
   "execution_count": 11,
   "id": "4cde6f82-79ec-4a50-b4e1-69b992988da8",
   "metadata": {},
   "outputs": [
    {
     "name": "stdout",
     "output_type": "stream",
     "text": [
      "The area enclosed by 'y=sin(x)' from 0 to 2*pi is: 3.9999599996710096\n"
     ]
    }
   ],
   "source": [
    "def intergral_sin(func, left: float, right: float, scale: int=100000) -> float:\n",
    "    x = np.linspace(left, right, num=scale)\n",
    "    y = np.abs(func(x))\n",
    "    width = (right - left) / scale\n",
    "    return np.sum(y * width)\n",
    "print(\"The area enclosed by 'y=sin(x)' from 0 to 2*pi is:\", intergral_sin(np.sin, 0, 2*np.pi))"
   ]
  },
  {
   "cell_type": "markdown",
   "id": "0a525a0f-73b1-4f91-8b2b-0ccec5f403ee",
   "metadata": {},
   "source": [
    "### 3.4 生成全零数组"
   ]
  },
  {
   "cell_type": "code",
   "execution_count": 12,
   "id": "79eddc21-dd36-4bea-b4b7-0243d0037dc6",
   "metadata": {},
   "outputs": [
    {
     "data": {
      "text/plain": [
       "array([[0., 0., 0., 0.],\n",
       "       [0., 0., 0., 0.],\n",
       "       [0., 0., 0., 0.]])"
      ]
     },
     "execution_count": 12,
     "metadata": {},
     "output_type": "execute_result"
    }
   ],
   "source": [
    "np.zeros((3, 4)) # 生成指定尺寸的全零数组"
   ]
  },
  {
   "cell_type": "code",
   "execution_count": 13,
   "id": "fc0dba0c-8399-41ad-b3f1-0badbeb4ae80",
   "metadata": {},
   "outputs": [
    {
     "data": {
      "text/plain": [
       "array([[0, 0, 0, 0, 0],\n",
       "       [0, 0, 0, 0, 0],\n",
       "       [0, 0, 0, 0, 0]])"
      ]
     },
     "execution_count": 13,
     "metadata": {},
     "output_type": "execute_result"
    }
   ],
   "source": [
    "np.zeros_like(array1) # 生成和某个数组尺寸一致的全零数组"
   ]
  },
  {
   "cell_type": "markdown",
   "id": "0b175809-7d1b-472c-ba1e-e1cd183e7d35",
   "metadata": {},
   "source": [
    "### 3.5 生成全1数组"
   ]
  },
  {
   "cell_type": "code",
   "execution_count": 14,
   "id": "7151872d-92ce-45e2-b1b3-eb2f571798d1",
   "metadata": {},
   "outputs": [
    {
     "data": {
      "text/plain": [
       "array([[1., 1., 1., 1.],\n",
       "       [1., 1., 1., 1.],\n",
       "       [1., 1., 1., 1.]])"
      ]
     },
     "execution_count": 14,
     "metadata": {},
     "output_type": "execute_result"
    }
   ],
   "source": [
    "np.ones((3, 4))"
   ]
  },
  {
   "cell_type": "code",
   "execution_count": 15,
   "id": "4a48c340-6773-4b60-802d-9c0670005215",
   "metadata": {},
   "outputs": [
    {
     "data": {
      "text/plain": [
       "array([[1, 1, 1, 1, 1],\n",
       "       [1, 1, 1, 1, 1],\n",
       "       [1, 1, 1, 1, 1]])"
      ]
     },
     "execution_count": 15,
     "metadata": {},
     "output_type": "execute_result"
    }
   ],
   "source": [
    "np.ones_like(array1)"
   ]
  },
  {
   "cell_type": "markdown",
   "id": "be6236c8-cb81-4e03-830e-bacf9c225d4f",
   "metadata": {},
   "source": [
    "### 3.6 生成单位矩阵"
   ]
  },
  {
   "cell_type": "code",
   "execution_count": 16,
   "id": "284fe0f5-3562-4cc2-9849-67830c164e51",
   "metadata": {},
   "outputs": [
    {
     "data": {
      "text/plain": [
       "array([[1., 0., 0., 0.],\n",
       "       [0., 1., 0., 0.],\n",
       "       [0., 0., 1., 0.],\n",
       "       [0., 0., 0., 1.]])"
      ]
     },
     "execution_count": 16,
     "metadata": {},
     "output_type": "execute_result"
    }
   ],
   "source": [
    "np.eye(4)"
   ]
  },
  {
   "cell_type": "markdown",
   "id": "8d454952-9e03-4d83-aa4a-f09bb01f204f",
   "metadata": {},
   "source": [
    "### 3.7 生成对角矩阵"
   ]
  },
  {
   "cell_type": "code",
   "execution_count": 17,
   "id": "5d5b602b-bec5-4ba4-9816-e9d02ce87d1f",
   "metadata": {},
   "outputs": [
    {
     "data": {
      "text/plain": [
       "array([[2, 0, 0, 0],\n",
       "       [0, 3, 0, 0],\n",
       "       [0, 0, 4, 0],\n",
       "       [0, 0, 0, 5]])"
      ]
     },
     "execution_count": 17,
     "metadata": {},
     "output_type": "execute_result"
    }
   ],
   "source": [
    "np.diag([2, 3, 4, 5])"
   ]
  },
  {
   "cell_type": "code",
   "execution_count": 18,
   "id": "e5e693f5-382a-400c-8644-d1c3e61f78f7",
   "metadata": {},
   "outputs": [
    {
     "data": {
      "text/plain": [
       "array([[0, 2, 0, 0, 0],\n",
       "       [0, 0, 3, 0, 0],\n",
       "       [0, 0, 0, 4, 0],\n",
       "       [0, 0, 0, 0, 5],\n",
       "       [0, 0, 0, 0, 0]])"
      ]
     },
     "execution_count": 18,
     "metadata": {},
     "output_type": "execute_result"
    }
   ],
   "source": [
    "np.diag([2, 3, 4, 5], 1)"
   ]
  },
  {
   "cell_type": "markdown",
   "id": "773ada08-0814-4f00-ac33-74b21af7af18",
   "metadata": {},
   "source": [
    "### 练习"
   ]
  },
  {
   "cell_type": "code",
   "execution_count": 19,
   "id": "8b9f6778-1be0-4f30-935a-c8afd24cf605",
   "metadata": {},
   "outputs": [],
   "source": [
    "array1 = np.array([[1, 2, 3, 4], [5, 6, 7, 8], [11, 12, 13, 14], [22, 25, 28, 29]])"
   ]
  },
  {
   "cell_type": "code",
   "execution_count": 20,
   "id": "637b94a7-84f2-412b-8cf6-5d9337faa1ca",
   "metadata": {},
   "outputs": [
    {
     "data": {
      "text/plain": [
       "array([[ 0,  2,  3,  4],\n",
       "       [ 5,  5,  7,  8],\n",
       "       [11, 12, 12, 14],\n",
       "       [22, 25, 28, 28]])"
      ]
     },
     "execution_count": 20,
     "metadata": {},
     "output_type": "execute_result"
    }
   ],
   "source": [
    "array1 -= np.diag([1, 1, 1, 1])\n",
    "array1"
   ]
  },
  {
   "cell_type": "code",
   "execution_count": 21,
   "id": "4dfe0fbe-a22f-4334-8780-94018a00623e",
   "metadata": {},
   "outputs": [
    {
     "data": {
      "text/plain": [
       "array([[ 1,  2,  3,  4],\n",
       "       [ 5,  7,  7,  8],\n",
       "       [11, 12, 15, 14],\n",
       "       [22, 25, 28, 32]])"
      ]
     },
     "execution_count": 21,
     "metadata": {},
     "output_type": "execute_result"
    }
   ],
   "source": [
    "array1 += np.diag([1, 2, 3, 4])\n",
    "array1"
   ]
  },
  {
   "cell_type": "code",
   "execution_count": 22,
   "id": "8a2966b8-2e28-4b8b-8992-465e982745eb",
   "metadata": {},
   "outputs": [
    {
     "data": {
      "text/plain": [
       "array([[ 1,  0,  3,  4],\n",
       "       [ 5,  7,  5,  8],\n",
       "       [11, 12, 15, 12],\n",
       "       [22, 25, 28, 32]])"
      ]
     },
     "execution_count": 22,
     "metadata": {},
     "output_type": "execute_result"
    }
   ],
   "source": [
    "array1 -= np.diag([2, 2, 2], 1) # np.eye(4, k=1)*2\n",
    "array1"
   ]
  },
  {
   "cell_type": "markdown",
   "id": "736c5f48-044e-4cd9-933c-11c1f3f1c58d",
   "metadata": {},
   "source": [
    "### 3.9 生成随机数"
   ]
  },
  {
   "cell_type": "markdown",
   "id": "aa233119-a9ac-4862-83fe-b2097c973fa7",
   "metadata": {},
   "source": [
    "#### 生成无约束条件的随机数"
   ]
  },
  {
   "cell_type": "code",
   "execution_count": 23,
   "id": "e550616f-5c4e-4548-968e-587e1f206b62",
   "metadata": {},
   "outputs": [
    {
     "data": {
      "text/plain": [
       "0.19085773680927154"
      ]
     },
     "execution_count": 23,
     "metadata": {},
     "output_type": "execute_result"
    }
   ],
   "source": [
    "np.random.random()"
   ]
  },
  {
   "cell_type": "code",
   "execution_count": 24,
   "id": "6f7424c5-799b-4edb-b5bd-0cb11e28973b",
   "metadata": {},
   "outputs": [
    {
     "data": {
      "text/plain": [
       "array([[0.33326631, 0.99691881, 0.69570824, 0.28449618],\n",
       "       [0.82255258, 0.06366261, 0.29242071, 0.57931196],\n",
       "       [0.21435522, 0.55020686, 0.50064097, 0.50692347],\n",
       "       [0.7794881 , 0.85775694, 0.13988046, 0.9989722 ]])"
      ]
     },
     "execution_count": 24,
     "metadata": {},
     "output_type": "execute_result"
    }
   ],
   "source": [
    "np.random.random(size=(4, 4))"
   ]
  },
  {
   "cell_type": "markdown",
   "id": "5b127d86-1bda-482b-bdfb-e2f52daff73d",
   "metadata": {},
   "source": [
    "#### 生成指定分布的随机数"
   ]
  },
  {
   "cell_type": "code",
   "execution_count": 25,
   "id": "b6f9693d-3388-49f4-9c3d-60daece6be3c",
   "metadata": {},
   "outputs": [
    {
     "data": {
      "text/plain": [
       "array([[0.13540855, 0.35410819, 0.1568377 , 0.03828139],\n",
       "       [0.40762783, 0.62254007, 0.61532475, 0.71710555],\n",
       "       [0.54574225, 0.30335304, 0.97747923, 0.65894413],\n",
       "       [0.17913394, 0.86202   , 0.04157563, 0.46170288]])"
      ]
     },
     "execution_count": 25,
     "metadata": {},
     "output_type": "execute_result"
    }
   ],
   "source": [
    "np.random.rand(4, 4) # 生成均匀分布的随机数"
   ]
  },
  {
   "cell_type": "code",
   "execution_count": 26,
   "id": "9eb35c3b-4d73-4b9a-8ced-b007051f2246",
   "metadata": {},
   "outputs": [
    {
     "data": {
      "text/plain": [
       "array([[-0.9067631 ,  2.43635581, -1.69209919, -0.30894239],\n",
       "       [ 0.17642365,  1.72668516,  1.11671961, -0.32636958],\n",
       "       [-0.22192124,  0.70223612, -0.44704243, -2.05838643],\n",
       "       [ 0.62678035, -1.69465323,  0.13285324,  1.34267532]])"
      ]
     },
     "execution_count": 26,
     "metadata": {},
     "output_type": "execute_result"
    }
   ],
   "source": [
    "np.random.randn(4, 4) # 正态分布的随机数：mean=0, var=1"
   ]
  },
  {
   "cell_type": "markdown",
   "id": "c9b304d2-c361-45e0-876d-840a85714ce7",
   "metadata": {},
   "source": [
    "#### 生成随机整数"
   ]
  },
  {
   "cell_type": "code",
   "execution_count": 27,
   "id": "14b00452-4b3d-4daf-a0a6-4a0c3f4ecce3",
   "metadata": {},
   "outputs": [
    {
     "data": {
      "text/plain": [
       "array([[3, 4, 2],\n",
       "       [1, 3, 0],\n",
       "       [3, 4, 2]])"
      ]
     },
     "execution_count": 27,
     "metadata": {},
     "output_type": "execute_result"
    }
   ],
   "source": [
    "np.random.randint(low=5, high=None, size=(3, 3)) # 当 high=None, [0, low)"
   ]
  },
  {
   "cell_type": "code",
   "execution_count": 28,
   "id": "d97a13eb-3f81-4762-85af-87c2b62c2838",
   "metadata": {},
   "outputs": [
    {
     "data": {
      "text/plain": [
       "array([[6, 6, 7],\n",
       "       [6, 5, 6],\n",
       "       [8, 5, 5]])"
      ]
     },
     "execution_count": 28,
     "metadata": {},
     "output_type": "execute_result"
    }
   ],
   "source": [
    "np.random.randint(low=5, high=10, size=(3, 3)) # 当 high!=None, [low, high)"
   ]
  },
  {
   "cell_type": "markdown",
   "id": "c0bc0480-a5d3-4de0-a861-70ce45149568",
   "metadata": {},
   "source": [
    "#### 指定随机种子数固定随机数的生成结果"
   ]
  },
  {
   "cell_type": "code",
   "execution_count": 29,
   "id": "868c17ca-31aa-45b9-a109-c6a3eb9528f6",
   "metadata": {},
   "outputs": [
    {
     "data": {
      "text/plain": [
       "array([[8, 9, 9],\n",
       "       [5, 6, 6],\n",
       "       [6, 7, 8]])"
      ]
     },
     "execution_count": 29,
     "metadata": {},
     "output_type": "execute_result"
    }
   ],
   "source": [
    "np.random.seed(1234)\n",
    "np.random.randint(low=5, high=10, size=(3, 3))"
   ]
  },
  {
   "cell_type": "markdown",
   "id": "fef4fe68-8099-4818-8c06-4c40d7bd8564",
   "metadata": {},
   "source": [
    "## 4. 数据的存储与读取"
   ]
  },
  {
   "cell_type": "code",
   "execution_count": 30,
   "id": "2cbd7917-d77e-41e3-8bc9-ee817febf784",
   "metadata": {},
   "outputs": [
    {
     "data": {
      "text/plain": [
       "array([[0.81516293, 0.15881535, 0.11613783],\n",
       "       [0.01290753, 0.48683344, 0.33101543],\n",
       "       [0.80263957, 0.09825194, 0.05599345]])"
      ]
     },
     "execution_count": 30,
     "metadata": {},
     "output_type": "execute_result"
    }
   ],
   "source": [
    "array2 = np.random.rand(3, 3)\n",
    "array2"
   ]
  },
  {
   "cell_type": "markdown",
   "id": "dcb15506-a835-4359-87c5-64d19adac46e",
   "metadata": {},
   "source": [
    "### 4.1 二进制文件的存储与读取"
   ]
  },
  {
   "cell_type": "markdown",
   "id": "61ccb2a5-ae4a-4710-ab99-32fb6216a363",
   "metadata": {},
   "source": [
    "#### 单个数组文件的存储"
   ]
  },
  {
   "cell_type": "code",
   "execution_count": 31,
   "id": "41d24f78-30d0-47e9-b81e-d42874f2789c",
   "metadata": {},
   "outputs": [],
   "source": [
    "np.save('../data/array2', array2) # 在存储文件时，支持不写文件后缀，会自动加上npy"
   ]
  },
  {
   "cell_type": "markdown",
   "id": "08e6cf40-4d89-4c54-a4e6-e41c5d57020e",
   "metadata": {},
   "source": [
    "#### 单个数组文件的读取"
   ]
  },
  {
   "cell_type": "code",
   "execution_count": 32,
   "id": "c6e37d3d-9b08-4f14-a156-cfc373cddf70",
   "metadata": {},
   "outputs": [
    {
     "data": {
      "text/plain": [
       "array([[0.81516293, 0.15881535, 0.11613783],\n",
       "       [0.01290753, 0.48683344, 0.33101543],\n",
       "       [0.80263957, 0.09825194, 0.05599345]])"
      ]
     },
     "execution_count": 32,
     "metadata": {},
     "output_type": "execute_result"
    }
   ],
   "source": [
    "np.load('../data/array2.npy')"
   ]
  },
  {
   "cell_type": "markdown",
   "id": "618aa409-4e83-4e66-a0cd-710e490fb44f",
   "metadata": {},
   "source": [
    "#### 多个数组文件的存储"
   ]
  },
  {
   "cell_type": "code",
   "execution_count": 33,
   "id": "c24bf9c0-09a7-4fc1-a57b-e48adc5e3ddb",
   "metadata": {},
   "outputs": [
    {
     "data": {
      "text/plain": [
       "array([[3, 4, 2],\n",
       "       [2, 3, 3],\n",
       "       [0, 1, 3]])"
      ]
     },
     "execution_count": 33,
     "metadata": {},
     "output_type": "execute_result"
    }
   ],
   "source": [
    "array3 = np.random.randint(low=5, size=(3, 3))\n",
    "array3"
   ]
  },
  {
   "cell_type": "code",
   "execution_count": 34,
   "id": "d5b72f7d-9fa5-46a7-9788-22d6155e7de8",
   "metadata": {},
   "outputs": [],
   "source": [
    "np.savez('../data/all_array', arr2=array2, arr3=array3) # 在存储文件时，支持不写后缀，会自动加上npz"
   ]
  },
  {
   "cell_type": "markdown",
   "id": "47e62852-4fbf-4529-aacd-136e48d029e1",
   "metadata": {},
   "source": [
    "#### 多个数组文件的读取"
   ]
  },
  {
   "cell_type": "code",
   "execution_count": 35,
   "id": "ba8b67fa-0442-4106-a0b6-cc3285fa2580",
   "metadata": {},
   "outputs": [],
   "source": [
    "array_file = np.load('../data/all_array.npz')"
   ]
  },
  {
   "cell_type": "code",
   "execution_count": 36,
   "id": "cc2b438f-127b-4c8b-9eec-ceedfb86c58b",
   "metadata": {},
   "outputs": [
    {
     "data": {
      "text/plain": [
       "['arr2', 'arr3']"
      ]
     },
     "execution_count": 36,
     "metadata": {},
     "output_type": "execute_result"
    }
   ],
   "source": [
    "array_file.files"
   ]
  },
  {
   "cell_type": "code",
   "execution_count": 37,
   "id": "3a33c8b4-c09f-43a9-8900-858c5000a473",
   "metadata": {},
   "outputs": [
    {
     "data": {
      "text/plain": [
       "array([[0.81516293, 0.15881535, 0.11613783],\n",
       "       [0.01290753, 0.48683344, 0.33101543],\n",
       "       [0.80263957, 0.09825194, 0.05599345]])"
      ]
     },
     "execution_count": 37,
     "metadata": {},
     "output_type": "execute_result"
    }
   ],
   "source": [
    "array_file['arr2'] # 根据数组名称获取相应的数组内容"
   ]
  },
  {
   "cell_type": "code",
   "execution_count": 38,
   "id": "e8750421-896b-4e1f-b85e-d4789dd38a75",
   "metadata": {},
   "outputs": [
    {
     "data": {
      "text/plain": [
       "array([[3, 4, 2],\n",
       "       [2, 3, 3],\n",
       "       [0, 1, 3]])"
      ]
     },
     "execution_count": 38,
     "metadata": {},
     "output_type": "execute_result"
    }
   ],
   "source": [
    "array_file['arr3']"
   ]
  },
  {
   "cell_type": "markdown",
   "id": "9ba3d156-af22-4468-8963-cf22300df56c",
   "metadata": {},
   "source": [
    "### 4.2 文件文件的存储和读取"
   ]
  },
  {
   "cell_type": "markdown",
   "id": "b26f73d2-d00f-4e20-83db-e6810cb8a49d",
   "metadata": {},
   "source": [
    "#### 文件的存储"
   ]
  },
  {
   "cell_type": "code",
   "execution_count": 39,
   "id": "5a65a8eb-0601-4937-b444-75417f15e5ca",
   "metadata": {},
   "outputs": [],
   "source": [
    "np.savetxt('../data/array.txt', array3, fmt='%d') # fmt: 存储数据的精度"
   ]
  },
  {
   "cell_type": "markdown",
   "id": "546dc4e8-225b-4d3f-b46a-0fe555b9df37",
   "metadata": {},
   "source": [
    "#### 文件的读取"
   ]
  },
  {
   "cell_type": "code",
   "execution_count": 40,
   "id": "edd7f784-4800-4a99-a096-c0bb2d244208",
   "metadata": {},
   "outputs": [
    {
     "data": {
      "text/plain": [
       "array([[3., 4., 2.],\n",
       "       [2., 3., 3.],\n",
       "       [0., 1., 3.]])"
      ]
     },
     "execution_count": 40,
     "metadata": {},
     "output_type": "execute_result"
    }
   ],
   "source": [
    "np.loadtxt('../data/array.txt')"
   ]
  },
  {
   "cell_type": "markdown",
   "id": "176f35f7-9fd6-4625-8810-1a269ce2b6c9",
   "metadata": {},
   "source": [
    "### 练习"
   ]
  },
  {
   "cell_type": "code",
   "execution_count": 41,
   "id": "217131c1-728a-4197-b2a5-543a7c07d36b",
   "metadata": {},
   "outputs": [
    {
     "data": {
      "text/plain": [
       "array([[9.87139302, 1.1744339 , 3.93782352],\n",
       "       [4.52729809, 5.38147835, 7.90622103],\n",
       "       [4.65836343, 4.35332253, 5.69478657]])"
      ]
     },
     "execution_count": 41,
     "metadata": {},
     "output_type": "execute_result"
    }
   ],
   "source": [
    "array1 = np.random.rand(3, 3) * 10\n",
    "array1"
   ]
  },
  {
   "cell_type": "code",
   "execution_count": 42,
   "id": "cff6a450-471e-4000-a1f8-0a549b60f95b",
   "metadata": {},
   "outputs": [
    {
     "data": {
      "text/plain": [
       "array([[1, 7, 4],\n",
       "       [0, 5, 1],\n",
       "       [5, 4, 0]])"
      ]
     },
     "execution_count": 42,
     "metadata": {},
     "output_type": "execute_result"
    }
   ],
   "source": [
    "array2 = np.random.randint(low=0, high=9, size=(3, 3))\n",
    "array2"
   ]
  },
  {
   "cell_type": "code",
   "execution_count": 43,
   "id": "774a1733-80c3-4247-b370-7e11251bb10b",
   "metadata": {},
   "outputs": [
    {
     "data": {
      "text/plain": [
       "array([[6.05978279, 7.33369361, 1.38947157],\n",
       "       [3.12673084, 9.97243281, 1.28162375],\n",
       "       [1.78993106, 7.52925429, 6.62160514]])"
      ]
     },
     "execution_count": 43,
     "metadata": {},
     "output_type": "execute_result"
    }
   ],
   "source": [
    "np.random.seed(2021)\n",
    "array3 = np.random.rand(3, 3) * 10\n",
    "array3"
   ]
  },
  {
   "cell_type": "code",
   "execution_count": 44,
   "id": "ab201be8-ae1a-47a1-925e-44a14f670fef",
   "metadata": {},
   "outputs": [
    {
     "name": "stdout",
     "output_type": "stream",
     "text": [
      "[[False False False]\n",
      " [False False False]\n",
      " [False False False]]\n"
     ]
    }
   ],
   "source": [
    "print(array1 == array3)"
   ]
  },
  {
   "cell_type": "code",
   "execution_count": 45,
   "id": "52083845-b19d-4412-ba7c-bf3b7ceea08e",
   "metadata": {},
   "outputs": [],
   "source": [
    "np.savez('../data/all_array', arr1=array1, arr2=array2)"
   ]
  },
  {
   "cell_type": "code",
   "execution_count": 46,
   "id": "408de389-3264-407e-a8b2-725a12a3f3ac",
   "metadata": {},
   "outputs": [],
   "source": [
    "all_files = np.load('../data/all_array.npz')"
   ]
  },
  {
   "cell_type": "code",
   "execution_count": 47,
   "id": "f874a271-ec0e-47c5-b400-762c91bb375d",
   "metadata": {},
   "outputs": [],
   "source": [
    "new_array1 = all_files['arr1']\n",
    "new_array2 = all_files['arr2']"
   ]
  },
  {
   "cell_type": "code",
   "execution_count": 48,
   "id": "6b9fc6f3-6108-4e3d-bcf5-3d432fa02b42",
   "metadata": {},
   "outputs": [
    {
     "data": {
      "text/plain": [
       "array([[10.87139302,  8.1744339 ,  7.93782352],\n",
       "       [ 4.52729809, 10.38147835,  8.90622103],\n",
       "       [ 9.65836343,  8.35332253,  5.69478657]])"
      ]
     },
     "execution_count": 48,
     "metadata": {},
     "output_type": "execute_result"
    }
   ],
   "source": [
    "array4 = new_array1 + new_array2\n",
    "array4"
   ]
  },
  {
   "cell_type": "markdown",
   "id": "02a07883-61d1-49e3-8b83-19c0f650f33f",
   "metadata": {},
   "source": [
    "## 5. 数组的索引和切片"
   ]
  },
  {
   "cell_type": "markdown",
   "id": "9458c252-3423-4740-a916-24fe1130d339",
   "metadata": {},
   "source": [
    "### 5.1 关于一维数组的索引和切片"
   ]
  },
  {
   "cell_type": "code",
   "execution_count": 49,
   "id": "396e5d5c-b083-466d-99b0-42bbcf38e898",
   "metadata": {},
   "outputs": [
    {
     "data": {
      "text/plain": [
       "array([11, 21, 34, 51,  2,  1])"
      ]
     },
     "execution_count": 49,
     "metadata": {},
     "output_type": "execute_result"
    }
   ],
   "source": [
    "array4 = np.array([11, 21, 34, 51, 2, 1])\n",
    "array4"
   ]
  },
  {
   "cell_type": "markdown",
   "id": "254f8265-b8a8-480f-a489-bc29a5f1e60d",
   "metadata": {},
   "source": [
    "#### 取出单个数值"
   ]
  },
  {
   "cell_type": "code",
   "execution_count": 50,
   "id": "3a55d070-eead-4e3b-accf-4d50837bc3ab",
   "metadata": {},
   "outputs": [
    {
     "name": "stdout",
     "output_type": "stream",
     "text": [
      "2\n",
      "2\n"
     ]
    }
   ],
   "source": [
    "print(array4[4]) # 正向索引\n",
    "print(array4[-2]) # 反向索引"
   ]
  },
  {
   "cell_type": "markdown",
   "id": "884a7b48-f4ac-4de4-9138-449d846a4a29",
   "metadata": {},
   "source": [
    "#### 连续取值"
   ]
  },
  {
   "cell_type": "code",
   "execution_count": 51,
   "id": "3b6368b7-2585-4341-b5e0-b1747d516d2f",
   "metadata": {},
   "outputs": [
    {
     "data": {
      "text/plain": [
       "array([21, 34, 51])"
      ]
     },
     "execution_count": 51,
     "metadata": {},
     "output_type": "execute_result"
    }
   ],
   "source": [
    "array4[1:4] # [1, 4)"
   ]
  },
  {
   "cell_type": "code",
   "execution_count": 52,
   "id": "96f76e81-c2a2-41e4-9d81-9682b1bc95ca",
   "metadata": {},
   "outputs": [
    {
     "data": {
      "text/plain": [
       "array([11, 21, 34])"
      ]
     },
     "execution_count": 52,
     "metadata": {},
     "output_type": "execute_result"
    }
   ],
   "source": [
    "array4[0:3] # 从第一个元素开始取值"
   ]
  },
  {
   "cell_type": "code",
   "execution_count": 53,
   "id": "4eeb4d3a-468d-4dbc-bb71-13c617150dd7",
   "metadata": {},
   "outputs": [
    {
     "data": {
      "text/plain": [
       "array([11, 21, 34])"
      ]
     },
     "execution_count": 53,
     "metadata": {},
     "output_type": "execute_result"
    }
   ],
   "source": [
    "array4[:3] # 可以省略第一个起点下标0"
   ]
  },
  {
   "cell_type": "code",
   "execution_count": 54,
   "id": "2f15c188-bcbc-4f6e-9cab-96161b4bf63d",
   "metadata": {},
   "outputs": [
    {
     "data": {
      "text/plain": [
       "array([51,  2,  1])"
      ]
     },
     "execution_count": 54,
     "metadata": {},
     "output_type": "execute_result"
    }
   ],
   "source": [
    "array4[3:6] # 从某个元素开始取值，一直取到最后一位"
   ]
  },
  {
   "cell_type": "code",
   "execution_count": 55,
   "id": "e366f8cc-419a-4bfd-b87a-e55444767dd6",
   "metadata": {},
   "outputs": [
    {
     "data": {
      "text/plain": [
       "array([51,  2,  1])"
      ]
     },
     "execution_count": 55,
     "metadata": {},
     "output_type": "execute_result"
    }
   ],
   "source": [
    "array4[3:] # 可以省略最后一个结束位置的下标"
   ]
  },
  {
   "cell_type": "markdown",
   "id": "30ed0f49-e333-400e-ad6d-c641af847cb6",
   "metadata": {},
   "source": [
    "#### 非连续取值\n",
    "有规律"
   ]
  },
  {
   "cell_type": "code",
   "execution_count": 56,
   "id": "61642513-998b-4649-b295-aae97c6ad99f",
   "metadata": {},
   "outputs": [
    {
     "data": {
      "text/plain": [
       "array([11, 21, 34, 51,  2,  1])"
      ]
     },
     "execution_count": 56,
     "metadata": {},
     "output_type": "execute_result"
    }
   ],
   "source": [
    "array4[:] # 使用切片的方式取出整个数组"
   ]
  },
  {
   "cell_type": "code",
   "execution_count": 57,
   "id": "18021bb5-525e-4729-8b5b-6db894b45003",
   "metadata": {},
   "outputs": [
    {
     "data": {
      "text/plain": [
       "array([11, 34,  2])"
      ]
     },
     "execution_count": 57,
     "metadata": {},
     "output_type": "execute_result"
    }
   ],
   "source": [
    "array4[::2] # 取出奇数项"
   ]
  },
  {
   "cell_type": "code",
   "execution_count": 58,
   "id": "0cf606bd-1160-4a80-af30-8ad5b4393eb2",
   "metadata": {},
   "outputs": [
    {
     "data": {
      "text/plain": [
       "array([21, 51,  1])"
      ]
     },
     "execution_count": 58,
     "metadata": {},
     "output_type": "execute_result"
    }
   ],
   "source": [
    "array4[1::2] # 取出偶数项"
   ]
  },
  {
   "cell_type": "markdown",
   "id": "299e6d48-c05f-41ad-813b-a24fd7d7f6a6",
   "metadata": {},
   "source": [
    "无规律"
   ]
  },
  {
   "cell_type": "code",
   "execution_count": 59,
   "id": "77688429-53bf-4e07-b434-0a80f3e790c1",
   "metadata": {},
   "outputs": [
    {
     "data": {
      "text/plain": [
       "array([11, 34, 51])"
      ]
     },
     "execution_count": 59,
     "metadata": {},
     "output_type": "execute_result"
    }
   ],
   "source": [
    "array4[[True, False, True, True, False, False]] # 使用布尔值索引方式进行取值"
   ]
  },
  {
   "cell_type": "markdown",
   "id": "6e4d126c-313e-4e74-89ab-c79e8ab80b3f",
   "metadata": {},
   "source": [
    "### 5.2 关于二维数组的索引和切片"
   ]
  },
  {
   "cell_type": "code",
   "execution_count": 60,
   "id": "107f0ebb-dc26-451a-a471-e6525e88c9b0",
   "metadata": {},
   "outputs": [
    {
     "data": {
      "text/plain": [
       "array([[70, 33,  7,  1, 97],\n",
       "       [26, 66, 48, 99, 63],\n",
       "       [49, 16, 50, 54, 52],\n",
       "       [93,  5, 49, 38, 14],\n",
       "       [71, 85, 70, 41, 21]])"
      ]
     },
     "execution_count": 60,
     "metadata": {},
     "output_type": "execute_result"
    }
   ],
   "source": [
    "array5 = np.random.randint(100, size=(5, 5))\n",
    "array5"
   ]
  },
  {
   "cell_type": "markdown",
   "id": "4c81eb44-0b5b-40ca-9a78-69dc47813c05",
   "metadata": {},
   "source": [
    "#### 取出单个数值"
   ]
  },
  {
   "cell_type": "code",
   "execution_count": 61,
   "id": "f305a0ba-5b91-46cf-9cef-3f6816118423",
   "metadata": {},
   "outputs": [
    {
     "data": {
      "text/plain": [
       "54"
      ]
     },
     "execution_count": 61,
     "metadata": {},
     "output_type": "execute_result"
    }
   ],
   "source": [
    "array5[2, 3]"
   ]
  },
  {
   "cell_type": "code",
   "execution_count": 62,
   "id": "9aaf9d5b-02e6-4954-bbf9-d776127859a3",
   "metadata": {},
   "outputs": [
    {
     "data": {
      "text/plain": [
       "97"
      ]
     },
     "execution_count": 62,
     "metadata": {},
     "output_type": "execute_result"
    }
   ],
   "source": [
    "array5[0, -1]"
   ]
  },
  {
   "cell_type": "code",
   "execution_count": 63,
   "id": "a9c84c82-5f65-46c9-991b-84af4263c89a",
   "metadata": {},
   "outputs": [
    {
     "data": {
      "text/plain": [
       "21"
      ]
     },
     "execution_count": 63,
     "metadata": {},
     "output_type": "execute_result"
    }
   ],
   "source": [
    "array5[-1, -1]"
   ]
  },
  {
   "cell_type": "markdown",
   "id": "d65b2764-e9d0-4bbb-b459-4b968c15559a",
   "metadata": {},
   "source": [
    "#### 取出指定的行、列"
   ]
  },
  {
   "cell_type": "code",
   "execution_count": 64,
   "id": "e7bd3edc-20ed-45a0-902e-48598d1e36e3",
   "metadata": {},
   "outputs": [
    {
     "data": {
      "text/plain": [
       "array([49, 16, 50, 54, 52])"
      ]
     },
     "execution_count": 64,
     "metadata": {},
     "output_type": "execute_result"
    }
   ],
   "source": [
    "array5[2, :]"
   ]
  },
  {
   "cell_type": "code",
   "execution_count": 65,
   "id": "ebd0b1ed-0ce4-49b3-845e-874d3279c31b",
   "metadata": {},
   "outputs": [
    {
     "data": {
      "text/plain": [
       "array([ 1, 99, 54, 38, 41])"
      ]
     },
     "execution_count": 65,
     "metadata": {},
     "output_type": "execute_result"
    }
   ],
   "source": [
    "array5[:, 3]"
   ]
  },
  {
   "cell_type": "markdown",
   "id": "8c116dbd-1699-4475-82fc-21fab3fe8d58",
   "metadata": {},
   "source": [
    "#### 取出指定区域内的数据"
   ]
  },
  {
   "cell_type": "code",
   "execution_count": 66,
   "id": "cf041d97-b3ff-4dbc-a3dd-6e35bb779f4a",
   "metadata": {},
   "outputs": [
    {
     "data": {
      "text/plain": [
       "array([[66, 48, 99],\n",
       "       [16, 50, 54],\n",
       "       [ 5, 49, 38]])"
      ]
     },
     "execution_count": 66,
     "metadata": {},
     "output_type": "execute_result"
    }
   ],
   "source": [
    "array5[1:4, 1:4] # 取出中间 3x3 区域内的数据"
   ]
  },
  {
   "cell_type": "code",
   "execution_count": 67,
   "id": "e226f464-5c84-498e-9145-12d37c08bb04",
   "metadata": {},
   "outputs": [
    {
     "data": {
      "text/plain": [
       "array([[ 7,  1, 97],\n",
       "       [48, 99, 63],\n",
       "       [50, 54, 52]])"
      ]
     },
     "execution_count": 67,
     "metadata": {},
     "output_type": "execute_result"
    }
   ],
   "source": [
    "array5[:3, 2:] # 取出右上角3x3区域内的数据"
   ]
  },
  {
   "cell_type": "markdown",
   "id": "9488ce35-ca3a-4335-8e70-94c23cf9b571",
   "metadata": {},
   "source": [
    "#### 非连续取值"
   ]
  },
  {
   "cell_type": "markdown",
   "id": "38e4c6ca-e40c-4bbb-8529-d807e7a1f052",
   "metadata": {},
   "source": [
    "有规律"
   ]
  },
  {
   "cell_type": "code",
   "execution_count": 68,
   "id": "c37e5641-28c8-4504-bcf6-f3dbed3207b5",
   "metadata": {},
   "outputs": [
    {
     "data": {
      "text/plain": [
       "array([[66, 48, 99, 63],\n",
       "       [ 5, 49, 38, 14]])"
      ]
     },
     "execution_count": 68,
     "metadata": {},
     "output_type": "execute_result"
    }
   ],
   "source": [
    "array5[1::2, 1:] # 取出偶数行和第二列到最后一列的所有数据"
   ]
  },
  {
   "cell_type": "code",
   "execution_count": 69,
   "id": "940b62ba-cc94-447e-8af3-a1dbfb523b7b",
   "metadata": {},
   "outputs": [
    {
     "data": {
      "text/plain": [
       "array([[66, 99],\n",
       "       [ 5, 38]])"
      ]
     },
     "execution_count": 69,
     "metadata": {},
     "output_type": "execute_result"
    }
   ],
   "source": [
    "array5[1::2, 1::2] # 取出偶数行和偶数列包含的所有值"
   ]
  },
  {
   "cell_type": "markdown",
   "id": "6af8e1a1-c29d-42d4-a6b3-3abdffc6eb83",
   "metadata": {},
   "source": [
    "无规律"
   ]
  },
  {
   "cell_type": "code",
   "execution_count": 70,
   "id": "115435df-24ca-41ef-a5a6-04169b753955",
   "metadata": {},
   "outputs": [
    {
     "data": {
      "text/plain": [
       "array([[66, 63],\n",
       "       [16, 52],\n",
       "       [85, 21]])"
      ]
     },
     "execution_count": 70,
     "metadata": {},
     "output_type": "execute_result"
    }
   ],
   "source": [
    "array5[[False, True, True, False, True], :][:, [False, True, False, False, True]]"
   ]
  },
  {
   "cell_type": "code",
   "execution_count": 71,
   "id": "07a04e51-a28f-4e53-a3a0-450b7c40b36c",
   "metadata": {},
   "outputs": [
    {
     "data": {
      "text/plain": [
       "array([[66, 63],\n",
       "       [16, 52],\n",
       "       [85, 21]])"
      ]
     },
     "execution_count": 71,
     "metadata": {},
     "output_type": "execute_result"
    }
   ],
   "source": [
    "array5[[1, 2, 4], :][:, [1, 4]]"
   ]
  },
  {
   "cell_type": "markdown",
   "id": "b3f01072-4b00-48ac-ba50-2c44c089d8d7",
   "metadata": {},
   "source": [
    "## 6. 数组的计算"
   ]
  },
  {
   "cell_type": "code",
   "execution_count": 72,
   "id": "e5d15cd4-1488-4e60-a67b-8d1186672fdd",
   "metadata": {},
   "outputs": [
    {
     "data": {
      "text/plain": [
       "array([[25, 10, 36],\n",
       "       [19, 57, 82],\n",
       "       [90, 15, 40]])"
      ]
     },
     "execution_count": 72,
     "metadata": {},
     "output_type": "execute_result"
    }
   ],
   "source": [
    "array6 = np.random.randint(100, size=(3, 3))\n",
    "array6"
   ]
  },
  {
   "cell_type": "markdown",
   "id": "98aaf3d9-42e0-4bb2-8cf1-75b323f6c26c",
   "metadata": {},
   "source": [
    "### 6.1 数组和标量间的计算"
   ]
  },
  {
   "cell_type": "code",
   "execution_count": 73,
   "id": "0e7d6fb7-7160-4307-be7b-9e2c441f371b",
   "metadata": {},
   "outputs": [
    {
     "data": {
      "text/plain": [
       "array([[20,  5, 31],\n",
       "       [14, 52, 77],\n",
       "       [85, 10, 35]])"
      ]
     },
     "execution_count": 73,
     "metadata": {},
     "output_type": "execute_result"
    }
   ],
   "source": [
    "array6 - 5"
   ]
  },
  {
   "cell_type": "markdown",
   "id": "f5f1188c-0b03-4796-8bf0-b7caa6c4d24d",
   "metadata": {},
   "source": [
    "### 6.2 数组和数组间的计算"
   ]
  },
  {
   "cell_type": "code",
   "execution_count": 74,
   "id": "2a393755-d4ea-40aa-848e-d5294b9695f9",
   "metadata": {},
   "outputs": [
    {
     "data": {
      "text/plain": [
       "array([[1., 0., 0.],\n",
       "       [0., 1., 0.],\n",
       "       [0., 0., 1.]])"
      ]
     },
     "execution_count": 74,
     "metadata": {},
     "output_type": "execute_result"
    }
   ],
   "source": [
    "array7 = np.eye(3)\n",
    "array7"
   ]
  },
  {
   "cell_type": "markdown",
   "id": "57b95420-22e6-4bf1-bb31-107498ca3056",
   "metadata": {},
   "source": [
    "#### 当两个数组的尺寸一致"
   ]
  },
  {
   "cell_type": "code",
   "execution_count": 75,
   "id": "7c23c595-a595-41af-af10-951213a44631",
   "metadata": {},
   "outputs": [
    {
     "data": {
      "text/plain": [
       "array([[26., 10., 36.],\n",
       "       [19., 58., 82.],\n",
       "       [90., 15., 41.]])"
      ]
     },
     "execution_count": 75,
     "metadata": {},
     "output_type": "execute_result"
    }
   ],
   "source": [
    "array6 + array7 # 对应元素做相关运算"
   ]
  },
  {
   "cell_type": "code",
   "execution_count": 76,
   "id": "068d42fe-cb1b-4b66-a010-7d81cfe6dd63",
   "metadata": {},
   "outputs": [
    {
     "data": {
      "text/plain": [
       "array([[25.,  0.,  0.],\n",
       "       [ 0., 57.,  0.],\n",
       "       [ 0.,  0., 40.]])"
      ]
     },
     "execution_count": 76,
     "metadata": {},
     "output_type": "execute_result"
    }
   ],
   "source": [
    "array6 * array7 # 两个数组作惩罚也是对应元素相乘"
   ]
  },
  {
   "cell_type": "code",
   "execution_count": 77,
   "id": "e0cd7c9d-d8c7-4aa1-8d89-0feee67fe75f",
   "metadata": {},
   "outputs": [
    {
     "data": {
      "text/plain": [
       "array([[25., 10., 36.],\n",
       "       [19., 57., 82.],\n",
       "       [90., 15., 40.]])"
      ]
     },
     "execution_count": 77,
     "metadata": {},
     "output_type": "execute_result"
    }
   ],
   "source": [
    "array6 @ array7 # 矩阵乘法"
   ]
  },
  {
   "cell_type": "markdown",
   "id": "0acb0e4e-5218-46ea-9823-09139974869c",
   "metadata": {},
   "source": [
    "#### 当两个数组的尺寸不一致时"
   ]
  },
  {
   "cell_type": "markdown",
   "id": "62e3216a-4d0d-4218-971a-e233d0596c02",
   "metadata": {},
   "source": [
    "- 规则1：如果两个数组的维度数不相同，那么小维度数组的形状会在最左边补一；\n",
    "- 规则2：如果两个数组的形状在任何一个维度上都不匹配，那么数组的形状会沿着维度为1的维度扩展以匹配另一个数组的形状；\n",
    "- 规则3：如果两个数组的形状在任何一个维度上都不匹配并且没有任何一个维度等于1，那么会引发异常。"
   ]
  },
  {
   "cell_type": "code",
   "execution_count": 78,
   "id": "f196a189-59d8-4070-acb1-671184600d27",
   "metadata": {},
   "outputs": [
    {
     "data": {
      "text/plain": [
       "array([[25, 10, 36],\n",
       "       [19, 57, 82],\n",
       "       [90, 15, 40]])"
      ]
     },
     "execution_count": 78,
     "metadata": {},
     "output_type": "execute_result"
    }
   ],
   "source": [
    "array6"
   ]
  },
  {
   "cell_type": "code",
   "execution_count": 79,
   "id": "ea4e51eb-7fdb-46b3-aba0-1cd9f868da81",
   "metadata": {},
   "outputs": [
    {
     "data": {
      "text/plain": [
       "array([1, 2, 3])"
      ]
     },
     "execution_count": 79,
     "metadata": {},
     "output_type": "execute_result"
    }
   ],
   "source": [
    "array8 = np.array([1, 2, 3])\n",
    "array8"
   ]
  },
  {
   "cell_type": "code",
   "execution_count": 80,
   "id": "88ab4e9d-871c-490e-a56e-527e2b1329b4",
   "metadata": {},
   "outputs": [
    {
     "data": {
      "text/plain": [
       "array([[24,  8, 33],\n",
       "       [18, 55, 79],\n",
       "       [89, 13, 37]])"
      ]
     },
     "execution_count": 80,
     "metadata": {},
     "output_type": "execute_result"
    }
   ],
   "source": [
    "array6 - array8"
   ]
  },
  {
   "cell_type": "markdown",
   "id": "5b7b0abe-19a7-4e8f-88bd-1282fc839973",
   "metadata": {},
   "source": [
    "## 7. 数组尺寸修改"
   ]
  },
  {
   "cell_type": "code",
   "execution_count": 81,
   "id": "dc8fb32d-b2c8-4c18-88cb-bf805e1bba60",
   "metadata": {},
   "outputs": [
    {
     "data": {
      "text/plain": [
       "array([[76, 53, 11],\n",
       "       [19, 33, 78],\n",
       "       [17, 89, 50],\n",
       "       [ 7, 27, 63]])"
      ]
     },
     "execution_count": 81,
     "metadata": {},
     "output_type": "execute_result"
    }
   ],
   "source": [
    "array9 = np.random.randint(100, size=(4, 3))\n",
    "array9"
   ]
  },
  {
   "cell_type": "markdown",
   "id": "d381247f-0323-4759-8c0b-8864987157f7",
   "metadata": {},
   "source": [
    "### 7.1 修改数组形状"
   ]
  },
  {
   "cell_type": "code",
   "execution_count": 82,
   "id": "34a5233f-5a80-48ad-ade4-c5fdb750cf8d",
   "metadata": {},
   "outputs": [
    {
     "data": {
      "text/plain": [
       "array([[76, 53, 11, 19],\n",
       "       [33, 78, 17, 89],\n",
       "       [50,  7, 27, 63]])"
      ]
     },
     "execution_count": 82,
     "metadata": {},
     "output_type": "execute_result"
    }
   ],
   "source": [
    "np.reshape(array9, (3, 4)) # 修改数据形状前后必须满足数组的大小不变"
   ]
  },
  {
   "cell_type": "code",
   "execution_count": 83,
   "id": "5c450d58-f372-4528-bfb3-d335f58f4070",
   "metadata": {},
   "outputs": [],
   "source": [
    "# np.reshape(array9, (3, 3)) # 错误示范"
   ]
  },
  {
   "cell_type": "markdown",
   "id": "f439c573-ab0c-4853-bbdf-b9bd2e7d3baa",
   "metadata": {},
   "source": [
    "### 7.2 修改数组的维度数"
   ]
  },
  {
   "cell_type": "markdown",
   "id": "d08125a3-dd8f-439d-946b-d6766e090be4",
   "metadata": {},
   "source": [
    "#### 增加维度"
   ]
  },
  {
   "cell_type": "code",
   "execution_count": 84,
   "id": "77fe2c0d-44e0-4f1d-9a41-58ffb5f604cb",
   "metadata": {},
   "outputs": [
    {
     "data": {
      "text/plain": [
       "(4, 3)"
      ]
     },
     "execution_count": 84,
     "metadata": {},
     "output_type": "execute_result"
    }
   ],
   "source": [
    "array9.shape"
   ]
  },
  {
   "cell_type": "code",
   "execution_count": 85,
   "id": "df26ef9c-f79d-43e2-9b20-aa01f815e629",
   "metadata": {},
   "outputs": [
    {
     "data": {
      "text/plain": [
       "(4, 3, 1)"
      ]
     },
     "execution_count": 85,
     "metadata": {},
     "output_type": "execute_result"
    }
   ],
   "source": [
    "tmp_array = np.expand_dims(array9, -1)\n",
    "tmp_array.shape"
   ]
  },
  {
   "cell_type": "markdown",
   "id": "71c6de2e-7daa-40fa-bef7-e1edb6dcecf6",
   "metadata": {},
   "source": [
    "#### 删除维度"
   ]
  },
  {
   "cell_type": "code",
   "execution_count": 86,
   "id": "a3ee4525-9fea-4665-8f0f-2a53255556f7",
   "metadata": {},
   "outputs": [
    {
     "data": {
      "text/plain": [
       "(4, 3)"
      ]
     },
     "execution_count": 86,
     "metadata": {},
     "output_type": "execute_result"
    }
   ],
   "source": [
    "np.squeeze(tmp_array).shape"
   ]
  },
  {
   "cell_type": "markdown",
   "id": "0c83ea70-8ce7-42c6-b7de-ac969373d12c",
   "metadata": {},
   "source": [
    "### 7.3 数组的展平"
   ]
  },
  {
   "cell_type": "code",
   "execution_count": 87,
   "id": "70a737e2-c5f4-444c-a256-2b6a302c385c",
   "metadata": {},
   "outputs": [
    {
     "data": {
      "text/plain": [
       "array([[76, 53, 11],\n",
       "       [19, 33, 78],\n",
       "       [17, 89, 50],\n",
       "       [ 7, 27, 63]])"
      ]
     },
     "execution_count": 87,
     "metadata": {},
     "output_type": "execute_result"
    }
   ],
   "source": [
    "array9"
   ]
  },
  {
   "cell_type": "code",
   "execution_count": 88,
   "id": "95a18461-efc4-4296-a983-52e078c5ea57",
   "metadata": {},
   "outputs": [
    {
     "data": {
      "text/plain": [
       "array([76, 53, 11, 19, 33, 78, 17, 89, 50,  7, 27, 63])"
      ]
     },
     "execution_count": 88,
     "metadata": {},
     "output_type": "execute_result"
    }
   ],
   "source": [
    "np.ravel(array9)"
   ]
  },
  {
   "cell_type": "code",
   "execution_count": 89,
   "id": "ac59c388-73ab-47f0-81d7-ce939be08ee5",
   "metadata": {},
   "outputs": [
    {
     "data": {
      "text/plain": [
       "array([76, 53, 11, 19, 33, 78, 17, 89, 50,  7, 27, 63])"
      ]
     },
     "execution_count": 89,
     "metadata": {},
     "output_type": "execute_result"
    }
   ],
   "source": [
    "array9.flatten() # 默认按行展平"
   ]
  },
  {
   "cell_type": "code",
   "execution_count": 90,
   "id": "91db3ee3-80cd-4b8e-ba8f-43992b264c20",
   "metadata": {},
   "outputs": [
    {
     "data": {
      "text/plain": [
       "array([76, 19, 17,  7, 53, 33, 89, 27, 11, 78, 50, 63])"
      ]
     },
     "execution_count": 90,
     "metadata": {},
     "output_type": "execute_result"
    }
   ],
   "source": [
    "array9.flatten(order='F') # 按列展平"
   ]
  },
  {
   "cell_type": "markdown",
   "id": "b3b8edd7-fa9d-4d58-827c-718e05ab80e0",
   "metadata": {},
   "source": [
    "### 7.4 组合"
   ]
  },
  {
   "cell_type": "markdown",
   "id": "d340196c-b1ea-4cfc-845f-93568027897e",
   "metadata": {},
   "source": [
    "#### 纵向组合"
   ]
  },
  {
   "cell_type": "code",
   "execution_count": 91,
   "id": "79e06be0-8190-4266-ba01-72ec2ce031ec",
   "metadata": {},
   "outputs": [
    {
     "data": {
      "text/plain": [
       "array([[25., 10., 36.],\n",
       "       [19., 57., 82.],\n",
       "       [90., 15., 40.],\n",
       "       [ 1.,  0.,  0.],\n",
       "       [ 0.,  1.,  0.],\n",
       "       [ 0.,  0.,  1.]])"
      ]
     },
     "execution_count": 91,
     "metadata": {},
     "output_type": "execute_result"
    }
   ],
   "source": [
    "np.vstack([array6, array7])"
   ]
  },
  {
   "cell_type": "code",
   "execution_count": 92,
   "id": "40551bc9-9452-4d50-bddd-92bc4ae5c2f4",
   "metadata": {},
   "outputs": [
    {
     "data": {
      "text/plain": [
       "array([[25., 10., 36.],\n",
       "       [19., 57., 82.],\n",
       "       [90., 15., 40.],\n",
       "       [ 1.,  0.,  0.],\n",
       "       [ 0.,  1.,  0.],\n",
       "       [ 0.,  0.,  1.]])"
      ]
     },
     "execution_count": 92,
     "metadata": {},
     "output_type": "execute_result"
    }
   ],
   "source": [
    "np.concatenate([array6, array7], axis=0)"
   ]
  },
  {
   "cell_type": "markdown",
   "id": "2efcadb3-f76d-4653-a109-f46b272dddbd",
   "metadata": {},
   "source": [
    "#### 横向组合"
   ]
  },
  {
   "cell_type": "code",
   "execution_count": 93,
   "id": "571676df-5c09-46db-a60e-164910a88b66",
   "metadata": {},
   "outputs": [
    {
     "data": {
      "text/plain": [
       "array([[25., 10., 36.,  1.,  0.,  0.],\n",
       "       [19., 57., 82.,  0.,  1.,  0.],\n",
       "       [90., 15., 40.,  0.,  0.,  1.]])"
      ]
     },
     "execution_count": 93,
     "metadata": {},
     "output_type": "execute_result"
    }
   ],
   "source": [
    "np.hstack([array6, array7])"
   ]
  },
  {
   "cell_type": "code",
   "execution_count": 94,
   "id": "5874417b-34ce-4f6d-9abd-8c51f4949957",
   "metadata": {},
   "outputs": [
    {
     "data": {
      "text/plain": [
       "array([[25., 10., 36.,  1.,  0.,  0.],\n",
       "       [19., 57., 82.,  0.,  1.,  0.],\n",
       "       [90., 15., 40.,  0.,  0.,  1.]])"
      ]
     },
     "execution_count": 94,
     "metadata": {},
     "output_type": "execute_result"
    }
   ],
   "source": [
    "np.concatenate([array6, array7], axis=1)"
   ]
  },
  {
   "cell_type": "markdown",
   "id": "45eba9f2-ed18-4751-a1f3-fe37fccb4a1c",
   "metadata": {},
   "source": [
    "### 7.5 切分"
   ]
  },
  {
   "cell_type": "markdown",
   "id": "78848feb-9fe3-4901-b567-727894aeb772",
   "metadata": {},
   "source": [
    "#### 横向切分"
   ]
  },
  {
   "cell_type": "code",
   "execution_count": 95,
   "id": "5f9c235e-62c4-4888-aa30-d3b585207b27",
   "metadata": {},
   "outputs": [
    {
     "data": {
      "text/plain": [
       "[array([[25, 10, 36]]), array([[19, 57, 82]]), array([[90, 15, 40]])]"
      ]
     },
     "execution_count": 95,
     "metadata": {},
     "output_type": "execute_result"
    }
   ],
   "source": [
    "np.vsplit(array6, 3)"
   ]
  },
  {
   "cell_type": "code",
   "execution_count": 96,
   "id": "6eb618fb-12f7-4244-945a-c0acc899ab57",
   "metadata": {},
   "outputs": [
    {
     "data": {
      "text/plain": [
       "[array([[25, 10, 36]]), array([[19, 57, 82]]), array([[90, 15, 40]])]"
      ]
     },
     "execution_count": 96,
     "metadata": {},
     "output_type": "execute_result"
    }
   ],
   "source": [
    "np.split(array6, 3, axis=0)"
   ]
  },
  {
   "cell_type": "markdown",
   "id": "c17bcecf-655b-4523-a69e-6621b59940dd",
   "metadata": {},
   "source": [
    "#### 纵向切分"
   ]
  },
  {
   "cell_type": "code",
   "execution_count": 97,
   "id": "8c83f234-ac0f-4603-b7ca-d3ec1b1b9859",
   "metadata": {},
   "outputs": [
    {
     "data": {
      "text/plain": [
       "[array([[25],\n",
       "        [19],\n",
       "        [90]]),\n",
       " array([[10],\n",
       "        [57],\n",
       "        [15]]),\n",
       " array([[36],\n",
       "        [82],\n",
       "        [40]])]"
      ]
     },
     "execution_count": 97,
     "metadata": {},
     "output_type": "execute_result"
    }
   ],
   "source": [
    "np.hsplit(array6, 3)"
   ]
  },
  {
   "cell_type": "code",
   "execution_count": 98,
   "id": "ac935b34-26e0-45c6-9bc1-af87d013687c",
   "metadata": {},
   "outputs": [
    {
     "data": {
      "text/plain": [
       "[array([[25],\n",
       "        [19],\n",
       "        [90]]),\n",
       " array([[10],\n",
       "        [57],\n",
       "        [15]]),\n",
       " array([[36],\n",
       "        [82],\n",
       "        [40]])]"
      ]
     },
     "execution_count": 98,
     "metadata": {},
     "output_type": "execute_result"
    }
   ],
   "source": [
    "np.split(array6, 3, axis=1)"
   ]
  },
  {
   "cell_type": "markdown",
   "id": "ec73b2f3-70fc-41f0-8686-c7664fa2f17f",
   "metadata": {},
   "source": [
    "## 8. 排序"
   ]
  },
  {
   "cell_type": "markdown",
   "id": "35c2bd38-5989-44b7-9a7f-b494cee1b814",
   "metadata": {},
   "source": [
    "### 8.1 直接排序"
   ]
  },
  {
   "cell_type": "code",
   "execution_count": 99,
   "id": "1fd39951-1a5d-49c9-b95e-070720a4ecfe",
   "metadata": {},
   "outputs": [
    {
     "data": {
      "text/plain": [
       "array([[25, 10, 36],\n",
       "       [19, 57, 82],\n",
       "       [90, 15, 40]])"
      ]
     },
     "execution_count": 99,
     "metadata": {},
     "output_type": "execute_result"
    }
   ],
   "source": [
    "array6"
   ]
  },
  {
   "cell_type": "code",
   "execution_count": 100,
   "id": "e9ab328d-3353-41ba-8560-f5937eaa8728",
   "metadata": {},
   "outputs": [
    {
     "data": {
      "text/plain": [
       "array([[19, 10, 36],\n",
       "       [25, 15, 40],\n",
       "       [90, 57, 82]])"
      ]
     },
     "execution_count": 100,
     "metadata": {},
     "output_type": "execute_result"
    }
   ],
   "source": [
    "np.sort(array6, axis=0) # 列排序"
   ]
  },
  {
   "cell_type": "code",
   "execution_count": 101,
   "id": "6cf69fe3-77c4-4797-9565-4f7fc3e5b894",
   "metadata": {},
   "outputs": [
    {
     "data": {
      "text/plain": [
       "array([[10, 25, 36],\n",
       "       [19, 57, 82],\n",
       "       [15, 40, 90]])"
      ]
     },
     "execution_count": 101,
     "metadata": {},
     "output_type": "execute_result"
    }
   ],
   "source": [
    "np.sort(array6, axis=1)"
   ]
  },
  {
   "cell_type": "markdown",
   "id": "cfb0904d-4643-452b-ba67-2928a47aa90d",
   "metadata": {},
   "source": [
    "### 8.2 间接排序"
   ]
  },
  {
   "cell_type": "markdown",
   "id": "6c389f73-536f-4d50-a51f-446b403da7e0",
   "metadata": {},
   "source": [
    "不直接返回排序后的数组，返回排序后的数组下标"
   ]
  },
  {
   "cell_type": "code",
   "execution_count": 102,
   "id": "23f2cab6-6533-4acc-b071-b406b9fae0ef",
   "metadata": {},
   "outputs": [
    {
     "data": {
      "text/plain": [
       "array([ 2,  3,  1,  7, 10,  9, 11])"
      ]
     },
     "execution_count": 102,
     "metadata": {},
     "output_type": "execute_result"
    }
   ],
   "source": [
    "array10 = np.array([2, 3, 1, 7, 10, 9, 11])\n",
    "array10"
   ]
  },
  {
   "cell_type": "code",
   "execution_count": 103,
   "id": "a46acce7-968d-4362-8836-b4dc7d7f65ca",
   "metadata": {},
   "outputs": [
    {
     "data": {
      "text/plain": [
       "array([2, 0, 1, 3, 5, 4, 6], dtype=int64)"
      ]
     },
     "execution_count": 103,
     "metadata": {},
     "output_type": "execute_result"
    }
   ],
   "source": [
    "np.argsort(array10)"
   ]
  },
  {
   "cell_type": "code",
   "execution_count": 104,
   "id": "cc39698d-bf20-4d16-bdb5-45e023ee52d3",
   "metadata": {},
   "outputs": [
    {
     "data": {
      "text/plain": [
       "array([ 1,  2,  3,  7,  9, 10, 11])"
      ]
     },
     "execution_count": 104,
     "metadata": {},
     "output_type": "execute_result"
    }
   ],
   "source": [
    "array10[np.argsort(array10)] # 按照下标排序的结果对原始数据进行排序"
   ]
  },
  {
   "cell_type": "markdown",
   "id": "7f58b92f-138a-413c-8bf9-d042b6dc1cd8",
   "metadata": {},
   "source": [
    "## 9. 去重和重复"
   ]
  },
  {
   "cell_type": "code",
   "execution_count": 105,
   "id": "d6f457b9-8fed-49ea-a4bd-518e472b5389",
   "metadata": {},
   "outputs": [
    {
     "data": {
      "text/plain": [
       "array([[8, 6, 9, 6],\n",
       "       [6, 9, 8, 8],\n",
       "       [8, 8, 7, 6],\n",
       "       [8, 7, 7, 7]])"
      ]
     },
     "execution_count": 105,
     "metadata": {},
     "output_type": "execute_result"
    }
   ],
   "source": [
    "array11 = np.random.randint(low=5, high=10, size=(4, 4))\n",
    "array11"
   ]
  },
  {
   "cell_type": "markdown",
   "id": "d45d06d0-23be-4f3e-9f65-5ab2c87af5cf",
   "metadata": {},
   "source": [
    "### 9.1 去重"
   ]
  },
  {
   "cell_type": "code",
   "execution_count": 106,
   "id": "dce0dcb8-692e-4ac8-8b24-a1946135f276",
   "metadata": {},
   "outputs": [
    {
     "data": {
      "text/plain": [
       "array([6, 7, 8, 9])"
      ]
     },
     "execution_count": 106,
     "metadata": {},
     "output_type": "execute_result"
    }
   ],
   "source": [
    "np.unique(array11) # 去除数组中重复值，并且数组变为一维数组，将不同元素按照从小到大的顺序进行排序"
   ]
  },
  {
   "cell_type": "markdown",
   "id": "75e78dcc-b103-4a96-9f3d-cba0f5be25ba",
   "metadata": {},
   "source": [
    "### 9.2 重复"
   ]
  },
  {
   "cell_type": "code",
   "execution_count": 107,
   "id": "39c70bc7-30a0-42ad-a4be-936edf2d5732",
   "metadata": {},
   "outputs": [
    {
     "data": {
      "text/plain": [
       "array([ 2,  3,  1,  7, 10,  9, 11])"
      ]
     },
     "execution_count": 107,
     "metadata": {},
     "output_type": "execute_result"
    }
   ],
   "source": [
    "array10"
   ]
  },
  {
   "cell_type": "code",
   "execution_count": 108,
   "id": "248b69dc-b9f3-42fe-9d39-bef4ff11cdfe",
   "metadata": {},
   "outputs": [
    {
     "data": {
      "text/plain": [
       "array([ 2,  3,  1,  7, 10,  9, 11,  2,  3,  1,  7, 10,  9, 11])"
      ]
     },
     "execution_count": 108,
     "metadata": {},
     "output_type": "execute_result"
    }
   ],
   "source": [
    "np.tile(array10, 2)"
   ]
  },
  {
   "cell_type": "code",
   "execution_count": 109,
   "id": "8a338c11-908f-4b7a-902d-11943a914068",
   "metadata": {},
   "outputs": [
    {
     "data": {
      "text/plain": [
       "array([ 2,  2,  3,  3,  1,  1,  7,  7, 10, 10,  9,  9, 11, 11])"
      ]
     },
     "execution_count": 109,
     "metadata": {},
     "output_type": "execute_result"
    }
   ],
   "source": [
    "np.repeat(array10, 2) # 会进行排序"
   ]
  },
  {
   "cell_type": "markdown",
   "id": "84de7d2f-c008-4e8d-8d44-68a06694f3e2",
   "metadata": {},
   "source": [
    "## 10. 数组的简单统计函数"
   ]
  },
  {
   "cell_type": "markdown",
   "id": "6261892e-a831-402c-9207-6dc04a87c9c6",
   "metadata": {},
   "source": [
    "### 10.1 求均值"
   ]
  },
  {
   "cell_type": "code",
   "execution_count": 110,
   "id": "3c8515e4-7351-42b4-ab52-8b72b510dff1",
   "metadata": {},
   "outputs": [
    {
     "data": {
      "text/plain": [
       "array([[25, 10, 36],\n",
       "       [19, 57, 82],\n",
       "       [90, 15, 40]])"
      ]
     },
     "execution_count": 110,
     "metadata": {},
     "output_type": "execute_result"
    }
   ],
   "source": [
    "array6"
   ]
  },
  {
   "cell_type": "code",
   "execution_count": 111,
   "id": "b846d347-157c-4380-859d-6d6e554d1b5e",
   "metadata": {},
   "outputs": [
    {
     "data": {
      "text/plain": [
       "41.55555555555556"
      ]
     },
     "execution_count": 111,
     "metadata": {},
     "output_type": "execute_result"
    }
   ],
   "source": [
    "np.mean(array6) # 如果只给定一个数组作为参数，对整个数组所有数据求均值"
   ]
  },
  {
   "cell_type": "code",
   "execution_count": 112,
   "id": "9dea4ff0-1887-48db-9c51-3aefff3064f4",
   "metadata": {},
   "outputs": [
    {
     "data": {
      "text/plain": [
       "array([44.66666667, 27.33333333, 52.66666667])"
      ]
     },
     "execution_count": 112,
     "metadata": {},
     "output_type": "execute_result"
    }
   ],
   "source": [
    "np.mean(array6, axis=0) # 针对每一列求均值 axis=0"
   ]
  },
  {
   "cell_type": "code",
   "execution_count": 113,
   "id": "3b07e0df-df59-4617-bfec-0a2b1175fba7",
   "metadata": {},
   "outputs": [
    {
     "data": {
      "text/plain": [
       "array([23.66666667, 52.66666667, 48.33333333])"
      ]
     },
     "execution_count": 113,
     "metadata": {},
     "output_type": "execute_result"
    }
   ],
   "source": [
    "np.mean(array6, axis=1)"
   ]
  },
  {
   "cell_type": "markdown",
   "id": "eb53f39a-b3f8-4761-af29-30dc1593e88c",
   "metadata": {},
   "source": [
    "### 10.2 求数组中最小元素出现的位置"
   ]
  },
  {
   "cell_type": "code",
   "execution_count": 114,
   "id": "7cd2146e-6375-4cbe-a021-8c176344de7d",
   "metadata": {},
   "outputs": [
    {
     "data": {
      "text/plain": [
       "1"
      ]
     },
     "execution_count": 114,
     "metadata": {},
     "output_type": "execute_result"
    }
   ],
   "source": [
    "np.argmin(array6)"
   ]
  },
  {
   "cell_type": "code",
   "execution_count": 115,
   "id": "8f68fa76-6e61-4a0d-bc31-05526f3b2bd9",
   "metadata": {},
   "outputs": [
    {
     "data": {
      "text/plain": [
       "array([1, 0, 1], dtype=int64)"
      ]
     },
     "execution_count": 115,
     "metadata": {},
     "output_type": "execute_result"
    }
   ],
   "source": [
    "np.argmin(array6, axis=1) # 返回每行中最小元素出现的位置"
   ]
  },
  {
   "cell_type": "code",
   "execution_count": 116,
   "id": "1fa52b2f-b6cd-4515-a39e-5ddca84c478e",
   "metadata": {},
   "outputs": [
    {
     "data": {
      "text/plain": [
       "array([1, 0, 0], dtype=int64)"
      ]
     },
     "execution_count": 116,
     "metadata": {},
     "output_type": "execute_result"
    }
   ],
   "source": [
    "np.argmin(array6, axis=0) # 返回每列中最小元素的位置"
   ]
  },
  {
   "cell_type": "code",
   "execution_count": null,
   "id": "3acc56b3-b4d7-48b0-bc59-29371cd58965",
   "metadata": {},
   "outputs": [],
   "source": []
  }
 ],
 "metadata": {
  "kernelspec": {
   "display_name": "base",
   "language": "python",
   "name": "python3"
  },
  "language_info": {
   "codemirror_mode": {
    "name": "ipython",
    "version": 3
   },
   "file_extension": ".py",
   "mimetype": "text/x-python",
   "name": "python",
   "nbconvert_exporter": "python",
   "pygments_lexer": "ipython3",
   "version": "3.8.12"
  },
  "toc-autonumbering": false,
  "toc-showcode": false,
  "toc-showmarkdowntxt": false,
  "toc-showtags": false,
  "widgets": {
   "application/vnd.jupyter.widget-state+json": {
    "state": {},
    "version_major": 2,
    "version_minor": 0
   }
  }
 },
 "nbformat": 4,
 "nbformat_minor": 5
}
