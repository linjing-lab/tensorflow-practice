{
 "cells": [
  {
   "cell_type": "markdown",
   "id": "4b6faf8a-3650-4b2c-bbc9-044e83fdc30e",
   "metadata": {},
   "source": [
    "# 神经网络"
   ]
  },
  {
   "cell_type": "markdown",
   "id": "f3b8bcb8-8499-45ac-ad42-54fc2837d813",
   "metadata": {},
   "source": [
    "## 1. 反向传播神经网络模型"
   ]
  },
  {
   "cell_type": "code",
   "execution_count": 1,
   "id": "af3ab02f-6421-4fd8-b6a7-440ef83dd452",
   "metadata": {},
   "outputs": [],
   "source": [
    "import numpy as np"
   ]
  },
  {
   "cell_type": "markdown",
   "id": "f9bfe19c-bd40-48dd-819b-f1441754aff3",
   "metadata": {},
   "source": [
    "### 1.1 读取数据"
   ]
  },
  {
   "cell_type": "code",
   "execution_count": 2,
   "id": "7fa388ed-f987-401c-89cd-b7958b65dee9",
   "metadata": {},
   "outputs": [],
   "source": [
    "data_tr = np.loadtxt('../data/BPdata_tr.txt', skiprows=1, delimiter=',')\n",
    "data_te = np.loadtxt('../data/BPdata_te.txt', skiprows=1, delimiter=',')"
   ]
  },
  {
   "cell_type": "markdown",
   "id": "f514c94f-b094-472c-8eb8-5863bcd9cad8",
   "metadata": {},
   "source": [
    "### 1.2 分离特征和标签"
   ]
  },
  {
   "cell_type": "code",
   "execution_count": 3,
   "id": "46744b84-5488-4929-aba0-017def82ab1b",
   "metadata": {},
   "outputs": [],
   "source": [
    "x_data = data_tr[:,:2]\n",
    "y_data = data_tr[:,-1:]"
   ]
  },
  {
   "cell_type": "code",
   "execution_count": 4,
   "id": "ba923132-327b-4a16-b8eb-ad1a3899517b",
   "metadata": {},
   "outputs": [
    {
     "data": {
      "text/plain": [
       "(500, 2)"
      ]
     },
     "execution_count": 4,
     "metadata": {},
     "output_type": "execute_result"
    }
   ],
   "source": [
    "x_data.shape"
   ]
  },
  {
   "cell_type": "code",
   "execution_count": 5,
   "id": "de9b5257-471b-4a0a-bbb5-4eeb3f56d65e",
   "metadata": {},
   "outputs": [
    {
     "data": {
      "text/plain": [
       "(500, 1)"
      ]
     },
     "execution_count": 5,
     "metadata": {},
     "output_type": "execute_result"
    }
   ],
   "source": [
    "y_data.shape"
   ]
  },
  {
   "cell_type": "markdown",
   "id": "29765457-6f4d-4270-9979-7973ae6f12a1",
   "metadata": {},
   "source": [
    "### 1.3 确定网络结构"
   ]
  },
  {
   "cell_type": "code",
   "execution_count": 6,
   "id": "da5346fd-c477-4189-9c43-8eb74bb49d42",
   "metadata": {},
   "outputs": [],
   "source": [
    "input_num = x_data.shape[1] # 输入层神经元的数量\n",
    "hidden_num = 4\n",
    "output_num = y_data.shape[1] # 输出层神经元的数量"
   ]
  },
  {
   "cell_type": "markdown",
   "id": "e1d5a391-244c-4ecb-831e-14006e0d3237",
   "metadata": {},
   "source": [
    "### 1.4 参数的初始化"
   ]
  },
  {
   "cell_type": "code",
   "execution_count": 7,
   "id": "153fb636-7f3d-46b0-bd70-dadeb4583abf",
   "metadata": {},
   "outputs": [],
   "source": [
    "V = np.random.random(size=(input_num, hidden_num))\n",
    "P = np.random.random(size=(hidden_num))\n",
    "W = np.random.random(size=(hidden_num, output_num))\n",
    "Q = np.random.random(size=(output_num))"
   ]
  },
  {
   "cell_type": "markdown",
   "id": "b991e42f-00f2-4a63-a4e4-e3001b5e2f5d",
   "metadata": {},
   "source": [
    "### 1.5 前向计算（forward）"
   ]
  },
  {
   "cell_type": "code",
   "execution_count": 8,
   "id": "1632e8ea-3be0-4e2f-9f96-db65e1397287",
   "metadata": {},
   "outputs": [],
   "source": [
    "x = x_data[0]\n",
    "y = y_data[0]"
   ]
  },
  {
   "cell_type": "code",
   "execution_count": 9,
   "id": "faedc4aa-77bf-4afd-875a-2e40c4bf5c9d",
   "metadata": {},
   "outputs": [
    {
     "data": {
      "text/plain": [
       "(2,)"
      ]
     },
     "execution_count": 9,
     "metadata": {},
     "output_type": "execute_result"
    }
   ],
   "source": [
    "x.shape"
   ]
  },
  {
   "cell_type": "markdown",
   "id": "c5dee7b1-6f4d-4ddd-bfc2-342da18608d9",
   "metadata": {},
   "source": [
    "#### 定义sigmoid函数"
   ]
  },
  {
   "cell_type": "code",
   "execution_count": 10,
   "id": "0e4dfdfb-3ded-44be-be45-391b2f6339db",
   "metadata": {},
   "outputs": [],
   "source": [
    "def sigmoid(x):\n",
    "    return 1 / (1 + np.exp(-x))"
   ]
  },
  {
   "cell_type": "code",
   "execution_count": 11,
   "id": "e82e8281-a7de-45cf-98f3-6b2fb3d5554b",
   "metadata": {},
   "outputs": [
    {
     "data": {
      "text/plain": [
       "array([0.5686003])"
      ]
     },
     "execution_count": 11,
     "metadata": {},
     "output_type": "execute_result"
    }
   ],
   "source": [
    "alpha = x @ V - P\n",
    "b = sigmoid(alpha)\n",
    "beta = b @ W - Q\n",
    "y_hat = sigmoid(beta)\n",
    "y_hat"
   ]
  },
  {
   "cell_type": "markdown",
   "id": "129024f7-5ff1-4432-b50a-29a42665136b",
   "metadata": {},
   "source": [
    "### 1.6 反向传播（backward）"
   ]
  },
  {
   "cell_type": "markdown",
   "id": "5dc9869c-31e8-4cae-8c7e-86c5f0d37204",
   "metadata": {},
   "source": [
    "#### 定义4个容器用来存储相关参数的梯度"
   ]
  },
  {
   "cell_type": "code",
   "execution_count": 12,
   "id": "075ebb56-6ce6-4560-9e62-a93a8a314e31",
   "metadata": {},
   "outputs": [],
   "source": [
    "d_W = np.zeros_like(W)\n",
    "d_Q = np.zeros_like(Q)\n",
    "d_V = np.zeros_like(V)\n",
    "d_P = np.zeros_like(P)"
   ]
  },
  {
   "cell_type": "code",
   "execution_count": 13,
   "id": "e4dffccd-928a-48e3-95b2-655936ce9572",
   "metadata": {},
   "outputs": [],
   "source": [
    "for j in range(output_num):\n",
    "    for h in range(hidden_num):\n",
    "        d_W[h,j] = (y_hat[j] - y[j]) * (y_hat[j]) * (1 - y_hat[j]) * b[h]\n",
    "    d_Q[j] = (y_hat[j] - y[j]) * (y_hat[j]) * (1 - y_hat[j]) * (-1)"
   ]
  },
  {
   "cell_type": "code",
   "execution_count": 14,
   "id": "67fed735-53db-4bc6-870f-57655ea5ffa9",
   "metadata": {},
   "outputs": [],
   "source": [
    "for j in range(output_num):\n",
    "    for h in range(hidden_num):\n",
    "        for i in range(input_num):\n",
    "            d_V[i,h] = (y_hat[j] - y[j]) * (y_hat[j]) * (1 - y_hat[j]) * W[h,j] * b[h] * (1 - b[h]) * x[i]\n",
    "        d_P[h] = (y_hat[j] - y[j]) * (y_hat[j]) * (1 - y_hat[j]) * W[h,j] * b[h] * (1 - b[h]) * (-1)"
   ]
  },
  {
   "cell_type": "markdown",
   "id": "384d477f-d811-4b5e-b545-c0b1fdc667d5",
   "metadata": {},
   "source": [
    "#### 定义学习率"
   ]
  },
  {
   "cell_type": "code",
   "execution_count": 15,
   "id": "2e174979-e501-4c40-9b2c-326ee6c6fc9d",
   "metadata": {},
   "outputs": [],
   "source": [
    "yita = 0.5"
   ]
  },
  {
   "cell_type": "markdown",
   "id": "ed3295d4-e45d-4cb0-acd1-6e48218a1d1d",
   "metadata": {},
   "source": [
    "#### 更新参数"
   ]
  },
  {
   "cell_type": "code",
   "execution_count": 16,
   "id": "f7c6a13c-df74-450a-a864-2cd27d41f9f4",
   "metadata": {},
   "outputs": [],
   "source": [
    "W -= d_W * yita\n",
    "Q -= d_Q * yita\n",
    "V -= d_V * yita\n",
    "P -= d_P * yita"
   ]
  },
  {
   "cell_type": "markdown",
   "id": "4d5a57d2-1a3c-4ddf-9fbf-be201e76445d",
   "metadata": {},
   "source": [
    "### 1.7 批量梯度下降"
   ]
  },
  {
   "cell_type": "code",
   "execution_count": 17,
   "id": "70590f9b-b08f-41bb-8f63-9701106c2ef3",
   "metadata": {},
   "outputs": [],
   "source": [
    "def loss(y_true, y_pred):\n",
    "    return 1/2 * np.sum((y_true - y_pred) ** 2)"
   ]
  },
  {
   "cell_type": "code",
   "execution_count": 18,
   "id": "6bbe331c-866c-4e1d-bcc0-c7d96eeb9802",
   "metadata": {},
   "outputs": [],
   "source": [
    "V = np.random.random(size=(input_num, hidden_num))\n",
    "P = np.random.random(size=(hidden_num))\n",
    "W = np.random.random(size=(hidden_num, output_num))\n",
    "Q = np.random.random(size=(output_num))"
   ]
  },
  {
   "cell_type": "code",
   "execution_count": 19,
   "id": "ac0bb139-f972-41ff-9c63-ed9f68b40db2",
   "metadata": {},
   "outputs": [],
   "source": [
    "d_W = np.zeros_like(W)\n",
    "d_Q = np.zeros_like(Q)\n",
    "d_V = np.zeros_like(V)\n",
    "d_P = np.zeros_like(P)"
   ]
  },
  {
   "cell_type": "code",
   "execution_count": 20,
   "id": "d43c4ce6-3dec-4d2c-ba87-c5f0596262b6",
   "metadata": {},
   "outputs": [],
   "source": [
    "yita, epochs, batch_size = 0.1, 100, 8"
   ]
  },
  {
   "cell_type": "code",
   "execution_count": 21,
   "id": "2a0c07f3-1772-4a5b-abbe-b248329ba635",
   "metadata": {},
   "outputs": [
    {
     "name": "stdout",
     "output_type": "stream",
     "text": [
      "epoch:1, loss:0.20897768913762402\n",
      "epoch:2, loss:0.1665053653218643\n",
      "epoch:3, loss:0.163378607548636\n",
      "epoch:4, loss:0.1601907801837857\n",
      "epoch:5, loss:0.15687236600969273\n",
      "epoch:6, loss:0.15336727664813282\n",
      "epoch:7, loss:0.14962608566777286\n",
      "epoch:8, loss:0.145606254890961\n",
      "epoch:9, loss:0.14127293924022838\n",
      "epoch:10, loss:0.13660030234036963\n",
      "epoch:11, loss:0.13157325436736944\n",
      "epoch:12, loss:0.12618944030729812\n",
      "epoch:13, loss:0.1204611998531618\n",
      "epoch:14, loss:0.11441711307754011\n",
      "epoch:15, loss:0.10810267841399236\n",
      "epoch:16, loss:0.10157968899048328\n",
      "epoch:17, loss:0.0949240160152126\n",
      "epoch:18, loss:0.08822177313686135\n",
      "epoch:19, loss:0.08156417040385694\n",
      "epoch:20, loss:0.07504167396939035\n",
      "epoch:21, loss:0.06873826462328705\n",
      "epoch:22, loss:0.06272657200546793\n",
      "epoch:23, loss:0.057064460266161715\n",
      "epoch:24, loss:0.051793328153928994\n",
      "epoch:25, loss:0.04693806338686532\n",
      "epoch:26, loss:0.042508343473345866\n",
      "epoch:27, loss:0.038500845615316075\n",
      "epoch:28, loss:0.034901914055629875\n",
      "epoch:29, loss:0.03169030135248612\n",
      "epoch:30, loss:0.02883970847470767\n",
      "epoch:31, loss:0.02632096161722628\n",
      "epoch:32, loss:0.024103758896226308\n",
      "epoch:33, loss:0.022157988421777793\n",
      "epoch:34, loss:0.02045466083235896\n",
      "epoch:35, loss:0.018966519286984902\n",
      "epoch:36, loss:0.017668394690128097\n",
      "epoch:37, loss:0.016537369560274965\n",
      "epoch:38, loss:0.01555280503187253\n",
      "epoch:39, loss:0.014696275081884471\n",
      "epoch:40, loss:0.013951442015517087\n",
      "epoch:41, loss:0.013303898441071955\n",
      "epoch:42, loss:0.012740993736322818\n",
      "epoch:43, loss:0.012251657347088834\n",
      "epoch:44, loss:0.011826226985196375\n",
      "epoch:45, loss:0.011456286668871649\n",
      "epoch:46, loss:0.011134517332173051\n",
      "epoch:47, loss:0.01085456120555793\n",
      "epoch:48, loss:0.0106109001576399\n",
      "epoch:49, loss:0.010398747546318489\n",
      "epoch:50, loss:0.01021395274669661\n",
      "epoch:51, loss:0.010052917322176806\n",
      "epoch:52, loss:0.009912521724471568\n",
      "epoch:53, loss:0.009790061405495949\n",
      "epoch:54, loss:0.009683191269411185\n",
      "epoch:55, loss:0.009589877465921973\n",
      "epoch:56, loss:0.009508355612469132\n",
      "epoch:57, loss:0.009437094624134576\n",
      "epoch:58, loss:0.00937476542015099\n",
      "epoch:59, loss:0.009320213861439892\n",
      "epoch:60, loss:0.009272437352697685\n",
      "epoch:61, loss:0.009230564614346416\n",
      "epoch:62, loss:0.00919383819395883\n",
      "epoch:63, loss:0.00916159934376419\n",
      "epoch:64, loss:0.009133274940983838\n",
      "epoch:65, loss:0.009108366171602522\n",
      "epoch:66, loss:0.009086438736368406\n",
      "epoch:67, loss:0.00906711437095156\n",
      "epoch:68, loss:0.00905006350086922\n",
      "epoch:69, loss:0.009034998876557855\n",
      "epoch:70, loss:0.009021670055337295\n",
      "epoch:71, loss:0.009009858615420537\n",
      "epoch:72, loss:0.008999374002971718\n",
      "epoch:73, loss:0.008990049926854572\n",
      "epoch:74, loss:0.008981741227448907\n",
      "epoch:75, loss:0.008974321156009341\n",
      "epoch:76, loss:0.008967679009728526\n",
      "epoch:77, loss:0.008961718075143517\n",
      "epoch:78, loss:0.008956353838961068\n",
      "epoch:79, loss:0.008951512430921182\n",
      "epoch:80, loss:0.008947129268094546\n",
      "epoch:81, loss:0.008943147874127151\n",
      "epoch:82, loss:0.008939518850496429\n",
      "epoch:83, loss:0.008936198979908026\n",
      "epoch:84, loss:0.00893315044460822\n",
      "epoch:85, loss:0.008930340144673265\n",
      "epoch:86, loss:0.008927739103312982\n",
      "epoch:87, loss:0.008925321947935275\n",
      "epoch:88, loss:0.008923066457197393\n",
      "epoch:89, loss:0.008920953165550872\n",
      "epoch:90, loss:0.008918965017896616\n",
      "epoch:91, loss:0.008917087067928941\n",
      "epoch:92, loss:0.008915306214581548\n",
      "epoch:93, loss:0.008913610971712536\n",
      "epoch:94, loss:0.008911991266794397\n",
      "epoch:95, loss:0.008910438264920696\n",
      "epoch:96, loss:0.008908944214915903\n",
      "epoch:97, loss:0.008907502314747188\n",
      "epoch:98, loss:0.008906106593796159\n",
      "epoch:99, loss:0.008904751809860275\n",
      "epoch:100, loss:0.008903433359025919\n"
     ]
    }
   ],
   "source": [
    "index = np.arange(len(x_data))\n",
    "np.random.shuffle(index)\n",
    "\n",
    "for epoch in range(epochs):\n",
    "    e = []\n",
    "    if len(x_data) % batch_size == 0:\n",
    "        batch_size_num = len(x_data) // batch_size\n",
    "    else:\n",
    "        batch_size_num = len(x_data) // batch_size + 1\n",
    "    for bs in range(batch_size_num):\n",
    "        x, y = x_data[bs * batch_size:(bs+1)*batch_size], y_data[bs * batch_size:(bs+1)*batch_size]\n",
    "        alpha = x @ V - P\n",
    "        b = sigmoid(alpha)\n",
    "        beta = b @ W - Q\n",
    "        y_hat = sigmoid(beta)\n",
    "        error = loss(y, y_hat)\n",
    "        e.append(error)\n",
    "        # 反向计算\n",
    "        for j in range(output_num):\n",
    "            for h in range(hidden_num):\n",
    "                d_W[h,j] = np.sum((y_hat[:,j] - y[:,j]) * (y_hat[:,j]) * (1 - y_hat[:,j]) * b[:,h])\n",
    "            d_Q[j] = np.sum((y_hat[:,j] - y[:,j]) * (y_hat[:,j]) * (1 - y_hat[:,j]) * (-1))\n",
    "        for j in range(output_num):\n",
    "            for h in range(hidden_num):\n",
    "                for i in range(input_num):\n",
    "                    d_V[i,h] = np.sum((y_hat[:,j] - y[:,j]) * (y_hat[:,j]) * (1 - y_hat[:,j]) * W[h,j] * b[:,h] * (1 - b[:,h]) * x[:,i])\n",
    "                d_P[h] = np.sum((y_hat[:,j] - y[:,j]) * (y_hat[:,j]) * (1 - y_hat[:,j]) * W[h,j] * b[:,h] * (1 - b[:,h]) * (-1))\n",
    "        W -= d_W * yita\n",
    "        Q -= d_Q * yita\n",
    "        V -= d_V * yita\n",
    "        P -= d_P * yita\n",
    "    print(f\"epoch:{epoch+1}, loss:{np.mean(e)}\")"
   ]
  },
  {
   "cell_type": "markdown",
   "id": "7952ad41-aaae-449d-aa30-4d83ed8dce71",
   "metadata": {},
   "source": [
    "### 1.8 模型测试"
   ]
  },
  {
   "cell_type": "code",
   "execution_count": 22,
   "id": "baf2429f-b2b2-4bef-829b-6bb8c882b3de",
   "metadata": {},
   "outputs": [],
   "source": [
    "x_test = data_te[:,:2]\n",
    "y_test = data_te[:,-1:]"
   ]
  },
  {
   "cell_type": "code",
   "execution_count": 23,
   "id": "68376844-a866-4b5c-9319-78deb349cfa1",
   "metadata": {},
   "outputs": [],
   "source": [
    "alpha = x_test @ V - P\n",
    "b = sigmoid(alpha)\n",
    "beta = b @ W - Q\n",
    "y_hat = sigmoid(beta)"
   ]
  },
  {
   "cell_type": "code",
   "execution_count": 24,
   "id": "7dc02815-3944-4668-9038-2d9b8d93f879",
   "metadata": {},
   "outputs": [
    {
     "data": {
      "text/plain": [
       "(array([[0.50499818],\n",
       "        [0.27073433],\n",
       "        [0.1129674 ],\n",
       "        [0.79762755],\n",
       "        [0.6541421 ],\n",
       "        [0.27288332],\n",
       "        [0.24638933],\n",
       "        [0.65178007],\n",
       "        [0.23346635],\n",
       "        [0.06465886]]),\n",
       " array([[0.46775308],\n",
       "        [0.27956488],\n",
       "        [0.1220108 ],\n",
       "        [0.9160261 ],\n",
       "        [0.62895224],\n",
       "        [0.46066648],\n",
       "        [0.25524112],\n",
       "        [0.63238421],\n",
       "        [0.19881207],\n",
       "        [0.01403755]]))"
      ]
     },
     "execution_count": 24,
     "metadata": {},
     "output_type": "execute_result"
    }
   ],
   "source": [
    "y_hat[:10], y_test[:10]"
   ]
  },
  {
   "cell_type": "code",
   "execution_count": null,
   "id": "97c30627-7780-4c0e-a63a-20d27c3c15d7",
   "metadata": {},
   "outputs": [],
   "source": []
  }
 ],
 "metadata": {
  "kernelspec": {
   "display_name": "base",
   "language": "python",
   "name": "python3"
  },
  "language_info": {
   "codemirror_mode": {
    "name": "ipython",
    "version": 3
   },
   "file_extension": ".py",
   "mimetype": "text/x-python",
   "name": "python",
   "nbconvert_exporter": "python",
   "pygments_lexer": "ipython3",
   "version": "3.8.12"
  },
  "widgets": {
   "application/vnd.jupyter.widget-state+json": {
    "state": {},
    "version_major": 2,
    "version_minor": 0
   }
  }
 },
 "nbformat": 4,
 "nbformat_minor": 5
}
