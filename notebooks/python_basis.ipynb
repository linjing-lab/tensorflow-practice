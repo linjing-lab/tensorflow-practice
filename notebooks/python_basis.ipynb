{
 "cells": [
  {
   "cell_type": "markdown",
   "id": "1a57d40b-eea5-453d-bc1b-b109b1437b5c",
   "metadata": {},
   "source": [
    "# Python编程基础"
   ]
  },
  {
   "cell_type": "markdown",
   "id": "996490d0-ceb8-4d92-b105-6a3b289c11c9",
   "metadata": {},
   "source": [
    "## 1. Python基本数据类型"
   ]
  },
  {
   "cell_type": "markdown",
   "id": "0f462314-e207-4dd5-b09c-a901e356d0b0",
   "metadata": {},
   "source": [
    "### Task 1 - 字符串\n",
    "字符串是 str 类型的对象，由引号（成对的单引号、双引号、三引号）括起来的序列字符组成，可以使用 str() 函数规定。\n",
    "\n",
    "|操作|实现过程|\n",
    "|--|--|\n",
    "|合并字符串|str1 + str2|\n",
    "|复制字符串|str * n|\n",
    "|修改字符串|str1.replace(old, New[, count])\n",
    "|查找特定字符串|str.find(char)|"
   ]
  },
  {
   "cell_type": "markdown",
   "id": "c9846d56-8b7d-434d-8131-533a3e52422c",
   "metadata": {},
   "source": [
    "1. 定义一个字符串变量 my_name = 'my name is Lin Jing'"
   ]
  },
  {
   "cell_type": "code",
   "execution_count": 1,
   "id": "69bcdc8e-1778-44f5-8cae-42f12b38c6a4",
   "metadata": {},
   "outputs": [],
   "source": [
    "my_name = 'my name is Lin Jing' # define"
   ]
  },
  {
   "cell_type": "markdown",
   "id": "54332083-b802-4f8a-b2e7-6560eeb63d2f",
   "metadata": {},
   "source": [
    "2. my_name 的长度是多少"
   ]
  },
  {
   "cell_type": "code",
   "execution_count": 2,
   "id": "3eab5b51-7d27-4a74-bcbc-77eeb193346e",
   "metadata": {},
   "outputs": [
    {
     "name": "stdout",
     "output_type": "stream",
     "text": [
      "The length of my_name is: 19\n"
     ]
    }
   ],
   "source": [
    "print('The length of my_name is:', len(my_name))"
   ]
  },
  {
   "cell_type": "markdown",
   "id": "11b3abfe-4773-4fd5-961a-274ff9599bc7",
   "metadata": {},
   "source": [
    "3. 字母 `m` 出现过多少次？"
   ]
  },
  {
   "cell_type": "code",
   "execution_count": 3,
   "id": "d2dbe6f7-f2ae-486f-b471-8f350361331e",
   "metadata": {},
   "outputs": [
    {
     "name": "stdout",
     "output_type": "stream",
     "text": [
      "The times of 'm' occured in my_name: 2\n"
     ]
    }
   ],
   "source": [
    "print(\"The times of 'm' occured in my_name:\", my_name.count('m')) # record 'm' counts"
   ]
  },
  {
   "cell_type": "markdown",
   "id": "dc91a06c-af46-46b0-a145-9ec2d88f642c",
   "metadata": {},
   "source": [
    "4. 字母 `i` 位置所在的索引值是多少？"
   ]
  },
  {
   "cell_type": "code",
   "execution_count": 4,
   "id": "c19207e4-c2e1-4a61-836b-a47ac8c645cf",
   "metadata": {},
   "outputs": [
    {
     "name": "stdout",
     "output_type": "stream",
     "text": [
      "8 12 16 "
     ]
    }
   ],
   "source": [
    "for index, value in enumerate(my_name):\n",
    "    if value == 'i':\n",
    "        print(index, end=' ')"
   ]
  },
  {
   "cell_type": "markdown",
   "id": "eb225530-9e98-4a0d-ac14-6d951b29c653",
   "metadata": {},
   "source": [
    "5. 取出你的名字，并赋值给 name"
   ]
  },
  {
   "cell_type": "code",
   "execution_count": 5,
   "id": "adff22da-7f69-4464-892e-c7d82fffeefd",
   "metadata": {},
   "outputs": [
    {
     "name": "stdout",
     "output_type": "stream",
     "text": [
      "Lin Jing\n"
     ]
    }
   ],
   "source": [
    "name = my_name.lstrip('my name is ') # remove prefix\n",
    "print(name)"
   ]
  },
  {
   "cell_type": "markdown",
   "id": "4a28a477-710c-4d50-afeb-32cb79cb71ad",
   "metadata": {},
   "source": [
    "6. 你的名字中是否有字母 `t` ？"
   ]
  },
  {
   "cell_type": "code",
   "execution_count": 6,
   "id": "a92eebda-9ef8-41f8-a5bb-670ffe0c42d3",
   "metadata": {},
   "outputs": [
    {
     "name": "stdout",
     "output_type": "stream",
     "text": [
      "'t' not in my_name\n"
     ]
    }
   ],
   "source": [
    "res = \"'t' not in my_name\" if my_name.find('t') == -1 else \"'t' in my_name\" # if 't' not exist return -1\n",
    "print(res)"
   ]
  },
  {
   "cell_type": "markdown",
   "id": "7d10d926-837e-463b-b916-2bd419a87b09",
   "metadata": {},
   "source": [
    "7. 将 my_name 中所有的字母变为大写"
   ]
  },
  {
   "cell_type": "code",
   "execution_count": 7,
   "id": "66ba4eaf-ce6b-4a6e-94f3-496b678f5b95",
   "metadata": {},
   "outputs": [
    {
     "data": {
      "text/plain": [
       "'MY NAME IS LIN JING'"
      ]
     },
     "execution_count": 7,
     "metadata": {},
     "output_type": "execute_result"
    }
   ],
   "source": [
    "my_name.upper() # turn every word into upper"
   ]
  },
  {
   "cell_type": "markdown",
   "id": "573065c8-ee80-4e68-9fe6-bb50499065e8",
   "metadata": {},
   "source": [
    "8. 将 my_name 中所有的字母首字母变为大写其余均为小写"
   ]
  },
  {
   "cell_type": "code",
   "execution_count": 8,
   "id": "fe3dad9f-93db-4edd-b253-63405d159305",
   "metadata": {},
   "outputs": [
    {
     "data": {
      "text/plain": [
       "'My Name Is Lin Jing'"
      ]
     },
     "execution_count": 8,
     "metadata": {},
     "output_type": "execute_result"
    }
   ],
   "source": [
    "my_name.title() # turn the first char of ever word into upper"
   ]
  },
  {
   "cell_type": "markdown",
   "id": "307d179f-120a-49f0-b25f-5c0055c00734",
   "metadata": {},
   "source": [
    "### Task 2 - 字符串\n",
    "切片操作基本表达式：object[start_index:end_index:step]\n",
    "\n",
    "|名称|说明|\n",
    "|--|--|\n",
    "|S.split(seq=\"\", num=string.count(seq))|以 seq 为分隔符截取字符串，如果 num 有指定值，则仅截取 num + 1 个子字符串。|\n",
    "|S.strip([chars])|返回字符串的一个副本，删除前导和尾随字符。chars 参数是一个字符串，指定要移除的字符集。如果省略，默认删除空白字符。|\n",
    "|S.isalnum()|如果字符串至少有一个字符，并且所有字符都是数字或者字母，则返回 true，否则返回 false|\n",
    "|S.count(sub[, start[, end]])|返回在[start, end]范围内的子串 sub 非重叠出现的次数。可选参数 start 和 end 都以切片表示法解释。|\n",
    "|S.lstrip()|去掉左边的空白字符|\n",
    "|S.rstrip()|去掉右边的空白字符|\n",
    "|S.upper()|将小写字母完全变成大写字母|\n",
    "|S.lower()|将大写字母完全变成小写字母|\n",
    "|S.capitalize()|将字母串的第一个字母变成大写|\n",
    "|S.title()|把所有单词的第一个字母变成大写|"
   ]
  },
  {
   "cell_type": "markdown",
   "id": "4c7603f2-b150-43e2-8f5e-8e29f72da3d6",
   "metadata": {},
   "source": [
    "1. 定义字符串（用 `\"\"\"`）"
   ]
  },
  {
   "cell_type": "code",
   "execution_count": 9,
   "id": "25e6b554-0140-4ad8-a5af-298950e69fa5",
   "metadata": {},
   "outputs": [],
   "source": [
    "string = \"\"\"\n",
    "my\n",
    "name is\n",
    "Lin Jing   \"\"\" # create new string"
   ]
  },
  {
   "cell_type": "markdown",
   "id": "5ad2a9cd-d9b5-4a71-b46a-55c7e2eb6d50",
   "metadata": {},
   "source": [
    "2. 去除 string 两端的空白字符（包括回车符号、制表符和空格）"
   ]
  },
  {
   "cell_type": "code",
   "execution_count": 10,
   "id": "f9cb9f63-3df0-41c1-9265-0a910544a52e",
   "metadata": {},
   "outputs": [
    {
     "data": {
      "text/plain": [
       "'my\\nname is\\nLin Jing'"
      ]
     },
     "execution_count": 10,
     "metadata": {},
     "output_type": "execute_result"
    }
   ],
   "source": [
    "process = string.strip() # remove the ' ' from both side.\n",
    "process"
   ]
  },
  {
   "cell_type": "markdown",
   "id": "e209bb22-1ba8-400f-a165-e2af0e6b0c32",
   "metadata": {},
   "source": [
    "3. 将字符串中的句子分为单词，并以 `,` 隔开"
   ]
  },
  {
   "cell_type": "code",
   "execution_count": 11,
   "id": "0e1db163-8316-4280-8fb5-6fc22e550aec",
   "metadata": {},
   "outputs": [
    {
     "data": {
      "text/plain": [
       "['my', 'name', 'is', 'Lin', 'Jing']"
      ]
     },
     "execution_count": 11,
     "metadata": {},
     "output_type": "execute_result"
    }
   ],
   "source": [
    "process.split() # split with '\\n', ' ', '\\t'"
   ]
  },
  {
   "cell_type": "code",
   "execution_count": 12,
   "id": "f82ffa0e-45d1-48bd-bb72-93c58f13c4e9",
   "metadata": {},
   "outputs": [
    {
     "data": {
      "text/plain": [
       "'my,name,is,Lin,Jing'"
      ]
     },
     "execution_count": 12,
     "metadata": {},
     "output_type": "execute_result"
    }
   ],
   "source": [
    "process.replace('\\n', ',').replace(' ', ',')"
   ]
  },
  {
   "cell_type": "markdown",
   "id": "997cb9f0-a3b9-432c-b6aa-3ff184915638",
   "metadata": {},
   "source": [
    "常见的转义字符：\n",
    "\n",
    "|转义字符|意义|\n",
    "|--|--|\n",
    "|\\n|换行（LF），将当前位置移到下一行开头|\n",
    "|\\r|回车（CR），将当前位置移到本行开头|\n",
    "|\\t|水平制表（HT）（跳到下一个TAB位置）|\n",
    "|\\v|垂直指标（VT）|\n",
    "|\\\\|代表一个反斜线字符\\|\n",
    "|\\'|代表一个单引号（撇号）字符|\n",
    "|\\''|代表一个双引号字符|\n",
    "|\\?|代表一个问号|\n",
    "|\\0|空字符（NUL）|"
   ]
  },
  {
   "cell_type": "markdown",
   "id": "169745e0-36de-4a0f-8f6e-646044a33cb7",
   "metadata": {},
   "source": [
    "### Task 3 - 列表\n",
    "列表是一种可以包含很多种类的对象的数据结构，有着多种长短，可随意修改的序列数据。常用中括号 `[]` 或 `list()` 函数来创建列表，用 `,` 分割列表里面的每个元素，列表适用切片操作。\n",
    "\n",
    "|名称|函数说明|\n",
    "|--|--|\n",
    "|List.insert(index, obj)|将对象插入列表|\n",
    "|List.pop(index)|将索引对应的元素移除|\n",
    "|List[index]=new|修改元素值|\n",
    "|List.index(obj)|从列表中找出某个值第一个匹配项的索引位置|\n",
    "|obj in List|判断元素是否存在|\n",
    "|List1 + List2|合并两个列表|\n",
    "|List * 3| 重复列表|\n",
    "|List.append(obj)|在列表末尾添加新的对象|\n",
    "|List.count(obj)|统计某个元素在列表中出现的次数|\n",
    "|List.extend(seq)|在列表末尾一次性追加另一个序列中的多个值（用新列表来扩展原来的列表）|\n",
    "|List.remove(obj)|移除列表中某个值的第一个匹配项|"
   ]
  },
  {
   "cell_type": "markdown",
   "id": "a58b6ef8-21d2-4798-ae2d-581c4e31d891",
   "metadata": {},
   "source": [
    "1. 创建一个列表对象 [110, 'dog', 'car, 120, 'apple']"
   ]
  },
  {
   "cell_type": "code",
   "execution_count": 13,
   "id": "dc7cec0a-270f-4318-9af0-c05a5d0a7993",
   "metadata": {},
   "outputs": [],
   "source": [
    "value = [110, 'dog', 'cat', 120, 'apple'] # create new list"
   ]
  },
  {
   "cell_type": "markdown",
   "id": "11bc6af2-01dd-44dc-8e10-8c9230cb1ca4",
   "metadata": {},
   "source": [
    "2. 在 'dog' 和 'car' 之间插入空列表"
   ]
  },
  {
   "cell_type": "code",
   "execution_count": 14,
   "id": "745b36a8-d2e4-4add-9b80-3988980ea3e7",
   "metadata": {},
   "outputs": [
    {
     "name": "stdout",
     "output_type": "stream",
     "text": [
      "After update: [110, 'dog', [], 'cat', 120, 'apple']\n"
     ]
    }
   ],
   "source": [
    "value.insert(2, []) # The index of 'dog' is 1\n",
    "print('After update:', value)"
   ]
  },
  {
   "cell_type": "markdown",
   "id": "7c1ec4e8-8499-46eb-ac7f-8956fc2a63ee",
   "metadata": {},
   "source": [
    "3. 删除列表中的 'apple'"
   ]
  },
  {
   "cell_type": "code",
   "execution_count": 15,
   "id": "b2372c68-4eae-4130-891c-742c45157ed7",
   "metadata": {},
   "outputs": [
    {
     "name": "stdout",
     "output_type": "stream",
     "text": [
      "After update: [110, 'dog', [], 'cat', 120]\n"
     ]
    }
   ],
   "source": [
    "value.remove('apple') # remove in-place\n",
    "print('After update:', value)"
   ]
  },
  {
   "cell_type": "markdown",
   "id": "38870237-6a43-4d8b-8e8f-8e00b8083229",
   "metadata": {},
   "source": [
    "4. 分别查找出列表中的数值110，120, 对查找出的110和120以10为乘数做自乘运算操作， *="
   ]
  },
  {
   "cell_type": "code",
   "execution_count": 16,
   "id": "67807038-d2c2-471d-a822-211c6098d712",
   "metadata": {},
   "outputs": [
    {
     "name": "stdout",
     "output_type": "stream",
     "text": [
      "0 110\n",
      "4 120\n"
     ]
    }
   ],
   "source": [
    "for index, num in enumerate(value):\n",
    "    if num == 110 or num == 120:\n",
    "        print(index, num)\n",
    "        value[index] *= 10"
   ]
  },
  {
   "cell_type": "markdown",
   "id": "1b4f4210-8bf0-4161-95b8-7eeaf78bfb8c",
   "metadata": {},
   "source": [
    "5. 打印列表对象"
   ]
  },
  {
   "cell_type": "code",
   "execution_count": 17,
   "id": "d26662b9-4c95-49c3-b2c6-4bbcfc8c6a92",
   "metadata": {},
   "outputs": [
    {
     "name": "stdout",
     "output_type": "stream",
     "text": [
      "[1100, 'dog', [], 'cat', 1200]\n"
     ]
    }
   ],
   "source": [
    "print(value)"
   ]
  },
  {
   "cell_type": "markdown",
   "id": "f0ddc709-55a5-4743-a2d1-c034624fb1ea",
   "metadata": {},
   "source": [
    "### Task 4 - 元组\n",
    "元组可看作一种不可变的列表，由一对圆括号 `()` 和 `tuple()` 函数创建，`,`分割元组里的每个元素。\n",
    "\n",
    "元组特点：\n",
    "- 元组大小不可更改，既不能增加也不能删除对象。\n",
    "- 元组中的对象不可更改\n",
    "\n",
    "元素的基本操作：创建元素、求长度、合并、重复、关系判断、索引和切片。\n",
    "\n",
    "|名称|函数说明|\n",
    "|--|--|\n",
    "|tuple.count(obj)|记录某个元素在元组中出现的次数|\n",
    "|tuple.index(obj)|获取元素在元组当中第一次出现的位置索引|\n",
    "|sorted()|创建一个对元素进行排序后的列表|\n",
    "|len()|获取元组长度|\n",
    "|+|将两个元组合并为一个元组|\n",
    "|*|重复合并同一个元素为一个更长的元组|"
   ]
  },
  {
   "cell_type": "markdown",
   "id": "bf58a65b-c6d7-45fd-a483-773b432569a8",
   "metadata": {},
   "source": [
    "1. 使用 [] 创建列表，并将 ['pen', 'paper', 10, False, 2.5] 赋值给变量"
   ]
  },
  {
   "cell_type": "code",
   "execution_count": 18,
   "id": "066c9901-3493-4eea-a81d-c191c2dd2db4",
   "metadata": {},
   "outputs": [],
   "source": [
    "example = [] # create list with []"
   ]
  },
  {
   "cell_type": "code",
   "execution_count": 19,
   "id": "e0d8ed14-ad2d-4a4c-bb6a-1ad31b377449",
   "metadata": {},
   "outputs": [],
   "source": [
    "example = ['pen', 'paper', 10, False, 2.5]"
   ]
  },
  {
   "cell_type": "markdown",
   "id": "160eb421-f3bd-47c7-8dfe-d97c1c9ea06e",
   "metadata": {},
   "source": [
    "2. 查看变量的数据类型"
   ]
  },
  {
   "cell_type": "code",
   "execution_count": 20,
   "id": "62d7d8d4-15b2-4c45-a5dd-910758b608cd",
   "metadata": {},
   "outputs": [
    {
     "data": {
      "text/plain": [
       "list"
      ]
     },
     "execution_count": 20,
     "metadata": {},
     "output_type": "execute_result"
    }
   ],
   "source": [
    "type(example) # view the type of example"
   ]
  },
  {
   "cell_type": "markdown",
   "id": "cd4b5c8d-2d7e-4dc5-9622-cd789ee4a112",
   "metadata": {},
   "source": [
    "3. 将变量转换成 tuple 类型，并查看数据类型确定是否转换成功"
   ]
  },
  {
   "cell_type": "code",
   "execution_count": 21,
   "id": "ab2fc8f6-c3bf-425b-b95e-5d43243e789f",
   "metadata": {},
   "outputs": [
    {
     "data": {
      "text/plain": [
       "('pen', 'paper', 10, False, 2.5)"
      ]
     },
     "execution_count": 21,
     "metadata": {},
     "output_type": "execute_result"
    }
   ],
   "source": [
    "tup = tuple(example) # turn list into tuple\n",
    "tup"
   ]
  },
  {
   "cell_type": "code",
   "execution_count": 22,
   "id": "b92ac85c-f5e2-4362-b9ae-420f7bb2396b",
   "metadata": {},
   "outputs": [
    {
     "data": {
      "text/plain": [
       "tuple"
      ]
     },
     "execution_count": 22,
     "metadata": {},
     "output_type": "execute_result"
    }
   ],
   "source": [
    "type(tup)"
   ]
  },
  {
   "cell_type": "markdown",
   "id": "5122bcd2-8db5-4c42-a0e9-547012c16606",
   "metadata": {},
   "source": [
    "4. 查询元组中元素 False 的位置"
   ]
  },
  {
   "cell_type": "code",
   "execution_count": 23,
   "id": "578cb33f-841e-4ab4-bc71-cb05edc538da",
   "metadata": {},
   "outputs": [
    {
     "name": "stdout",
     "output_type": "stream",
     "text": [
      "The index of 'False' is: 3\n"
     ]
    }
   ],
   "source": [
    "ind = tup.index(False)\n",
    "print(\"The index of 'False' is:\", ind)"
   ]
  },
  {
   "cell_type": "markdown",
   "id": "27d3d456-c643-4d3d-89e1-1491b8c28b60",
   "metadata": {},
   "source": [
    "5. 根据获得的位置提取元素"
   ]
  },
  {
   "cell_type": "code",
   "execution_count": 24,
   "id": "73dec5ca-c770-457f-967f-8c95561593f0",
   "metadata": {},
   "outputs": [
    {
     "name": "stdout",
     "output_type": "stream",
     "text": [
      "The value of 3 is False\n"
     ]
    }
   ],
   "source": [
    "print('The value of {0} is {1}'.format(ind, tup[ind])) # get value of index 3"
   ]
  },
  {
   "cell_type": "markdown",
   "id": "07aa2b19-8863-4e49-9a17-5b44b97a4b1d",
   "metadata": {},
   "source": [
    "### Task 5 - 字典\n",
    "字典是一种无序的映射集合，包含一系列的键值对。字典常用 `{}` 表示，也可以通过函数 `dict()` 创建，字典内的值是通过`:`来表示，就是key:value的格式。\n",
    "\n",
    "|操组|实现方法|\n",
    "|--|--|\n",
    "|增加元素|Dict.update({'AddKey': 'AddValue'})|\n",
    "|删除元素|Dict.pop(OldKey)|\n",
    "|修改元素|Dict[OldKey]=NewValue|\n",
    "|查看元素|Dict.value()|\n",
    "|合并字典|利用增加函数|\n",
    "|判断键是否在字典中|key in Dict|\n",
    "|查看所有键|Dict.keys()|\n",
    "|查看所有键值对|Dict.items()|"
   ]
  },
  {
   "cell_type": "markdown",
   "id": "229f26ef-d30c-451c-b5d0-f8fbe2e242bd",
   "metadata": {},
   "source": [
    "1. 创建字典 {'math': 96, 'English': 86, 'Chinese': 95.5, 'Biology': 86, 'Physis': None}"
   ]
  },
  {
   "cell_type": "code",
   "execution_count": 25,
   "id": "ef35895c-114f-4233-8f4c-e66c377df3e3",
   "metadata": {},
   "outputs": [],
   "source": [
    "dic = {'math': 96, 'English': 86, 'Chinese': 95.5, 'Biology': 86, 'Physis': None}"
   ]
  },
  {
   "cell_type": "markdown",
   "id": "242bf783-f5b2-4e64-b11e-8c9754b10a62",
   "metadata": {},
   "source": [
    "2. 在字典中增加键值对 {'History': 88}"
   ]
  },
  {
   "cell_type": "code",
   "execution_count": 26,
   "id": "f1aa96b0-fcd2-425c-8e1e-9e0f9dcb5991",
   "metadata": {},
   "outputs": [
    {
     "name": "stdout",
     "output_type": "stream",
     "text": [
      "After update: {'math': 96, 'English': 86, 'Chinese': 95.5, 'Biology': 86, 'Physis': None, 'History': 88}\n"
     ]
    }
   ],
   "source": [
    "value = {'History': 88}\n",
    "dic.update(value)\n",
    "print('After update:', dic)"
   ]
  },
  {
   "cell_type": "markdown",
   "id": "99621f1a-5ae9-4718-b478-bd36353a8051",
   "metadata": {},
   "source": [
    "3. 删除 {'Physis': None} 键值对"
   ]
  },
  {
   "cell_type": "code",
   "execution_count": 27,
   "id": "8bf946f0-5149-42db-bcd3-00ada13637ad",
   "metadata": {},
   "outputs": [
    {
     "name": "stdout",
     "output_type": "stream",
     "text": [
      "After update: {'math': 96, 'English': 86, 'Chinese': 95.5, 'Biology': 86, 'History': 88}\n"
     ]
    }
   ],
   "source": [
    "del dic['Physis']\n",
    "print('After update:', dic)"
   ]
  },
  {
   "cell_type": "markdown",
   "id": "4a17ad78-e799-46f8-b315-2ef0582f0f2c",
   "metadata": {},
   "source": [
    "4. 将键 'Chinese' 对应的值 95.5 进行四舍五入 "
   ]
  },
  {
   "cell_type": "code",
   "execution_count": 28,
   "id": "04bdc140-c99f-4f9e-b4b9-4bed28be7602",
   "metadata": {},
   "outputs": [
    {
     "name": "stdout",
     "output_type": "stream",
     "text": [
      "Before: 95.5\n",
      "After: 96\n"
     ]
    }
   ],
   "source": [
    "print(\"Before:\", dic['Chinese'])\n",
    "dic['Chinese'] = round(dic['Chinese'])\n",
    "print(\"After:\", dic['Chinese'])"
   ]
  },
  {
   "cell_type": "markdown",
   "id": "6d24a67f-2378-4e9d-8a8b-7b7687dcbfc8",
   "metadata": {},
   "source": [
    "5. 查询键 'math' 对应的值"
   ]
  },
  {
   "cell_type": "code",
   "execution_count": 29,
   "id": "5c338b90-4698-4954-9b65-f41fb6bd2527",
   "metadata": {},
   "outputs": [
    {
     "name": "stdout",
     "output_type": "stream",
     "text": [
      "The value of key('math'): 96\n"
     ]
    }
   ],
   "source": [
    "print(\"The value of key('math'):\", dic['math'])"
   ]
  },
  {
   "cell_type": "markdown",
   "id": "b9c0648b-39bb-4a77-bb1e-11ab5234eba7",
   "metadata": {},
   "source": [
    "### Task 6 - 集合\n",
    "集合中的元素具有唯一、无序和不可变等特点。集合由一对花括号 `{}` 或者 set() 函数创建，以`,`分割集合中的元素。集合支持数学理论中的各种集合运算：\n",
    "\n",
    "|名称|函数说明|\n",
    "|--|--|\n",
    "|Set.add(x)|往集合插入元素x|\n",
    "|Set.update(Set2)|把集合Set2的元素添加到Set1|\n",
    "|Set.remove(x)|删除集合中的元素x|\n",
    "|Set.discard(x)|删除指定元素，但是如果集合中没有的话就什么也不做|\n",
    "|Set.pop()|随即删除一个，并返回值|\n",
    "|Set1.union(Set2)|Set1和Set2的并集 '|'||\n",
    "|Set1.intersection(Set2)|Set1和Set2的交集`&`|\n",
    "|Set1.difference(Set2)|Set1和Set2的差，两个集合都不属于`-`|\n",
    "|Set1.issuperSet(Set2)|判断Set1是否是Set2的超集|\n",
    "|Set1.symmetric_difference(Set2)|Set1和Set2的对称补集`^`|"
   ]
  },
  {
   "cell_type": "markdown",
   "id": "ed3fdddc-8001-4889-9052-ace42ff2a5c2",
   "metadata": {},
   "source": [
    "1. 使用 [] 创建列表 ['apple', 'pear', 'watermelon', 'peach']"
   ]
  },
  {
   "cell_type": "code",
   "execution_count": 30,
   "id": "d6a10d53-7a91-4a5a-9936-caf6835783a8",
   "metadata": {},
   "outputs": [],
   "source": [
    "one = []\n",
    "one = ['apple', 'pear', 'watermelon', 'peach']"
   ]
  },
  {
   "cell_type": "markdown",
   "id": "d770dc52-8836-4615-80e1-ab98ac802623",
   "metadata": {},
   "source": [
    "2. 使用 list 列表创建 ['pear', 'banana', 'orange', 'peach', 'grape']"
   ]
  },
  {
   "cell_type": "code",
   "execution_count": 31,
   "id": "2f9bfb47-edae-423f-859f-f074b7817b5c",
   "metadata": {},
   "outputs": [],
   "source": [
    "two = list()\n",
    "two = ['pear', 'banana', 'orange', 'peach', 'grape']"
   ]
  },
  {
   "cell_type": "markdown",
   "id": "0c976f48-f46e-44f4-b921-cd107dd05721",
   "metadata": {},
   "source": [
    "3. 将创建的两个列表对象转换为集合类型"
   ]
  },
  {
   "cell_type": "code",
   "execution_count": 32,
   "id": "0a9d8c8f-332a-4664-a60b-64891adaf4c2",
   "metadata": {},
   "outputs": [],
   "source": [
    "one = set(one)\n",
    "two = set(two)"
   ]
  },
  {
   "cell_type": "code",
   "execution_count": 33,
   "id": "9df08aab-1bdf-45f6-a956-7578a1b21628",
   "metadata": {},
   "outputs": [
    {
     "name": "stdout",
     "output_type": "stream",
     "text": [
      "The two sets are {'apple', 'pear', 'watermelon', 'peach'}, {'grape', 'orange', 'peach', 'pear', 'banana'}\n"
     ]
    }
   ],
   "source": [
    "print('The two sets are {0}, {1}'.format(one, two))"
   ]
  },
  {
   "cell_type": "markdown",
   "id": "ee9f1c96-827b-4bab-8465-ba2c457f437b",
   "metadata": {},
   "source": [
    "4. 对得到的两个集合求出并集"
   ]
  },
  {
   "cell_type": "code",
   "execution_count": 34,
   "id": "90ed7852-0138-4254-9b9f-4a7c3e0191f9",
   "metadata": {},
   "outputs": [
    {
     "name": "stdout",
     "output_type": "stream",
     "text": [
      "The result of .union is: {'grape', 'orange', 'peach', 'pear', 'banana', 'watermelon', 'apple'}\n"
     ]
    }
   ],
   "source": [
    "union = one.union(two) # one | two\n",
    "print('The result of .union is:', union)"
   ]
  },
  {
   "cell_type": "markdown",
   "id": "5aabdc47-9480-4796-b0d3-8572303529f7",
   "metadata": {},
   "source": [
    "5. 对得到的两个集合求交集"
   ]
  },
  {
   "cell_type": "code",
   "execution_count": 35,
   "id": "0c5e1ed8-3159-4df9-9f22-fa40859852f5",
   "metadata": {},
   "outputs": [
    {
     "name": "stdout",
     "output_type": "stream",
     "text": [
      "The result of .intersection is: {'pear', 'peach'}\n"
     ]
    }
   ],
   "source": [
    "intersection = one.intersection(two) # one & two\n",
    "print('The result of .intersection is:', intersection)"
   ]
  },
  {
   "cell_type": "markdown",
   "id": "a0329104-b60f-45b0-b7fb-df99fe9b3932",
   "metadata": {},
   "source": [
    "## 2. Python控制流语句"
   ]
  },
  {
   "cell_type": "markdown",
   "id": "8fadc4d0-ced7-4238-a1d4-6751219f2ccf",
   "metadata": {},
   "source": [
    "### Task 7 - 定积分"
   ]
  },
  {
   "cell_type": "markdown",
   "id": "144e5df7-2272-4752-9e0d-21474ee1b33d",
   "metadata": {},
   "source": [
    "求 y=sin(x) 从 0 到 2*pi，与 x 轴围成的面积"
   ]
  },
  {
   "cell_type": "code",
   "execution_count": 36,
   "id": "01e93d17-f5c3-4752-999e-6cfab72acd75",
   "metadata": {},
   "outputs": [],
   "source": [
    "def integral(func, left: float, right: float, alpha: float=1e-5) -> float:\n",
    "    '''\n",
    "    calculate the intergral of function.\n",
    "    '''\n",
    "    result, val = 0, left\n",
    "    while val <= right:\n",
    "        result += (abs(func(val)) + abs(func(val + alpha))) * alpha / 2 # turn negative value into positive wih abs()\n",
    "        val += alpha\n",
    "    return result"
   ]
  },
  {
   "cell_type": "code",
   "execution_count": 37,
   "id": "e48a7a41-5f63-409b-8196-8841f78b0e46",
   "metadata": {},
   "outputs": [
    {
     "name": "stdout",
     "output_type": "stream",
     "text": [
      "The area enclosed by 'y=sin(x)' from 0 to 2*pi is: 4.000000000073605\n"
     ]
    }
   ],
   "source": [
    "from math import sin, pi\n",
    "print(\"The area enclosed by 'y=sin(x)' from 0 to 2*pi is:\", integral(sin, 0, 2 * pi))"
   ]
  },
  {
   "cell_type": "markdown",
   "id": "5acd4f50-e12f-4666-9c21-299f85ac17a1",
   "metadata": {},
   "source": [
    "## 3. Python函数与类"
   ]
  },
  {
   "cell_type": "markdown",
   "id": "b66d0def-be0d-4930-8296-5e4f3aefc039",
   "metadata": {},
   "source": [
    "### Task 8 - 函数"
   ]
  },
  {
   "cell_type": "markdown",
   "id": "4308c007-1710-4125-9b21-ffa08124b2d2",
   "metadata": {},
   "source": [
    "自定义函数需求：将一个句子中的第一个单词与的第一字符对调，其余不变。特殊的，如果该句子只有一个单词，则将该单词的第一个字母和最后一个字母对调即可。"
   ]
  },
  {
   "cell_type": "code",
   "execution_count": 38,
   "id": "7d4fe68b-aa1e-4d08-b416-80bfa35d9f93",
   "metadata": {},
   "outputs": [],
   "source": [
    "def swap_ends(message: str) -> str:\n",
    "    message = message.strip()\n",
    "    if len(message) <= 1:\n",
    "        return message\n",
    "    return message[-1] + message[1:-1] + message[0]"
   ]
  },
  {
   "cell_type": "code",
   "execution_count": 39,
   "id": "8ffa952e-0edb-42d7-a39c-7cb254c34cbb",
   "metadata": {},
   "outputs": [
    {
     "data": {
      "text/plain": [
       "'gin JinL'"
      ]
     },
     "execution_count": 39,
     "metadata": {},
     "output_type": "execute_result"
    }
   ],
   "source": [
    "swap_ends('\\t\\nLin Jing\\t\\n ')"
   ]
  },
  {
   "cell_type": "markdown",
   "id": "bd8dcbbc-59b9-4864-b434-f90f352388ed",
   "metadata": {},
   "source": [
    "### Task 9 - 类"
   ]
  },
  {
   "cell_type": "markdown",
   "id": "b0c34951-1b2d-4dd0-b7d1-aac6eb469553",
   "metadata": {},
   "source": [
    "自定义要求：定义一个电脑类\n",
    "\n",
    "类属性：电脑品牌、cpu、gpu、电脑中的软件列表\n",
    "\n",
    "类方法：下载软件（可一次下载多个，并返回软件列表）、卸载软件（可一次卸载多个，并返回软件列表）、查看软件数|"
   ]
  },
  {
   "cell_type": "code",
   "execution_count": 40,
   "id": "c02a6af5-1007-4191-af06-49a7b16149db",
   "metadata": {},
   "outputs": [],
   "source": [
    "class Comuter(object):\n",
    "    def __init__(self, name: str, cpu: str, gpu: str):\n",
    "        self.name = name\n",
    "        self.cpu = cpu\n",
    "        self.gpu = gpu\n",
    "        self.app_list = []\n",
    "    def download(self, *args) -> list:\n",
    "        self.app_list.extend(args)\n",
    "        return self.app_list\n",
    "    def unload(self, *args) -> list:\n",
    "        for value in args:\n",
    "            self.app_list.remove(value)\n",
    "        return self.app_list\n",
    "    def app_nums(self) -> int:\n",
    "        return '%s电脑的软件数为 %d' % (self.name, len(self.app_list))"
   ]
  },
  {
   "cell_type": "code",
   "execution_count": 41,
   "id": "083b0060-20f4-453d-bf7b-d82cad6f2511",
   "metadata": {},
   "outputs": [
    {
     "data": {
      "text/plain": [
       "['QQ', 'WeChat', 'Python', 'PyCharm', 'Java']"
      ]
     },
     "execution_count": 41,
     "metadata": {},
     "output_type": "execute_result"
    }
   ],
   "source": [
    "computer = Comuter('华为', 'i5', '3050')\n",
    "computer.download('QQ', 'WeChat', 'Python', 'PyCharm', 'Java')"
   ]
  },
  {
   "cell_type": "code",
   "execution_count": 42,
   "id": "1eabd9ab-c48b-4554-91d6-006768a822ac",
   "metadata": {},
   "outputs": [
    {
     "data": {
      "text/plain": [
       "['WeChat', 'Python', 'Java']"
      ]
     },
     "execution_count": 42,
     "metadata": {},
     "output_type": "execute_result"
    }
   ],
   "source": [
    "computer.unload('QQ', 'PyCharm')"
   ]
  },
  {
   "cell_type": "code",
   "execution_count": 43,
   "id": "53441ca0-4fb7-4d65-ad90-ebb27c2c4e99",
   "metadata": {},
   "outputs": [
    {
     "data": {
      "text/plain": [
       "'华为电脑的软件数为 3'"
      ]
     },
     "execution_count": 43,
     "metadata": {},
     "output_type": "execute_result"
    }
   ],
   "source": [
    "computer.app_nums()"
   ]
  },
  {
   "cell_type": "markdown",
   "id": "c5fd1c92-ebe0-4101-8f62-ca6881251089",
   "metadata": {},
   "source": [
    "## 4. Python文件操作"
   ]
  },
  {
   "cell_type": "markdown",
   "id": "69178379-dd83-449f-b770-5bb0e627e191",
   "metadata": {},
   "source": [
    "### Task 10"
   ]
  },
  {
   "cell_type": "markdown",
   "id": "1cf0153a-d88a-45f1-b84a-1df938a7b306",
   "metadata": {},
   "source": [
    "1. 使用 `open` 函数读取文件 python_this.txt\n",
    "2. 在该文件的第一行加上 python this\n",
    "3. 将处理后的文件存入文件名 python_this_new.txt 的文件"
   ]
  },
  {
   "cell_type": "code",
   "execution_count": 44,
   "id": "d29315c0-2041-47e9-8046-93f3edc10741",
   "metadata": {},
   "outputs": [],
   "source": [
    "with open('../data/python_this.txt', 'wt') as fout:\n",
    "    fout.write(\"python this\\ngood answer\\nwhat is\")"
   ]
  },
  {
   "cell_type": "code",
   "execution_count": 45,
   "id": "4d02b033-2751-41bc-bd79-83c0af0c4223",
   "metadata": {},
   "outputs": [],
   "source": [
    "with open('../data/python_this.txt', 'rt') as fout:\n",
    "    result = fout.readlines()"
   ]
  },
  {
   "cell_type": "code",
   "execution_count": 46,
   "id": "8e93b4dc-a576-42b7-bb46-871c84a602c0",
   "metadata": {},
   "outputs": [],
   "source": [
    "with open('../data/python_this_new.txt', 'wt') as fout:\n",
    "    for line in result:\n",
    "        fout.write(line)"
   ]
  },
  {
   "cell_type": "markdown",
   "id": "10ac56e9-595a-419f-ad50-3a2b4718f95c",
   "metadata": {},
   "source": [
    "|访问方式|说明|\n",
    "|--|--|\n",
    "|r|以只读方式打开文件。文件的指针将会放在文件的开头，这是默认模式。如果文件不存在，抛出异常|\n",
    "|w|以只写方式打开文件。如果文件存在会被覆盖。如果文件不存在，创建新文件|\n",
    "|a|以追加方式打开文件。如果该文件已存在，文件指针将会放在文件的末尾。如果文件不存在，创建新文件进行写入|\n",
    "|r+|以读写方式打开文件。文件的指针将会放在文件的开头。如果文件不存在，抛出异常|\n",
    "|w+|以读写方式打开文件。如果文件存在会被覆盖。如果文件不存在，创建新文件|\n",
    "|a+|以读写方式打开文件。如果该文件已存在，文件指针将会放在文件的结尾。如果文件不存在，创建新文件进行写入|"
   ]
  },
  {
   "cell_type": "code",
   "execution_count": null,
   "id": "e27b42b8-9651-4f33-9cc7-e28234528f40",
   "metadata": {},
   "outputs": [],
   "source": []
  }
 ],
 "metadata": {
  "kernelspec": {
   "display_name": "base",
   "language": "python",
   "name": "python3"
  },
  "language_info": {
   "codemirror_mode": {
    "name": "ipython",
    "version": 3
   },
   "file_extension": ".py",
   "mimetype": "text/x-python",
   "name": "python",
   "nbconvert_exporter": "python",
   "pygments_lexer": "ipython3",
   "version": "3.8.12"
  },
  "widgets": {
   "application/vnd.jupyter.widget-state+json": {
    "state": {},
    "version_major": 2,
    "version_minor": 0
   }
  }
 },
 "nbformat": 4,
 "nbformat_minor": 5
}
