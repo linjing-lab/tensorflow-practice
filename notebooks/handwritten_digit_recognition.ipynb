{
 "cells": [
  {
   "cell_type": "markdown",
   "id": "acf5d2c1-6d8a-41c9-9655-901031ee17e4",
   "metadata": {},
   "source": [
    "# 手写数字识别"
   ]
  },
  {
   "cell_type": "code",
   "execution_count": 1,
   "id": "fa296a61-faff-4a32-ad20-df360eeadf57",
   "metadata": {},
   "outputs": [],
   "source": [
    "import tensorflow as tf"
   ]
  },
  {
   "cell_type": "markdown",
   "id": "9c2940f7-9939-44fe-bacd-683bd203063b",
   "metadata": {},
   "source": [
    "## 设置GPU"
   ]
  },
  {
   "cell_type": "code",
   "execution_count": 2,
   "id": "980a9cd7",
   "metadata": {
    "ExecuteTime": {
     "end_time": "2022-09-27T01:08:05.905551Z",
     "start_time": "2022-09-27T01:08:05.895549Z"
    }
   },
   "outputs": [],
   "source": [
    "gpu = tf.config.experimental.list_physical_devices('GPU')\n",
    "tf.config.experimental.set_memory_growth(gpu[0], True)"
   ]
  },
  {
   "cell_type": "markdown",
   "id": "d52ef145",
   "metadata": {},
   "source": [
    "## 数据读取"
   ]
  },
  {
   "cell_type": "code",
   "execution_count": 3,
   "id": "6c01905d",
   "metadata": {
    "ExecuteTime": {
     "end_time": "2022-09-27T01:08:09.617157Z",
     "start_time": "2022-09-27T01:08:09.609158Z"
    }
   },
   "outputs": [],
   "source": [
    "import numpy as np\n",
    "files = np.load('../data/mnist.npz')"
   ]
  },
  {
   "cell_type": "code",
   "execution_count": 4,
   "id": "971f76b5",
   "metadata": {
    "ExecuteTime": {
     "end_time": "2022-09-27T01:08:10.861678Z",
     "start_time": "2022-09-27T01:08:10.639679Z"
    }
   },
   "outputs": [],
   "source": [
    "X_train, X_test, y_train, y_test = files['x_train'], files['x_test'], files['y_train'], files['y_test']"
   ]
  },
  {
   "cell_type": "code",
   "execution_count": 5,
   "id": "7f9665e8",
   "metadata": {
    "ExecuteTime": {
     "end_time": "2022-09-27T01:08:11.018768Z",
     "start_time": "2022-09-27T01:08:11.001769Z"
    }
   },
   "outputs": [
    {
     "name": "stdout",
     "output_type": "stream",
     "text": [
      "X_train: (60000, 28, 28) | X_test: (10000, 28, 28) | y_train: (60000,) | y_test: (10000,)\n"
     ]
    }
   ],
   "source": [
    "print(f\"X_train: {X_train.shape} | X_test: {X_test.shape} | y_train: {y_train.shape} | y_test: {y_test.shape}\")"
   ]
  },
  {
   "cell_type": "code",
   "execution_count": 6,
   "id": "7e426b10",
   "metadata": {
    "ExecuteTime": {
     "end_time": "2022-09-27T01:08:11.553078Z",
     "start_time": "2022-09-27T01:08:11.533078Z"
    }
   },
   "outputs": [
    {
     "name": "stdout",
     "output_type": "stream",
     "text": [
      "X_train: (60000, 28, 28, 1) | X_test: (10000, 28, 28, 1)\n"
     ]
    }
   ],
   "source": [
    "X_train, X_test = np.expand_dims(X_train, -1), np.expand_dims(X_test, -1)\n",
    "print(f\"X_train: {X_train.shape} | X_test: {X_test.shape}\")"
   ]
  },
  {
   "cell_type": "code",
   "execution_count": 7,
   "id": "ce1e2e46",
   "metadata": {
    "ExecuteTime": {
     "end_time": "2022-09-27T01:08:12.505086Z",
     "start_time": "2022-09-27T01:08:12.061073Z"
    }
   },
   "outputs": [
    {
     "data": {
      "image/png": "[encoded data removed]",
      "text/plain": [
       "<Figure size 432x288 with 1 Axes>"
      ]
     },
     "metadata": {
      "needs_background": "light"
     },
     "output_type": "display_data"
    }
   ],
   "source": [
    "import matplotlib.pyplot as plt\n",
    "plt.title('y=' + str(y_train[300]))\n",
    "plt.imshow(X_train[300].reshape((28, 28)), cmap='gray')\n",
    "plt.show()"
   ]
  },
  {
   "cell_type": "markdown",
   "id": "8d3b670d",
   "metadata": {},
   "source": [
    "## 模型的搭建"
   ]
  },
  {
   "cell_type": "code",
   "execution_count": 8,
   "id": "9f90a6f7-ca3a-4811-94e3-d13ad450da83",
   "metadata": {
    "ExecuteTime": {
     "end_time": "2022-09-27T01:08:14.824943Z",
     "start_time": "2022-09-27T01:08:14.307786Z"
    }
   },
   "outputs": [],
   "source": [
    "model = tf.keras.Sequential(name='LeNet5') # 搭建LeNet5神经网络框架"
   ]
  },
  {
   "cell_type": "markdown",
   "id": "8d18a715-48de-4d23-8456-6e1c375a67f2",
   "metadata": {
    "ExecuteTime": {
     "end_time": "2022-09-27T01:08:14.824943Z",
     "start_time": "2022-09-27T01:08:14.307786Z"
    }
   },
   "source": [
    "- filters: 卷积核的个数\n",
    "- kernel_size: 卷积核的大小\n",
    "- striders: 卷积核移动的步长\n",
    "- input_shape: 输入到模型中的数据的尺寸，这个只在网络的第一层中指定\n",
    "- activation: 非线性激活函数"
   ]
  },
  {
   "cell_type": "code",
   "execution_count": 9,
   "id": "def6c068-490f-4e04-9d68-8aca40dbee97",
   "metadata": {
    "ExecuteTime": {
     "end_time": "2022-09-27T01:08:14.824943Z",
     "start_time": "2022-09-27T01:08:14.307786Z"
    }
   },
   "outputs": [],
   "source": [
    "model.add(tf.keras.layers.Conv2D(filters=6, kernel_size=(5, 5), strides=(1, 1), input_shape=(28, 28, 1), activation='relu'))\n",
    "model.add(tf.keras.layers.MaxPool2D()) # 最大池化层\n",
    "model.add(tf.keras.layers.Conv2D(filters=16, kernel_size=(5, 5), strides=(1, 1), activation='relu')) # 卷积层\n",
    "model.add(tf.keras.layers.MaxPool2D()) # 最大池化层\n",
    "model.add(tf.keras.layers.Flatten()) # 展平层"
   ]
  },
  {
   "cell_type": "code",
   "execution_count": 10,
   "id": "b1485f7e-25d4-4f46-8353-3aa062f3c4ec",
   "metadata": {
    "ExecuteTime": {
     "end_time": "2022-09-27T01:08:14.824943Z",
     "start_time": "2022-09-27T01:08:14.307786Z"
    }
   },
   "outputs": [],
   "source": [
    "model.add(tf.keras.layers.Dense(units=120, activation='relu')) # units: 全连接层的神经元数量\n",
    "model.add(tf.keras.layers.Dense(units=84, activation='relu'))\n",
    "model.add(tf.keras.layers.Dense(units=10, activation='softmax'))"
   ]
  },
  {
   "cell_type": "code",
   "execution_count": 11,
   "id": "2d47a850",
   "metadata": {
    "ExecuteTime": {
     "end_time": "2022-09-27T01:08:14.902974Z",
     "start_time": "2022-09-27T01:08:14.873974Z"
    },
    "tags": []
   },
   "outputs": [
    {
     "name": "stdout",
     "output_type": "stream",
     "text": [
      "Model: \"LeNet5\"\n",
      "_________________________________________________________________\n",
      "Layer (type)                 Output Shape              Param #   \n",
      "=================================================================\n",
      "conv2d (Conv2D)              (None, 24, 24, 6)         156       \n",
      "_________________________________________________________________\n",
      "max_pooling2d (MaxPooling2D) (None, 12, 12, 6)         0         \n",
      "_________________________________________________________________\n",
      "conv2d_1 (Conv2D)            (None, 8, 8, 16)          2416      \n",
      "_________________________________________________________________\n",
      "max_pooling2d_1 (MaxPooling2 (None, 4, 4, 16)          0         \n",
      "_________________________________________________________________\n",
      "flatten (Flatten)            (None, 256)               0         \n",
      "_________________________________________________________________\n",
      "dense (Dense)                (None, 120)               30840     \n",
      "_________________________________________________________________\n",
      "dense_1 (Dense)              (None, 84)                10164     \n",
      "_________________________________________________________________\n",
      "dense_2 (Dense)              (None, 10)                850       \n",
      "=================================================================\n",
      "Total params: 44,426\n",
      "Trainable params: 44,426\n",
      "Non-trainable params: 0\n",
      "_________________________________________________________________\n"
     ]
    }
   ],
   "source": [
    "model.summary()"
   ]
  },
  {
   "cell_type": "markdown",
   "id": "7e934610",
   "metadata": {},
   "source": [
    "## 模型的编译"
   ]
  },
  {
   "cell_type": "code",
   "execution_count": 12,
   "id": "a502fd3c",
   "metadata": {
    "ExecuteTime": {
     "end_time": "2022-09-27T01:08:16.145855Z",
     "start_time": "2022-09-27T01:08:16.126788Z"
    }
   },
   "outputs": [],
   "source": [
    "model.compile(optimizer='adam', loss=tf.keras.losses.sparse_categorical_crossentropy, metrics=tf.keras.metrics.sparse_categorical_accuracy)"
   ]
  },
  {
   "cell_type": "markdown",
   "id": "c57e9ebd",
   "metadata": {},
   "source": [
    "## 模型的训练"
   ]
  },
  {
   "cell_type": "code",
   "execution_count": 13,
   "id": "2840bf62",
   "metadata": {
    "ExecuteTime": {
     "end_time": "2022-09-27T01:09:26.964663Z",
     "start_time": "2022-09-27T01:08:17.006648Z"
    },
    "scrolled": true
   },
   "outputs": [
    {
     "name": "stdout",
     "output_type": "stream",
     "text": [
      "Epoch 1/20\n",
      "750/750 [==============================] - 3s 4ms/step - loss: 0.7012 - sparse_categorical_accuracy: 0.8726 - val_loss: 0.1720 - val_sparse_categorical_accuracy: 0.9499\n",
      "Epoch 2/20\n",
      "750/750 [==============================] - 3s 4ms/step - loss: 0.1386 - sparse_categorical_accuracy: 0.9589 - val_loss: 0.1133 - val_sparse_categorical_accuracy: 0.9655\n",
      "Epoch 3/20\n",
      "750/750 [==============================] - 3s 4ms/step - loss: 0.0904 - sparse_categorical_accuracy: 0.9722 - val_loss: 0.0923 - val_sparse_categorical_accuracy: 0.9726\n",
      "Epoch 4/20\n",
      "750/750 [==============================] - 3s 4ms/step - loss: 0.0697 - sparse_categorical_accuracy: 0.9784 - val_loss: 0.0822 - val_sparse_categorical_accuracy: 0.9765\n",
      "Epoch 5/20\n",
      "750/750 [==============================] - 3s 4ms/step - loss: 0.0611 - sparse_categorical_accuracy: 0.9807 - val_loss: 0.0891 - val_sparse_categorical_accuracy: 0.9766\n",
      "Epoch 6/20\n",
      "750/750 [==============================] - 3s 4ms/step - loss: 0.0542 - sparse_categorical_accuracy: 0.9824 - val_loss: 0.0835 - val_sparse_categorical_accuracy: 0.9759\n",
      "Epoch 7/20\n",
      "750/750 [==============================] - 3s 4ms/step - loss: 0.0510 - sparse_categorical_accuracy: 0.9840 - val_loss: 0.0887 - val_sparse_categorical_accuracy: 0.9774\n",
      "Epoch 8/20\n",
      "750/750 [==============================] - 3s 4ms/step - loss: 0.0438 - sparse_categorical_accuracy: 0.9863 - val_loss: 0.0715 - val_sparse_categorical_accuracy: 0.9800categorical_accuracy: 0.98\n",
      "Epoch 9/20\n",
      "750/750 [==============================] - 3s 4ms/step - loss: 0.0408 - sparse_categorical_accuracy: 0.9871 - val_loss: 0.0730 - val_sparse_categorical_accuracy: 0.9806\n",
      "Epoch 10/20\n",
      "750/750 [==============================] - 3s 4ms/step - loss: 0.0394 - sparse_categorical_accuracy: 0.9874 - val_loss: 0.0732 - val_sparse_categorical_accuracy: 0.9818\n",
      "Epoch 11/20\n",
      "750/750 [==============================] - 3s 4ms/step - loss: 0.0336 - sparse_categorical_accuracy: 0.9896 - val_loss: 0.0686 - val_sparse_categorical_accuracy: 0.9828\n",
      "Epoch 12/20\n",
      "750/750 [==============================] - 3s 4ms/step - loss: 0.0317 - sparse_categorical_accuracy: 0.9897 - val_loss: 0.0721 - val_sparse_categorical_accuracy: 0.9825\n",
      "Epoch 13/20\n",
      "750/750 [==============================] - 3s 4ms/step - loss: 0.0273 - sparse_categorical_accuracy: 0.9913 - val_loss: 0.0679 - val_sparse_categorical_accuracy: 0.9829\n",
      "Epoch 14/20\n",
      "750/750 [==============================] - 3s 4ms/step - loss: 0.0302 - sparse_categorical_accuracy: 0.9908 - val_loss: 0.0971 - val_sparse_categorical_accuracy: 0.9787\n",
      "Epoch 15/20\n",
      "750/750 [==============================] - 3s 4ms/step - loss: 0.0262 - sparse_categorical_accuracy: 0.9919 - val_loss: 0.0785 - val_sparse_categorical_accuracy: 0.9826 - sparse_categorical\n",
      "Epoch 16/20\n",
      "750/750 [==============================] - 3s 4ms/step - loss: 0.0222 - sparse_categorical_accuracy: 0.9934 - val_loss: 0.0639 - val_sparse_categorical_accuracy: 0.9837\n",
      "Epoch 17/20\n",
      "750/750 [==============================] - 3s 4ms/step - loss: 0.0261 - sparse_categorical_accuracy: 0.9917 - val_loss: 0.0703 - val_sparse_categorical_accuracy: 0.9840\n",
      "Epoch 18/20\n",
      "750/750 [==============================] - 3s 4ms/step - loss: 0.0215 - sparse_categorical_accuracy: 0.9934 - val_loss: 0.0779 - val_sparse_categorical_accuracy: 0.9838\n",
      "Epoch 19/20\n",
      "750/750 [==============================] - 3s 4ms/step - loss: 0.0210 - sparse_categorical_accuracy: 0.9934 - val_loss: 0.0819 - val_sparse_categorical_accuracy: 0.9843\n",
      "Epoch 20/20\n",
      "750/750 [==============================] - 3s 4ms/step - loss: 0.0188 - sparse_categorical_accuracy: 0.9942 - val_loss: 0.0848 - val_sparse_categorical_accuracy: 0.9820\n"
     ]
    },
    {
     "data": {
      "text/plain": [
       "<tensorflow.python.keras.callbacks.History at 0x1cf450e4b48>"
      ]
     },
     "execution_count": 13,
     "metadata": {},
     "output_type": "execute_result"
    }
   ],
   "source": [
    "model.fit(X_train, y_train, epochs=20, batch_size=64, validation_split=0.2)"
   ]
  },
  {
   "cell_type": "markdown",
   "id": "27c72b71",
   "metadata": {},
   "source": [
    "## 模型的验证"
   ]
  },
  {
   "cell_type": "code",
   "execution_count": 14,
   "id": "5fa8a3c5",
   "metadata": {
    "ExecuteTime": {
     "end_time": "2022-09-27T01:10:39.406614Z",
     "start_time": "2022-09-27T01:10:38.468094Z"
    }
   },
   "outputs": [
    {
     "name": "stdout",
     "output_type": "stream",
     "text": [
      "313/313 [==============================] - 1s 2ms/step - loss: 0.0886 - sparse_categorical_accuracy: 0.9826\n"
     ]
    },
    {
     "data": {
      "text/plain": [
       "[0.08862172812223434, 0.9825999736785889]"
      ]
     },
     "execution_count": 14,
     "metadata": {},
     "output_type": "execute_result"
    }
   ],
   "source": [
    "model.evaluate(X_test, y_test) # [0]是损失, [1]是准确率"
   ]
  },
  {
   "cell_type": "markdown",
   "id": "6cc05730",
   "metadata": {},
   "source": [
    "## 模型的测试"
   ]
  },
  {
   "cell_type": "code",
   "execution_count": 15,
   "id": "0387c31e",
   "metadata": {
    "ExecuteTime": {
     "end_time": "2022-09-27T01:18:26.861496Z",
     "start_time": "2022-09-27T01:18:26.784380Z"
    }
   },
   "outputs": [
    {
     "name": "stdout",
     "output_type": "stream",
     "text": [
      "[7 2 1 0 4 1 4 9 5 9]\n",
      "[7 2 1 0 4 1 4 9 5 9]\n"
     ]
    }
   ],
   "source": [
    "y_pred = model.predict(X_test[:10]).argmax(axis=1)\n",
    "print(y_pred)\n",
    "print(y_test[:10])"
   ]
  },
  {
   "cell_type": "code",
   "execution_count": 16,
   "id": "7f05d2c0",
   "metadata": {
    "ExecuteTime": {
     "end_time": "2022-09-27T01:20:20.421748Z",
     "start_time": "2022-09-27T01:20:20.039520Z"
    }
   },
   "outputs": [
    {
     "data": {
      "image/png": "[encoded data removed]",
      "text/plain": [
       "<Figure size 1200x800 with 10 Axes>"
      ]
     },
     "metadata": {
      "needs_background": "light"
     },
     "output_type": "display_data"
    }
   ],
   "source": [
    "plt.figure(dpi=200)\n",
    "for i in range(len(X_test[:10])):\n",
    "    ax = plt.subplot(2, 5, i+1)\n",
    "    ax.axis('off')\n",
    "    ax.set_title(f'y_true={y_test[i]}\\ny_pred={y_pred[i]}')\n",
    "    ax.imshow(X_test[i].reshape((28, 28)))\n",
    "plt.show()"
   ]
  },
  {
   "cell_type": "code",
   "execution_count": null,
   "id": "8d5f09e4-e36a-40d0-b7a4-f50de482acc3",
   "metadata": {},
   "outputs": [],
   "source": []
  }
 ],
 "metadata": {
  "kernelspec": {
   "display_name": "tensorflow",
   "language": "python",
   "name": "tensorflow-gpu"
  },
  "language_info": {
   "codemirror_mode": {
    "name": "ipython",
    "version": 3
   },
   "file_extension": ".py",
   "mimetype": "text/x-python",
   "name": "python",
   "nbconvert_exporter": "python",
   "pygments_lexer": "ipython3",
   "version": "3.7.13"
  },
  "toc": {
   "base_numbering": 1,
   "nav_menu": {},
   "number_sections": true,
   "sideBar": true,
   "skip_h1_title": false,
   "title_cell": "Table of Contents",
   "title_sidebar": "Contents",
   "toc_cell": false,
   "toc_position": {
    "height": "calc(100% - 180px)",
    "left": "10px",
    "top": "150px",
    "width": "165px"
   },
   "toc_section_display": true,
   "toc_window_display": true
  },
  "varInspector": {
   "cols": {
    "lenName": 16,
    "lenType": 16,
    "lenVar": 40
   },
   "kernels_config": {
    "python": {
     "delete_cmd_postfix": "",
     "delete_cmd_prefix": "del ",
     "library": "var_list.py",
     "varRefreshCmd": "print(var_dic_list())"
    },
    "r": {
     "delete_cmd_postfix": ") ",
     "delete_cmd_prefix": "rm(",
     "library": "var_list.r",
     "varRefreshCmd": "cat(var_dic_list()) "
    }
   },
   "types_to_exclude": [
    "module",
    "function",
    "builtin_function_or_method",
    "instance",
    "_Feature"
   ],
   "window_display": false
  },
  "widgets": {
   "application/vnd.jupyter.widget-state+json": {
    "state": {},
    "version_major": 2,
    "version_minor": 0
   }
  }
 },
 "nbformat": 4,
 "nbformat_minor": 5
}
